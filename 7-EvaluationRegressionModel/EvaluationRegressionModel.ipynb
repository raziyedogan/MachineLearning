{
 "cells": [
  {
   "cell_type": "markdown",
   "id": "dc289c59",
   "metadata": {},
   "source": [
    "## Evaluation Regression Model Performance with R-Square"
   ]
  },
  {
   "cell_type": "markdown",
   "id": "295b4775",
   "metadata": {},
   "source": [
    "Modelimizi oluşturduktan sonra .predict() metodu ile tahminler yapıyorduk. Bu tahminlerin ne kadar doğru olduğunu anlayabilmemiz için değerlendirme metriği bulunmaktadır.\n",
    "\n",
    "R-square, elde ettiğimiz regression modelin performansını değerlendirmek için kullandığımız bir metriktir.\n",
    "\n",
    "Regression modelin performansı yaptığı tahminlerin doğruluğuna bağlıdır."
   ]
  },
  {
   "cell_type": "markdown",
   "id": "480b9d8d",
   "metadata": {},
   "source": [
    "### R-SQUARE"
   ]
  },
  {
   "cell_type": "markdown",
   "id": "9c30223e",
   "metadata": {},
   "source": [
    "<img src=\"r_square.png\" style=\"width:900px;height:400px\"/>"
   ]
  },
  {
   "cell_type": "markdown",
   "id": "4874410d",
   "metadata": {},
   "source": [
    "Eğer line, data'ya çok iyi fit edilmiş ise SSR değeri çok düşük olacaktır hatta 0 olacaktır. \n",
    "\n",
    "r_square = 1-(SSR/SST) formülünde SSR=0 olduğu durumda 0/SST=0 olacaktır ve 1-0=1 sonucu elde edilir. r_square=1 olacaktır. Dolayısıyla r_square'nin en iyi değeri 1'dir."
   ]
  },
  {
   "cell_type": "markdown",
   "id": "04546c31",
   "metadata": {},
   "source": [
    "## R-Square with Random Forest"
   ]
  },
  {
   "cell_type": "markdown",
   "id": "8aa6ef6c",
   "metadata": {},
   "source": [
    "Şimdi 6-RandomForestRegression isimli dökümanda yazdığımız kodu buraya alarak, random forest modelinin doğruluğunu değerlendirelim."
   ]
  },
  {
   "cell_type": "code",
   "execution_count": 2,
   "id": "a6baf894",
   "metadata": {},
   "outputs": [],
   "source": [
    "import pandas as pd\n",
    "import numpy as np\n",
    "import matplotlib.pyplot as plt"
   ]
  },
  {
   "cell_type": "code",
   "execution_count": 3,
   "id": "35f41718",
   "metadata": {},
   "outputs": [
    {
     "data": {
      "text/html": [
       "<div>\n",
       "<style scoped>\n",
       "    .dataframe tbody tr th:only-of-type {\n",
       "        vertical-align: middle;\n",
       "    }\n",
       "\n",
       "    .dataframe tbody tr th {\n",
       "        vertical-align: top;\n",
       "    }\n",
       "\n",
       "    .dataframe thead th {\n",
       "        text-align: right;\n",
       "    }\n",
       "</style>\n",
       "<table border=\"1\" class=\"dataframe\">\n",
       "  <thead>\n",
       "    <tr style=\"text-align: right;\">\n",
       "      <th></th>\n",
       "      <th>0</th>\n",
       "      <th>1</th>\n",
       "    </tr>\n",
       "  </thead>\n",
       "  <tbody>\n",
       "    <tr>\n",
       "      <th>0</th>\n",
       "      <td>1</td>\n",
       "      <td>100</td>\n",
       "    </tr>\n",
       "    <tr>\n",
       "      <th>1</th>\n",
       "      <td>2</td>\n",
       "      <td>80</td>\n",
       "    </tr>\n",
       "    <tr>\n",
       "      <th>2</th>\n",
       "      <td>3</td>\n",
       "      <td>70</td>\n",
       "    </tr>\n",
       "    <tr>\n",
       "      <th>3</th>\n",
       "      <td>4</td>\n",
       "      <td>60</td>\n",
       "    </tr>\n",
       "    <tr>\n",
       "      <th>4</th>\n",
       "      <td>5</td>\n",
       "      <td>50</td>\n",
       "    </tr>\n",
       "    <tr>\n",
       "      <th>5</th>\n",
       "      <td>6</td>\n",
       "      <td>40</td>\n",
       "    </tr>\n",
       "    <tr>\n",
       "      <th>6</th>\n",
       "      <td>7</td>\n",
       "      <td>30</td>\n",
       "    </tr>\n",
       "    <tr>\n",
       "      <th>7</th>\n",
       "      <td>8</td>\n",
       "      <td>20</td>\n",
       "    </tr>\n",
       "    <tr>\n",
       "      <th>8</th>\n",
       "      <td>9</td>\n",
       "      <td>10</td>\n",
       "    </tr>\n",
       "    <tr>\n",
       "      <th>9</th>\n",
       "      <td>10</td>\n",
       "      <td>5</td>\n",
       "    </tr>\n",
       "  </tbody>\n",
       "</table>\n",
       "</div>"
      ],
      "text/plain": [
       "    0    1\n",
       "0   1  100\n",
       "1   2   80\n",
       "2   3   70\n",
       "3   4   60\n",
       "4   5   50\n",
       "5   6   40\n",
       "6   7   30\n",
       "7   8   20\n",
       "8   9   10\n",
       "9  10    5"
      ]
     },
     "execution_count": 3,
     "metadata": {},
     "output_type": "execute_result"
    }
   ],
   "source": [
    "df = pd.read_csv(\"random_forest_regression_dataset.csv\",sep=\";\", header=None)\n",
    "df"
   ]
  },
  {
   "cell_type": "code",
   "execution_count": 4,
   "id": "725a98ab",
   "metadata": {},
   "outputs": [],
   "source": [
    "x = df.iloc[:,0].values.reshape(-1,1)\n",
    "y = df.iloc[:,1].values.reshape(-1,1)"
   ]
  },
  {
   "cell_type": "code",
   "execution_count": 5,
   "id": "22fe17f8",
   "metadata": {},
   "outputs": [
    {
     "name": "stderr",
     "output_type": "stream",
     "text": [
      "C:\\Users\\raziy\\AppData\\Local\\Temp/ipykernel_11296/3247437859.py:4: DataConversionWarning: A column-vector y was passed when a 1d array was expected. Please change the shape of y to (n_samples,), for example using ravel().\n",
      "  rf.fit(x,y)\n"
     ]
    }
   ],
   "source": [
    "from sklearn.ensemble import RandomForestRegressor\n",
    "\n",
    "rf = RandomForestRegressor(n_estimators=100 , random_state=42)\n",
    "rf.fit(x,y)\n",
    "\n",
    "y_head = rf.predict(x)"
   ]
  },
  {
   "cell_type": "markdown",
   "id": "dba0042e",
   "metadata": {},
   "source": [
    "y_head = rf.predict(x) satırında tahmin etmek için modeli eğittiğimiz data'yı kullanıyoruz. Bu çok mantıklı değil çünkü model eğitim gördüğü data'ları tanıdığı için bu data'nın değerinide kolaylıkla tahmin edebilecektir. İlerde tahminleri test data'sı üzerinden yapacağız. "
   ]
  },
  {
   "cell_type": "markdown",
   "id": "6c7f1732",
   "metadata": {},
   "source": [
    "Şimdi tahminlerin, gerçek değerlere göre ne kadar doğru olduğunu r-square metriği ile değerlendirelim."
   ]
  },
  {
   "cell_type": "code",
   "execution_count": 7,
   "id": "b8209f2c",
   "metadata": {},
   "outputs": [
    {
     "name": "stdout",
     "output_type": "stream",
     "text": [
      "r_score 0.9798724794092587\n"
     ]
    }
   ],
   "source": [
    "from sklearn.metrics import r2_score\n",
    "\n",
    "print(\"r_score\",r2_score(y,y_head))"
   ]
  },
  {
   "cell_type": "markdown",
   "id": "4f67fe49",
   "metadata": {},
   "source": [
    "r2_score(y,y_head) ifadesindeki parametreler:\n",
    "\n",
    "    1.parametre: Gerçek y değerleridir. Yani veri setindeki y değerleridir.\n",
    "    \n",
    "    2.parametre: Tahmin edilen y değerleridir.\n",
    "\n",
    "<br><br>\n",
    "Çıktıya baktığımızda r_score değerinin 0.97 olduğunu görüyoruz. 1'e yakın bir değer elde ettik dolayısıyla gayet güzel tahminler gerçekleştirilmiştir."
   ]
  },
  {
   "cell_type": "markdown",
   "id": "b606a8d0",
   "metadata": {},
   "source": [
    "## R-Square with Linear Regression"
   ]
  },
  {
   "cell_type": "markdown",
   "id": "3ff0c1c3",
   "metadata": {},
   "source": [
    "Şimdi de 1-LinearRegression isimli dökümanda yazdığımız kodu buraya alarak, Linear Regression modelinin doğruluğunu değerlendirelim."
   ]
  },
  {
   "cell_type": "code",
   "execution_count": 9,
   "id": "62cb6b8d",
   "metadata": {},
   "outputs": [
    {
     "data": {
      "text/html": [
       "<div>\n",
       "<style scoped>\n",
       "    .dataframe tbody tr th:only-of-type {\n",
       "        vertical-align: middle;\n",
       "    }\n",
       "\n",
       "    .dataframe tbody tr th {\n",
       "        vertical-align: top;\n",
       "    }\n",
       "\n",
       "    .dataframe thead th {\n",
       "        text-align: right;\n",
       "    }\n",
       "</style>\n",
       "<table border=\"1\" class=\"dataframe\">\n",
       "  <thead>\n",
       "    <tr style=\"text-align: right;\">\n",
       "      <th></th>\n",
       "      <th>deneyim</th>\n",
       "      <th>maas</th>\n",
       "    </tr>\n",
       "  </thead>\n",
       "  <tbody>\n",
       "    <tr>\n",
       "      <th>0</th>\n",
       "      <td>0.5</td>\n",
       "      <td>2500</td>\n",
       "    </tr>\n",
       "    <tr>\n",
       "      <th>1</th>\n",
       "      <td>0.0</td>\n",
       "      <td>2250</td>\n",
       "    </tr>\n",
       "    <tr>\n",
       "      <th>2</th>\n",
       "      <td>1.0</td>\n",
       "      <td>2750</td>\n",
       "    </tr>\n",
       "    <tr>\n",
       "      <th>3</th>\n",
       "      <td>5.0</td>\n",
       "      <td>8000</td>\n",
       "    </tr>\n",
       "    <tr>\n",
       "      <th>4</th>\n",
       "      <td>8.0</td>\n",
       "      <td>9000</td>\n",
       "    </tr>\n",
       "    <tr>\n",
       "      <th>5</th>\n",
       "      <td>4.0</td>\n",
       "      <td>6900</td>\n",
       "    </tr>\n",
       "    <tr>\n",
       "      <th>6</th>\n",
       "      <td>15.0</td>\n",
       "      <td>20000</td>\n",
       "    </tr>\n",
       "    <tr>\n",
       "      <th>7</th>\n",
       "      <td>7.0</td>\n",
       "      <td>8500</td>\n",
       "    </tr>\n",
       "    <tr>\n",
       "      <th>8</th>\n",
       "      <td>3.0</td>\n",
       "      <td>6000</td>\n",
       "    </tr>\n",
       "    <tr>\n",
       "      <th>9</th>\n",
       "      <td>2.0</td>\n",
       "      <td>3500</td>\n",
       "    </tr>\n",
       "    <tr>\n",
       "      <th>10</th>\n",
       "      <td>12.0</td>\n",
       "      <td>15000</td>\n",
       "    </tr>\n",
       "    <tr>\n",
       "      <th>11</th>\n",
       "      <td>10.0</td>\n",
       "      <td>13000</td>\n",
       "    </tr>\n",
       "    <tr>\n",
       "      <th>12</th>\n",
       "      <td>14.0</td>\n",
       "      <td>18000</td>\n",
       "    </tr>\n",
       "    <tr>\n",
       "      <th>13</th>\n",
       "      <td>6.0</td>\n",
       "      <td>7500</td>\n",
       "    </tr>\n",
       "  </tbody>\n",
       "</table>\n",
       "</div>"
      ],
      "text/plain": [
       "    deneyim   maas\n",
       "0       0.5   2500\n",
       "1       0.0   2250\n",
       "2       1.0   2750\n",
       "3       5.0   8000\n",
       "4       8.0   9000\n",
       "5       4.0   6900\n",
       "6      15.0  20000\n",
       "7       7.0   8500\n",
       "8       3.0   6000\n",
       "9       2.0   3500\n",
       "10     12.0  15000\n",
       "11     10.0  13000\n",
       "12     14.0  18000\n",
       "13      6.0   7500"
      ]
     },
     "execution_count": 9,
     "metadata": {},
     "output_type": "execute_result"
    }
   ],
   "source": [
    "df = pd.read_csv(\"linear_regression_dataset.csv\", sep=\";\")\n",
    "df"
   ]
  },
  {
   "cell_type": "code",
   "execution_count": 10,
   "id": "d31de98c",
   "metadata": {},
   "outputs": [],
   "source": [
    "x = df.deneyim.values.reshape(-1,1)\n",
    "\n",
    "y = df.maas.values.reshape(-1,1)"
   ]
  },
  {
   "cell_type": "code",
   "execution_count": 15,
   "id": "ec532634",
   "metadata": {},
   "outputs": [
    {
     "data": {
      "image/png": "[encoded data removed]",
      "text/plain": [
       "<Figure size 432x288 with 1 Axes>"
      ]
     },
     "metadata": {
      "needs_background": "light"
     },
     "output_type": "display_data"
    }
   ],
   "source": [
    "from sklearn.linear_model import LinearRegression\n",
    "\n",
    "linear_reg = LinearRegression()\n",
    "\n",
    "linear_reg.fit(x,y)\n",
    "\n",
    "y_head = linear_reg.predict(x)\n",
    "\n",
    "plt.scatter(x,y,color=\"blue\")\n",
    "\n",
    "plt.plot(x,y_head,color=\"red\")\n",
    "plt.show()"
   ]
  },
  {
   "cell_type": "markdown",
   "id": "c026a836",
   "metadata": {},
   "source": [
    "Görsele baktığımızda tahminlerin doğruluk değerlerinin yüksek olduğunu anlayabiliyoruz. Şimdi r_square metriği ile doğruluk değerini sayısal olarak görelim."
   ]
  },
  {
   "cell_type": "code",
   "execution_count": 16,
   "id": "9c782dee",
   "metadata": {},
   "outputs": [
    {
     "name": "stdout",
     "output_type": "stream",
     "text": [
      "r_square score:  0.9775283164949902\n"
     ]
    }
   ],
   "source": [
    "from sklearn.metrics import r2_score\n",
    "\n",
    "print(\"r_square score: \",r2_score(y,y_head))"
   ]
  },
  {
   "cell_type": "markdown",
   "id": "95a32080",
   "metadata": {},
   "source": [
    "0.97 değerinden anlayacağımız üzere, linear regression modeli data'yı gerçekten ifade edebiliyor."
   ]
  }
 ],
 "metadata": {
  "kernelspec": {
   "display_name": "Python 3 (ipykernel)",
   "language": "python",
   "name": "python3"
  },
  "language_info": {
   "codemirror_mode": {
    "name": "ipython",
    "version": 3
   },
   "file_extension": ".py",
   "mimetype": "text/x-python",
   "name": "python",
   "nbconvert_exporter": "python",
   "pygments_lexer": "ipython3",
   "version": "3.9.7"
  }
 },
 "nbformat": 4,
 "nbformat_minor": 5
}
