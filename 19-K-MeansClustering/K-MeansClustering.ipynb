{
 "cells": [
  {
   "cell_type": "markdown",
   "id": "f406b0f5",
   "metadata": {},
   "source": [
    "## K-Means Clustering"
   ]
  },
  {
   "cell_type": "markdown",
   "id": "550bc909",
   "metadata": {},
   "source": [
    "Machine learning üçe ayrılır:\n",
    "    \n",
    "    1- supervised learning\n",
    "    \n",
    "    2- unsupervised learning\n",
    "    \n",
    "    3- reinforcement learning\n",
    "    \n",
    "reinforcement learning, kendi kendine ödül ceza yöntemi ile bir data'ya bağlı olmadan bir model oluşturma görevidir.\n",
    "    \n",
    "K-Means Clustering, unsupervised learning'tir. Veri setinde label'lar yoktur.\n",
    "\n",
    "<br><br>\n",
    "<img src=\"k1.png\" style=\"width:400px;height:300px\"/>"
   ]
  },
  {
   "cell_type": "markdown",
   "id": "f4334567",
   "metadata": {},
   "source": [
    "Yukarıda gördüğünüz üzere mavi ve kırmızı olmak üzere iki sınıf vardır. x1 ve x2 olmak üzere iki tane fature vardır. Verilerin class'ları yani label'ları bellidir. Bu supervised learning'tir.\n",
    "\n",
    "<br><br>\n",
    "<img src=\"k2.png\" style=\"width:400px;height:300px\"/>\n",
    "\n",
    "Yukarıda gördüğünüz üzere, unsupervised learning'te verilerin label'ları yoktur. Veri setinde bulunan verilerin label'larının ne olduğunu bilmiyoruz ve bu veri setini k-means algoritması ile gruplandırabiliriz. Ve şöyle bir şey elde ederiz:\n",
    "\n",
    "<br><br>\n",
    "<img src=\"k3.png\" style=\"width:400px;height:300px\"/>"
   ]
  },
  {
   "cell_type": "markdown",
   "id": "47d499c7",
   "metadata": {},
   "source": [
    "K-means algoritması ile clustering yani verileri kümeleme, gruplama işlemi yapılır.\n",
    "\n",
    "K-means algoritması şöyle çalışır:\n",
    "\n",
    "    k değeri seçilir. Mesela k=2 olsun. Bunun anlamı, veri setindeki veriler 2 gruba ayrılır.\n",
    "    \n",
    "    Gruba ayırmak için iki tane random bir şekilde veri noktası seçilir. Seçilen bu veriye centroid denir. Sonrasında her bir veri noktası en yakınındaki centroid'in grubuna atanır. Yakınlık kavramına öklid mesafesi ile karar verilir.\n",
    "    \n",
    "<br><br>\n",
    "<img src=\"k4.png\" style=\"width:400px;height:300px\"/>    "
   ]
  },
  {
   "cell_type": "markdown",
   "id": "bb9e4504",
   "metadata": {},
   "source": [
    "Turuncu ve mavi noktalar centroid'lerdir. Her bir siyah nokta için hangi centroid'e daha yakın olduğu öklid mesafesi hesabı ile yapılır ve hangisine daha yakın ise o centroid'in kümesine dahil edilir. Kümeleme işleminden sonra şekilde gördüğünüz gibi bir line elde edildi. Bu line'ın sol üst tarafındaki noktalar turuncu centroid'e yakındır ve sağ alt tarafındaki noktalar mavi centroid'e yakındır. Bu gruplama doğru değildir. ilk görseldeki data'da görüldüğü üzere üst taraftaki noktalar mavi sınıfına ait ve alt taraftaki noktalar kırmızı sınıfına aittir. Ki zaten algoritma henüz bitmedi. Sonrasında bu bölünen kısımların ortalaması alınır. Çizginin sol üst kısmındaki data'ların bir kez daha yeni centroid'i bulunur. Yani Çizginin sol üst kısmındaki her bir noktanın ortalaması bulunur ve yeni bir centroid elde edilir.\n",
    "\n",
    "<br><br>\n",
    "<img src=\"k5.png\" style=\"width:400px;height:300px\"/>    \n",
    "\n",
    "Yukarıda görüldüğü üzere, çizginin her iki tarafı içinde yeni centroidler belirlenmiştir. Centroidlerin konumu noktaların çoğunlukta olduğu tarafta olur. Şimdi aynı şekilde her bir nokta hangi centroid'e daha yakın diye bakılır. Ve şekilde gördüğünüz gibi bir line elde edilir. Çizginin sol altındaki siyah noktalar turuncu centroid'e aittir ve çizginin sağ üstündeki siyah noktalar mavi centroid'e aittir.\n",
    "\n",
    "Sonrasında tekrar alt kısımdaki noktaların ortalaması bulunarak yeni bir centroid elde edilir. Aynı şekilde üst kısımdaki noktaların ortalaması bulunarak yeni bir centroid elde edilir. Sonrasında tekrar noktaların hangi centroide daha yakın olduğuna bakılır. Ve şöyle bir şekil elde edilir:\n",
    "\n",
    "<br><br>\n",
    "<img src=\"k6.png\" style=\"width:400px;height:300px\"/>  \n",
    "\n",
    "Tekrar her bir kümedeki noktaların ortalaması alınarak centroid'in konumu belirlenir. Fakat artık centroidler hareket etmiyor. Bir öncekinin aynısı, değişen hiçbir şey yok. Bunun anlamı, k=2 değerine göre veri seti cluster edilmiştir. Centroid bulma işlemi bittiğine göre artık k-means modeli hazırdır.\n",
    "\n",
    "Özetle yapılanlar şu şekildedir:\n",
    "\n",
    "\n",
    "<img src=\"k7.png\" style=\"width:400px;height:300px\"/>  "
   ]
  },
  {
   "cell_type": "markdown",
   "id": "48611e9e",
   "metadata": {},
   "source": [
    "Supervised learning algoritmaları ile elde ettiğimiz modeli doğruluk değerine, confusion matrix sonucuna vs. göre değerlendirebiliyorduk. Burada da k değerini doğru seçip seçmediğimiz konusunda metrikler var.\n",
    "\n",
    "<br><br>\n",
    "<img src=\"k8.png\" style=\"width:600px;height:400px\"/>  "
   ]
  },
  {
   "cell_type": "markdown",
   "id": "dfa0f2d9",
   "metadata": {},
   "source": [
    "Yukarıda gördüğünüz üzere, her bir yuvarlak bir grup olmak üzere toplam 4 küme mi var, yoksa dikdörtgenler birer grup olmak üzere toplam 2 küme mi var? Yani k=4 mü, k=2 mi? Bunu anlamak için WCSS metriği vardır.\n",
    "\n",
    "WCSS = Within Cluster Sum Of Squares\n",
    "\n",
    "WCSS formülü:\n",
    "\n",
    "<br>\n",
    "<img src=\"k9.png\" style=\"width:600px;height:200px\"/>  "
   ]
  },
  {
   "cell_type": "markdown",
   "id": "50e4d43a",
   "metadata": {},
   "source": [
    "Formülü açıklayalım. n tane cluster bulunmakta. Mesela n=4 olsun. Pi, point demektir ve siyah noktaları ifade eder. Her bir cluster içerisinde şu işlem yapılır: Cluster içerisindeki her bir point'in cluster'ın merkezi ile olan uzaklığı bulunur.\n",
    "\n",
    "<br>\n",
    "<img src=\"k10.png\" style=\"width:600px;height:320px\"/>  "
   ]
  },
  {
   "cell_type": "markdown",
   "id": "0294edb5",
   "metadata": {},
   "source": [
    "Kırmızı kümenin merkezi kırmızı noktadır. Kırmızı küme içeriisndeki her bir noktanın, kümenin merkezi olan kırmızı noktaya olan uzaklığı bulunur. Bu uzaklık değerlerinin karesi alınır ve elde edilen her bir sonuç toplanır.\n",
    "\n",
    "Bu işlem her bir küme için yapılır.\n",
    "\n",
    "En son her bir kümeden elde edilen sonuçlar toplanır.\n",
    "\n",
    "WCSS metriği ne kadar az olursa o kadar iyidir.\n",
    "\n",
    "Eğer veri setindeki noktalar kadar cluster sayısına sahip olursak yani her bir data point kendi clusterı olursa, her bir data pointin merkezide kendisi olacağı için WCSS değeri 0 olur. Bizim amacımızda WCSS değerini 0 yapmaktı ve bu yüzden mantıken iyidir. Ama aslında böyle değildir. k değeri ile WCSS dengeli olmak zorundadır.\n",
    "\n",
    "<br>\n",
    "<img src=\"k11.png\" style=\"width:500px;height:320px\"/>  "
   ]
  },
  {
   "cell_type": "markdown",
   "id": "c2834e8d",
   "metadata": {},
   "source": [
    "Yukarıda k değerine göre WCSS sonucunu görüyoruz. Eğer k=1 olursa yani 1 tane küme olrsa WCSS değeri çok yüksektir. k=2 olursa yani 2 tane küme olursa WCSS değeri azalıyor. k=3 olursa yani 3 tane küme olursa WCSS değeri yine azalıyor. k=4 olursa yani 4 tane küme olursa WCSS değeri dahada azalıyor. Küme sayısını veri setindeki sample sayısına kadar ilerletebiliriz ve bu durumda WCSS değeri 0 olur. Fakat Küme sayısı veri setindeki sample sayısı kadar olursa, over train etmiş oluruz, hız düşer, model çok yavaş çalışır.\n",
    "\n",
    "Elbow (Dirsek) isimli bir kural vardır. Bu kural şudur: Azalan bir grafik var ise (yukarıdaki gibi) ve bir k değeri seçmek istiyorsak dirsek noktası en uygun k değeridir.\n",
    "\n",
    "<br>\n",
    "<img src=\"k13.png\" style=\"width:550px;height:220px\"/>  "
   ]
  },
  {
   "cell_type": "markdown",
   "id": "6cf33706",
   "metadata": {},
   "source": [
    "Gerçekten yukarıdaki gibi dirsek düşünün. Siyah ile belirtilen yeri grafikte arayın. Bulduğunuz nokta en uygun k değeridir.\n",
    "\n",
    "Yukarıdaki grafikte kol görselindeki siyah çizgi ile aynı şekildeki nokta 3 değeridir.\n",
    "\n",
    "<br>\n",
    "<img src=\"k10.png\" style=\"width:600px;height:320px\"/>  "
   ]
  },
  {
   "cell_type": "markdown",
   "id": "5cf8e9a0",
   "metadata": {},
   "source": [
    "k=3 için kümeler, kırmızı yuvarlak , mor yuvarlak ve yeşil dikdörtgen şeklinde olabilir.\n",
    "\n",
    "Şimdi de k-means algoritmasını koda dökelim. "
   ]
  },
  {
   "cell_type": "code",
   "execution_count": 2,
   "id": "e286a75e",
   "metadata": {},
   "outputs": [],
   "source": [
    "import pandas as pd\n",
    "import numpy as np\n",
    "import matplotlib.pyplot as plt"
   ]
  },
  {
   "cell_type": "markdown",
   "id": "4361e7b9",
   "metadata": {},
   "source": [
    "Kendimiz bir veri seti oluşturalım. Gaussian variable oluşturacağız. normal() metodu gaussian demektir."
   ]
  },
  {
   "cell_type": "code",
   "execution_count": 4,
   "id": "eca71fc4",
   "metadata": {},
   "outputs": [],
   "source": [
    "#class1\n",
    "x1 = np.random.normal(25,5,1000)\n",
    "y1 = np.random.normal(25,5,1000)\n",
    "\n",
    "#class2\n",
    "x2 = np.random.normal(55,5,1000)\n",
    "y2 = np.random.normal(60,5,1000)\n",
    "\n",
    "#class3\n",
    "x3 = np.random.normal(55,5,1000)\n",
    "y3 = np.random.normal(15,5,1000)"
   ]
  },
  {
   "cell_type": "markdown",
   "id": "7f36fab6",
   "metadata": {},
   "source": [
    "Yukarıdaki kodun anlamı, 25 ortalamaya sahip, 5 sigmaya sahip, 1000 tane değer üret demektir. Yani 1000 tane değer olacak ve bu değerlerin ortalaması 25 olacak. Veri setinin %66 'sı 25+5=30 ile 25-5=20 değerleri arasında olucak. Yani 1000 tane data'nın 666 tanesi 20 ile 30 arasında değerler olucak. Bu dağılıma gaussian dağılımı denir.\n",
    "\n",
    "Böylece gaussian variable kullanarak bir veri seti oluşturduk."
   ]
  },
  {
   "cell_type": "code",
   "execution_count": 5,
   "id": "a5c36c6e",
   "metadata": {},
   "outputs": [],
   "source": [
    "#x ve y isimli feature'ler oluşturalım:\n",
    "\n",
    "x = np.concatenate((x1,x2,x3),axis=0)  \n",
    "#axis=0 parametresi ile x1, x2 ve x3'ün sütun şeklinde yukarıdan aşağıya birleştirilmeleri sağlandı.\n",
    "\n",
    "y = np.concatenate((y1,y2,y3),axis=0)  "
   ]
  },
  {
   "cell_type": "markdown",
   "id": "0e6295bd",
   "metadata": {},
   "source": [
    "Şimdi oluşturduğumuz x ve y feature'lerini dictionary içerisinde birleştirelim."
   ]
  },
  {
   "cell_type": "code",
   "execution_count": 6,
   "id": "a73dede0",
   "metadata": {},
   "outputs": [],
   "source": [
    "dictionary = {\"x\":x,\"y\":y}\n",
    "\n",
    "data = pd.DataFrame(dictionary)"
   ]
  },
  {
   "cell_type": "code",
   "execution_count": 7,
   "id": "b0ec0343",
   "metadata": {},
   "outputs": [
    {
     "data": {
      "text/html": [
       "<div>\n",
       "<style scoped>\n",
       "    .dataframe tbody tr th:only-of-type {\n",
       "        vertical-align: middle;\n",
       "    }\n",
       "\n",
       "    .dataframe tbody tr th {\n",
       "        vertical-align: top;\n",
       "    }\n",
       "\n",
       "    .dataframe thead th {\n",
       "        text-align: right;\n",
       "    }\n",
       "</style>\n",
       "<table border=\"1\" class=\"dataframe\">\n",
       "  <thead>\n",
       "    <tr style=\"text-align: right;\">\n",
       "      <th></th>\n",
       "      <th>x</th>\n",
       "      <th>y</th>\n",
       "    </tr>\n",
       "  </thead>\n",
       "  <tbody>\n",
       "    <tr>\n",
       "      <th>0</th>\n",
       "      <td>27.774910</td>\n",
       "      <td>14.955692</td>\n",
       "    </tr>\n",
       "    <tr>\n",
       "      <th>1</th>\n",
       "      <td>26.871807</td>\n",
       "      <td>26.571427</td>\n",
       "    </tr>\n",
       "    <tr>\n",
       "      <th>2</th>\n",
       "      <td>26.665900</td>\n",
       "      <td>22.442263</td>\n",
       "    </tr>\n",
       "    <tr>\n",
       "      <th>3</th>\n",
       "      <td>23.263328</td>\n",
       "      <td>31.545452</td>\n",
       "    </tr>\n",
       "    <tr>\n",
       "      <th>4</th>\n",
       "      <td>28.552270</td>\n",
       "      <td>25.934967</td>\n",
       "    </tr>\n",
       "  </tbody>\n",
       "</table>\n",
       "</div>"
      ],
      "text/plain": [
       "           x          y\n",
       "0  27.774910  14.955692\n",
       "1  26.871807  26.571427\n",
       "2  26.665900  22.442263\n",
       "3  23.263328  31.545452\n",
       "4  28.552270  25.934967"
      ]
     },
     "execution_count": 7,
     "metadata": {},
     "output_type": "execute_result"
    }
   ],
   "source": [
    "data.head()"
   ]
  },
  {
   "cell_type": "code",
   "execution_count": 8,
   "id": "48dfe0db",
   "metadata": {},
   "outputs": [
    {
     "data": {
      "image/png": "[encoded data removed]",
      "text/plain": [
       "<Figure size 432x288 with 1 Axes>"
      ]
     },
     "metadata": {
      "needs_background": "light"
     },
     "output_type": "display_data"
    }
   ],
   "source": [
    "plt.scatter(x1,y1)\n",
    "plt.scatter(x2,y2)\n",
    "plt.scatter(x3,y3)\n",
    "plt.show()"
   ]
  },
  {
   "cell_type": "markdown",
   "id": "3f96847e",
   "metadata": {},
   "source": [
    "Görüldüğü üzere class'lar belli. Fakat dikkat edilmesi gerek ki, veri setinde class'a ait bir sütun yoktur çünkü oluşturduğumuz veri seti unsupervised data'dır. Veri setini kendimiz oluşturduğumuz için 3 tane class olduğunu biliyoruz.\n",
    "\n",
    "Bizim data'mız aslında şöyledir:"
   ]
  },
  {
   "cell_type": "code",
   "execution_count": 9,
   "id": "8ac52ac3",
   "metadata": {},
   "outputs": [
    {
     "data": {
      "image/png": "[encoded data removed]",
      "text/plain": [
       "<Figure size 432x288 with 1 Axes>"
      ]
     },
     "metadata": {
      "needs_background": "light"
     },
     "output_type": "display_data"
    }
   ],
   "source": [
    "plt.scatter(x1,y1,color=\"black\")\n",
    "plt.scatter(x2,y2,color=\"black\")\n",
    "plt.scatter(x3,y3,color=\"black\")\n",
    "plt.show()"
   ]
  },
  {
   "cell_type": "markdown",
   "id": "eca79871",
   "metadata": {},
   "source": [
    "K-means algoritması data'yı böyle görmektedir. K-means algoritması, class'ların belli olduğu renkli görseldeki gibi göremez.\n",
    "\n",
    "Bu data'yı k-means algoritmasını kullanarak kümelendirelim."
   ]
  },
  {
   "cell_type": "code",
   "execution_count": 11,
   "id": "e7bf8a60",
   "metadata": {},
   "outputs": [
    {
     "data": {
      "image/png": "[encoded data removed]",
      "text/plain": [
       "<Figure size 432x288 with 1 Axes>"
      ]
     },
     "metadata": {
      "needs_background": "light"
     },
     "output_type": "display_data"
    }
   ],
   "source": [
    "from sklearn.cluster import KMeans\n",
    "\n",
    "wcss=[]\n",
    "\n",
    "for k in range(1,15):\n",
    "    kmeans = KMeans(n_clusters = k)\n",
    "    kmeans.fit(data)\n",
    "    wcss.append(kmeans.inertia_)\n",
    "    \n",
    "plt.plot(range(1,15), wcss)  #x ekseni 1'den 15'e kadar olan k değerleridir. y eksenide wcss değerleridir.\n",
    "plt.xlabel(\"number of k (cluster) value\")\n",
    "plt.ylabel(\"wcss\")\n",
    "plt.show()"
   ]
  },
  {
   "cell_type": "markdown",
   "id": "f5bf5f2e",
   "metadata": {},
   "source": [
    "inertia_ , wcss değerini bulur.\n",
    "\n",
    "Çıktıda gördüğümüz üzere, dirsek şeklinin olduğu noktada 3 değeri vardır. Dolayısıyla en uygun k değeri 3'tür.\n",
    "\n",
    "k değerini bulduğumuza göre k-means algoritmasını yazalım."
   ]
  },
  {
   "cell_type": "code",
   "execution_count": 12,
   "id": "8152962c",
   "metadata": {},
   "outputs": [],
   "source": [
    "kmeans2 = KMeans(n_clusters=3)\n",
    "clusters = kmeans2.fit_predict(data)"
   ]
  },
  {
   "cell_type": "markdown",
   "id": "4d0f7bd4",
   "metadata": {},
   "source": [
    "clusters = kmeans2.fit_predict(data) satırı ile yapılan, fit ederek model oluşturulur ve oluşturduğumuz model predict ile data üzerinde uygulanır. Yani fit_predict ile data fit edilir ve k-means modeli data üzerinde uygulanır ve cluster'lar oluşturulur."
   ]
  },
  {
   "cell_type": "markdown",
   "id": "8743bfef",
   "metadata": {},
   "source": [
    "Cluster içerisinde 0,1,2 değerleri elde edilir. 3 küme oluşur ve kümelere 0,1,2 etiketlerini verir."
   ]
  },
  {
   "cell_type": "code",
   "execution_count": 17,
   "id": "d7130c87",
   "metadata": {},
   "outputs": [],
   "source": [
    "data[\"label\"] = clusters"
   ]
  },
  {
   "cell_type": "code",
   "execution_count": 18,
   "id": "1101f5a8",
   "metadata": {},
   "outputs": [
    {
     "data": {
      "text/html": [
       "<div>\n",
       "<style scoped>\n",
       "    .dataframe tbody tr th:only-of-type {\n",
       "        vertical-align: middle;\n",
       "    }\n",
       "\n",
       "    .dataframe tbody tr th {\n",
       "        vertical-align: top;\n",
       "    }\n",
       "\n",
       "    .dataframe thead th {\n",
       "        text-align: right;\n",
       "    }\n",
       "</style>\n",
       "<table border=\"1\" class=\"dataframe\">\n",
       "  <thead>\n",
       "    <tr style=\"text-align: right;\">\n",
       "      <th></th>\n",
       "      <th>x</th>\n",
       "      <th>y</th>\n",
       "      <th>label</th>\n",
       "    </tr>\n",
       "  </thead>\n",
       "  <tbody>\n",
       "    <tr>\n",
       "      <th>0</th>\n",
       "      <td>27.774910</td>\n",
       "      <td>14.955692</td>\n",
       "      <td>0</td>\n",
       "    </tr>\n",
       "    <tr>\n",
       "      <th>1</th>\n",
       "      <td>26.871807</td>\n",
       "      <td>26.571427</td>\n",
       "      <td>0</td>\n",
       "    </tr>\n",
       "    <tr>\n",
       "      <th>2</th>\n",
       "      <td>26.665900</td>\n",
       "      <td>22.442263</td>\n",
       "      <td>0</td>\n",
       "    </tr>\n",
       "    <tr>\n",
       "      <th>3</th>\n",
       "      <td>23.263328</td>\n",
       "      <td>31.545452</td>\n",
       "      <td>0</td>\n",
       "    </tr>\n",
       "    <tr>\n",
       "      <th>4</th>\n",
       "      <td>28.552270</td>\n",
       "      <td>25.934967</td>\n",
       "      <td>0</td>\n",
       "    </tr>\n",
       "  </tbody>\n",
       "</table>\n",
       "</div>"
      ],
      "text/plain": [
       "           x          y  label\n",
       "0  27.774910  14.955692      0\n",
       "1  26.871807  26.571427      0\n",
       "2  26.665900  22.442263      0\n",
       "3  23.263328  31.545452      0\n",
       "4  28.552270  25.934967      0"
      ]
     },
     "execution_count": 18,
     "metadata": {},
     "output_type": "execute_result"
    }
   ],
   "source": [
    "data.head()"
   ]
  },
  {
   "cell_type": "markdown",
   "id": "70c21106",
   "metadata": {},
   "source": [
    "kümeleri veri setine ekledik ve böylece artık veri setinde label değerleri vardır. \n",
    "\n",
    "label'a göre filtreleyip, x ve y eksenlerine göre çizdirerek görselleştirme yapalım."
   ]
  },
  {
   "cell_type": "code",
   "execution_count": 19,
   "id": "f0d5ee5e",
   "metadata": {},
   "outputs": [
    {
     "data": {
      "image/png": "[encoded data removed]",
      "text/plain": [
       "<Figure size 432x288 with 1 Axes>"
      ]
     },
     "metadata": {
      "needs_background": "light"
     },
     "output_type": "display_data"
    }
   ],
   "source": [
    "plt.scatter(data.x[data.label==0], data.y[data.label==0], color=\"red\")\n",
    "plt.scatter(data.x[data.label==1], data.y[data.label==1], color=\"green\")\n",
    "plt.scatter(data.x[data.label==2], data.y[data.label==2], color=\"blue\")\n",
    "plt.show()"
   ]
  },
  {
   "cell_type": "markdown",
   "id": "b5f9f6c8",
   "metadata": {},
   "source": [
    "Görüldüğü üzere, k-means algoritması data'yı üçe ayırdı ve doğru bir şekilde cluster etti.\n",
    "\n",
    "Birde centroid'leri görselleştirelim."
   ]
  },
  {
   "cell_type": "code",
   "execution_count": 21,
   "id": "eccc8a3f",
   "metadata": {},
   "outputs": [
    {
     "data": {
      "image/png": "[encoded data removed]",
      "text/plain": [
       "<Figure size 432x288 with 1 Axes>"
      ]
     },
     "metadata": {
      "needs_background": "light"
     },
     "output_type": "display_data"
    }
   ],
   "source": [
    "plt.scatter(data.x[data.label==0], data.y[data.label==0], color=\"red\")\n",
    "plt.scatter(data.x[data.label==1], data.y[data.label==1], color=\"green\")\n",
    "plt.scatter(data.x[data.label==2], data.y[data.label==2], color=\"blue\")\n",
    "plt.scatter(kmeans2.cluster_centers_[:,0],kmeans2.cluster_centers_[:,1], color=\"yellow\")\n",
    "#cluster_centers_c[:,0] x eksenidir ve cluster_centers_c[:,1] y eksenidir.\n",
    "plt.show()"
   ]
  },
  {
   "cell_type": "markdown",
   "id": "538e4ee1",
   "metadata": {},
   "source": [
    "Sarı noktalar, her bir kümenin centroid'leridir."
   ]
  }
 ],
 "metadata": {
  "kernelspec": {
   "display_name": "Python 3 (ipykernel)",
   "language": "python",
   "name": "python3"
  },
  "language_info": {
   "codemirror_mode": {
    "name": "ipython",
    "version": 3
   },
   "file_extension": ".py",
   "mimetype": "text/x-python",
   "name": "python",
   "nbconvert_exporter": "python",
   "pygments_lexer": "ipython3",
   "version": "3.9.7"
  }
 },
 "nbformat": 4,
 "nbformat_minor": 5
}
