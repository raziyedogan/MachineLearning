{
 "cells": [
  {
   "cell_type": "markdown",
   "id": "3ab45928",
   "metadata": {},
   "source": [
    "## DECISION TREES"
   ]
  },
  {
   "cell_type": "markdown",
   "id": "c4d868ef",
   "metadata": {},
   "source": [
    "Karar ağaçları, hem sınıflandırma hemde regresyon görevlerini ve hatta çok çıktılı (multioutput) görevleri gerçekleştirebilen Makine Öğrenimi algoritmasıdır. Karar ağacı, böl ve yönet stratejisini uygulayan hiyerarşik bir veri yapısıdır.\n",
    "\n",
    "Bir karar ağacında, 'Decision Node' ve 'Leaf Node' olmak üzere iki node vardır. \n",
    "\n",
    "Decision node, bir karar vermek için kullanılır ve birden fazla dala ayrılır. Yani mesela decision node'de bir soru yöneltilir ve soruya verilen cevaba göre sağ dala veya sol dala yönelinir. \n",
    "\n",
    "Leaf node ise en dipte bulunur ve problemin çıktısını verir. Sınıflandırma problemi için düşünürsek, leaf node class bilgisini verir.  \n",
    "\n",
    "Yani problemimiz daha küçük parçalara bölünür ve yukarıdan aşağıya doğru bir parça için alınan karara göre dallanma işlemi gerçekleştirilir. Leaf node'a ulaşana kadar dallanılmaya devam edilir. Ulaşılan leaf node çıktı değerimizdir.\n",
    "\n",
    "<font color=\"Chocolate\"><br>\n",
    "Karar Ağaçları söz konusu olduğunda karşılaşabileceğimiz terimleri inceleyelim.\n",
    "    <br>\n",
    "<font color=\"Chocolate\"><br>\n",
    "Root Node (Kök Düğüm): Karar ağacının başladığı yerdir. Tüm veri setini temsil eder. İki veya daha fazla homojen kümeye bölünür.\n",
    "    <br>\n",
    "<font color=\"Chocolate\"><br>\n",
    "Leaf Node (Yaprak Düğüm): Son çıktı düğümüdür ve bir leaf node alındıktan sonra ağaç daha fazla ayrılamaz.\n",
    "    <br>\n",
    "<font color=\"Chocolate\"><br>\n",
    "Splitting (Bölme): Decision node'nin/root node'nin verilen koşullara göre alt düğümlere bölünmesi işlemidir.\n",
    "    <br>\n",
    "<font color=\"Chocolate\"><br>\n",
    "Branch/Sub Tree (Dal / Alt Ağaç): Ağacın bölünmesiyle oluşturulan ağaçtır.\n",
    "    <br>\n",
    "<font color=\"Chocolate\"><br>\n",
    "Pruning (Budama): İstenmeyen dalların ağaçtan uzaklaştırılması işlemdir.\n",
    "    <br>\n",
    "<font color=\"Chocolate\"><br>\n",
    "Parent/Child Node: Ağacın root node'una parent node, diğer düğümlere child node denir.\n",
    "\n",
    "Her düğümün bir özelliği (özniteliği) vardır, her bağlantının (dal) bir kuralı vardır ve her yaprak bir sonucu gösterir.\n",
    "\n",
    "<br><br>\n",
    "<font color=\"CornflowerBlue\"><br>\n",
    "Karar Ağacı Algoritmasının Sözde Kodu:\n",
    "    <br>\n",
    "<font color=\"CornflowerBlue\"><br>\n",
    "1-Veri kümesinin en iyi özniteliği ağacın köküne yerleştirilir.\n",
    "    <br>\n",
    "<font color=\"CornflowerBlue\"><br>\n",
    "2-Eğitim kümesi alt kümelere bölünür. Alt kümeler, her alt küme bir öznitelik için aynı değere sahip verileri içerecek şekilde yapılmalıdır.\n",
    "    <br>\n",
    "<font color=\"CornflowerBlue\"><br>\n",
    "3-Ağacın tüm dallarında yaprak düğümleri bulana kadar her alt kümede adım 1 ve adım 2 yinelenir.\n",
    "\n",
    "Yani aslında algoritmanın uygulanış mantığı şu şekildedir:\n",
    "\n",
    "Bir karar ağacında, verilen veri kümesinin sınıfını tahmin etmek için algoritma ağacın kök düğümünden başlar. Bu algoritma, kök özniteliğin değerlerini kaydın(gerçek veri kümesi) özniteliği ile karşılaştırır. Karşılaştırmaya dayanarak dalı takip eder ve bir sonraki düğüme ulaşır. Bir sonraki düğüm için algoritma, öznitelik değerini diğer alt düğümlerle tekrar karşılaştırır ve daha ileri gider. Ağacın yaprak düğümüne ulaşana kadar işleme devam eder.\n",
    "\n",
    "Bir girdi verildiğinde, her düğümde bir test uygulanır ve sonuca bağlı olarak dallardan biri seçilir. Bu işlem kökte başlar ve bir yaprak düğüme ulaşılana kadar yinelemeli olarak tekrarlanır. Ulaşılan yaprak düğümdeki değer çıktıyı ifade eder.\n",
    "\n",
    "<br><br>\n",
    "Decision Tree algoritmasını günlük hayatla ilişkilendirerek bir örnek verelim:\n",
    "\n",
    "Mesela bir ev satın alacaksınız. Bir sitede gördüğünüz satılık ev ilanının sahibi ile iletişime geçtiniz. Evi satın almak için belli şartlarınız var. Ev sahibinin, sizin her bir şartınıza verdiği cevaba göre bir karara ulaşacaksınız. Bu kurguyu decision tree algoritmasına dökelim:\n",
    "\n",
    "                                             Evin konumu şehir merkezinde mi?\n",
    "                                             /                            \\\n",
    "                                       Evet /                              \\  Hayır\n",
    "                                           /                                \\\n",
    "                                      Ev 4 odalı mı?                     Bu evi satın alma\n",
    "                                       /         \\\n",
    "                                Evet  /           \\ Hayır\n",
    "                                     /             \\\n",
    "               Evin manzarasında deniz var mı?     Bu evi satın alma\n",
    "                        /               \\\n",
    "                  Evet /                 \\ Hayır\n",
    "                      /                   \\   \n",
    "                Bu evi satın al          Bu evi satın alma  \n",
    "                \n",
    "                \n",
    "Decision tree yapısında görüldüğü üzere sorduğumuz soruya verilen cevaba göre bir dal seçilir ve dal takip edilerek bir düğüme ulaşılır. Bu şekilde yaprak düğüme ulaşılana kadar dallanma gerçekleştirilir. Ve ulaşılan yaprak düğümde bir sonuca varılır.\n",
    "\n",
    "<br><br>\n",
    "Peki Karar Ağacında Öznitelik Seçimi Nasıl Yapılır? :\n",
    "\n",
    "Bir karar ağacını uygularken temel sorun, kök düğüm ve alt düğümler için en iyi özniteliğin nasıl seçileceğidir. Busorunu çözmek için 'Attribute Selection Measure (ASM)' şeklinde adlandırılan bir teknik vardır. Bu teknik sayesinde ağacın düğümleri için en iyi özniteliği kolaylıkla seçebiliriz.\n",
    "\n",
    "ASM'de 2 adet popüler teknik vardır:\n",
    "    -> Bilgi Kazancı (Information Gain)\n",
    "    -> Gini Endeksi (Gini Index)\n",
    " \n",
    "Bilgi kazancı tekniğini açıklamadan önce Entropy kavramına değinelim:\n",
    "\n",
    "Entropy: Bir veri kümesinin safsızlığını veya rastgeleliğini ölçmek için kullanılır. Mesela sadece turuncu toplardan oluşan bir kutudan bir top seçildiğini düşünün. Bu kutu 0 entropiye sahiptir ve bu da 0 safsızlık veya toplam saflık anlamına gelir.\n",
    "Burada bir hedef özelliğin belirli bir değeri alma olasılığı söz konusudur. \n",
    "\n",
    "evet, hayır şeklinde iki durum mevcut olduğunu düşünelim. Entropy şu şekilde hesaplanır:\n",
    "    \n",
    "    Entropy(S) = -P(evet) log2(P(evet)) -P(hayır) log2(P(hayır))\n",
    "    \n",
    "    Burada:\n",
    "    -> S : Toplam sample sayısı\n",
    "    -> P(evet) : evet olasılığı\n",
    "    -> P(hayır) : no olasılığı\n",
    " \n",
    "<br><br>    \n",
    "Bilgi Kazancı (Information Gain):\n",
    "\n",
    "Bilgi kazancı, bir özniteliğe dayalı olarak bir veri setinin segmentasyonundan (sınıflandırılmasından) sonra entropy'deki değişikliklerin ölçümüdür. \n",
    "\n",
    "Bir özniteliğin, bir sınıf hakkında ne kadar bilgi sağladığını hesaplar.\n",
    "\n",
    "Bilgi kazancının değerine göre düğümü böleriz ve karar ağacını oluştururuz.\n",
    "\n",
    "Karar ağacı algoritması her zaman bilgi kazancının değerini maksimize etmeye çalışır ve en yüksek bilgi kazancına sahip bir düğüm/öznitelik önce bölünür.\n",
    "\n",
    "    Bilgi Kazancı = Entropy(S) - [(Weighted Avg) * Entropy(each feature)]\n",
    "    \n",
    "\n",
    "Gini Endeksi tekniğini açıklamadan önce CART algoritmasına değinelim:\n",
    "\n",
    "CART, bağımlı değişkenin sırasıyla kategorik veya sayısal olmasına bağlı olarak sınıflandırma veya regresyon ağaçları üreten bir karar ağacı öğrenme tekniğidir. CART, özniteliği seçmek için safsızlık ölçüsü olarak gini indeksini kullanır. Safsızlıkta en büyük azalmaya sahip öznitelik, düğümün kayıtlarını bölmek için kullanılır. CART, sayısal veya kategorik değerlere sahip verileri kabul eder ve eksik öznitelik değerlerini de işler. Maliyet karmaşıklığı budamasını kullanır ve ayrıca regresyon ağaçları oluşturur.\n",
    "\n",
    "Gini Endeksi (Gini Index):\n",
    "\n",
    "Gini endeksi, CART(Classification and Regression Tree) algoritmasında karar ağacı oluştururken kullanılan safsızlık (impurity) veya saflık(purity)  ölçüsüdür.\n",
    "\n",
    "Yüksek Gini endeksine kıyasla düşük gini endeksine sahip bir öznitelik tercih edilmelidir.\n",
    "\n",
    "Yalnızca ikili bölmeler oluşturur ve CART algoritması ikili bölmeler oluşturmak için gini endeksini kullanır.\n",
    "\n",
    "Gini endeksi şu formül ile hesaplanır:\n",
    "    \n",
    "    Gini Endeksi = 1 - ∑ (pj)^2\n",
    "                       j\n",
    "                       \n",
    "                      \n",
    "     Burada:\n",
    "     -> pj : j sınıfının oluşma olasılığıdır. Her sınıf için hesaplanır ve sonuçların karelerinin toplamı çıkarılır.\n",
    "\n",
    "Gini değeri 0 ile 1 arasında bir sonuç alır ve sonuç 0'a ne kadar yakın ise ayrım o kadar iyi olur.\n",
    "\n",
    "Gini Endeks örneği yapalım:\n",
    "\n",
    "Sarı ve mavi renkte 4 adet top olsun.\n",
    "\n",
    "Gini = 1- (Sarı topun seçilme olasılığı^2 + Mavi topun seçilme olasılığı^2)\n",
    "\n",
    "2 sarı - 2 mavi                               0 sarı - 4 mavi                         3 sarı - 1 mavi\n",
    "Gini = 1-((1/4)^2 + (1/4)^2)                  Gini = 1-((0)^2 + (1)^2)                Gini = 1-((3/4)^2 + (1/4)^2)\n",
    "Gini = 0.875                                  Gini = 0                                Gini = 0.375\n",
    "\n",
    "\n",
    "Şimdide pruning kavramını inceleyelim:\n",
    "\n",
    "Pruning (Budama):\n",
    "\n",
    "Pruning optimal bir karar ağacı elde etmek için gereksiz düğümleri bir ağaçtan silme işlemidir.\n",
    "\n",
    "Çok büyük bir ağaç, overfitting riskini artırır ve küçük bir ağaç, veri kümesinin tüm önemli özelliklerini yakalayamayabilir.\n",
    "\n",
    "Pruning, doğruluğu azaltmadan öğrenme ağacının boyutunu küçülten bir tekniktir.\n",
    "\n",
    "Overfitting'i azaltmak için pruning tekniğini kullanabiliriz.\n",
    "\n",
    "Daha çok kullanılan iki tür ağaç budama çeşidi vardır:\n",
    "\n",
    "    -> Cost Complexity Pruning (Maliyet Karmaşıklığı Budaması)\n",
    "    \n",
    "    -> Reduced Error Pruning (Azaltılmış Hata Budaması)\n",
    "    \n",
    "\n",
    "Birde şunu söylemeliyim ki, Karar ağaçlarında feature scaling ile özellikleri birbirine yaklaştırmak çok mantıklı değildir. Özelliklerin ayrı yani uzak olması daha iyidir.\n",
    "\n",
    "Son olarak, Decision Tree algoritması uygulanırken bazı yerlerde DecisionTreeClassifier() ifadesinde parametre olarak max_depth ifadesini görebilirisiniz. Bu parametre ağacın derinliğini ifade eder. Ağacın bazı kısımları yaprak düğüme ulaşmamış ise ağaç dallanmaya devam edebilir fakat max_depth ile belirtilen derinliğe ulaşılması durumunda dallanma işlemine devam edilmez.\n",
    "    \n",
    "Artık karar ağacı algoritması için kod yazabiliriz."
   ]
  },
  {
   "cell_type": "markdown",
   "id": "79964bce",
   "metadata": {},
   "source": [
    "Tüm bu anlatılanları bir veri seti üzerinde uygulayalım. Sırasıyla şu adımları uygulamalıyız:\n",
    "\n",
    "1. Veri ön işleme (Data Pre-Processing)\n",
    "2. Decision Tree algoritmasını eğitim setine fit etme\n",
    "3. Test sonucunu tahmin etme\n",
    "4. Karmaşıklık matrisi ile sonucun test doğruluğunun tespiti\n",
    "5. Eğitim seti ve Test seti sonucunun görselleştirilmesi"
   ]
  },
  {
   "cell_type": "code",
   "execution_count": 1,
   "id": "6f9016d8",
   "metadata": {},
   "outputs": [],
   "source": [
    "#1.Veri ön işleme (Data Pre-Processing):\n",
    "\n",
    "import numpy as np\n",
    "import matplotlib.pyplot as plt\n",
    "import pandas as pd\n",
    "#importing datasets\n",
    "data_set= pd.read_csv('Social_Network_Ads.csv')\n",
    "#Extracting Independent and dependent Variable\n",
    "x= data_set.iloc[:, [2,3]].values\n",
    "y= data_set.iloc[:, 4].values\n",
    "# Splitting the dataset into training and test set.\n",
    "from sklearn.model_selection import train_test_split\n",
    "x_train, x_test, y_train, y_test = train_test_split(x, y, test_size= 0.25, random_state=0)\n",
    "#feature Scaling\n",
    "from sklearn.preprocessing import StandardScaler\n",
    "st_x= StandardScaler()\n",
    "x_train= st_x.fit_transform(x_train)\n",
    "x_test= st_x.transform(x_test)"
   ]
  },
  {
   "cell_type": "code",
   "execution_count": 2,
   "id": "a7b4001b",
   "metadata": {},
   "outputs": [
    {
     "data": {
      "text/plain": [
       "DecisionTreeClassifier(criterion='entropy', random_state=0)"
      ]
     },
     "execution_count": 2,
     "metadata": {},
     "output_type": "execute_result"
    }
   ],
   "source": [
    "#2.Decision Tree algoritmasını eğitim setine fit etme\n",
    "\n",
    "from sklearn.tree import DecisionTreeClassifier\n",
    "classifier= DecisionTreeClassifier(criterion='entropy', random_state=0)\n",
    "classifier.fit(x_train, y_train)"
   ]
  },
  {
   "cell_type": "code",
   "execution_count": 3,
   "id": "8ec49148",
   "metadata": {},
   "outputs": [],
   "source": [
    "#3.Test sonucunu tahmin etme\n",
    "\n",
    "y_pred = classifier.predict(x_test)"
   ]
  },
  {
   "cell_type": "code",
   "execution_count": 4,
   "id": "740e4128",
   "metadata": {},
   "outputs": [],
   "source": [
    "#4.Karmaşıklık matrisi ile sonucun test doğruluğunun tespiti\n",
    "\n",
    "from sklearn.metrics import confusion_matrix\n",
    "cm = confusion_matrix(y_test, y_pred)"
   ]
  },
  {
   "cell_type": "code",
   "execution_count": 5,
   "id": "f80261bb",
   "metadata": {},
   "outputs": [
    {
     "name": "stderr",
     "output_type": "stream",
     "text": [
      "*c* argument looks like a single numeric RGB or RGBA sequence, which should be avoided as value-mapping will have precedence in case its length matches with *x* & *y*.  Please use the *color* keyword-argument or provide a 2D array with a single row if you intend to specify the same RGB or RGBA value for all points.\n",
      "*c* argument looks like a single numeric RGB or RGBA sequence, which should be avoided as value-mapping will have precedence in case its length matches with *x* & *y*.  Please use the *color* keyword-argument or provide a 2D array with a single row if you intend to specify the same RGB or RGBA value for all points.\n"
     ]
    },
    {
     "data": {
      "image/png": "[encoded data removed]",
      "text/plain": [
       "<Figure size 432x288 with 1 Axes>"
      ]
     },
     "metadata": {
      "needs_background": "light"
     },
     "output_type": "display_data"
    }
   ],
   "source": [
    "#5.Eğitim seti sonucunun görselleştirilmesi\n",
    "\n",
    "from matplotlib.colors import ListedColormap\n",
    "x_set, y_set = x_train, y_train\n",
    "x1, x2 = np.meshgrid(np.arange(start = x_set[:, 0].min() - 1, stop = x_set[:, 0].max() + 1, step =0.01),\n",
    "np.arange(start = x_set[:, 1].min() - 1, stop = x_set[:, 1].max() + 1, step = 0.01))\n",
    "plt.contourf(x1, x2, classifier.predict(np.array([x1.ravel(), x2.ravel()]).T).reshape(x1.shape),\n",
    "alpha = 0.75, cmap = ListedColormap(('purple','green' )))\n",
    "plt.xlim(x1.min(), x1.max())\n",
    "plt.ylim(x2.min(), x2.max())\n",
    "for i, j in enumerate(np.unique(y_set)):\n",
    "    plt.scatter(x_set[y_set == j, 0], x_set[y_set == j, 1],\n",
    "c = ListedColormap(('purple', 'green'))(i), label = j)\n",
    "plt.title('Decision Tree Algorithm (Training set)')\n",
    "plt.xlabel('Age')\n",
    "plt.ylabel('Estimated Salary')\n",
    "plt.legend()\n",
    "plt.show()"
   ]
  },
  {
   "cell_type": "code",
   "execution_count": 6,
   "id": "af3a5873",
   "metadata": {},
   "outputs": [
    {
     "name": "stderr",
     "output_type": "stream",
     "text": [
      "*c* argument looks like a single numeric RGB or RGBA sequence, which should be avoided as value-mapping will have precedence in case its length matches with *x* & *y*.  Please use the *color* keyword-argument or provide a 2D array with a single row if you intend to specify the same RGB or RGBA value for all points.\n",
      "*c* argument looks like a single numeric RGB or RGBA sequence, which should be avoided as value-mapping will have precedence in case its length matches with *x* & *y*.  Please use the *color* keyword-argument or provide a 2D array with a single row if you intend to specify the same RGB or RGBA value for all points.\n"
     ]
    },
    {
     "data": {
      "image/png": "[encoded data removed]",
      "text/plain": [
       "<Figure size 432x288 with 1 Axes>"
      ]
     },
     "metadata": {
      "needs_background": "light"
     },
     "output_type": "display_data"
    }
   ],
   "source": [
    "#5.Test seti sonucunun görselleştirilmesi\n",
    "\n",
    "x_set, y_set = x_test, y_test\n",
    "x1, x2 = np.meshgrid(np.arange(start = x_set[:, 0].min() - 1, stop = x_set[:, 0].max() + 1, step =0.01),\n",
    "np.arange(start = x_set[:, 1].min() - 1, stop = x_set[:, 1].max() + 1, step = 0.01))\n",
    "plt.contourf(x1, x2, classifier.predict(np.array([x1.ravel(), x2.ravel()]).T).reshape(x1.shape),\n",
    "alpha = 0.75, cmap = ListedColormap(('purple','green' )))\n",
    "plt.xlim(x1.min(), x1.max())\n",
    "plt.ylim(x2.min(), x2.max())\n",
    "for i, j in enumerate(np.unique(y_set)):\n",
    "    plt.scatter(x_set[y_set == j, 0], x_set[y_set == j, 1],\n",
    "c = ListedColormap(('purple', 'green'))(i), label = j)\n",
    "plt.title('Decision Tree Algorithm(Test set)')\n",
    "plt.xlabel('Age')\n",
    "plt.ylabel('Estimated Salary')\n",
    "plt.legend()\n",
    "plt.show()"
   ]
  }
 ],
 "metadata": {
  "kernelspec": {
   "display_name": "Python 3 (ipykernel)",
   "language": "python",
   "name": "python3"
  },
  "language_info": {
   "codemirror_mode": {
    "name": "ipython",
    "version": 3
   },
   "file_extension": ".py",
   "mimetype": "text/x-python",
   "name": "python",
   "nbconvert_exporter": "python",
   "pygments_lexer": "ipython3",
   "version": "3.9.7"
  }
 },
 "nbformat": 4,
 "nbformat_minor": 5
}
