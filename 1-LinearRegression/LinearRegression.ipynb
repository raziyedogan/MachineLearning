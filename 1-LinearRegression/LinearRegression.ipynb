{
 "cells": [
  {
   "cell_type": "markdown",
   "id": "877041c1",
   "metadata": {},
   "source": [
    "## MACHINE LEARNING"
   ]
  },
  {
   "cell_type": "markdown",
   "id": "e3e1cec2",
   "metadata": {},
   "source": [
    "<font color = \"DarkSlateGray\"><br>\n",
    "Dünyada resim, müzik... gibi bir çok veri bulunmaktadır. İnsanlar bu verileri matematiksel ve istatistiksel olarak anlamlandırabilirler. Fakat insanların çok uzun süreçlerde yapabileceği işlemleri, makineler çok daha kısa sürede yapabilmektedir. Makineler verilerden bilgiler, yorumlar çıkararak veriyi anlamlandırmamızı sağlamaktadır.\n",
    "Bu makinelerin kullandığı algoritmalara, maching learning algoritmaları denir. "
   ]
  },
  {
   "cell_type": "markdown",
   "id": "fd268f55",
   "metadata": {},
   "source": [
    "Bu çalışmada excel'den oluşturarak uzantısı csv 'ye dönüştüdüğümüz veri setini kullanacağız."
   ]
  },
  {
   "cell_type": "code",
   "execution_count": 1,
   "id": "b8b4c9be",
   "metadata": {},
   "outputs": [],
   "source": [
    "import pandas as pd\n",
    "import numpy as np\n",
    "import matplotlib.pyplot as plt"
   ]
  },
  {
   "cell_type": "code",
   "execution_count": 2,
   "id": "3a84d1eb",
   "metadata": {},
   "outputs": [],
   "source": [
    "df = pd.read_csv(\"linear_regression_dataset.csv\", sep=\";\")"
   ]
  },
  {
   "cell_type": "code",
   "execution_count": 3,
   "id": "bac1daac",
   "metadata": {},
   "outputs": [
    {
     "data": {
      "text/html": [
       "<div>\n",
       "<style scoped>\n",
       "    .dataframe tbody tr th:only-of-type {\n",
       "        vertical-align: middle;\n",
       "    }\n",
       "\n",
       "    .dataframe tbody tr th {\n",
       "        vertical-align: top;\n",
       "    }\n",
       "\n",
       "    .dataframe thead th {\n",
       "        text-align: right;\n",
       "    }\n",
       "</style>\n",
       "<table border=\"1\" class=\"dataframe\">\n",
       "  <thead>\n",
       "    <tr style=\"text-align: right;\">\n",
       "      <th></th>\n",
       "      <th>deneyim</th>\n",
       "      <th>maas</th>\n",
       "    </tr>\n",
       "  </thead>\n",
       "  <tbody>\n",
       "    <tr>\n",
       "      <th>0</th>\n",
       "      <td>0.5</td>\n",
       "      <td>2500</td>\n",
       "    </tr>\n",
       "    <tr>\n",
       "      <th>1</th>\n",
       "      <td>0.0</td>\n",
       "      <td>2250</td>\n",
       "    </tr>\n",
       "    <tr>\n",
       "      <th>2</th>\n",
       "      <td>1.0</td>\n",
       "      <td>2750</td>\n",
       "    </tr>\n",
       "    <tr>\n",
       "      <th>3</th>\n",
       "      <td>5.0</td>\n",
       "      <td>8000</td>\n",
       "    </tr>\n",
       "    <tr>\n",
       "      <th>4</th>\n",
       "      <td>8.0</td>\n",
       "      <td>9000</td>\n",
       "    </tr>\n",
       "  </tbody>\n",
       "</table>\n",
       "</div>"
      ],
      "text/plain": [
       "   deneyim  maas\n",
       "0      0.5  2500\n",
       "1      0.0  2250\n",
       "2      1.0  2750\n",
       "3      5.0  8000\n",
       "4      8.0  9000"
      ]
     },
     "execution_count": 3,
     "metadata": {},
     "output_type": "execute_result"
    }
   ],
   "source": [
    "df.head()"
   ]
  },
  {
   "cell_type": "code",
   "execution_count": 4,
   "id": "fceb6690",
   "metadata": {},
   "outputs": [
    {
     "data": {
      "image/png": "[encoded data removed]",
      "text/plain": [
       "<Figure size 432x288 with 1 Axes>"
      ]
     },
     "metadata": {
      "needs_background": "light"
     },
     "output_type": "display_data"
    }
   ],
   "source": [
    "plt.scatter(df.deneyim,df.maas)\n",
    "plt.xlabel(\"Deneyim\")\n",
    "plt.ylabel(\"Maas\")\n",
    "plt.show()"
   ]
  },
  {
   "cell_type": "markdown",
   "id": "b0b94438",
   "metadata": {},
   "source": [
    "Yukarıda data frame'i görselleştirdim. x ekseni deneyimleri ifade etmekte, y eksenide maaşları ifade etmekte. Çıktıda görüldüğü üzere maaş, deneyim doğrultusunda artıyor."
   ]
  },
  {
   "cell_type": "markdown",
   "id": "a7b4d698",
   "metadata": {},
   "source": [
    "Mesela deneyimi 9 olan birinin maaşının ne kadar olacağını görsele bakarak yaklaşık olarak anlayabiliyoruz. Aslında zihnimiz bir çizgi hayal ediyor ve bu çizgiye göre değerin ne olacağını kestirebiliyoruz. Bunu modele çevirebilmemiz için mavi noktalara bir line fit etmeliyiz, uydurmalıyız. Fit eetiğimiz line'ı istediğimiz değeri tahmin etmek için kullanırız. Bu metodun ismine \"line fit\" veya \"linear regression\" denir.\n",
    "\n",
    "<font color =\"OrangeRed\"><br>\n",
    "Çizilen line'ın matematikteki karşılığı: y = b0 + b1*x\n",
    "\n",
    "İfadeyi açıklayalım.\n",
    "    \n",
    "    y: y eksenidir. Burada y, Maaş değerleridir.\n",
    "    \n",
    "    x: x eksenidir. Burada y, Deneyim değerleridir.\n",
    "    \n",
    "    b0: Bias değeridir.\n",
    "    \n",
    "    b1: Line'ın eğimidir. \n",
    "    \n",
    "b0, line'ın y eksenini kestiği noktadır. \n",
    "    \n",
    "Bu formül burada şu hale geliyor: Maaş = b0 + b1*Deneyim"
   ]
  },
  {
   "cell_type": "markdown",
   "id": "a10bbe86",
   "metadata": {},
   "source": [
    "<img src=\"linearRegression.png\" style=\"width:900px;height:600px\"/>"
   ]
  },
  {
   "cell_type": "markdown",
   "id": "d6ba936b",
   "metadata": {},
   "source": [
    "Yukarıdaki resme bakınız.\n",
    "\n",
    "Burada kırmızı çizgi modeli ifade ediyor. y_head ifadesi kırmızı çizginin x ekseni için gösterdiği y değeridir. Yani y_head, tahmin edilen değerdir. Mavi noktalar ise gerçek değerler yani y'dir. y-y_head ifadesinden elde edilen sonuca residual denir. Mavi noktalar ile model arasındaki çizgiler tahminin, gerçek değerden ne kadar farklı olduğunu gösterir. Yani siyah çizgiler kaybı, hatayı ifade eder. Siyah çizgiler, residual değeridir. \n",
    "\n",
    "'+' kısımların anlamı, y'den y_head çıkarılında pozitif bir değer elde edildiğidir. '-' kısımlarda ise y'den y_head değeri çıkarıldığında negatif bir değer elde edilir.\n",
    "\n",
    "Amacımız hatayı düşürmektir. Eğer elde edilen değerleri direk toplarsak bunlar birbirlerini sıfırlarlar. Hata=0 yani düşük ama bu hiç mantıklı değil çünkü hatalar var. Hataların olmasına rağmen 0 bulmamız mantıklı değil. Bu nedenle - 'leri + 'ya çevirmemiz gerekir.\n",
    "\n",
    "'-' 'leri '+' 'ya şu şekilde çevirebiliriz: (residual^2) şeklinde residual değerlerinin karesini alırız. Böylelikle - ve + 'dan dolayı error'ları kaybetmemiş oluyorum. Sonrada elde edilen tüm residual'ları toplamalıyız. sum(residual^2) işlemi yapmalıyız çünkü ne kadar çok hata var, line'ı ne kadar doğru bir şekilde fit edebilmişiz ya da edememişiz bunu bilmeliyiz. Toplam sonucundada error değerini elde ederiz.\n",
    "\n",
    "sum(residual^2)/sample_sayisi şeklinde de scale yapmış oluyoruz. Başka farklı sayıdaki veri setleriyle karşılaştırırken sample sayısına bölmek önemli oluyor. sum(residual^2)/sample_sayisi ifadesi \"MSE\" dir.\n",
    "\n",
    "MSE = Mean Squared Error 'dur. Bir line'ı fit etmek için kullanılan yöntem MSE'dir."
   ]
  },
  {
   "cell_type": "markdown",
   "id": "5f99fe4e",
   "metadata": {},
   "source": [
    "<img src=\"mse.png\" style=\"width:400px;height:200px\"/>"
   ]
  },
  {
   "cell_type": "markdown",
   "id": "83ee2974",
   "metadata": {},
   "source": [
    "Yukarıda MSE formülünü görüyorsunuz. Açıklayalım.\n",
    "\n",
    "n: sample sayısıdır. Yukarıda 14 tane nokta olduğundan burada n=14 'tür.\n",
    "\n",
    "yi : Mavi noktalardır.\n",
    "\n",
    "~\n",
    "yi: fit ettiğimiz line'ın üzerindeki noktalardır. \n",
    "\n",
    "\n",
    "   ~\n",
    "yi-yi ifadesi yukarıda bahsettiğim residual'dır. Bu ifadenin karesinin alınma sebebi, - değerleri kaybetmemektir. Çünkü hatalar söz konusu. Bu hataların karesini almayıp pozitif değerlerle toplarsak - ler + ları götüreceğinden sonuç 0 olur fakat burada hatalar var, 0 olursa hiç hata yokmuş gibi olur ve bu yüzden 0 olmamalı. Dolayısıyla karesini almamız gerekmekte.\n",
    "\n",
    "Her bir nokta için residual değerini bulup tüm değerleri toplayarak squared error'u bulmuş oluyoruz. Sonrada elde edilen değeri sample sayısına bölerek mean square error 'u elde etmiş oluyoruz.\n",
    "\n",
    "MSE, line fit edebilmek için kullanılan bir yöntemdir.\n",
    "\n",
    "MSE değerini düşük bulmak amacımızdır. MSE değeri düşük olduğunda noktaların ortasından geçen en uygun line'ı elde etmiş oluyoruz. Yani noktalara en uygun line'ı fit etmiş, uydurmuş oluyoruz.\n",
    "\n",
    "y = b0 + b1*x ifadesinde en uygun b0 ve b1 değerlerini bulmalıyız. Bu değerler MSE değerini minimum yapacak şekilde olmalıdır."
   ]
  },
  {
   "cell_type": "markdown",
   "id": "f3b7279e",
   "metadata": {},
   "source": [
    "<br><br>\n",
    "sklearn kütüphanesini kullanacağız. Bu kütüphane içerisinde machine learning algoritmaları bulunmakta.\n",
    "\n",
    "Şimdi linear regression uygulayalım."
   ]
  },
  {
   "cell_type": "code",
   "execution_count": 5,
   "id": "c26aeece",
   "metadata": {},
   "outputs": [],
   "source": [
    "x = df.deneyim.values.reshape(-1,1)\n",
    "\n",
    "y = df.maas.values.reshape(-1,1)"
   ]
  },
  {
   "cell_type": "markdown",
   "id": "ec80685e",
   "metadata": {},
   "source": [
    "x = df.deneyim.values dediğimizde ve x'in shape'sine baktığımızda sonuç (14,) dür. Burada , den sonraki boşluğu sklearn anlamaz. Dolayısıyla df.deneyim.values.reshape(-1,1) şeklinde (14,1) olmasını sağladım."
   ]
  },
  {
   "cell_type": "code",
   "execution_count": 6,
   "id": "2490508c",
   "metadata": {},
   "outputs": [
    {
     "name": "stdout",
     "output_type": "stream",
     "text": [
      "b0:  [[1663.89519747]]\n"
     ]
    }
   ],
   "source": [
    "from sklearn.linear_model import LinearRegression\n",
    "\n",
    "linear_reg = LinearRegression()\n",
    "\n",
    "linear_reg.fit(x,y)\n",
    "\n",
    "b0 = linear_reg.predict([[0]])\n",
    "\n",
    "print(\"b0: \",b0)"
   ]
  },
  {
   "cell_type": "markdown",
   "id": "d8a20e66",
   "metadata": {},
   "source": [
    "linear_reg.predict[[0]] ifadesi ile x=0 iken değerin ne olacağının tahmin edilmesi sağlanmıştır. x=0 iken formüle uygularsak \n",
    "\n",
    "y = b0 + b1*0 \n",
    "\n",
    "y = b0 \n",
    "\n",
    "olacaktır. Dolayısıyla b0 = linear_reg.predict[[0]] satırı ile line'ın x eksenini kestiği noktayı elde etmiş olucaz.\n",
    "\n",
    "Çıktıda gördüğümüz üzere line'ın y eksenini kestiği nokta 1663 'dür.\n",
    "\n",
    "<br><br>\n",
    "Ayrıca b0 değerini intercept_ metodu ile de bulabiliriz:"
   ]
  },
  {
   "cell_type": "code",
   "execution_count": 7,
   "id": "ff1690e3",
   "metadata": {},
   "outputs": [
    {
     "name": "stdout",
     "output_type": "stream",
     "text": [
      "b0_:  [1663.89519747]\n"
     ]
    }
   ],
   "source": [
    "b0_ = linear_reg.intercept_\n",
    "print(\"b0_: \",b0_)  # y eksenini kestiği nokta intercept "
   ]
  },
  {
   "cell_type": "markdown",
   "id": "e8ebf12d",
   "metadata": {},
   "source": [
    "Görüldüğü üzere x=0 durumunda b0 çıktısı ile intercept_ metodu sonucundaki çıktı değerleri aynıdır.\n",
    "\n",
    "<br><br>\n",
    "b1 değerini bulabilmemiz için de coef_ metodu vardır:"
   ]
  },
  {
   "cell_type": "code",
   "execution_count": 8,
   "id": "278c6fc6",
   "metadata": {},
   "outputs": [
    {
     "name": "stdout",
     "output_type": "stream",
     "text": [
      "b1:  [[1138.34819698]]\n"
     ]
    }
   ],
   "source": [
    "b1 = linear_reg.coef_\n",
    "print(\"b1: \",b1)"
   ]
  },
  {
   "cell_type": "markdown",
   "id": "148b527b",
   "metadata": {},
   "source": [
    "b1 değeri eğime eşittir."
   ]
  },
  {
   "cell_type": "markdown",
   "id": "74df38d2",
   "metadata": {},
   "source": [
    "b0 ve b1 değerlerini yerine koyalım:\n",
    "\n",
    "<font color=\"LimeGreen\"><br>\n",
    "maas = 1663 + 1138*deneyim\n",
    "<font color=\"LimeGreen\"><br>\n",
    "Bu ifade linear regression modelinin denklemidir. \n",
    "\n",
    "Bu denklem ile istediğimiz değerin karşılığını predict edebiliriz."
   ]
  },
  {
   "cell_type": "code",
   "execution_count": 9,
   "id": "17770e20",
   "metadata": {},
   "outputs": [
    {
     "data": {
      "text/plain": [
       "array([[14185.72536421]])"
      ]
     },
     "execution_count": 9,
     "metadata": {},
     "output_type": "execute_result"
    }
   ],
   "source": [
    "linear_reg.predict([[11]])"
   ]
  },
  {
   "cell_type": "markdown",
   "id": "b9b63975",
   "metadata": {},
   "source": [
    "x=11 yani deneyim değeri 11 olan kişinin maaş değerini modelimizin denklemi ile tahmin edebiliriz.\n",
    "\n",
    "Yukarıdaki kod bloğunda aslında şu işlem yapılmıştır: maas = 1663 + 1138*11 = 14185"
   ]
  },
  {
   "cell_type": "markdown",
   "id": "eab95baa",
   "metadata": {},
   "source": [
    "Şimdi de fit ettiğimiz line'ı görselleştirelim."
   ]
  },
  {
   "cell_type": "code",
   "execution_count": 10,
   "id": "391a9f4e",
   "metadata": {},
   "outputs": [
    {
     "data": {
      "image/png": "[encoded data removed]",
      "text/plain": [
       "<Figure size 432x288 with 1 Axes>"
      ]
     },
     "metadata": {
      "needs_background": "light"
     },
     "output_type": "display_data"
    }
   ],
   "source": [
    "#visualize line\n",
    "array = np.array([0,1,2,3,4,5,6,7,8,9,10,11,12,13,14,15])\n",
    "plt.scatter(x,y)\n",
    "plt.show()"
   ]
  },
  {
   "cell_type": "code",
   "execution_count": 11,
   "id": "7a573f49",
   "metadata": {},
   "outputs": [
    {
     "data": {
      "text/plain": [
       "(16,)"
      ]
     },
     "execution_count": 11,
     "metadata": {},
     "output_type": "execute_result"
    }
   ],
   "source": [
    "array.shape"
   ]
  },
  {
   "cell_type": "markdown",
   "id": "651206cd",
   "metadata": {},
   "source": [
    "(16,) ifadesini sklearn anlayamaz. Sklearn (16,1) ifadesini görmek istiyor. Dolayısıyla reshape metodunu kullanarak bunu yapabiliriz."
   ]
  },
  {
   "cell_type": "code",
   "execution_count": 12,
   "id": "bdd4f663",
   "metadata": {},
   "outputs": [],
   "source": [
    "array = np.array([0,1,2,3,4,5,6,7,8,9,10,11,12,13,14,15]).reshape(-1,1)  #deneyim değerleridir."
   ]
  },
  {
   "cell_type": "markdown",
   "id": "45a6dbc7",
   "metadata": {},
   "source": [
    "Şimdide array'deki değerleri predict edelim."
   ]
  },
  {
   "cell_type": "code",
   "execution_count": 15,
   "id": "ca923f10",
   "metadata": {
    "scrolled": true
   },
   "outputs": [
    {
     "data": {
      "image/png": "[encoded data removed]",
      "text/plain": [
       "<Figure size 432x288 with 1 Axes>"
      ]
     },
     "metadata": {
      "needs_background": "light"
     },
     "output_type": "display_data"
    }
   ],
   "source": [
    "plt.scatter(x,y)\n",
    "plt.show()"
   ]
  },
  {
   "cell_type": "code",
   "execution_count": 17,
   "id": "23288250",
   "metadata": {},
   "outputs": [],
   "source": [
    "y_head = linear_reg.predict(array) #maas değerleridir."
   ]
  },
  {
   "cell_type": "code",
   "execution_count": 21,
   "id": "1fb60075",
   "metadata": {
    "scrolled": true
   },
   "outputs": [
    {
     "data": {
      "image/png": "[encoded data removed]",
      "text/plain": [
       "<Figure size 432x288 with 1 Axes>"
      ]
     },
     "metadata": {
      "needs_background": "light"
     },
     "output_type": "display_data"
    }
   ],
   "source": [
    "plt.plot(array, y_head, color=\"red\")\n",
    "plt.scatter(x,y)\n",
    "plt.show()"
   ]
  }
 ],
 "metadata": {
  "kernelspec": {
   "display_name": "Python 3 (ipykernel)",
   "language": "python",
   "name": "python3"
  },
  "language_info": {
   "codemirror_mode": {
    "name": "ipython",
    "version": 3
   },
   "file_extension": ".py",
   "mimetype": "text/x-python",
   "name": "python",
   "nbconvert_exporter": "python",
   "pygments_lexer": "ipython3",
   "version": "3.9.7"
  }
 },
 "nbformat": 4,
 "nbformat_minor": 5
}
