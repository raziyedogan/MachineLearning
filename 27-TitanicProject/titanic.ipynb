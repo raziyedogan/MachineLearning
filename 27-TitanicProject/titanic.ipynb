{
 "cells": [
  {
   "cell_type": "markdown",
   "id": "ca4e8253",
   "metadata": {},
   "source": [
    "Titanic - Machine Learning from Disaster\n",
    "\n",
    "https://www.kaggle.com/competitions/titanic linkinde bulunan yarışmayı gerçekleştirelim."
   ]
  },
  {
   "cell_type": "markdown",
   "id": "110c5b9f",
   "metadata": {},
   "source": [
    "# Introduction\n",
    "\n",
    "The sinking of Titanic is one of the most notorious shipwrecks in the history. In 1912, during her voyage, the Titanic sank after colliding with an iceberg, killing 1502 out of 2224 passengers and crew."
   ]
  },
  {
   "cell_type": "code",
   "execution_count": 1,
   "id": "b96b5734",
   "metadata": {},
   "outputs": [],
   "source": [
    "import numpy as np\n",
    "import pandas as pd\n",
    "import matplotlib.pyplot as plt\n",
    "plt.style.use(\"seaborn-whitegrid\")  #matplotlib'in bir style'ı var ve bunun seaborn-whitegrid tarzını kullanmak istiyoruz.\n",
    "import seaborn as sns\n",
    "from collections import Counter\n",
    "\n",
    "#Python'dan kaynaklı hataları kapatmak için:\n",
    "import warnings\n",
    "warnings.filterwarnings(\"ignore\")"
   ]
  },
  {
   "cell_type": "code",
   "execution_count": 2,
   "id": "95a8bd04",
   "metadata": {},
   "outputs": [
    {
     "data": {
      "text/plain": [
       "<function matplotlib.pyplot.show(close=None, block=None)>"
      ]
     },
     "execution_count": 2,
     "metadata": {},
     "output_type": "execute_result"
    },
    {
     "data": {
      "image/png": "[encoded data removed]",
      "text/plain": [
       "<Figure size 432x288 with 1 Axes>"
      ]
     },
     "metadata": {},
     "output_type": "display_data"
    }
   ],
   "source": [
    "a=[1,2,3,4]\n",
    "plt.plot(a)\n",
    "plt.show"
   ]
  },
  {
   "cell_type": "markdown",
   "id": "4086e2f4",
   "metadata": {},
   "source": [
    "plt.style.use(\"seaborn-whitegrid\")  satırı sayesinde yukarıdaki çıktıda bulunan grafiğin arka planında ızgara görünümü bulunmaktadır.\n",
    "\n",
    "Peki başka tarzları nasıl elde edebiliriz?:"
   ]
  },
  {
   "cell_type": "code",
   "execution_count": 3,
   "id": "cbd56ab7",
   "metadata": {},
   "outputs": [
    {
     "data": {
      "text/plain": [
       "['Solarize_Light2',\n",
       " '_classic_test_patch',\n",
       " 'bmh',\n",
       " 'classic',\n",
       " 'dark_background',\n",
       " 'fast',\n",
       " 'fivethirtyeight',\n",
       " 'ggplot',\n",
       " 'grayscale',\n",
       " 'seaborn',\n",
       " 'seaborn-bright',\n",
       " 'seaborn-colorblind',\n",
       " 'seaborn-dark',\n",
       " 'seaborn-dark-palette',\n",
       " 'seaborn-darkgrid',\n",
       " 'seaborn-deep',\n",
       " 'seaborn-muted',\n",
       " 'seaborn-notebook',\n",
       " 'seaborn-paper',\n",
       " 'seaborn-pastel',\n",
       " 'seaborn-poster',\n",
       " 'seaborn-talk',\n",
       " 'seaborn-ticks',\n",
       " 'seaborn-white',\n",
       " 'seaborn-whitegrid',\n",
       " 'tableau-colorblind10']"
      ]
     },
     "execution_count": 3,
     "metadata": {},
     "output_type": "execute_result"
    }
   ],
   "source": [
    "plt.style.available"
   ]
  },
  {
   "cell_type": "markdown",
   "id": "381f21e7",
   "metadata": {},
   "source": [
    "Kullanabileceğimiz bütün tarzların listesi çıktıda görüldüğü gibidir."
   ]
  },
  {
   "cell_type": "markdown",
   "id": "11a4b708",
   "metadata": {},
   "source": [
    "<font color = 'Orange'>\n",
    "1-LOAD AND CHECK DATA"
   ]
  },
  {
   "cell_type": "code",
   "execution_count": 4,
   "id": "7a12b9e5",
   "metadata": {},
   "outputs": [],
   "source": [
    "train_df = pd.read_csv(\"train.csv\")\n",
    "test_df = pd.read_csv(\"test.csv\")\n",
    "test_PassengerId = test_df[\"PassengerId\"]  #test_df'nin PassngerId feature'sinin orjinalini kaybetmemek için bir değişkene atadık."
   ]
  },
  {
   "cell_type": "markdown",
   "id": "39c27500",
   "metadata": {},
   "source": [
    "Data'yı inceleyelim."
   ]
  },
  {
   "cell_type": "code",
   "execution_count": 5,
   "id": "f470aeed",
   "metadata": {},
   "outputs": [
    {
     "data": {
      "text/plain": [
       "Index(['PassengerId', 'Survived', 'Pclass', 'Name', 'Sex', 'Age', 'SibSp',\n",
       "       'Parch', 'Ticket', 'Fare', 'Cabin', 'Embarked'],\n",
       "      dtype='object')"
      ]
     },
     "execution_count": 5,
     "metadata": {},
     "output_type": "execute_result"
    }
   ],
   "source": [
    "train_df.columns"
   ]
  },
  {
   "cell_type": "markdown",
   "id": "cff75f6f",
   "metadata": {},
   "source": [
    "Görüldüğü üzere 12 tane column yani feature mevcut."
   ]
  },
  {
   "cell_type": "code",
   "execution_count": 6,
   "id": "2c0f692d",
   "metadata": {},
   "outputs": [
    {
     "data": {
      "text/html": [
       "<div>\n",
       "<style scoped>\n",
       "    .dataframe tbody tr th:only-of-type {\n",
       "        vertical-align: middle;\n",
       "    }\n",
       "\n",
       "    .dataframe tbody tr th {\n",
       "        vertical-align: top;\n",
       "    }\n",
       "\n",
       "    .dataframe thead th {\n",
       "        text-align: right;\n",
       "    }\n",
       "</style>\n",
       "<table border=\"1\" class=\"dataframe\">\n",
       "  <thead>\n",
       "    <tr style=\"text-align: right;\">\n",
       "      <th></th>\n",
       "      <th>PassengerId</th>\n",
       "      <th>Survived</th>\n",
       "      <th>Pclass</th>\n",
       "      <th>Name</th>\n",
       "      <th>Sex</th>\n",
       "      <th>Age</th>\n",
       "      <th>SibSp</th>\n",
       "      <th>Parch</th>\n",
       "      <th>Ticket</th>\n",
       "      <th>Fare</th>\n",
       "      <th>Cabin</th>\n",
       "      <th>Embarked</th>\n",
       "    </tr>\n",
       "  </thead>\n",
       "  <tbody>\n",
       "    <tr>\n",
       "      <th>0</th>\n",
       "      <td>1</td>\n",
       "      <td>0</td>\n",
       "      <td>3</td>\n",
       "      <td>Braund, Mr. Owen Harris</td>\n",
       "      <td>male</td>\n",
       "      <td>22.0</td>\n",
       "      <td>1</td>\n",
       "      <td>0</td>\n",
       "      <td>A/5 21171</td>\n",
       "      <td>7.2500</td>\n",
       "      <td>NaN</td>\n",
       "      <td>S</td>\n",
       "    </tr>\n",
       "    <tr>\n",
       "      <th>1</th>\n",
       "      <td>2</td>\n",
       "      <td>1</td>\n",
       "      <td>1</td>\n",
       "      <td>Cumings, Mrs. John Bradley (Florence Briggs Th...</td>\n",
       "      <td>female</td>\n",
       "      <td>38.0</td>\n",
       "      <td>1</td>\n",
       "      <td>0</td>\n",
       "      <td>PC 17599</td>\n",
       "      <td>71.2833</td>\n",
       "      <td>C85</td>\n",
       "      <td>C</td>\n",
       "    </tr>\n",
       "    <tr>\n",
       "      <th>2</th>\n",
       "      <td>3</td>\n",
       "      <td>1</td>\n",
       "      <td>3</td>\n",
       "      <td>Heikkinen, Miss. Laina</td>\n",
       "      <td>female</td>\n",
       "      <td>26.0</td>\n",
       "      <td>0</td>\n",
       "      <td>0</td>\n",
       "      <td>STON/O2. 3101282</td>\n",
       "      <td>7.9250</td>\n",
       "      <td>NaN</td>\n",
       "      <td>S</td>\n",
       "    </tr>\n",
       "    <tr>\n",
       "      <th>3</th>\n",
       "      <td>4</td>\n",
       "      <td>1</td>\n",
       "      <td>1</td>\n",
       "      <td>Futrelle, Mrs. Jacques Heath (Lily May Peel)</td>\n",
       "      <td>female</td>\n",
       "      <td>35.0</td>\n",
       "      <td>1</td>\n",
       "      <td>0</td>\n",
       "      <td>113803</td>\n",
       "      <td>53.1000</td>\n",
       "      <td>C123</td>\n",
       "      <td>S</td>\n",
       "    </tr>\n",
       "    <tr>\n",
       "      <th>4</th>\n",
       "      <td>5</td>\n",
       "      <td>0</td>\n",
       "      <td>3</td>\n",
       "      <td>Allen, Mr. William Henry</td>\n",
       "      <td>male</td>\n",
       "      <td>35.0</td>\n",
       "      <td>0</td>\n",
       "      <td>0</td>\n",
       "      <td>373450</td>\n",
       "      <td>8.0500</td>\n",
       "      <td>NaN</td>\n",
       "      <td>S</td>\n",
       "    </tr>\n",
       "  </tbody>\n",
       "</table>\n",
       "</div>"
      ],
      "text/plain": [
       "   PassengerId  Survived  Pclass  \\\n",
       "0            1         0       3   \n",
       "1            2         1       1   \n",
       "2            3         1       3   \n",
       "3            4         1       1   \n",
       "4            5         0       3   \n",
       "\n",
       "                                                Name     Sex   Age  SibSp  \\\n",
       "0                            Braund, Mr. Owen Harris    male  22.0      1   \n",
       "1  Cumings, Mrs. John Bradley (Florence Briggs Th...  female  38.0      1   \n",
       "2                             Heikkinen, Miss. Laina  female  26.0      0   \n",
       "3       Futrelle, Mrs. Jacques Heath (Lily May Peel)  female  35.0      1   \n",
       "4                           Allen, Mr. William Henry    male  35.0      0   \n",
       "\n",
       "   Parch            Ticket     Fare Cabin Embarked  \n",
       "0      0         A/5 21171   7.2500   NaN        S  \n",
       "1      0          PC 17599  71.2833   C85        C  \n",
       "2      0  STON/O2. 3101282   7.9250   NaN        S  \n",
       "3      0            113803  53.1000  C123        S  \n",
       "4      0            373450   8.0500   NaN        S  "
      ]
     },
     "execution_count": 6,
     "metadata": {},
     "output_type": "execute_result"
    }
   ],
   "source": [
    "train_df.head()"
   ]
  },
  {
   "cell_type": "markdown",
   "id": "3502955d",
   "metadata": {},
   "source": [
    "df'nin ilk 5 satırını görüntüledik.\n",
    "\n",
    "Çıktıyı okuyalım. Mesela Ticket sütunu bilet numarasını ifade eder. Fare sütunu bileti almak için ödenen tutarı ifade eder. Cabin sütunu hangi kabinde bulunulduğunu ifade eder. Embarked sütunu hangi limandan bu gemiye binildiğini ifade eder."
   ]
  },
  {
   "cell_type": "code",
   "execution_count": 7,
   "id": "e008edb6",
   "metadata": {},
   "outputs": [
    {
     "data": {
      "text/html": [
       "<div>\n",
       "<style scoped>\n",
       "    .dataframe tbody tr th:only-of-type {\n",
       "        vertical-align: middle;\n",
       "    }\n",
       "\n",
       "    .dataframe tbody tr th {\n",
       "        vertical-align: top;\n",
       "    }\n",
       "\n",
       "    .dataframe thead th {\n",
       "        text-align: right;\n",
       "    }\n",
       "</style>\n",
       "<table border=\"1\" class=\"dataframe\">\n",
       "  <thead>\n",
       "    <tr style=\"text-align: right;\">\n",
       "      <th></th>\n",
       "      <th>PassengerId</th>\n",
       "      <th>Survived</th>\n",
       "      <th>Pclass</th>\n",
       "      <th>Age</th>\n",
       "      <th>SibSp</th>\n",
       "      <th>Parch</th>\n",
       "      <th>Fare</th>\n",
       "    </tr>\n",
       "  </thead>\n",
       "  <tbody>\n",
       "    <tr>\n",
       "      <th>count</th>\n",
       "      <td>891.000000</td>\n",
       "      <td>891.000000</td>\n",
       "      <td>891.000000</td>\n",
       "      <td>714.000000</td>\n",
       "      <td>891.000000</td>\n",
       "      <td>891.000000</td>\n",
       "      <td>891.000000</td>\n",
       "    </tr>\n",
       "    <tr>\n",
       "      <th>mean</th>\n",
       "      <td>446.000000</td>\n",
       "      <td>0.383838</td>\n",
       "      <td>2.308642</td>\n",
       "      <td>29.699118</td>\n",
       "      <td>0.523008</td>\n",
       "      <td>0.381594</td>\n",
       "      <td>32.204208</td>\n",
       "    </tr>\n",
       "    <tr>\n",
       "      <th>std</th>\n",
       "      <td>257.353842</td>\n",
       "      <td>0.486592</td>\n",
       "      <td>0.836071</td>\n",
       "      <td>14.526497</td>\n",
       "      <td>1.102743</td>\n",
       "      <td>0.806057</td>\n",
       "      <td>49.693429</td>\n",
       "    </tr>\n",
       "    <tr>\n",
       "      <th>min</th>\n",
       "      <td>1.000000</td>\n",
       "      <td>0.000000</td>\n",
       "      <td>1.000000</td>\n",
       "      <td>0.420000</td>\n",
       "      <td>0.000000</td>\n",
       "      <td>0.000000</td>\n",
       "      <td>0.000000</td>\n",
       "    </tr>\n",
       "    <tr>\n",
       "      <th>25%</th>\n",
       "      <td>223.500000</td>\n",
       "      <td>0.000000</td>\n",
       "      <td>2.000000</td>\n",
       "      <td>20.125000</td>\n",
       "      <td>0.000000</td>\n",
       "      <td>0.000000</td>\n",
       "      <td>7.910400</td>\n",
       "    </tr>\n",
       "    <tr>\n",
       "      <th>50%</th>\n",
       "      <td>446.000000</td>\n",
       "      <td>0.000000</td>\n",
       "      <td>3.000000</td>\n",
       "      <td>28.000000</td>\n",
       "      <td>0.000000</td>\n",
       "      <td>0.000000</td>\n",
       "      <td>14.454200</td>\n",
       "    </tr>\n",
       "    <tr>\n",
       "      <th>75%</th>\n",
       "      <td>668.500000</td>\n",
       "      <td>1.000000</td>\n",
       "      <td>3.000000</td>\n",
       "      <td>38.000000</td>\n",
       "      <td>1.000000</td>\n",
       "      <td>0.000000</td>\n",
       "      <td>31.000000</td>\n",
       "    </tr>\n",
       "    <tr>\n",
       "      <th>max</th>\n",
       "      <td>891.000000</td>\n",
       "      <td>1.000000</td>\n",
       "      <td>3.000000</td>\n",
       "      <td>80.000000</td>\n",
       "      <td>8.000000</td>\n",
       "      <td>6.000000</td>\n",
       "      <td>512.329200</td>\n",
       "    </tr>\n",
       "  </tbody>\n",
       "</table>\n",
       "</div>"
      ],
      "text/plain": [
       "       PassengerId    Survived      Pclass         Age       SibSp  \\\n",
       "count   891.000000  891.000000  891.000000  714.000000  891.000000   \n",
       "mean    446.000000    0.383838    2.308642   29.699118    0.523008   \n",
       "std     257.353842    0.486592    0.836071   14.526497    1.102743   \n",
       "min       1.000000    0.000000    1.000000    0.420000    0.000000   \n",
       "25%     223.500000    0.000000    2.000000   20.125000    0.000000   \n",
       "50%     446.000000    0.000000    3.000000   28.000000    0.000000   \n",
       "75%     668.500000    1.000000    3.000000   38.000000    1.000000   \n",
       "max     891.000000    1.000000    3.000000   80.000000    8.000000   \n",
       "\n",
       "            Parch        Fare  \n",
       "count  891.000000  891.000000  \n",
       "mean     0.381594   32.204208  \n",
       "std      0.806057   49.693429  \n",
       "min      0.000000    0.000000  \n",
       "25%      0.000000    7.910400  \n",
       "50%      0.000000   14.454200  \n",
       "75%      0.000000   31.000000  \n",
       "max      6.000000  512.329200  "
      ]
     },
     "execution_count": 7,
     "metadata": {},
     "output_type": "execute_result"
    }
   ],
   "source": [
    "train_df.describe()"
   ]
  },
  {
   "cell_type": "markdown",
   "id": "17a01ac5",
   "metadata": {},
   "source": [
    "Sayısal sütunlarla ilgili bazı istatistiksel bilgileri elde ettik.\n",
    "\n",
    "Çıktıyı inceleyelim. Mesela maksimum 80 yaşında ve minimum 0.42 yaşında insanların bulunduğu bir gemi olduğu sonucuna varabiliriz."
   ]
  },
  {
   "cell_type": "markdown",
   "id": "ce41c31b",
   "metadata": {},
   "source": [
    "<font color = 'Orange'>\n",
    "2-VARIABLE DESCRIPTION"
   ]
  },
  {
   "cell_type": "markdown",
   "id": "66b6e25a",
   "metadata": {},
   "source": [
    "1- PassengerId\n",
    "\n",
    "2- Survived\n",
    "\n",
    "3- Pclass\n",
    "\n",
    "4- Name\n",
    "\n",
    "5- Sex\n",
    "\n",
    "6- Age\n",
    "\n",
    "7- SibSp\n",
    "\n",
    "8- Parch\n",
    "\n",
    "9- Ticket\n",
    "\n",
    "10-Fare\n",
    "\n",
    "11-Cabin\n",
    "\n",
    "12-Embarked\n",
    "    \n",
    "Şimdi her birini veri seti üzerinde gözlemleyerek inceleyelim. "
   ]
  },
  {
   "cell_type": "code",
   "execution_count": 8,
   "id": "8474ed45",
   "metadata": {},
   "outputs": [
    {
     "data": {
      "text/html": [
       "<div>\n",
       "<style scoped>\n",
       "    .dataframe tbody tr th:only-of-type {\n",
       "        vertical-align: middle;\n",
       "    }\n",
       "\n",
       "    .dataframe tbody tr th {\n",
       "        vertical-align: top;\n",
       "    }\n",
       "\n",
       "    .dataframe thead th {\n",
       "        text-align: right;\n",
       "    }\n",
       "</style>\n",
       "<table border=\"1\" class=\"dataframe\">\n",
       "  <thead>\n",
       "    <tr style=\"text-align: right;\">\n",
       "      <th></th>\n",
       "      <th>PassengerId</th>\n",
       "      <th>Survived</th>\n",
       "      <th>Pclass</th>\n",
       "      <th>Name</th>\n",
       "      <th>Sex</th>\n",
       "      <th>Age</th>\n",
       "      <th>SibSp</th>\n",
       "      <th>Parch</th>\n",
       "      <th>Ticket</th>\n",
       "      <th>Fare</th>\n",
       "      <th>Cabin</th>\n",
       "      <th>Embarked</th>\n",
       "    </tr>\n",
       "  </thead>\n",
       "  <tbody>\n",
       "    <tr>\n",
       "      <th>0</th>\n",
       "      <td>1</td>\n",
       "      <td>0</td>\n",
       "      <td>3</td>\n",
       "      <td>Braund, Mr. Owen Harris</td>\n",
       "      <td>male</td>\n",
       "      <td>22.0</td>\n",
       "      <td>1</td>\n",
       "      <td>0</td>\n",
       "      <td>A/5 21171</td>\n",
       "      <td>7.2500</td>\n",
       "      <td>NaN</td>\n",
       "      <td>S</td>\n",
       "    </tr>\n",
       "    <tr>\n",
       "      <th>1</th>\n",
       "      <td>2</td>\n",
       "      <td>1</td>\n",
       "      <td>1</td>\n",
       "      <td>Cumings, Mrs. John Bradley (Florence Briggs Th...</td>\n",
       "      <td>female</td>\n",
       "      <td>38.0</td>\n",
       "      <td>1</td>\n",
       "      <td>0</td>\n",
       "      <td>PC 17599</td>\n",
       "      <td>71.2833</td>\n",
       "      <td>C85</td>\n",
       "      <td>C</td>\n",
       "    </tr>\n",
       "    <tr>\n",
       "      <th>2</th>\n",
       "      <td>3</td>\n",
       "      <td>1</td>\n",
       "      <td>3</td>\n",
       "      <td>Heikkinen, Miss. Laina</td>\n",
       "      <td>female</td>\n",
       "      <td>26.0</td>\n",
       "      <td>0</td>\n",
       "      <td>0</td>\n",
       "      <td>STON/O2. 3101282</td>\n",
       "      <td>7.9250</td>\n",
       "      <td>NaN</td>\n",
       "      <td>S</td>\n",
       "    </tr>\n",
       "    <tr>\n",
       "      <th>3</th>\n",
       "      <td>4</td>\n",
       "      <td>1</td>\n",
       "      <td>1</td>\n",
       "      <td>Futrelle, Mrs. Jacques Heath (Lily May Peel)</td>\n",
       "      <td>female</td>\n",
       "      <td>35.0</td>\n",
       "      <td>1</td>\n",
       "      <td>0</td>\n",
       "      <td>113803</td>\n",
       "      <td>53.1000</td>\n",
       "      <td>C123</td>\n",
       "      <td>S</td>\n",
       "    </tr>\n",
       "    <tr>\n",
       "      <th>4</th>\n",
       "      <td>5</td>\n",
       "      <td>0</td>\n",
       "      <td>3</td>\n",
       "      <td>Allen, Mr. William Henry</td>\n",
       "      <td>male</td>\n",
       "      <td>35.0</td>\n",
       "      <td>0</td>\n",
       "      <td>0</td>\n",
       "      <td>373450</td>\n",
       "      <td>8.0500</td>\n",
       "      <td>NaN</td>\n",
       "      <td>S</td>\n",
       "    </tr>\n",
       "  </tbody>\n",
       "</table>\n",
       "</div>"
      ],
      "text/plain": [
       "   PassengerId  Survived  Pclass  \\\n",
       "0            1         0       3   \n",
       "1            2         1       1   \n",
       "2            3         1       3   \n",
       "3            4         1       1   \n",
       "4            5         0       3   \n",
       "\n",
       "                                                Name     Sex   Age  SibSp  \\\n",
       "0                            Braund, Mr. Owen Harris    male  22.0      1   \n",
       "1  Cumings, Mrs. John Bradley (Florence Briggs Th...  female  38.0      1   \n",
       "2                             Heikkinen, Miss. Laina  female  26.0      0   \n",
       "3       Futrelle, Mrs. Jacques Heath (Lily May Peel)  female  35.0      1   \n",
       "4                           Allen, Mr. William Henry    male  35.0      0   \n",
       "\n",
       "   Parch            Ticket     Fare Cabin Embarked  \n",
       "0      0         A/5 21171   7.2500   NaN        S  \n",
       "1      0          PC 17599  71.2833   C85        C  \n",
       "2      0  STON/O2. 3101282   7.9250   NaN        S  \n",
       "3      0            113803  53.1000  C123        S  \n",
       "4      0            373450   8.0500   NaN        S  "
      ]
     },
     "execution_count": 8,
     "metadata": {},
     "output_type": "execute_result"
    }
   ],
   "source": [
    "train_df.head()"
   ]
  },
  {
   "cell_type": "markdown",
   "id": "ef888adf",
   "metadata": {},
   "source": [
    "<font color = 'OliveDrab'>\n",
    "PassengerId : Bulunan yolcuların yolcu numarasını ifade eden feature'dir. Unique değerler barındırır.\n",
    "\n",
    "Survived : 0 değeri yolcunun titanik kazası sonucunda öldüğünü ifade eder, 1 değeri yolcunun hayatta kaldığını ifade eder.\n",
    "\n",
    "Pclass : 1,2 ve 3 değerlerini alabilir. 1 ddeğeri 1.sınıf, 2 değeri 2.sınıf ve 3 değeri 3.sınıf anlamına gelir. Yani yolcuların sınıflarını ifade eder.\n",
    "    \n",
    "Name : Yolcu ismini ifade eder.\n",
    "    \n",
    "Sex : Yolcuların cinsiyetlerini ifade eder.\n",
    "    \n",
    "Age : Yolcuların yaşlarını ifade eder.\n",
    "    \n",
    "SibSp : sib, siblings'in kısaltmasıdır ve anlamı kardeşlerdir. Sp ise Spouses'in kısaltmasıdır ve eş yani karı koca anlamındandır. Mesela Harris'in 1 tane kardeşi olduğunu anlayabiliriz.\n",
    "    \n",
    "Parch : par , parent'tır. ch ise children'dir. Mesela Harris'in Pach değeri 0 ve bunun anlamı, Harris'in çocuğuda yok aileside yok. Parch değerinin 1 olması, kişisin gemi içerisinde anne ve babası olmak üzere bir ailesi var ya da çocukları var anlamına gelir.\n",
    "    \n",
    "Ticket : Bilet numarasıdır.\n",
    "    \n",
    "Fare : Bu bileti almak için ödediğimiz para miktarıdır.\n",
    "    \n",
    "Cabin : Kişinin gemi içerisinde kaldığı oda numarasıdır.\n",
    "    \n",
    "Embarked : Gemiye hangi limandan binildiği bilgisidir. 3 adet liman var ve bunlar; C=Cherbourg, Q=Queenstown, S=Southampton şeklindedir."
   ]
  },
  {
   "cell_type": "code",
   "execution_count": 9,
   "id": "c4fcf871",
   "metadata": {},
   "outputs": [
    {
     "name": "stdout",
     "output_type": "stream",
     "text": [
      "<class 'pandas.core.frame.DataFrame'>\n",
      "RangeIndex: 891 entries, 0 to 890\n",
      "Data columns (total 12 columns):\n",
      " #   Column       Non-Null Count  Dtype  \n",
      "---  ------       --------------  -----  \n",
      " 0   PassengerId  891 non-null    int64  \n",
      " 1   Survived     891 non-null    int64  \n",
      " 2   Pclass       891 non-null    int64  \n",
      " 3   Name         891 non-null    object \n",
      " 4   Sex          891 non-null    object \n",
      " 5   Age          714 non-null    float64\n",
      " 6   SibSp        891 non-null    int64  \n",
      " 7   Parch        891 non-null    int64  \n",
      " 8   Ticket       891 non-null    object \n",
      " 9   Fare         891 non-null    float64\n",
      " 10  Cabin        204 non-null    object \n",
      " 11  Embarked     889 non-null    object \n",
      "dtypes: float64(2), int64(5), object(5)\n",
      "memory usage: 83.7+ KB\n"
     ]
    }
   ],
   "source": [
    "train_df.info()"
   ]
  },
  {
   "cell_type": "markdown",
   "id": "551d61c5",
   "metadata": {},
   "source": [
    "info() metodu ile veri seti hakkında bilgiler edinebiliriz.\n",
    "\n",
    "Çıktıyı inceleyelim. pandas dataframe'ini kullandığımızı görüyoruz. 891 tane yolcu mevcut. 12 tane column var. Her bir column isimlerini ve column'da bulunan değerlerin veri tiplerini görebilmekteyiz. Toplamda 2 tane float, 5 tane int ve 5 tane string bulunduğunu görmekteyiz."
   ]
  },
  {
   "cell_type": "markdown",
   "id": "576b702b",
   "metadata": {},
   "source": [
    "<font color = 'Orange'>\n",
    "3-UNIVARIATE VARIABLE ANALYSIS"
   ]
  },
  {
   "cell_type": "markdown",
   "id": "9797fe31",
   "metadata": {},
   "source": [
    "Değişkenleri birer birer incelicez. Univariate variable analysis yaparken iki kısma ayrıcaz:\n",
    "\n",
    "    🟡 Categorical Variable Analysis\n",
    "    \n",
    "    🟡 Numerical Variable Analysis"
   ]
  },
  {
   "cell_type": "markdown",
   "id": "e8540122",
   "metadata": {},
   "source": [
    "<font color = 'DarkSlateGray'>\n",
    "    \n",
    "🟡 Categorical Variable\n",
    "\n",
    "Categorical variable: İki veya daha fazla kategoriden oluşan feature'lerdir. \n",
    "\n",
    "Mesela Survived feature'si categorical variable'dir. Çünkü iki adet farklı değer barındırır. 1=hayatta kalmıştır, 0=hayatta değildir.\n",
    "\n",
    "Sex feature'si kadın ve erkek olmak üzere iki farklı değer barınıdırır.\n",
    "\n",
    "Pclass feature'si 1.sınıf, 2.sınıf ve 3.sınıf olmak üzere 3 farklı değer barındırır.\n",
    "\n",
    "Embarked feature'si C , Q ve S olmak üzere 3 farklı liman bilgisi barındırır.\n",
    "\n",
    "Cabin fature'si, Name feature'si, Ticket feature'si, Sibsp feature'si ve Parch feature'si bir çok farklı kategoriye sahiptir.\n",
    "\n",
    "Sonuç olarak:\n",
    "\n",
    "    \n",
    "<font color = 'Blue'>  \n",
    "      Categorical Variable: Survived, Sex, Pclass, Embarked, Cabin, Name, Ticket, Sibsp, Parch"
   ]
  },
  {
   "cell_type": "markdown",
   "id": "066b06e7",
   "metadata": {},
   "source": [
    "<font color = 'DarkSlateGray'>\n",
    "🟡 Numerical Variable\n",
    "\n",
    "Numerical Variable: Sayılardan oluşan değişkenlerdir.\n",
    "    \n",
    "Sonuç olarak:\n",
    "    \n",
    "    \n",
    "<font color = 'Blue'> \n",
    "      Numerical Variable: Fare, age, passengerId"
   ]
  },
  {
   "cell_type": "markdown",
   "id": "8b8463a0",
   "metadata": {},
   "source": [
    "## Categorical Variable"
   ]
  },
  {
   "cell_type": "markdown",
   "id": "6fb91477",
   "metadata": {},
   "source": [
    "Categorical variable'leri görselleştirmek için öğrendiğimiz yöntemlerden birisi olan matplotlib kütüphanesini kullanacağız ve bunun için bir metod yazalım."
   ]
  },
  {
   "cell_type": "code",
   "execution_count": 10,
   "id": "229ed77e",
   "metadata": {},
   "outputs": [],
   "source": [
    "def bar_plot(variable):\n",
    "    \"\"\"\n",
    "        input: variable ex: \"Sex\"\n",
    "        output: bar plot & value count\n",
    "    \"\"\"\n",
    "    var = train_df[variable]  #Cinsiyet (Sex) variable'sini kullanarak var isimli bir değişken oluşturduk. ve var değişkeni içerisinde cinsiyetleri bulunduruyor.\n",
    "    varValue = var.value_counts()  #cinsiyetten kaç tane olması gerektiğini sağlıyor. \n",
    "    \n",
    "    #Şimdide görselleştirelim.\n",
    "    plt.figure(figsize=(9,3))\n",
    "    plt.bar(varValue.index, varValue)\n",
    "    plt.xticks(varValue.index, varValue.index.values)\n",
    "    plt.ylabel(\"Frequency\")  #y label kategorilere ait sample'lerin sayısıdır.\n",
    "    plt.title(variable)\n",
    "    plt.show()\n",
    "    \n",
    "    print(\"{}: \\n {}\".format(variable,varValue))"
   ]
  },
  {
   "cell_type": "markdown",
   "id": "200fbd1a",
   "metadata": {},
   "source": [
    ".value_counts() metodu ile feature'nin içerisinde kaç tane kategori olduğunu ve bu kategorilere ait kaç tane sample olduğu bilgisini elde edebiliriz."
   ]
  },
  {
   "cell_type": "markdown",
   "id": "20a2bc9b",
   "metadata": {},
   "source": [
    "Metodu kullanabilmek için gerekli olan kod satırını yazalım."
   ]
  },
  {
   "cell_type": "code",
   "execution_count": 11,
   "id": "f2f146f6",
   "metadata": {},
   "outputs": [
    {
     "data": {
      "image/png": "[encoded data removed]",
      "text/plain": [
       "<Figure size 648x216 with 1 Axes>"
      ]
     },
     "metadata": {},
     "output_type": "display_data"
    },
    {
     "name": "stdout",
     "output_type": "stream",
     "text": [
      "Survived: \n",
      " 0    549\n",
      "1    342\n",
      "Name: Survived, dtype: int64\n"
     ]
    },
    {
     "data": {
      "image/png": "[encoded data removed]",
      "text/plain": [
       "<Figure size 648x216 with 1 Axes>"
      ]
     },
     "metadata": {},
     "output_type": "display_data"
    },
    {
     "name": "stdout",
     "output_type": "stream",
     "text": [
      "Sex: \n",
      " male      577\n",
      "female    314\n",
      "Name: Sex, dtype: int64\n"
     ]
    },
    {
     "data": {
      "image/png": "[encoded data removed]",
      "text/plain": [
       "<Figure size 648x216 with 1 Axes>"
      ]
     },
     "metadata": {},
     "output_type": "display_data"
    },
    {
     "name": "stdout",
     "output_type": "stream",
     "text": [
      "Pclass: \n",
      " 3    491\n",
      "1    216\n",
      "2    184\n",
      "Name: Pclass, dtype: int64\n"
     ]
    },
    {
     "data": {
      "image/png": "[encoded data removed]",
      "text/plain": [
       "<Figure size 648x216 with 1 Axes>"
      ]
     },
     "metadata": {},
     "output_type": "display_data"
    },
    {
     "name": "stdout",
     "output_type": "stream",
     "text": [
      "Embarked: \n",
      " S    644\n",
      "C    168\n",
      "Q     77\n",
      "Name: Embarked, dtype: int64\n"
     ]
    },
    {
     "data": {
      "image/png": "[encoded data removed]",
      "text/plain": [
       "<Figure size 648x216 with 1 Axes>"
      ]
     },
     "metadata": {},
     "output_type": "display_data"
    },
    {
     "name": "stdout",
     "output_type": "stream",
     "text": [
      "SibSp: \n",
      " 0    608\n",
      "1    209\n",
      "2     28\n",
      "4     18\n",
      "3     16\n",
      "8      7\n",
      "5      5\n",
      "Name: SibSp, dtype: int64\n"
     ]
    },
    {
     "data": {
      "image/png": "[encoded data removed]",
      "text/plain": [
       "<Figure size 648x216 with 1 Axes>"
      ]
     },
     "metadata": {},
     "output_type": "display_data"
    },
    {
     "name": "stdout",
     "output_type": "stream",
     "text": [
      "Parch: \n",
      " 0    678\n",
      "1    118\n",
      "2     80\n",
      "5      5\n",
      "3      5\n",
      "4      4\n",
      "6      1\n",
      "Name: Parch, dtype: int64\n"
     ]
    }
   ],
   "source": [
    "category1= [\"Survived\", \"Sex\", \"Pclass\",\"Embarked\",\"SibSp\",\"Parch\"]\n",
    "for c in category1:\n",
    "    bar_plot(c)"
   ]
  },
  {
   "cell_type": "markdown",
   "id": "c29e9656",
   "metadata": {},
   "source": [
    "Çıktıda sırasıyla feature'leri elde ettik. Çıktıda bulunan bu feature'leri inceleyelim.\n",
    "\n",
    "Survived feature'sinin içerisinde 2 tane kategori var. 0=hayatta kalmayanlar ve 1=hayatta kalanlar şeklinde 2 kategoriye sahip. 549 kişi hayatta kalmamıştır ve 342 kişi hayatta kalmıştır.\n",
    "\n",
    "Survived variable'si ile ilgili şöyle bir yorum yapabiliriz; 891 tane yolcudan 549 tanesi hayatta kalmamış ve 342 tanesi hayatta kalmış Yani bunlar yarı yarıya değil. Sonuç olarak survived variable'sinin dengeli olmadığı yani unbalanced olduğu anlaşılır.\n",
    "\n",
    "Sex feature'sini inceleyelim. Cinsiyet ile ilgili male ve female olmak üzere 2 tane kategori mevcut. 577 tanesi erkek ve 314 tanesi kadındır. Sex variable'si dengesiz bir dağılıma sahiptir. Mesela bir yolcu geldiğinde bu yolcunun cinsiyetini tahmin etmek istersek, Sex dağılım oranlarına göre yolcu erkektir diyebiliriz.\n",
    "\n",
    "Pclass feature'sini inceleyelim. 1.sınıf (en zenginler) , 2.sınıf (ortalar) ve 3.sınıf (en fakirler) olmak üzere 3 tane kategori mevcut. 3.sınıfa ait 491 tane yolcu, 1.sınıfa ait 216 tane yolcu ve 2.sınıfa ait 184 tane yolcu vardır. \n",
    "\n",
    "Embarked feature'sini inceleyelim. 3 tane kategori mevcut. S limanından 644 tane, C limanından 168 tane ve Q limanından 77 tane yolcu binmiş.\n",
    "\n",
    "Mesela şöyle bir yoruma ulaşabiliriz. Pclass feature'si ile Embarked feature'si arasında bir ilişki kurabiliriz. Embarked feature'sinin Q limanından çok az sayıda yolcu binmiş. Pclass feature'sindede 1.sınıfta kalan yolcuların az sayıda olduğu görülmekte. Dolayısıyla 1.sınıfta kalan yolcuların limanı Q olabilir diyebiliriz. \n",
    "\n",
    "SibSp feature'sini inceleyelim. / tane kategori var. Hiç kardeşi olmayan (0 kategorisi) 608 kişiymiş. 1 tane kardeşi ya da eşi (1 kategorisi) olan yolcu sayısı 209 kişiymiş. \n",
    "\n",
    "Parch feature'sini inceleyelim. 7 tane kategori var. 678 kişinin diğer insanlarla bir bağlantısı yokmuş (0 kategorisi)."
   ]
  },
  {
   "cell_type": "markdown",
   "id": "49adb172",
   "metadata": {},
   "source": [
    "Categorical olduğunu bildiğimiz ama görselleştirme yaptığımızda karmaşa yaratacağından emin olduğumuz geri kalan categorical variable'leri anlatalım."
   ]
  },
  {
   "cell_type": "code",
   "execution_count": 12,
   "id": "172bc8f4",
   "metadata": {},
   "outputs": [
    {
     "name": "stdout",
     "output_type": "stream",
     "text": [
      "B96 B98        4\n",
      "G6             4\n",
      "C23 C25 C27    4\n",
      "C22 C26        3\n",
      "F33            3\n",
      "              ..\n",
      "E34            1\n",
      "C7             1\n",
      "C54            1\n",
      "E36            1\n",
      "C148           1\n",
      "Name: Cabin, Length: 147, dtype: int64 \n",
      "\n",
      "Braund, Mr. Owen Harris                     1\n",
      "Boulos, Mr. Hanna                           1\n",
      "Frolicher-Stehli, Mr. Maxmillian            1\n",
      "Gilinski, Mr. Eliezer                       1\n",
      "Murdlin, Mr. Joseph                         1\n",
      "                                           ..\n",
      "Kelly, Miss. Anna Katherine \"Annie Kate\"    1\n",
      "McCoy, Mr. Bernard                          1\n",
      "Johnson, Mr. William Cahoone Jr             1\n",
      "Keane, Miss. Nora A                         1\n",
      "Dooley, Mr. Patrick                         1\n",
      "Name: Name, Length: 891, dtype: int64 \n",
      "\n",
      "347082      7\n",
      "CA. 2343    7\n",
      "1601        7\n",
      "3101295     6\n",
      "CA 2144     6\n",
      "           ..\n",
      "9234        1\n",
      "19988       1\n",
      "2693        1\n",
      "PC 17612    1\n",
      "370376      1\n",
      "Name: Ticket, Length: 681, dtype: int64 \n",
      "\n"
     ]
    }
   ],
   "source": [
    "category2 = [\"Cabin\",\"Name\",\"Ticket\"]\n",
    "for c in category2:\n",
    "    print(\"{} \\n\".format(train_df[c].value_counts()))"
   ]
  },
  {
   "cell_type": "markdown",
   "id": "ac2a6205",
   "metadata": {},
   "source": [
    "Çıktıda Cabin, Name ve Ticket feature'lerine ait kaç adet kategori olduğunu görebiliyoruz.\n",
    "\n",
    "Mesela B96 B98 kategorisinden 4 tane varmış. G6 kategorisinden 4 tane varmış."
   ]
  },
  {
   "cell_type": "markdown",
   "id": "b01f3f96",
   "metadata": {},
   "source": [
    "## Numerical Variable"
   ]
  },
  {
   "cell_type": "markdown",
   "id": "fda9e344",
   "metadata": {},
   "source": [
    "Numerical variable yapabilmemiz için histogram plot ettiren bir metod yazacağız. Öncesinde histogramın ne olduğunu hatırlayalım.\n",
    "\n",
    "Mesela bir topluluktaki insanların yaşları 5, 15, 20 olsun. 5 yaşında olan 100 kişi, 15 yaşında olan 200 kişi ve 20 yaşında olan 150 kişi olsun. Bu durumda histogram, toplulukta bulunan insanların yaşlarının dağılımını gösteren bloktur."
   ]
  },
  {
   "cell_type": "code",
   "execution_count": 13,
   "id": "2c289e27",
   "metadata": {},
   "outputs": [],
   "source": [
    "def plot_hist(variable):\n",
    "    plt.figure(figsize=(9,3))\n",
    "    plt.hist(train_df[variable], bins=50)  #train_df 'nin variable'lerini sırasıyla çağırdık.\n",
    "    plt.xlabel(variable)\n",
    "    plt.ylabel(\"Frequency\")\n",
    "    plt.title(\"{} distribution with hist\".format(variable))\n",
    "    plt.show()"
   ]
  },
  {
   "cell_type": "code",
   "execution_count": 14,
   "id": "aa166b09",
   "metadata": {},
   "outputs": [
    {
     "data": {
      "image/png": "[encoded data removed]",
      "text/plain": [
       "<Figure size 648x216 with 1 Axes>"
      ]
     },
     "metadata": {},
     "output_type": "display_data"
    },
    {
     "data": {
      "image/png": "[encoded data removed]",
      "text/plain": [
       "<Figure size 648x216 with 1 Axes>"
      ]
     },
     "metadata": {},
     "output_type": "display_data"
    },
    {
     "data": {
      "image/png": "[encoded data removed]",
      "text/plain": [
       "<Figure size 648x216 with 1 Axes>"
      ]
     },
     "metadata": {},
     "output_type": "display_data"
    }
   ],
   "source": [
    "#numeric variable'lerin listesini oluşturalım.\n",
    "\n",
    "numericVar = [\"Fare\", \"Age\", \"PassengerId\"]\n",
    "for n in numericVar:\n",
    "    plot_hist(n)"
   ]
  },
  {
   "cell_type": "markdown",
   "id": "da312bcf",
   "metadata": {},
   "source": [
    "Çıktıda Fare, Age ve PassengerId için histogramları görmekteyiz.\n",
    "\n",
    "Çıktıyı inceleyelim. Fare feature'si biletlere ödenen para miktarını ifade eder. Histogramda görüldüğü üzere 100 doların üzerinde veren kişi sayısı çok az. Böylelikle ödenen paranın dağılımını elde edebiliyoruz.\n",
    "\n",
    "Age feature'sine ait histograma baktığımızda, 20 ve 30 yaşları arasında bir toplanma görünüyor. 70 yaşından büyük yolcu sayısı giderek azalıyor ve 0 ile 10 yaş arasında fazla sayıda çocuk olduğu gözlemlenebiliyor."
   ]
  },
  {
   "cell_type": "markdown",
   "id": "cde3e7de",
   "metadata": {},
   "source": [
    "<font color = 'Orange'>\n",
    "4-BASIC DATA ANALYSIS"
   ]
  },
  {
   "cell_type": "markdown",
   "id": "90ffc956",
   "metadata": {},
   "source": [
    "Bazı feature'lerin birbirleriyle ilişkilerini incelicez:\n",
    "\n",
    "Pclass - survived\n",
    "\n",
    "Sex - survived\n",
    "\n",
    "SibSp - survived\n",
    "\n",
    "Parch - survived"
   ]
  },
  {
   "cell_type": "code",
   "execution_count": 15,
   "id": "3ba04eda",
   "metadata": {},
   "outputs": [
    {
     "data": {
      "text/html": [
       "<div>\n",
       "<style scoped>\n",
       "    .dataframe tbody tr th:only-of-type {\n",
       "        vertical-align: middle;\n",
       "    }\n",
       "\n",
       "    .dataframe tbody tr th {\n",
       "        vertical-align: top;\n",
       "    }\n",
       "\n",
       "    .dataframe thead th {\n",
       "        text-align: right;\n",
       "    }\n",
       "</style>\n",
       "<table border=\"1\" class=\"dataframe\">\n",
       "  <thead>\n",
       "    <tr style=\"text-align: right;\">\n",
       "      <th></th>\n",
       "      <th>Pclass</th>\n",
       "      <th>Survived</th>\n",
       "    </tr>\n",
       "  </thead>\n",
       "  <tbody>\n",
       "    <tr>\n",
       "      <th>0</th>\n",
       "      <td>3</td>\n",
       "      <td>0</td>\n",
       "    </tr>\n",
       "    <tr>\n",
       "      <th>1</th>\n",
       "      <td>1</td>\n",
       "      <td>1</td>\n",
       "    </tr>\n",
       "    <tr>\n",
       "      <th>2</th>\n",
       "      <td>3</td>\n",
       "      <td>1</td>\n",
       "    </tr>\n",
       "    <tr>\n",
       "      <th>3</th>\n",
       "      <td>1</td>\n",
       "      <td>1</td>\n",
       "    </tr>\n",
       "    <tr>\n",
       "      <th>4</th>\n",
       "      <td>3</td>\n",
       "      <td>0</td>\n",
       "    </tr>\n",
       "    <tr>\n",
       "      <th>...</th>\n",
       "      <td>...</td>\n",
       "      <td>...</td>\n",
       "    </tr>\n",
       "    <tr>\n",
       "      <th>886</th>\n",
       "      <td>2</td>\n",
       "      <td>0</td>\n",
       "    </tr>\n",
       "    <tr>\n",
       "      <th>887</th>\n",
       "      <td>1</td>\n",
       "      <td>1</td>\n",
       "    </tr>\n",
       "    <tr>\n",
       "      <th>888</th>\n",
       "      <td>3</td>\n",
       "      <td>0</td>\n",
       "    </tr>\n",
       "    <tr>\n",
       "      <th>889</th>\n",
       "      <td>1</td>\n",
       "      <td>1</td>\n",
       "    </tr>\n",
       "    <tr>\n",
       "      <th>890</th>\n",
       "      <td>3</td>\n",
       "      <td>0</td>\n",
       "    </tr>\n",
       "  </tbody>\n",
       "</table>\n",
       "<p>891 rows × 2 columns</p>\n",
       "</div>"
      ],
      "text/plain": [
       "     Pclass  Survived\n",
       "0         3         0\n",
       "1         1         1\n",
       "2         3         1\n",
       "3         1         1\n",
       "4         3         0\n",
       "..      ...       ...\n",
       "886       2         0\n",
       "887       1         1\n",
       "888       3         0\n",
       "889       1         1\n",
       "890       3         0\n",
       "\n",
       "[891 rows x 2 columns]"
      ]
     },
     "execution_count": 15,
     "metadata": {},
     "output_type": "execute_result"
    }
   ],
   "source": [
    "train_df[[\"Pclass\",\"Survived\"]]"
   ]
  },
  {
   "cell_type": "markdown",
   "id": "8dc73340",
   "metadata": {},
   "source": [
    "Data frame içerisinde bulunan diğer feature'leri yok sayarak sadece Pclass ve Survived 'ı elde ettik."
   ]
  },
  {
   "cell_type": "code",
   "execution_count": 16,
   "id": "02e8f94b",
   "metadata": {},
   "outputs": [
    {
     "data": {
      "text/html": [
       "<div>\n",
       "<style scoped>\n",
       "    .dataframe tbody tr th:only-of-type {\n",
       "        vertical-align: middle;\n",
       "    }\n",
       "\n",
       "    .dataframe tbody tr th {\n",
       "        vertical-align: top;\n",
       "    }\n",
       "\n",
       "    .dataframe thead th {\n",
       "        text-align: right;\n",
       "    }\n",
       "</style>\n",
       "<table border=\"1\" class=\"dataframe\">\n",
       "  <thead>\n",
       "    <tr style=\"text-align: right;\">\n",
       "      <th></th>\n",
       "      <th>Pclass</th>\n",
       "      <th>Survived</th>\n",
       "    </tr>\n",
       "  </thead>\n",
       "  <tbody>\n",
       "    <tr>\n",
       "      <th>0</th>\n",
       "      <td>1</td>\n",
       "      <td>0.629630</td>\n",
       "    </tr>\n",
       "    <tr>\n",
       "      <th>1</th>\n",
       "      <td>2</td>\n",
       "      <td>0.472826</td>\n",
       "    </tr>\n",
       "    <tr>\n",
       "      <th>2</th>\n",
       "      <td>3</td>\n",
       "      <td>0.242363</td>\n",
       "    </tr>\n",
       "  </tbody>\n",
       "</table>\n",
       "</div>"
      ],
      "text/plain": [
       "   Pclass  Survived\n",
       "0       1  0.629630\n",
       "1       2  0.472826\n",
       "2       3  0.242363"
      ]
     },
     "execution_count": 16,
     "metadata": {},
     "output_type": "execute_result"
    }
   ],
   "source": [
    "#Pclass vs survived \n",
    "#İnsanların sınıfları ile hayatta kalmaları arasında nasıl bir orantı olduğunu inceleyelim.\n",
    "\n",
    "train_df[[\"Pclass\",\"Survived\"]].groupby([\"Pclass\"], as_index=False).mean()"
   ]
  },
  {
   "cell_type": "markdown",
   "id": "c1f154d5",
   "metadata": {},
   "source": [
    " Pclass'ın survived'a olan etkisini görmek için Pclass ve survived'i içeren data frame'i Pclass'a göre groupby yaparız. groupby ile grupladıktan sonra neye göre yazdırma yapması gerektiğini belirtmeliyiz. Burada grupla ve ortalamasını göster dedik.\n",
    " \n",
    " Sonucu sıralı göstermek için şöyle yaparız:"
   ]
  },
  {
   "cell_type": "code",
   "execution_count": 17,
   "id": "c278652a",
   "metadata": {},
   "outputs": [
    {
     "data": {
      "text/html": [
       "<div>\n",
       "<style scoped>\n",
       "    .dataframe tbody tr th:only-of-type {\n",
       "        vertical-align: middle;\n",
       "    }\n",
       "\n",
       "    .dataframe tbody tr th {\n",
       "        vertical-align: top;\n",
       "    }\n",
       "\n",
       "    .dataframe thead th {\n",
       "        text-align: right;\n",
       "    }\n",
       "</style>\n",
       "<table border=\"1\" class=\"dataframe\">\n",
       "  <thead>\n",
       "    <tr style=\"text-align: right;\">\n",
       "      <th></th>\n",
       "      <th>Pclass</th>\n",
       "      <th>Survived</th>\n",
       "    </tr>\n",
       "  </thead>\n",
       "  <tbody>\n",
       "    <tr>\n",
       "      <th>0</th>\n",
       "      <td>1</td>\n",
       "      <td>0.629630</td>\n",
       "    </tr>\n",
       "    <tr>\n",
       "      <th>1</th>\n",
       "      <td>2</td>\n",
       "      <td>0.472826</td>\n",
       "    </tr>\n",
       "    <tr>\n",
       "      <th>2</th>\n",
       "      <td>3</td>\n",
       "      <td>0.242363</td>\n",
       "    </tr>\n",
       "  </tbody>\n",
       "</table>\n",
       "</div>"
      ],
      "text/plain": [
       "   Pclass  Survived\n",
       "0       1  0.629630\n",
       "1       2  0.472826\n",
       "2       3  0.242363"
      ]
     },
     "execution_count": 17,
     "metadata": {},
     "output_type": "execute_result"
    }
   ],
   "source": [
    "train_df[[\"Pclass\",\"Survived\"]].groupby([\"Pclass\"], as_index=False).mean().sort_values(by=\"Survived\",ascending=False)"
   ]
  },
  {
   "cell_type": "markdown",
   "id": "eb350ec0",
   "metadata": {},
   "source": [
    "Çıktıyı yorumlayalım. 1.sınıf kategoriye sahip yolcuların hayatta kalma olasılıklarının 0.62 olduğunu görüyoruz. Yani %62 olasılıkla 1.sınıftaki bir yolcu titanik gemi kazası sonucunda hayatta kalmış. 3.sınıfta kalan bir yolcu kaza sonucunda %24 olasılığında hayatta kalmış."
   ]
  },
  {
   "cell_type": "markdown",
   "id": "14a07718",
   "metadata": {},
   "source": [
    "Şimdide cinsiyet (Sex) ile hayatta kalma (Survived) oranı arasındaki ilişkiyi incceleyelim."
   ]
  },
  {
   "cell_type": "code",
   "execution_count": 18,
   "id": "7038d8fc",
   "metadata": {},
   "outputs": [
    {
     "data": {
      "text/html": [
       "<div>\n",
       "<style scoped>\n",
       "    .dataframe tbody tr th:only-of-type {\n",
       "        vertical-align: middle;\n",
       "    }\n",
       "\n",
       "    .dataframe tbody tr th {\n",
       "        vertical-align: top;\n",
       "    }\n",
       "\n",
       "    .dataframe thead th {\n",
       "        text-align: right;\n",
       "    }\n",
       "</style>\n",
       "<table border=\"1\" class=\"dataframe\">\n",
       "  <thead>\n",
       "    <tr style=\"text-align: right;\">\n",
       "      <th></th>\n",
       "      <th>Sex</th>\n",
       "      <th>Survived</th>\n",
       "    </tr>\n",
       "  </thead>\n",
       "  <tbody>\n",
       "    <tr>\n",
       "      <th>0</th>\n",
       "      <td>female</td>\n",
       "      <td>0.742038</td>\n",
       "    </tr>\n",
       "    <tr>\n",
       "      <th>1</th>\n",
       "      <td>male</td>\n",
       "      <td>0.188908</td>\n",
       "    </tr>\n",
       "  </tbody>\n",
       "</table>\n",
       "</div>"
      ],
      "text/plain": [
       "      Sex  Survived\n",
       "0  female  0.742038\n",
       "1    male  0.188908"
      ]
     },
     "execution_count": 18,
     "metadata": {},
     "output_type": "execute_result"
    }
   ],
   "source": [
    "#Sex vs survived\n",
    "\n",
    "train_df[[\"Sex\",\"Survived\"]].groupby([\"Sex\"], as_index=False).mean().sort_values(by=\"Survived\",ascending=False)"
   ]
  },
  {
   "cell_type": "markdown",
   "id": "e0c8082c",
   "metadata": {},
   "source": [
    "Çıktıyı yorumlayalım. Kadınlar %74 oranında hayatta kalmış ve erkekler %18 oranında hayatta kalmış. "
   ]
  },
  {
   "cell_type": "markdown",
   "id": "1df059d0",
   "metadata": {},
   "source": [
    "Şimdi de bir kadeşe veya eşe sahip olma durumu ile hayatta kalma arasındaki ilişkiyi inceleyelim."
   ]
  },
  {
   "cell_type": "code",
   "execution_count": 19,
   "id": "7d3e923c",
   "metadata": {},
   "outputs": [
    {
     "data": {
      "text/html": [
       "<div>\n",
       "<style scoped>\n",
       "    .dataframe tbody tr th:only-of-type {\n",
       "        vertical-align: middle;\n",
       "    }\n",
       "\n",
       "    .dataframe tbody tr th {\n",
       "        vertical-align: top;\n",
       "    }\n",
       "\n",
       "    .dataframe thead th {\n",
       "        text-align: right;\n",
       "    }\n",
       "</style>\n",
       "<table border=\"1\" class=\"dataframe\">\n",
       "  <thead>\n",
       "    <tr style=\"text-align: right;\">\n",
       "      <th></th>\n",
       "      <th>SibSp</th>\n",
       "      <th>Survived</th>\n",
       "    </tr>\n",
       "  </thead>\n",
       "  <tbody>\n",
       "    <tr>\n",
       "      <th>1</th>\n",
       "      <td>1</td>\n",
       "      <td>0.535885</td>\n",
       "    </tr>\n",
       "    <tr>\n",
       "      <th>2</th>\n",
       "      <td>2</td>\n",
       "      <td>0.464286</td>\n",
       "    </tr>\n",
       "    <tr>\n",
       "      <th>0</th>\n",
       "      <td>0</td>\n",
       "      <td>0.345395</td>\n",
       "    </tr>\n",
       "    <tr>\n",
       "      <th>3</th>\n",
       "      <td>3</td>\n",
       "      <td>0.250000</td>\n",
       "    </tr>\n",
       "    <tr>\n",
       "      <th>4</th>\n",
       "      <td>4</td>\n",
       "      <td>0.166667</td>\n",
       "    </tr>\n",
       "    <tr>\n",
       "      <th>5</th>\n",
       "      <td>5</td>\n",
       "      <td>0.000000</td>\n",
       "    </tr>\n",
       "    <tr>\n",
       "      <th>6</th>\n",
       "      <td>8</td>\n",
       "      <td>0.000000</td>\n",
       "    </tr>\n",
       "  </tbody>\n",
       "</table>\n",
       "</div>"
      ],
      "text/plain": [
       "   SibSp  Survived\n",
       "1      1  0.535885\n",
       "2      2  0.464286\n",
       "0      0  0.345395\n",
       "3      3  0.250000\n",
       "4      4  0.166667\n",
       "5      5  0.000000\n",
       "6      8  0.000000"
      ]
     },
     "execution_count": 19,
     "metadata": {},
     "output_type": "execute_result"
    }
   ],
   "source": [
    "#SibSp vs survived\n",
    "\n",
    "train_df[[\"SibSp\",\"Survived\"]].groupby([\"SibSp\"], as_index=False).mean().sort_values(by=\"Survived\",ascending=False)"
   ]
  },
  {
   "cell_type": "markdown",
   "id": "4144b5a0",
   "metadata": {},
   "source": [
    "Veri setinden SibSp ve Survived feature'lerini aldım. SibSp feature'sine göre gruplama yaptım. Ve hayatta kalmanın ortalamasına bakmak için mean() metodunu kullandım. Ve sonra ortalamayı azalan sırada çıktıya yansıttım.\n",
    "\n",
    "Çıktıyı yorumlayalım. Yanında 1 tane kardeşi ya da eşi olan yolcuların hayatta kalma olasılığı %53 ile en yüksek orana sahip. Yanında 2 kişi olanların hayatta kalma oranları %46, gemiye yalnız binenlerin hayatta kalma oranı %34 dür. Yanına 2 'den fazla kişi olanların hayatta kalma oranlarının çok daha az olduğu görülmektedir.\n",
    "\n",
    "Mesela bu çıktıdan yeni bir feature elde edebiliriz. 7 tane kategoriyi 2 tane kategoriye düşürelim. Bir tane threshold belirleriz. 2 sayısı threshold olsun. 2 ve 2'nin altındakileri bir gruba toplarım ve bunların hayatta kalma olasılıkları 2'den büyüklere göre çok daha yüksek olur.  "
   ]
  },
  {
   "cell_type": "code",
   "execution_count": 20,
   "id": "c75b33b1",
   "metadata": {},
   "outputs": [
    {
     "data": {
      "text/html": [
       "<div>\n",
       "<style scoped>\n",
       "    .dataframe tbody tr th:only-of-type {\n",
       "        vertical-align: middle;\n",
       "    }\n",
       "\n",
       "    .dataframe tbody tr th {\n",
       "        vertical-align: top;\n",
       "    }\n",
       "\n",
       "    .dataframe thead th {\n",
       "        text-align: right;\n",
       "    }\n",
       "</style>\n",
       "<table border=\"1\" class=\"dataframe\">\n",
       "  <thead>\n",
       "    <tr style=\"text-align: right;\">\n",
       "      <th></th>\n",
       "      <th>Parch</th>\n",
       "      <th>Survived</th>\n",
       "    </tr>\n",
       "  </thead>\n",
       "  <tbody>\n",
       "    <tr>\n",
       "      <th>3</th>\n",
       "      <td>3</td>\n",
       "      <td>0.600000</td>\n",
       "    </tr>\n",
       "    <tr>\n",
       "      <th>1</th>\n",
       "      <td>1</td>\n",
       "      <td>0.550847</td>\n",
       "    </tr>\n",
       "    <tr>\n",
       "      <th>2</th>\n",
       "      <td>2</td>\n",
       "      <td>0.500000</td>\n",
       "    </tr>\n",
       "    <tr>\n",
       "      <th>0</th>\n",
       "      <td>0</td>\n",
       "      <td>0.343658</td>\n",
       "    </tr>\n",
       "    <tr>\n",
       "      <th>5</th>\n",
       "      <td>5</td>\n",
       "      <td>0.200000</td>\n",
       "    </tr>\n",
       "    <tr>\n",
       "      <th>4</th>\n",
       "      <td>4</td>\n",
       "      <td>0.000000</td>\n",
       "    </tr>\n",
       "    <tr>\n",
       "      <th>6</th>\n",
       "      <td>6</td>\n",
       "      <td>0.000000</td>\n",
       "    </tr>\n",
       "  </tbody>\n",
       "</table>\n",
       "</div>"
      ],
      "text/plain": [
       "   Parch  Survived\n",
       "3      3  0.600000\n",
       "1      1  0.550847\n",
       "2      2  0.500000\n",
       "0      0  0.343658\n",
       "5      5  0.200000\n",
       "4      4  0.000000\n",
       "6      6  0.000000"
      ]
     },
     "execution_count": 20,
     "metadata": {},
     "output_type": "execute_result"
    }
   ],
   "source": [
    "#Parch vs survived\n",
    "\n",
    "train_df[[\"Parch\",\"Survived\"]].groupby([\"Parch\"], as_index=False).mean().sort_values(by=\"Survived\",ascending=False)"
   ]
  },
  {
   "cell_type": "markdown",
   "id": "49b02686",
   "metadata": {},
   "source": [
    "Parch ile Survived feature'lerini birleştirdim yani bir araya topladım. Sonrasında bunları Parch feature'sine göre grupladım ve sonra ortalamalarını aldım. Sonrada sonucu azalan sırada yazdırdım.\n",
    "\n",
    "Çıktıyı yorumlayalım. Yolcunun yanında ebeveyn veya çocuk olmak üzere 3 kişi var ise %60 oranında hayatta kalma durumu söz konusu. \n",
    "\n",
    "Parch değeri arttıkça yani 4, 5 ve 6 değerleri için görüldüğü üzere hayatta kalma olasılığı azalıyor. "
   ]
  },
  {
   "cell_type": "markdown",
   "id": "57a59264",
   "metadata": {},
   "source": [
    "Sonuç olarak, birbirleriyle alakasız feature'ler keşfedersek bunlardan yeni feature oluşturabiliriz. Ya da bunları ayrı ayrı kullanabiliriz. "
   ]
  },
  {
   "cell_type": "markdown",
   "id": "488b73d5",
   "metadata": {},
   "source": [
    "<font color = 'Orange'>\n",
    "4-OUTLIER DETECTION"
   ]
  },
  {
   "cell_type": "markdown",
   "id": "873a85f9",
   "metadata": {},
   "source": [
    "Outlier kavramını hatırlayalım. Mesela bir iş yerinde çalıştığınızı düşünün. Ve sırasıyla 1,4,5,6,8,9,11,12,13,14,15,16,17,100 şeklinde maaşlar var. Burdan outlier'ı yani ayrık olan sayıyı bulmaya çalışıcaz. \n",
    "\n",
    "Outlier detection şu yüzden önemli: Modeli düzgün bir şekilde eğitebilmemiz için istatistiksel anlamda belli başlı veriyi bozan ayrık değerlerden kurtulmamız gerekiyor. \n",
    "\n",
    "1,4,5,6,8,9,11,12,13,14,15,16,,17100 sayılarının ortalaması 52'dir. Patron çalışanlara verdiği ortalama maaşa göre zam yapıcak diyelim. Patron ortalamanın 52 olduğunu gördüğünde bu değer çok iyi olduğu için zam yapmaktan vazgeçer. Ama bu 52 değerini ortaya çıkartan 100 değeridir. Bu 100 sayısı outlier'dir. Yani kısacası istatistiksel anlamda veriyi bozan sample'leri outlier olarak adlandırabiliriz.\n",
    "\n",
    "Başka bir deyişle, öyle bir değer düşünün ki verinin geri kalan değerlerinden çok büyük ya da çok küçük. İşte bu değer outlier'dır.\n",
    "\n",
    "Peki outlier'ı çıkartmak neden önemli?: Çünkü bu durum istatistiksel anlamda karar vermemizi zorlaştırır. Mesela patron 50 değerini duyunca çalışanlarına verdiği maaşın iyi olduğunu ve zam yapmasına gerek olmadığını düşünecek. Ama bu 50 değerini elde etmemize sebep olan 100 değerinde maaşa sahip olan kişidir. Geri kalan çalışanların maaşı 50'den çok daha azdır. Buradaki outlier'ı tespit edip çıkarırsak ortalama 12 olur ve patron zam yapma kararı alır.\n",
    "\n",
    "Şimdi outlier'ı nasıl bulacağımıza bakalım.\n",
    "\n",
    "Öncelikle 1 st quartile = Q1 şeklinde bir tanım var.\n",
    "\n",
    "3 rd quartile = Q3\n",
    "\n",
    "Q1 ve Q3 quartile'leri tespit edebilmemiz için arada 2 nd quartile dediğimiz ve median olarak adlandırdığımız Q2 değeri var.\n",
    "\n",
    "Median: Listenin içerisinde bulunan sayıların ortasındaki sayıdır. Yukarıdaki listede, sağ tarafta 7 tane sol tarafta 7 tane sayı olacak şekilde konumlandığımızda ortadaki sayı 11.5'tir. 11.5 sayısı median değeridir. \n",
    "\n",
    "\n",
    "                      Median\n",
    "1  4  5  6  8  9  11   11.5   12  13  14  15  16  17  100\n",
    "\n",
    "Q1 değeri median ile 1 değeri arasındaki sayıların ortasındaki sayıdır. Bu durumda Q1=6 'dır.\n",
    "\n",
    "Q3 değeri ise median ile 100 değeri arasındaki sayıların ortasındaki sayıdır. Bu durumda Q3=15 'dir.\n",
    "\n",
    "IQR = Q3-Q1 = 9\n",
    "\n",
    "Bu 9 sayısını 1.5 ile çarpımı outlier tespitindeki adımımızdır.\n",
    "\n",
    "outlier = 9 x 1.5 = 13.5\n",
    "\n",
    "Şimdide:\n",
    "\n",
    "Q1 - 13.5             ya da       Q3 + 13.5\n",
    "\n",
    "6 - 13.5 = -7.5                   15 + 13.5 = 28.5\n",
    "\n",
    "Şimdi bu elde ettiğimiz değerleri listede sıralama açısından uygun yerlere yerleştirelim.\n",
    "\n",
    "-7.5  1  4  5  6  8  9  11   11.5   12  13  14  15  16  17  28.5  100\n",
    "\n",
    "Burada -7.5 ve 28.5 aralığın dışındaki sayılar outlier'dır. Burada bu aralığın dışında kalan sayı 100 dür ve 100 değerinin outlier olduğunu tespit etmiş olduk.\n",
    "\n",
    "Bu diziden sağlıklı istatistiksel sonuçlar çıkarabilmek için 100 sayısını listeden çıkarmamız gerekmektedir. Eğer outlier'ı yani 100 sayısını çıkartmazsak istatistiksel anlamda doğru bilgiler elde edemem. Dolayısıyla machine learning modelimizi doğru bir şekilde eğitemeyiz."
   ]
  },
  {
   "cell_type": "code",
   "execution_count": 21,
   "id": "1603cb79",
   "metadata": {},
   "outputs": [],
   "source": [
    "def detect_outliers(df,features):\n",
    "    outlier_indices = []\n",
    "    \n",
    "    for c in features:\n",
    "        # 1st quartile\n",
    "        Q1 = np.percentile(df[c],25)\n",
    "        \n",
    "        # 3rd quartile\n",
    "        Q3 = np.percentile(df[c],75)\n",
    "        \n",
    "        # IQR\n",
    "        IQR = Q3-Q1\n",
    "        \n",
    "        # Outlier step\n",
    "        outlier_step = IQR*1.5\n",
    "        \n",
    "        # detect outlier and their indeces\n",
    "        outlier_list_col = df[(df[c] < Q1-outlier_step) | (df[c] > Q3+outlier_step)].index \n",
    "        #Bir yukarıdaki kod ile outlier'ları içerisinde bulunduran bir data frame elde etmiş oluyoruz. Outlier'ların indeksini almak içinde .index yazarız.\n",
    "        \n",
    "        #store indeces (Bu adım ile amaçlanan, bulduğumuz indeksleri depolarız ve böylece daha sonradan bunları çıkarabiliriz)\n",
    "        outlier_indices.extend(outlier_list_col) #indeksleri outlier_indices'in içerisinde depolamış oldum. \n",
    "\n",
    "    outlier_indices = Counter(outlier_indices)  #Bu satır ile hangi yolcunun kaç tane outlier içerdiğini öğrenebiliriz.\n",
    "    \n",
    "    multiple_outliers = list(i for i, v in outlier_indices.items() if v > 2) #Eğer bir tane sample'de 2'den fazla outlier var ise bunu çıkartmak için indeksini tutarız. Ama bir tane outlier var ise çıkartmayız.\n",
    "    \n",
    "    return multiple_outliers"
   ]
  },
  {
   "cell_type": "markdown",
   "id": "918fb9de",
   "metadata": {},
   "source": [
    "Yukarıdaki kodu anlatalım. metod parametre olarak data frame'i ve outlier'ı detect etmek için kullanacağımız feature'leri alır.\n",
    "\n",
    "Sayısal değerler için outlier detection yaparız. Feature'leri bir for döngüsünde döndürerek tüm outlier'ları tespit ettik.\n",
    "\n",
    "Counter() metodu listenin içerisinde bulunan elemanların kaçar tane olduğunu hesaplar.\n",
    "\n",
    "Counter() metodunun sonucuna ihtiyacımız var çünkü bir yolcunun tek bir feature için outlier'ı var ise o yolcuyu çıkartmak çok doğru olmaz fakat birden fazla feature için outlier değeri var ise yolcuyu yani sample'ı çıkartmak gerekbilir."
   ]
  },
  {
   "cell_type": "code",
   "execution_count": 22,
   "id": "60658cdc",
   "metadata": {},
   "outputs": [
    {
     "data": {
      "text/html": [
       "<div>\n",
       "<style scoped>\n",
       "    .dataframe tbody tr th:only-of-type {\n",
       "        vertical-align: middle;\n",
       "    }\n",
       "\n",
       "    .dataframe tbody tr th {\n",
       "        vertical-align: top;\n",
       "    }\n",
       "\n",
       "    .dataframe thead th {\n",
       "        text-align: right;\n",
       "    }\n",
       "</style>\n",
       "<table border=\"1\" class=\"dataframe\">\n",
       "  <thead>\n",
       "    <tr style=\"text-align: right;\">\n",
       "      <th></th>\n",
       "      <th>PassengerId</th>\n",
       "      <th>Survived</th>\n",
       "      <th>Pclass</th>\n",
       "      <th>Name</th>\n",
       "      <th>Sex</th>\n",
       "      <th>Age</th>\n",
       "      <th>SibSp</th>\n",
       "      <th>Parch</th>\n",
       "      <th>Ticket</th>\n",
       "      <th>Fare</th>\n",
       "      <th>Cabin</th>\n",
       "      <th>Embarked</th>\n",
       "    </tr>\n",
       "  </thead>\n",
       "  <tbody>\n",
       "    <tr>\n",
       "      <th>27</th>\n",
       "      <td>28</td>\n",
       "      <td>0</td>\n",
       "      <td>1</td>\n",
       "      <td>Fortune, Mr. Charles Alexander</td>\n",
       "      <td>male</td>\n",
       "      <td>19.0</td>\n",
       "      <td>3</td>\n",
       "      <td>2</td>\n",
       "      <td>19950</td>\n",
       "      <td>263.00</td>\n",
       "      <td>C23 C25 C27</td>\n",
       "      <td>S</td>\n",
       "    </tr>\n",
       "    <tr>\n",
       "      <th>88</th>\n",
       "      <td>89</td>\n",
       "      <td>1</td>\n",
       "      <td>1</td>\n",
       "      <td>Fortune, Miss. Mabel Helen</td>\n",
       "      <td>female</td>\n",
       "      <td>23.0</td>\n",
       "      <td>3</td>\n",
       "      <td>2</td>\n",
       "      <td>19950</td>\n",
       "      <td>263.00</td>\n",
       "      <td>C23 C25 C27</td>\n",
       "      <td>S</td>\n",
       "    </tr>\n",
       "    <tr>\n",
       "      <th>159</th>\n",
       "      <td>160</td>\n",
       "      <td>0</td>\n",
       "      <td>3</td>\n",
       "      <td>Sage, Master. Thomas Henry</td>\n",
       "      <td>male</td>\n",
       "      <td>NaN</td>\n",
       "      <td>8</td>\n",
       "      <td>2</td>\n",
       "      <td>CA. 2343</td>\n",
       "      <td>69.55</td>\n",
       "      <td>NaN</td>\n",
       "      <td>S</td>\n",
       "    </tr>\n",
       "    <tr>\n",
       "      <th>180</th>\n",
       "      <td>181</td>\n",
       "      <td>0</td>\n",
       "      <td>3</td>\n",
       "      <td>Sage, Miss. Constance Gladys</td>\n",
       "      <td>female</td>\n",
       "      <td>NaN</td>\n",
       "      <td>8</td>\n",
       "      <td>2</td>\n",
       "      <td>CA. 2343</td>\n",
       "      <td>69.55</td>\n",
       "      <td>NaN</td>\n",
       "      <td>S</td>\n",
       "    </tr>\n",
       "    <tr>\n",
       "      <th>201</th>\n",
       "      <td>202</td>\n",
       "      <td>0</td>\n",
       "      <td>3</td>\n",
       "      <td>Sage, Mr. Frederick</td>\n",
       "      <td>male</td>\n",
       "      <td>NaN</td>\n",
       "      <td>8</td>\n",
       "      <td>2</td>\n",
       "      <td>CA. 2343</td>\n",
       "      <td>69.55</td>\n",
       "      <td>NaN</td>\n",
       "      <td>S</td>\n",
       "    </tr>\n",
       "    <tr>\n",
       "      <th>324</th>\n",
       "      <td>325</td>\n",
       "      <td>0</td>\n",
       "      <td>3</td>\n",
       "      <td>Sage, Mr. George John Jr</td>\n",
       "      <td>male</td>\n",
       "      <td>NaN</td>\n",
       "      <td>8</td>\n",
       "      <td>2</td>\n",
       "      <td>CA. 2343</td>\n",
       "      <td>69.55</td>\n",
       "      <td>NaN</td>\n",
       "      <td>S</td>\n",
       "    </tr>\n",
       "    <tr>\n",
       "      <th>341</th>\n",
       "      <td>342</td>\n",
       "      <td>1</td>\n",
       "      <td>1</td>\n",
       "      <td>Fortune, Miss. Alice Elizabeth</td>\n",
       "      <td>female</td>\n",
       "      <td>24.0</td>\n",
       "      <td>3</td>\n",
       "      <td>2</td>\n",
       "      <td>19950</td>\n",
       "      <td>263.00</td>\n",
       "      <td>C23 C25 C27</td>\n",
       "      <td>S</td>\n",
       "    </tr>\n",
       "    <tr>\n",
       "      <th>792</th>\n",
       "      <td>793</td>\n",
       "      <td>0</td>\n",
       "      <td>3</td>\n",
       "      <td>Sage, Miss. Stella Anna</td>\n",
       "      <td>female</td>\n",
       "      <td>NaN</td>\n",
       "      <td>8</td>\n",
       "      <td>2</td>\n",
       "      <td>CA. 2343</td>\n",
       "      <td>69.55</td>\n",
       "      <td>NaN</td>\n",
       "      <td>S</td>\n",
       "    </tr>\n",
       "    <tr>\n",
       "      <th>846</th>\n",
       "      <td>847</td>\n",
       "      <td>0</td>\n",
       "      <td>3</td>\n",
       "      <td>Sage, Mr. Douglas Bullen</td>\n",
       "      <td>male</td>\n",
       "      <td>NaN</td>\n",
       "      <td>8</td>\n",
       "      <td>2</td>\n",
       "      <td>CA. 2343</td>\n",
       "      <td>69.55</td>\n",
       "      <td>NaN</td>\n",
       "      <td>S</td>\n",
       "    </tr>\n",
       "    <tr>\n",
       "      <th>863</th>\n",
       "      <td>864</td>\n",
       "      <td>0</td>\n",
       "      <td>3</td>\n",
       "      <td>Sage, Miss. Dorothy Edith \"Dolly\"</td>\n",
       "      <td>female</td>\n",
       "      <td>NaN</td>\n",
       "      <td>8</td>\n",
       "      <td>2</td>\n",
       "      <td>CA. 2343</td>\n",
       "      <td>69.55</td>\n",
       "      <td>NaN</td>\n",
       "      <td>S</td>\n",
       "    </tr>\n",
       "  </tbody>\n",
       "</table>\n",
       "</div>"
      ],
      "text/plain": [
       "     PassengerId  Survived  Pclass                               Name     Sex  \\\n",
       "27            28         0       1     Fortune, Mr. Charles Alexander    male   \n",
       "88            89         1       1         Fortune, Miss. Mabel Helen  female   \n",
       "159          160         0       3         Sage, Master. Thomas Henry    male   \n",
       "180          181         0       3       Sage, Miss. Constance Gladys  female   \n",
       "201          202         0       3                Sage, Mr. Frederick    male   \n",
       "324          325         0       3           Sage, Mr. George John Jr    male   \n",
       "341          342         1       1     Fortune, Miss. Alice Elizabeth  female   \n",
       "792          793         0       3            Sage, Miss. Stella Anna  female   \n",
       "846          847         0       3           Sage, Mr. Douglas Bullen    male   \n",
       "863          864         0       3  Sage, Miss. Dorothy Edith \"Dolly\"  female   \n",
       "\n",
       "      Age  SibSp  Parch    Ticket    Fare        Cabin Embarked  \n",
       "27   19.0      3      2     19950  263.00  C23 C25 C27        S  \n",
       "88   23.0      3      2     19950  263.00  C23 C25 C27        S  \n",
       "159   NaN      8      2  CA. 2343   69.55          NaN        S  \n",
       "180   NaN      8      2  CA. 2343   69.55          NaN        S  \n",
       "201   NaN      8      2  CA. 2343   69.55          NaN        S  \n",
       "324   NaN      8      2  CA. 2343   69.55          NaN        S  \n",
       "341  24.0      3      2     19950  263.00  C23 C25 C27        S  \n",
       "792   NaN      8      2  CA. 2343   69.55          NaN        S  \n",
       "846   NaN      8      2  CA. 2343   69.55          NaN        S  \n",
       "863   NaN      8      2  CA. 2343   69.55          NaN        S  "
      ]
     },
     "execution_count": 22,
     "metadata": {},
     "output_type": "execute_result"
    }
   ],
   "source": [
    "train_df.loc[detect_outliers(train_df,[\"Age\",\"SibSp\",\"Parch\",\"Fare\"])]  #outlier'ları tespit etmek istediğimiz feature'leri yazdık."
   ]
  },
  {
   "cell_type": "markdown",
   "id": "92c75508",
   "metadata": {},
   "source": [
    "Çıktıda outlier'ları görüyoruz. "
   ]
  },
  {
   "cell_type": "markdown",
   "id": "1ba2d87e",
   "metadata": {},
   "source": [
    "Şimdide outlier'ları kaldıralım."
   ]
  },
  {
   "cell_type": "code",
   "execution_count": 23,
   "id": "c346b0d2",
   "metadata": {},
   "outputs": [],
   "source": [
    "train_df = train_df.drop(detect_outliers(train_df,[\"Age\",\"SibSp\",\"Parch\",\"Fare\"]),axis=0).reset_index(drop=True)"
   ]
  },
  {
   "cell_type": "markdown",
   "id": "f844b5c5",
   "metadata": {},
   "source": [
    "<font color = 'Orange'>\n",
    "5-MISSING VALUE"
   ]
  },
  {
   "cell_type": "markdown",
   "id": "8f4bf6ad",
   "metadata": {},
   "source": [
    "Veri setinde non value olarak adlandırabileceğimiz missing yani boş değerlere bakıcaz. Boş değerleri herhangi bir machine learning modelini eğitmek için kullanamayacağımıza göre onlardan nasıl kurtulacağımıza veya onları nasıl dolduracağımıza bakalım.\n",
    "\n",
    "Missing value içerisinde iki tane alt başlık bulunmakta:\n",
    "\n",
    "<font color = 'Red'>\n",
    "    🟢 Find Missing Value\n",
    "    \n",
    "<font color = 'Red'>    \n",
    "   🟢 Fill Missing Value"
   ]
  },
  {
   "cell_type": "markdown",
   "id": "ecd0ea45",
   "metadata": {},
   "source": [
    "Missing value'leri bulmadan önce data frame'leri birleştirmemiz gerek. Data frame'leri birleştirmekten kasıt şudur: bir train_df miz var. Birde test_df miz var. Missing value'leri atabilmek ya da onları doldurabilmek için test data frame'in içerisindeki değerlerede bbakmalıyız. Çünkü eğer missing value'leri sadece train data frame'inde doldurursak bunların machine learning'te eğitimini gerçekleştirdiğimiz zaman bu machine learning modelimiz test data frame'in içerisindeki boş değerleri gördüğü zaman hata verecektir, bunları tanıyamayacaktır. Bu nedenle train ve test data frame'lerini birleştiricez ve daha sonrada missing value problemini ortadan kaldırıcaz."
   ]
  },
  {
   "cell_type": "code",
   "execution_count": 24,
   "id": "6400b358",
   "metadata": {},
   "outputs": [],
   "source": [
    "train_df_len = len(train_df)\n",
    "train_df = pd.concat([train_df,test_df],axis=0).reset_index(drop=True)  #Yukarıdan aşşağıya train_df ve test_df'yi birleştirdik."
   ]
  },
  {
   "cell_type": "code",
   "execution_count": 25,
   "id": "8718d687",
   "metadata": {},
   "outputs": [
    {
     "data": {
      "text/html": [
       "<div>\n",
       "<style scoped>\n",
       "    .dataframe tbody tr th:only-of-type {\n",
       "        vertical-align: middle;\n",
       "    }\n",
       "\n",
       "    .dataframe tbody tr th {\n",
       "        vertical-align: top;\n",
       "    }\n",
       "\n",
       "    .dataframe thead th {\n",
       "        text-align: right;\n",
       "    }\n",
       "</style>\n",
       "<table border=\"1\" class=\"dataframe\">\n",
       "  <thead>\n",
       "    <tr style=\"text-align: right;\">\n",
       "      <th></th>\n",
       "      <th>PassengerId</th>\n",
       "      <th>Survived</th>\n",
       "      <th>Pclass</th>\n",
       "      <th>Name</th>\n",
       "      <th>Sex</th>\n",
       "      <th>Age</th>\n",
       "      <th>SibSp</th>\n",
       "      <th>Parch</th>\n",
       "      <th>Ticket</th>\n",
       "      <th>Fare</th>\n",
       "      <th>Cabin</th>\n",
       "      <th>Embarked</th>\n",
       "    </tr>\n",
       "  </thead>\n",
       "  <tbody>\n",
       "    <tr>\n",
       "      <th>0</th>\n",
       "      <td>1</td>\n",
       "      <td>0.0</td>\n",
       "      <td>3</td>\n",
       "      <td>Braund, Mr. Owen Harris</td>\n",
       "      <td>male</td>\n",
       "      <td>22.0</td>\n",
       "      <td>1</td>\n",
       "      <td>0</td>\n",
       "      <td>A/5 21171</td>\n",
       "      <td>7.2500</td>\n",
       "      <td>NaN</td>\n",
       "      <td>S</td>\n",
       "    </tr>\n",
       "    <tr>\n",
       "      <th>1</th>\n",
       "      <td>2</td>\n",
       "      <td>1.0</td>\n",
       "      <td>1</td>\n",
       "      <td>Cumings, Mrs. John Bradley (Florence Briggs Th...</td>\n",
       "      <td>female</td>\n",
       "      <td>38.0</td>\n",
       "      <td>1</td>\n",
       "      <td>0</td>\n",
       "      <td>PC 17599</td>\n",
       "      <td>71.2833</td>\n",
       "      <td>C85</td>\n",
       "      <td>C</td>\n",
       "    </tr>\n",
       "    <tr>\n",
       "      <th>2</th>\n",
       "      <td>3</td>\n",
       "      <td>1.0</td>\n",
       "      <td>3</td>\n",
       "      <td>Heikkinen, Miss. Laina</td>\n",
       "      <td>female</td>\n",
       "      <td>26.0</td>\n",
       "      <td>0</td>\n",
       "      <td>0</td>\n",
       "      <td>STON/O2. 3101282</td>\n",
       "      <td>7.9250</td>\n",
       "      <td>NaN</td>\n",
       "      <td>S</td>\n",
       "    </tr>\n",
       "    <tr>\n",
       "      <th>3</th>\n",
       "      <td>4</td>\n",
       "      <td>1.0</td>\n",
       "      <td>1</td>\n",
       "      <td>Futrelle, Mrs. Jacques Heath (Lily May Peel)</td>\n",
       "      <td>female</td>\n",
       "      <td>35.0</td>\n",
       "      <td>1</td>\n",
       "      <td>0</td>\n",
       "      <td>113803</td>\n",
       "      <td>53.1000</td>\n",
       "      <td>C123</td>\n",
       "      <td>S</td>\n",
       "    </tr>\n",
       "    <tr>\n",
       "      <th>4</th>\n",
       "      <td>5</td>\n",
       "      <td>0.0</td>\n",
       "      <td>3</td>\n",
       "      <td>Allen, Mr. William Henry</td>\n",
       "      <td>male</td>\n",
       "      <td>35.0</td>\n",
       "      <td>0</td>\n",
       "      <td>0</td>\n",
       "      <td>373450</td>\n",
       "      <td>8.0500</td>\n",
       "      <td>NaN</td>\n",
       "      <td>S</td>\n",
       "    </tr>\n",
       "  </tbody>\n",
       "</table>\n",
       "</div>"
      ],
      "text/plain": [
       "   PassengerId  Survived  Pclass  \\\n",
       "0            1       0.0       3   \n",
       "1            2       1.0       1   \n",
       "2            3       1.0       3   \n",
       "3            4       1.0       1   \n",
       "4            5       0.0       3   \n",
       "\n",
       "                                                Name     Sex   Age  SibSp  \\\n",
       "0                            Braund, Mr. Owen Harris    male  22.0      1   \n",
       "1  Cumings, Mrs. John Bradley (Florence Briggs Th...  female  38.0      1   \n",
       "2                             Heikkinen, Miss. Laina  female  26.0      0   \n",
       "3       Futrelle, Mrs. Jacques Heath (Lily May Peel)  female  35.0      1   \n",
       "4                           Allen, Mr. William Henry    male  35.0      0   \n",
       "\n",
       "   Parch            Ticket     Fare Cabin Embarked  \n",
       "0      0         A/5 21171   7.2500   NaN        S  \n",
       "1      0          PC 17599  71.2833   C85        C  \n",
       "2      0  STON/O2. 3101282   7.9250   NaN        S  \n",
       "3      0            113803  53.1000  C123        S  \n",
       "4      0            373450   8.0500   NaN        S  "
      ]
     },
     "execution_count": 25,
     "metadata": {},
     "output_type": "execute_result"
    }
   ],
   "source": [
    "train_df.head()"
   ]
  },
  {
   "cell_type": "markdown",
   "id": "e3dd6c59",
   "metadata": {},
   "source": [
    "## Find Missing Value"
   ]
  },
  {
   "cell_type": "code",
   "execution_count": 26,
   "id": "81e4eab2",
   "metadata": {},
   "outputs": [
    {
     "data": {
      "text/plain": [
       "Index(['Survived', 'Age', 'Fare', 'Cabin', 'Embarked'], dtype='object')"
      ]
     },
     "execution_count": 26,
     "metadata": {},
     "output_type": "execute_result"
    }
   ],
   "source": [
    "train_df.columns[train_df.isnull().any()]"
   ]
  },
  {
   "cell_type": "markdown",
   "id": "d6ee85d3",
   "metadata": {},
   "source": [
    "train data frame'in içerisinde herhangi bir null değere sahip olup olmadığını bulduk ve hangi feature'lerde missing value olduğunu tespit ettik. \n",
    "\n",
    "Çıktıda missing value'lerin hangi feature'lerde olduğunu görebiliriz. Birde kaç tane olduğunu öğrenelim."
   ]
  },
  {
   "cell_type": "code",
   "execution_count": 27,
   "id": "02f24d42",
   "metadata": {},
   "outputs": [
    {
     "data": {
      "text/plain": [
       "PassengerId       0\n",
       "Survived        418\n",
       "Pclass            0\n",
       "Name              0\n",
       "Sex               0\n",
       "Age             256\n",
       "SibSp             0\n",
       "Parch             0\n",
       "Ticket            0\n",
       "Fare              1\n",
       "Cabin          1007\n",
       "Embarked          2\n",
       "dtype: int64"
      ]
     },
     "execution_count": 27,
     "metadata": {},
     "output_type": "execute_result"
    }
   ],
   "source": [
    "train_df.isnull().sum()"
   ]
  },
  {
   "cell_type": "markdown",
   "id": "91cff846",
   "metadata": {},
   "source": [
    "256 tane sample'de age ile ilgili feature boş. Yani 256 tane yolcunun yaş değeri bilinmiyor. 1007 tane yolcunun Cabin bilgisine sahip değiliz. 2 tane yolcunun hangi limandan (Embarked) bindiğini bilmiyoruz. 1 tane yolcunun biletini ne kadar fiyata satın aldığını (Fare) bilmiyoruz. 418 yolcununda hayatta kalıp kalmadığını bilmiyoruz. \n",
    "\n",
    "Survived 'a karşılık gelen 418 değeri test data frame'in boyutuna eşit oluyor çünkü 418 adet bilinmemesi onun test veri seti olmasından kaynaklı."
   ]
  },
  {
   "cell_type": "markdown",
   "id": "03b547b5",
   "metadata": {},
   "source": [
    "## Fill Missing Value"
   ]
  },
  {
   "cell_type": "markdown",
   "id": "1a2753a3",
   "metadata": {},
   "source": [
    "Embarked ve Fare feature'lerinin missing value'lerini dolduralım.\n",
    "\n",
    "Missing value'leri doldurmak yerine train veri setinden çıkartmak isteyebiliriz ama veriyi kaybetmektense doldurmak tercihimizdir."
   ]
  },
  {
   "cell_type": "code",
   "execution_count": 28,
   "id": "72a293d4",
   "metadata": {},
   "outputs": [
    {
     "data": {
      "text/html": [
       "<div>\n",
       "<style scoped>\n",
       "    .dataframe tbody tr th:only-of-type {\n",
       "        vertical-align: middle;\n",
       "    }\n",
       "\n",
       "    .dataframe tbody tr th {\n",
       "        vertical-align: top;\n",
       "    }\n",
       "\n",
       "    .dataframe thead th {\n",
       "        text-align: right;\n",
       "    }\n",
       "</style>\n",
       "<table border=\"1\" class=\"dataframe\">\n",
       "  <thead>\n",
       "    <tr style=\"text-align: right;\">\n",
       "      <th></th>\n",
       "      <th>PassengerId</th>\n",
       "      <th>Survived</th>\n",
       "      <th>Pclass</th>\n",
       "      <th>Name</th>\n",
       "      <th>Sex</th>\n",
       "      <th>Age</th>\n",
       "      <th>SibSp</th>\n",
       "      <th>Parch</th>\n",
       "      <th>Ticket</th>\n",
       "      <th>Fare</th>\n",
       "      <th>Cabin</th>\n",
       "      <th>Embarked</th>\n",
       "    </tr>\n",
       "  </thead>\n",
       "  <tbody>\n",
       "    <tr>\n",
       "      <th>60</th>\n",
       "      <td>62</td>\n",
       "      <td>1.0</td>\n",
       "      <td>1</td>\n",
       "      <td>Icard, Miss. Amelie</td>\n",
       "      <td>female</td>\n",
       "      <td>38.0</td>\n",
       "      <td>0</td>\n",
       "      <td>0</td>\n",
       "      <td>113572</td>\n",
       "      <td>80.0</td>\n",
       "      <td>B28</td>\n",
       "      <td>NaN</td>\n",
       "    </tr>\n",
       "    <tr>\n",
       "      <th>821</th>\n",
       "      <td>830</td>\n",
       "      <td>1.0</td>\n",
       "      <td>1</td>\n",
       "      <td>Stone, Mrs. George Nelson (Martha Evelyn)</td>\n",
       "      <td>female</td>\n",
       "      <td>62.0</td>\n",
       "      <td>0</td>\n",
       "      <td>0</td>\n",
       "      <td>113572</td>\n",
       "      <td>80.0</td>\n",
       "      <td>B28</td>\n",
       "      <td>NaN</td>\n",
       "    </tr>\n",
       "  </tbody>\n",
       "</table>\n",
       "</div>"
      ],
      "text/plain": [
       "     PassengerId  Survived  Pclass                                       Name  \\\n",
       "60            62       1.0       1                        Icard, Miss. Amelie   \n",
       "821          830       1.0       1  Stone, Mrs. George Nelson (Martha Evelyn)   \n",
       "\n",
       "        Sex   Age  SibSp  Parch  Ticket  Fare Cabin Embarked  \n",
       "60   female  38.0      0      0  113572  80.0   B28      NaN  \n",
       "821  female  62.0      0      0  113572  80.0   B28      NaN  "
      ]
     },
     "execution_count": 28,
     "metadata": {},
     "output_type": "execute_result"
    }
   ],
   "source": [
    "train_df[train_df[\"Embarked\"].isnull()]"
   ]
  },
  {
   "cell_type": "markdown",
   "id": "9a2b7e53",
   "metadata": {},
   "source": [
    "Çıktıda görüldüğü üzere, 60 ve 821. id 'lere sahip iki yolcunun nereden bindikleri belli değil. Bunu Embarked sütunundaki değerlerin NaN olmasından anladık. \n",
    "\n",
    "Bu NaN değerleri şunlara göre doldurabiliriz:\n",
    "\n",
    "Pclass feature'sini baz alarak 1.sınıfa ait yolcuların hangi limandan bindiğine bakarız ve elde ettiğimiz bilgi ile Embarked feature'sindeki NaN değerleri doldurabiliriz.\n",
    "\n",
    "Fare feature'si baz alınarak ta doldurma işlemi yapılabilir. Aşağı yukarı 80.0 para ödeyen insanların hangi limandan bindiklerine bakarız ve ona göre Embarked featuresindeki NaN değerleri doldurabiliriz.\n",
    "\n",
    "Fare feature'sini kullanarak analiz yapalım."
   ]
  },
  {
   "cell_type": "code",
   "execution_count": 29,
   "id": "54b55541",
   "metadata": {},
   "outputs": [
    {
     "data": {
      "image/png": "[encoded data removed]",
      "text/plain": [
       "<Figure size 432x288 with 1 Axes>"
      ]
     },
     "metadata": {},
     "output_type": "display_data"
    }
   ],
   "source": [
    "train_df.boxplot(column=\"Fare\",by=\"Embarked\")\n",
    "plt.show()"
   ]
  },
  {
   "cell_type": "markdown",
   "id": "2dee746a",
   "metadata": {},
   "source": [
    "Medyan değerleri her bir dikdörtgenin ortasındaki çizgidir. C'nin ortasındaki çizgi 100 değerine yakın. Q'daki meydan değeri çok düşük bu durumda bunların ödedikleri para çok az ve dolayısıyla bunların sahip oldukları cabin'ler ve Pclass değerleri çok düşük yani bunlar büyük ihtimalle 3.sınıfta seyahat eden yolculardır ve bunlar genellikle Q limanından binmişler. S 'nin medyan değeri C'ye göre daha düşüktür ve bunun anlamı S limanından binen yolcular büyük ihtimal 2.sınıfta seyahat edenlerdir. \n",
    "\n",
    "Embarked değeri NaN olan iki yolcunun Fare değerleri 80 miş. 80'e en yakın C dir ve bu durumda C limanından binmiş olma olasılıkları çok yüksektir. Dolayısıyla bu iki yolcunun Embarked değerlerini C olarak doldurabiliriz."
   ]
  },
  {
   "cell_type": "code",
   "execution_count": 30,
   "id": "9dabbb73",
   "metadata": {},
   "outputs": [],
   "source": [
    "train_df[\"Embarked\"] = train_df[\"Embarked\"].fillna(\"C\")"
   ]
  },
  {
   "cell_type": "markdown",
   "id": "0c675946",
   "metadata": {},
   "source": [
    "Yukarıdaki kod ile boş olan Embarked değerlerinin C ile doldurulması sağlanmıştır."
   ]
  },
  {
   "cell_type": "markdown",
   "id": "9d90f1a3",
   "metadata": {},
   "source": [
    "Şimdi doldurabilmişmiyiz kontrol edelim."
   ]
  },
  {
   "cell_type": "code",
   "execution_count": 31,
   "id": "42cbeee4",
   "metadata": {},
   "outputs": [
    {
     "data": {
      "text/html": [
       "<div>\n",
       "<style scoped>\n",
       "    .dataframe tbody tr th:only-of-type {\n",
       "        vertical-align: middle;\n",
       "    }\n",
       "\n",
       "    .dataframe tbody tr th {\n",
       "        vertical-align: top;\n",
       "    }\n",
       "\n",
       "    .dataframe thead th {\n",
       "        text-align: right;\n",
       "    }\n",
       "</style>\n",
       "<table border=\"1\" class=\"dataframe\">\n",
       "  <thead>\n",
       "    <tr style=\"text-align: right;\">\n",
       "      <th></th>\n",
       "      <th>PassengerId</th>\n",
       "      <th>Survived</th>\n",
       "      <th>Pclass</th>\n",
       "      <th>Name</th>\n",
       "      <th>Sex</th>\n",
       "      <th>Age</th>\n",
       "      <th>SibSp</th>\n",
       "      <th>Parch</th>\n",
       "      <th>Ticket</th>\n",
       "      <th>Fare</th>\n",
       "      <th>Cabin</th>\n",
       "      <th>Embarked</th>\n",
       "    </tr>\n",
       "  </thead>\n",
       "  <tbody>\n",
       "  </tbody>\n",
       "</table>\n",
       "</div>"
      ],
      "text/plain": [
       "Empty DataFrame\n",
       "Columns: [PassengerId, Survived, Pclass, Name, Sex, Age, SibSp, Parch, Ticket, Fare, Cabin, Embarked]\n",
       "Index: []"
      ]
     },
     "execution_count": 31,
     "metadata": {},
     "output_type": "execute_result"
    }
   ],
   "source": [
    "train_df[train_df[\"Embarked\"].isnull()]"
   ]
  },
  {
   "cell_type": "markdown",
   "id": "dbb1bcaf",
   "metadata": {},
   "source": [
    "Çıktıda görüldüğü üzere artık Embarked feature'sinde herhangi bir boş değer bulunmamaktadır."
   ]
  },
  {
   "cell_type": "markdown",
   "id": "a2255cb9",
   "metadata": {},
   "source": [
    "Şimdide hangi yolcumuzun Fare değerinin olmadığına bakalım. "
   ]
  },
  {
   "cell_type": "code",
   "execution_count": 32,
   "id": "7534efde",
   "metadata": {},
   "outputs": [
    {
     "data": {
      "text/html": [
       "<div>\n",
       "<style scoped>\n",
       "    .dataframe tbody tr th:only-of-type {\n",
       "        vertical-align: middle;\n",
       "    }\n",
       "\n",
       "    .dataframe tbody tr th {\n",
       "        vertical-align: top;\n",
       "    }\n",
       "\n",
       "    .dataframe thead th {\n",
       "        text-align: right;\n",
       "    }\n",
       "</style>\n",
       "<table border=\"1\" class=\"dataframe\">\n",
       "  <thead>\n",
       "    <tr style=\"text-align: right;\">\n",
       "      <th></th>\n",
       "      <th>PassengerId</th>\n",
       "      <th>Survived</th>\n",
       "      <th>Pclass</th>\n",
       "      <th>Name</th>\n",
       "      <th>Sex</th>\n",
       "      <th>Age</th>\n",
       "      <th>SibSp</th>\n",
       "      <th>Parch</th>\n",
       "      <th>Ticket</th>\n",
       "      <th>Fare</th>\n",
       "      <th>Cabin</th>\n",
       "      <th>Embarked</th>\n",
       "    </tr>\n",
       "  </thead>\n",
       "  <tbody>\n",
       "    <tr>\n",
       "      <th>1033</th>\n",
       "      <td>1044</td>\n",
       "      <td>NaN</td>\n",
       "      <td>3</td>\n",
       "      <td>Storey, Mr. Thomas</td>\n",
       "      <td>male</td>\n",
       "      <td>60.5</td>\n",
       "      <td>0</td>\n",
       "      <td>0</td>\n",
       "      <td>3701</td>\n",
       "      <td>NaN</td>\n",
       "      <td>NaN</td>\n",
       "      <td>S</td>\n",
       "    </tr>\n",
       "  </tbody>\n",
       "</table>\n",
       "</div>"
      ],
      "text/plain": [
       "      PassengerId  Survived  Pclass                Name   Sex   Age  SibSp  \\\n",
       "1033         1044       NaN       3  Storey, Mr. Thomas  male  60.5      0   \n",
       "\n",
       "      Parch Ticket  Fare Cabin Embarked  \n",
       "1033      0   3701   NaN   NaN        S  "
      ]
     },
     "execution_count": 32,
     "metadata": {},
     "output_type": "execute_result"
    }
   ],
   "source": [
    "train_df[train_df[\"Fare\"].isnull()]"
   ]
  },
  {
   "cell_type": "markdown",
   "id": "07006c15",
   "metadata": {},
   "source": [
    "1033 nolu yolcunun Fare değeri yok yani bu yolcunun ne kadar para ödediğini bilmiyoruz. \n",
    "\n",
    "Burda yola çıkabileceğimiz iki tane featur var. Birincisi hangi limandan bindiği (Embarked) ve diğeri sınıfı (Pclass).\n",
    "\n",
    "Pclass featuresinden yola çıkalım."
   ]
  },
  {
   "cell_type": "code",
   "execution_count": 33,
   "id": "0ad89155",
   "metadata": {},
   "outputs": [
    {
     "data": {
      "text/plain": [
       "12.741219971469327"
      ]
     },
     "execution_count": 33,
     "metadata": {},
     "output_type": "execute_result"
    }
   ],
   "source": [
    "np.mean(train_df[train_df[\"Pclass\"]==3][\"Fare\"])"
   ]
  },
  {
   "cell_type": "markdown",
   "id": "8414efd1",
   "metadata": {},
   "source": [
    "Pclass'ı 3 değerine sahip olan yolcuları listeledik. Bunu kullanarak sadece Fare 'e baktık. Ve bunların ortalamasını aldık. Böylece 3.sınıfta seyahat eden yolcuların ortalama ne kadar ödedikleri bilgisini elde ettik.\n",
    "\n",
    "Ortalama 12.7 tutarında ödeme yapmışlar. Şimdi Fare featuresindeki NaN değerleri 12.7 ile dolduralım."
   ]
  },
  {
   "cell_type": "code",
   "execution_count": 34,
   "id": "9b7abae6",
   "metadata": {},
   "outputs": [],
   "source": [
    "train_df[\"Fare\"] = train_df[\"Fare\"].fillna(np.mean(train_df[train_df[\"Pclass\"]==3][\"Fare\"]))"
   ]
  },
  {
   "cell_type": "code",
   "execution_count": 35,
   "id": "00c3e31e",
   "metadata": {},
   "outputs": [
    {
     "data": {
      "text/html": [
       "<div>\n",
       "<style scoped>\n",
       "    .dataframe tbody tr th:only-of-type {\n",
       "        vertical-align: middle;\n",
       "    }\n",
       "\n",
       "    .dataframe tbody tr th {\n",
       "        vertical-align: top;\n",
       "    }\n",
       "\n",
       "    .dataframe thead th {\n",
       "        text-align: right;\n",
       "    }\n",
       "</style>\n",
       "<table border=\"1\" class=\"dataframe\">\n",
       "  <thead>\n",
       "    <tr style=\"text-align: right;\">\n",
       "      <th></th>\n",
       "      <th>PassengerId</th>\n",
       "      <th>Survived</th>\n",
       "      <th>Pclass</th>\n",
       "      <th>Name</th>\n",
       "      <th>Sex</th>\n",
       "      <th>Age</th>\n",
       "      <th>SibSp</th>\n",
       "      <th>Parch</th>\n",
       "      <th>Ticket</th>\n",
       "      <th>Fare</th>\n",
       "      <th>Cabin</th>\n",
       "      <th>Embarked</th>\n",
       "    </tr>\n",
       "  </thead>\n",
       "  <tbody>\n",
       "  </tbody>\n",
       "</table>\n",
       "</div>"
      ],
      "text/plain": [
       "Empty DataFrame\n",
       "Columns: [PassengerId, Survived, Pclass, Name, Sex, Age, SibSp, Parch, Ticket, Fare, Cabin, Embarked]\n",
       "Index: []"
      ]
     },
     "execution_count": 35,
     "metadata": {},
     "output_type": "execute_result"
    }
   ],
   "source": [
    "train_df[train_df[\"Fare\"].isnull()]"
   ]
  },
  {
   "cell_type": "markdown",
   "id": "866de1a4",
   "metadata": {},
   "source": [
    "Çıktıda görüldüğü üzere artık Fare featuresinde herhangi bir boş değer bulunmamaktadır."
   ]
  },
  {
   "cell_type": "markdown",
   "id": "10463725",
   "metadata": {},
   "source": [
    "Buraya kadar olan kısmı DataScience isimli repository'de bulunan TitanicProject dökümanında gerçekleştirmiştim. Şimdi ise Titanik projesine Data Visualization konularını uyarlayarak devam edelim."
   ]
  },
  {
   "cell_type": "markdown",
   "id": "e98fe1d1",
   "metadata": {},
   "source": [
    "# VISUALIZATION"
   ]
  },
  {
   "cell_type": "markdown",
   "id": "2c8a2ae3",
   "metadata": {},
   "source": [
    "## Korelasyon Matrisi"
   ]
  },
  {
   "cell_type": "markdown",
   "id": "3459d0a5",
   "metadata": {},
   "source": [
    "SibSp, Parch, Age, Fare, Survived sütunları arasındaki korelasyon matrisini oluşturalım. Bunun için Seaborn kütüphanesinden faydalanacağız."
   ]
  },
  {
   "cell_type": "code",
   "execution_count": 36,
   "id": "2ac792cb",
   "metadata": {},
   "outputs": [
    {
     "data": {
      "image/png": "[encoded data removed]",
      "text/plain": [
       "<Figure size 432x288 with 2 Axes>"
      ]
     },
     "metadata": {},
     "output_type": "display_data"
    }
   ],
   "source": [
    "list1 = [\"SibSp\", \"Parch\", \"Age\", \"Fare\", \"Survived\"] \n",
    "sns.heatmap(train_df[list1].corr(), annot=True, fmt=\".2f\")\n",
    "plt.show()"
   ]
  },
  {
   "cell_type": "markdown",
   "id": "783b92f3",
   "metadata": {},
   "source": [
    "<font color = \"Chocolate\"><br>\n",
    "list1 = [\"Sibsp\", \"Parch\", \"Age\", \"Fare\", \"Survived\"]\n",
    "\n",
    "Bu satırda, aralarındaki korelasyonu inceleyeceğimiz feature'leri içeren bir liste oluşturdum.\n",
    "\n",
    "<font color = \"Chocolate\"><br>    \n",
    "sns.heatmap(train_df[list1].corr(), annot=True)\n",
    "\n",
    "Bu satırda, 1.parametrede list1 içerisindeki sütunlar arasındaki korelasyona bakmamızı sağlayacak corr() metodunu çağırdım. 2.parametre ile korelasyon matrisinin üzerindeki değerleri görebilmemizi sağladım. 3.parametre ile de virgülden sonra iki basamağın görüntülenmesini sağladım."
   ]
  },
  {
   "cell_type": "markdown",
   "id": "41476e03",
   "metadata": {},
   "source": [
    "Çıktıyı inceleyelim. Survived feature'sinin diğer feature'ler ile ilişkisine baktığımızda en çok 0.26 oranında Fare sütunu ile ilişkili olduğunu görüyoruz. Yani Survived feature'si Fare feature'si ile yüksek korelasyona sahiptir. Bunun anlamı, gemiye binen yolcular bilet için çok fazla para ödedilerse (Fare) hayatta kalma şansları yüksek (Survived) anlamına gelir."
   ]
  },
  {
   "cell_type": "markdown",
   "id": "79c28cf2",
   "metadata": {},
   "source": [
    "# Özellik Analizi"
   ]
  },
  {
   "cell_type": "markdown",
   "id": "a99eb266",
   "metadata": {},
   "source": [
    "<font color = \"IndianRed\"><br>\n",
    "SibSp ve Survived feature'leri arasındaki ilişkiyi inceleyelim."
   ]
  },
  {
   "cell_type": "code",
   "execution_count": 37,
   "id": "056c2129",
   "metadata": {},
   "outputs": [
    {
     "data": {
      "image/png": "[encoded data removed]",
      "text/plain": [
       "<Figure size 432x432 with 1 Axes>"
      ]
     },
     "metadata": {},
     "output_type": "display_data"
    }
   ],
   "source": [
    "g = sns.factorplot(x = \"SibSp\", y = \"Survived\", data = train_df, kind = \"bar\", size = 6)\n",
    "g.set_ylabels(\"Survived Probability\")\n",
    "plt.show()"
   ]
  },
  {
   "cell_type": "markdown",
   "id": "54668144",
   "metadata": {},
   "source": [
    "y ekseninde Survived Probability ve x ekseninde SibSp değerlerini görebildiğimiz bir bar plot elde ettik. \n",
    "\n",
    "Çıktıyı yorumlayalım.\n",
    "\n",
    "Survived feature'si ile yolcunun hayatta kalıp kalmadığını anlıyorduk. Eğer 1 ise yolcu hayatta kalmış demektir, 0 ise yolcu hayatta kalamamış demektir. \n",
    "\n",
    "SibSp feature'si ile yolcunun sahip olduğu kardeş ya da eş sayısını elde ediyoruz. Mesela bir yolcunun SibSp değeri 3 ise 3 tane kardeşe veya eşe sahip demektir.\n",
    "\n",
    "Çıktıda görüyoruz ki, hiç kardeşi olmayan, 1 kardeşi olan, 2 kardeşi olan yolcuların hayatta kalma olasılıkları gayet iyi bir değerde. Fakat SibSp değeri 3 ve sonrasındaki değerler için yolcunun hayatta kalma olasılığı ciddi bir şekilde azalıyor.\n",
    "\n",
    "Eğer yolcu 2'den fazla SibSp değerine sahip ise Survived Probability azalıyor sonucuna varabiliriz. Bu yorum ile yeni bir feature elde edebiliriz. Mesela SibSp2 isimli yeni bir feature oluştururuz ve threshold olarak 2 değerini belirleriz. Ve 2 ve daha az sayıda SibSp değerine sahip olanlar 1, 2 'den büyük SİbSP değerine sahip olanlar 2 olsun. Böylelikle 2 tane kategoriye sahip olan yeni bir feature elde etmiş olurum ve bu feature'yi machine learning modelini eğitmek için kullanabiliriz."
   ]
  },
  {
   "cell_type": "markdown",
   "id": "85210764",
   "metadata": {},
   "source": [
    "<font color = \"IndianRed\"><br>\n",
    "Parch ve Survived feature'leri arasındaki ilişkiyi inceleyelim."
   ]
  },
  {
   "cell_type": "code",
   "execution_count": 38,
   "id": "c4b3595c",
   "metadata": {},
   "outputs": [
    {
     "data": {
      "image/png": "[encoded data removed]",
      "text/plain": [
       "<Figure size 432x432 with 1 Axes>"
      ]
     },
     "metadata": {},
     "output_type": "display_data"
    }
   ],
   "source": [
    "g = sns.factorplot(x = \"Parch\", y = \"Survived\", data = train_df, kind = \"bar\", size = 6)\n",
    "g.set_ylabels(\"Survived Probability\")\n",
    "plt.show()"
   ]
  },
  {
   "cell_type": "markdown",
   "id": "03ed666e",
   "metadata": {},
   "source": [
    "Parch feature'si bir yolcunun sahip olduğu aile (anne,baba) ve çocuk sayısı bilgisini verir. Mesela Parch değeri 3 ise yolcunun 3 tane annesi babası ya da çocuğu var demektir.\n",
    "\n",
    "Çıktıyı yorumlayalım. Yalnız gelen kişiler (Parch=0), Parch değeri 1,2,3 olan kişilere göre daha az hayatta kalma olasılığına sahiptir. \n",
    "\n",
    "Parch değeri 1 ve 2 olan yolcuların genelde hayatta kalma olasılığı aynı diyebiliriz.\n",
    "\n",
    "Bar'ların ortasındaki siyah çizgiye standart sapmayı ifade eder.\n",
    "\n",
    "Mesela Parch değeri 3 olan sapmle'ın hayatta kalma olasılığı 0.6 ama bu ortalama değeridir. Bu değer siyah çizgiye bakıldığında 1 de olabilir 0.2 de olabilir. Yani 0.2 ve 1 aralığında değişken bir değere sahiptir, ortalama olarak 0.6'dır. "
   ]
  },
  {
   "cell_type": "markdown",
   "id": "0d48f5a1",
   "metadata": {},
   "source": [
    "<font color = \"IndianRed\"><br>\n",
    "Pclass ve Survived feature'leri arasındaki ilişkiyi inceleyelim."
   ]
  },
  {
   "cell_type": "code",
   "execution_count": 39,
   "id": "d46d904a",
   "metadata": {},
   "outputs": [
    {
     "data": {
      "image/png": "[encoded data removed]",
      "text/plain": [
       "<Figure size 432x432 with 1 Axes>"
      ]
     },
     "metadata": {},
     "output_type": "display_data"
    }
   ],
   "source": [
    "g = sns.factorplot(x=\"Pclass\",y=\"Survived\", kind =\"bar\", data=train_df, size=6)\n",
    "g.set_ylabels(\"Survived Probability\")\n",
    "plt.show()"
   ]
  },
  {
   "cell_type": "markdown",
   "id": "5fdf60dd",
   "metadata": {},
   "source": [
    "Çıktıyı yorumlayalım.\n",
    "\n",
    "y ekseninde hayatta kalma oranları bulunmakta. x ekseninde Pclass değerleri mevcut.\n",
    "\n",
    "Pclass feature'si yolcuların seyahat ettikleri sınıfları ifade ediyor. 1.sınıf, 2.sınıf, 3.sınıf şeklinde 3 kategoriye sahip. 1.sınıf en pahalı olan, 2.sınıf orta, 3.sınıf en ucuz olan kısımdır.\n",
    "\n",
    "1.sınıfta seyahat eden yolcuların hayatta kalma olasılıkları 2. ve 3.sınıflara göre daha yüksektir."
   ]
  },
  {
   "cell_type": "markdown",
   "id": "b94a492f",
   "metadata": {},
   "source": [
    "<font color = \"IndianRed\"><br>\n",
    "Age ve Survived feature'leri arasındaki ilişkiyi inceleyelim."
   ]
  },
  {
   "cell_type": "code",
   "execution_count": 40,
   "id": "95a62303",
   "metadata": {},
   "outputs": [
    {
     "data": {
      "image/png": "[encoded data removed]",
      "text/plain": [
       "<Figure size 432x216 with 2 Axes>"
      ]
     },
     "metadata": {},
     "output_type": "display_data"
    }
   ],
   "source": [
    "g = sns.FacetGrid(train_df, col=\"Survived\")\n",
    "g.map(sns.distplot, \"Age\", bins=25)  #Age, karşılaştıracağımız feature'dir.\n",
    "plt.show()"
   ]
  },
  {
   "cell_type": "markdown",
   "id": "58bc755b",
   "metadata": {},
   "source": [
    "Çıktıda gördüğünüz üzere 2 tane plot elde ettik. Survived=1.0 yazan plot'ta hayatta kalanların dağılımını, Survived=0.0 yazan plot'ta hayatta kalmayanların dağılımını görüyoruz. Survived=1.0 plot'unda Age değerinin 0-10 olduğu aralıkta çocukların kurtulduğunu görüyoruz.\n",
    "\n",
    "Yaş özelliği doğası gereği Gaussian dağılıma sahiptir. Burdada aşşağı yukarı bir gaussian dağılımı olduğunu görebiliyoruz.\n",
    "\n",
    "Survived=1.0 plot'unda Age değerinin 70'den sonraki aralıkta yaşlılarında büyük olasılıkta kurtulduğunu görüyoruz. Burada yaşlı insanların az olmasından kaynaklı düşük çizgi söz konusu.\n",
    "\n",
    "Survived=0.0 plot'unda 20-30 yaş arası insanların ölüm oranı çok iken, Survived=1.0 plot'unda 30-35 yaş arası insanlarda hayatta kalma oranı daha yüksek görünüyor.\n",
    "\n",
    "15 ve 35 yaşları arasında çok fazla yolcu olduğunu görebiliyoruz.\n",
    "\n",
    "Age feature'sini tahmin yapmak için kullanabiliriz. Yani maching learning'te eğiteceğimiz feature'lerden bir tanesi Age feature'si olur. \n",
    "\n",
    "Ayrıca plot'taki dağılımları kullanarak Age feature'sindeki missing value'leri doldurabiliriz."
   ]
  },
  {
   "cell_type": "markdown",
   "id": "caf40bbf",
   "metadata": {},
   "source": [
    "<font color = \"IndianRed\"><br>\n",
    "Pclass, Survived ve Age feature'leri arasındaki ilişkiyi inceleyelim."
   ]
  },
  {
   "cell_type": "code",
   "execution_count": 41,
   "id": "2cb9b5a2",
   "metadata": {},
   "outputs": [
    {
     "data": {
      "image/png": "[encoded data removed]",
      "text/plain": [
       "<Figure size 296x432 with 6 Axes>"
      ]
     },
     "metadata": {},
     "output_type": "display_data"
    }
   ],
   "source": [
    "g = sns.FacetGrid(train_df, col=\"Survived\", row=\"Pclass\", size=2)\n",
    "g.map(plt.hist, \"Age\", bins=25)\n",
    "g.add_legend()\n",
    "plt.show()"
   ]
  },
  {
   "cell_type": "markdown",
   "id": "2fc82421",
   "metadata": {},
   "source": [
    "x ekseninde yaşlar bulunmakta. 6 tane plot mevcut. Plot'larda satırlarda Pclass değerleri var. Sütunlarda ise Survived değerleri var.\n",
    "\n",
    "En alttaki plot'lara baktığımızda çok fazla yolcu olduğunu görebiliyoruz. Bunun anlamı, Pclass=3 'e ait yolcu sayısı, 1. ve 2.sınıflardaki yolcu sayılarından daha fazla. Ama yolcu sayısının fazla olması ile yolcuların yaşaması arasında herhangi bir doğru orantı yok hatta ters orantı var diyebiliriz. Yolcu sayısı fazla ise daha çok ölüm görülmüştür.\n",
    "\n",
    "Pclass=3 iken ölüm oranı, yaşama oranından daha yüksek. Pclass=2 olduğunda ölüm ve yaşama oranı biraz daha dengeli görünüyor. Pclass=1 iken yaşama oranı, ölüm oranından daha yüksektir.\n",
    "\n",
    "Sonuç olarak, Pclass değeri prediction yapmamızda, modeli eğitmemizde önemli bir feature olucak."
   ]
  },
  {
   "cell_type": "markdown",
   "id": "99d22124",
   "metadata": {},
   "source": [
    "<font color = \"IndianRed\"><br>\n",
    "Embarked, Sex, Pclass, Survived feature'leri arasındaki ilişkiyi inceleyelim."
   ]
  },
  {
   "cell_type": "markdown",
   "id": "9ad3f21d",
   "metadata": {},
   "source": [
    "Embarked: Yolcuların hangi limandan bindiği bilgisidir.\n",
    "    \n",
    "Sex: Yolcuların cinsiyetlerinin bilgisidir.\n",
    "\n",
    "Pclass: Yolcuların hangi sınıfta seyahat ettikleri bilgisidir.\n",
    "\n",
    "Survived: Yolcuların hayatta kalıp kalmadıklarına dair bilgidir."
   ]
  },
  {
   "cell_type": "code",
   "execution_count": 42,
   "id": "b855216e",
   "metadata": {},
   "outputs": [
    {
     "data": {
      "image/png": "[encoded data removed]",
      "text/plain": [
       "<Figure size 210.125x432 with 3 Axes>"
      ]
     },
     "metadata": {},
     "output_type": "display_data"
    }
   ],
   "source": [
    "g = sns.FacetGrid(train_df, row=\"Embarked\", size=2)\n",
    "g.map(sns.pointplot, \"Pclass\", \"Survived\", \"Sex\")\n",
    "g.add_legend()\n",
    "plt.show()"
   ]
  },
  {
   "cell_type": "markdown",
   "id": "bd821d8d",
   "metadata": {},
   "source": [
    "Embarked=S plot'unda kadınlar daha yüksek. Embarked=C plot'unda erkekler daha yüksek. Embarked=Q plot'unda kadınlar daha yüksek. 2 tane plot'ta kadınlar daha yüksek ve 1 tane plot'ta erkekler daha yüksek. Dolayısıyla kadınların hayatta kalma oranları erkeklerden daha yüksektir diyebiliriz. Sex (cinsiyet) ve Survived (hayatta kalma) feature'leri birbirleri ile alakalıdır. Bu yorumu sınıflandırma yaparken kullanabiliriz. Cinsiyet (Sex) sınıflandırma yaparken ya da prediction yaparken önemli bir feature olacak. Yani hayatta kalma oranını tahmin ederken cinsiyet (Sex) özelliğini kullanabiliriz.\n",
    "\n",
    "Şimdide Pclass ve Embarked arasındaki ilişkiye bakalım. Line 'lar üzerindeki ilk nokta 1.sınıfı, ikinci nokta 2.sınıfı ve üçüncü nokta 3.sınıfı ifade ediyor. Embarked=S plot'unda hem kadınlarda hem de erkeklerde Pclass=1'den itibaren yani 1.sınıftan başlayarak bir azalma mevcut. Aslında Pclass ve Embarked=S arasında bir ilişki mevcut. \n",
    "\n",
    "<font color =\"SlateBlue\"><br>\n",
    "İki feature arasında ilişkinin olması kullanılabilir bir şey olduğu anlamına geliyor. Aynı zamanda ilişkinin olmamasıda kullanılabilir bir feature anlamına geliyor çünkü eğer iki feature arasında bir ilişki yok ise bu iki feature farklı bilgiler taşıyor olabilir.\n",
    "\n",
    "C limanında erkeklerin hayatta kalma olasılıkları daha yüksektir. Bu bilgiyi limanları birleştirerek yeni bir feature oluşturmak istersek kullanabiliriz.\n",
    "\n",
    "Sex ve Embarked feature'lerini doğrudan modeli eğitmek için kullanacağız."
   ]
  },
  {
   "cell_type": "markdown",
   "id": "15342dc6",
   "metadata": {},
   "source": [
    "<font color = \"IndianRed\"><br>\n",
    "Embarked, Sex, Fare, Survived feature'leri arasındaki ilişkiyi inceleyelim."
   ]
  },
  {
   "cell_type": "markdown",
   "id": "fb37360e",
   "metadata": {},
   "source": [
    "Fare feature'si yolcuların bilet için ödedikleri parayı ifade eder."
   ]
  },
  {
   "cell_type": "code",
   "execution_count": 43,
   "id": "8b4bc6cb",
   "metadata": {},
   "outputs": [
    {
     "data": {
      "image/png": "[encoded data removed]",
      "text/plain": [
       "<Figure size 368x540 with 6 Axes>"
      ]
     },
     "metadata": {},
     "output_type": "display_data"
    }
   ],
   "source": [
    "g = sns.FacetGrid(train_df, row=\"Embarked\", col=\"Survived\", size=2.5)\n",
    "g.map(sns.barplot, \"Sex\", \"Fare\")\n",
    "g.add_legend()\n",
    "plt.show()"
   ]
  },
  {
   "cell_type": "markdown",
   "id": "471509ac",
   "metadata": {},
   "source": [
    "Satırlar Fare feature bilgisidir.\n",
    "\n",
    "En üstteki plot'ta soldakinde ödenen toplam tutar 25+25=50 ve soldakinde 50+25=75 diyelim. Soldaki plot'taki insanlar hayatta kalamamışlar, sağdaki plot'taki insanlar hayatta kalmışlar. 1.satırda S limanından binen insanlar için daha çok para ödeyenler (sağdaki plot) daha az para ödeyenlere (soldaki plot) göre hayatta kalmaları daha yüksektir.\n",
    "\n",
    "3 satırdaki her bir feature'yi incelediğimizde daha çok para ödendiği durumda hayatta kalma olasılığı artıyor. Fare feature'sine threshold'lar koyarsak Fare feature'sini categorical bir feature'ye çevirebiliriz.\n",
    "\n",
    "S,C ve Q limanlarını karşılaştırdığımız zaman en yüksek hayatta kalma oranı C'ye, orta sıra S'ye ve en düşük Q'ya ait."
   ]
  },
  {
   "cell_type": "markdown",
   "id": "127efcf4",
   "metadata": {},
   "source": [
    "## Fill Missing: Age Feature"
   ]
  },
  {
   "cell_type": "code",
   "execution_count": 44,
   "id": "1a0fbc4a",
   "metadata": {},
   "outputs": [
    {
     "data": {
      "text/plain": [
       "PassengerId       0\n",
       "Survived        418\n",
       "Pclass            0\n",
       "Name              0\n",
       "Sex               0\n",
       "Age             256\n",
       "SibSp             0\n",
       "Parch             0\n",
       "Ticket            0\n",
       "Fare              0\n",
       "Cabin          1007\n",
       "Embarked          0\n",
       "dtype: int64"
      ]
     },
     "execution_count": 44,
     "metadata": {},
     "output_type": "execute_result"
    }
   ],
   "source": [
    "train_df.isnull().sum()"
   ]
  },
  {
   "cell_type": "markdown",
   "id": "afa58adb",
   "metadata": {},
   "source": [
    "Çıktıda görebileceğiniz üzere Age feature'sinde 256 tane missing value bulunmakta. \n",
    "\n",
    "<font color=\"CadetBlue\"><br>\n",
    "Şimdi Age feature'sinde bulunan boşlukları bir istatistiksel modele göre doldurallım."
   ]
  },
  {
   "cell_type": "markdown",
   "id": "0536b411",
   "metadata": {},
   "source": [
    "<a id='1'></a><br>"
   ]
  },
  {
   "cell_type": "code",
   "execution_count": 45,
   "id": "c8fe938f",
   "metadata": {},
   "outputs": [
    {
     "data": {
      "text/html": [
       "<div>\n",
       "<style scoped>\n",
       "    .dataframe tbody tr th:only-of-type {\n",
       "        vertical-align: middle;\n",
       "    }\n",
       "\n",
       "    .dataframe tbody tr th {\n",
       "        vertical-align: top;\n",
       "    }\n",
       "\n",
       "    .dataframe thead th {\n",
       "        text-align: right;\n",
       "    }\n",
       "</style>\n",
       "<table border=\"1\" class=\"dataframe\">\n",
       "  <thead>\n",
       "    <tr style=\"text-align: right;\">\n",
       "      <th></th>\n",
       "      <th>PassengerId</th>\n",
       "      <th>Survived</th>\n",
       "      <th>Pclass</th>\n",
       "      <th>Name</th>\n",
       "      <th>Sex</th>\n",
       "      <th>Age</th>\n",
       "      <th>SibSp</th>\n",
       "      <th>Parch</th>\n",
       "      <th>Ticket</th>\n",
       "      <th>Fare</th>\n",
       "      <th>Cabin</th>\n",
       "      <th>Embarked</th>\n",
       "    </tr>\n",
       "  </thead>\n",
       "  <tbody>\n",
       "    <tr>\n",
       "      <th>5</th>\n",
       "      <td>6</td>\n",
       "      <td>0.0</td>\n",
       "      <td>3</td>\n",
       "      <td>Moran, Mr. James</td>\n",
       "      <td>male</td>\n",
       "      <td>NaN</td>\n",
       "      <td>0</td>\n",
       "      <td>0</td>\n",
       "      <td>330877</td>\n",
       "      <td>8.4583</td>\n",
       "      <td>NaN</td>\n",
       "      <td>Q</td>\n",
       "    </tr>\n",
       "    <tr>\n",
       "      <th>17</th>\n",
       "      <td>18</td>\n",
       "      <td>1.0</td>\n",
       "      <td>2</td>\n",
       "      <td>Williams, Mr. Charles Eugene</td>\n",
       "      <td>male</td>\n",
       "      <td>NaN</td>\n",
       "      <td>0</td>\n",
       "      <td>0</td>\n",
       "      <td>244373</td>\n",
       "      <td>13.0000</td>\n",
       "      <td>NaN</td>\n",
       "      <td>S</td>\n",
       "    </tr>\n",
       "    <tr>\n",
       "      <th>19</th>\n",
       "      <td>20</td>\n",
       "      <td>1.0</td>\n",
       "      <td>3</td>\n",
       "      <td>Masselmani, Mrs. Fatima</td>\n",
       "      <td>female</td>\n",
       "      <td>NaN</td>\n",
       "      <td>0</td>\n",
       "      <td>0</td>\n",
       "      <td>2649</td>\n",
       "      <td>7.2250</td>\n",
       "      <td>NaN</td>\n",
       "      <td>C</td>\n",
       "    </tr>\n",
       "    <tr>\n",
       "      <th>26</th>\n",
       "      <td>27</td>\n",
       "      <td>0.0</td>\n",
       "      <td>3</td>\n",
       "      <td>Emir, Mr. Farred Chehab</td>\n",
       "      <td>male</td>\n",
       "      <td>NaN</td>\n",
       "      <td>0</td>\n",
       "      <td>0</td>\n",
       "      <td>2631</td>\n",
       "      <td>7.2250</td>\n",
       "      <td>NaN</td>\n",
       "      <td>C</td>\n",
       "    </tr>\n",
       "    <tr>\n",
       "      <th>27</th>\n",
       "      <td>29</td>\n",
       "      <td>1.0</td>\n",
       "      <td>3</td>\n",
       "      <td>O'Dwyer, Miss. Ellen \"Nellie\"</td>\n",
       "      <td>female</td>\n",
       "      <td>NaN</td>\n",
       "      <td>0</td>\n",
       "      <td>0</td>\n",
       "      <td>330959</td>\n",
       "      <td>7.8792</td>\n",
       "      <td>NaN</td>\n",
       "      <td>Q</td>\n",
       "    </tr>\n",
       "    <tr>\n",
       "      <th>...</th>\n",
       "      <td>...</td>\n",
       "      <td>...</td>\n",
       "      <td>...</td>\n",
       "      <td>...</td>\n",
       "      <td>...</td>\n",
       "      <td>...</td>\n",
       "      <td>...</td>\n",
       "      <td>...</td>\n",
       "      <td>...</td>\n",
       "      <td>...</td>\n",
       "      <td>...</td>\n",
       "      <td>...</td>\n",
       "    </tr>\n",
       "    <tr>\n",
       "      <th>1289</th>\n",
       "      <td>1300</td>\n",
       "      <td>NaN</td>\n",
       "      <td>3</td>\n",
       "      <td>Riordan, Miss. Johanna Hannah\"\"</td>\n",
       "      <td>female</td>\n",
       "      <td>NaN</td>\n",
       "      <td>0</td>\n",
       "      <td>0</td>\n",
       "      <td>334915</td>\n",
       "      <td>7.7208</td>\n",
       "      <td>NaN</td>\n",
       "      <td>Q</td>\n",
       "    </tr>\n",
       "    <tr>\n",
       "      <th>1291</th>\n",
       "      <td>1302</td>\n",
       "      <td>NaN</td>\n",
       "      <td>3</td>\n",
       "      <td>Naughton, Miss. Hannah</td>\n",
       "      <td>female</td>\n",
       "      <td>NaN</td>\n",
       "      <td>0</td>\n",
       "      <td>0</td>\n",
       "      <td>365237</td>\n",
       "      <td>7.7500</td>\n",
       "      <td>NaN</td>\n",
       "      <td>Q</td>\n",
       "    </tr>\n",
       "    <tr>\n",
       "      <th>1294</th>\n",
       "      <td>1305</td>\n",
       "      <td>NaN</td>\n",
       "      <td>3</td>\n",
       "      <td>Spector, Mr. Woolf</td>\n",
       "      <td>male</td>\n",
       "      <td>NaN</td>\n",
       "      <td>0</td>\n",
       "      <td>0</td>\n",
       "      <td>A.5. 3236</td>\n",
       "      <td>8.0500</td>\n",
       "      <td>NaN</td>\n",
       "      <td>S</td>\n",
       "    </tr>\n",
       "    <tr>\n",
       "      <th>1297</th>\n",
       "      <td>1308</td>\n",
       "      <td>NaN</td>\n",
       "      <td>3</td>\n",
       "      <td>Ware, Mr. Frederick</td>\n",
       "      <td>male</td>\n",
       "      <td>NaN</td>\n",
       "      <td>0</td>\n",
       "      <td>0</td>\n",
       "      <td>359309</td>\n",
       "      <td>8.0500</td>\n",
       "      <td>NaN</td>\n",
       "      <td>S</td>\n",
       "    </tr>\n",
       "    <tr>\n",
       "      <th>1298</th>\n",
       "      <td>1309</td>\n",
       "      <td>NaN</td>\n",
       "      <td>3</td>\n",
       "      <td>Peter, Master. Michael J</td>\n",
       "      <td>male</td>\n",
       "      <td>NaN</td>\n",
       "      <td>1</td>\n",
       "      <td>1</td>\n",
       "      <td>2668</td>\n",
       "      <td>22.3583</td>\n",
       "      <td>NaN</td>\n",
       "      <td>C</td>\n",
       "    </tr>\n",
       "  </tbody>\n",
       "</table>\n",
       "<p>256 rows × 12 columns</p>\n",
       "</div>"
      ],
      "text/plain": [
       "      PassengerId  Survived  Pclass                             Name     Sex  \\\n",
       "5               6       0.0       3                 Moran, Mr. James    male   \n",
       "17             18       1.0       2     Williams, Mr. Charles Eugene    male   \n",
       "19             20       1.0       3          Masselmani, Mrs. Fatima  female   \n",
       "26             27       0.0       3          Emir, Mr. Farred Chehab    male   \n",
       "27             29       1.0       3    O'Dwyer, Miss. Ellen \"Nellie\"  female   \n",
       "...           ...       ...     ...                              ...     ...   \n",
       "1289         1300       NaN       3  Riordan, Miss. Johanna Hannah\"\"  female   \n",
       "1291         1302       NaN       3           Naughton, Miss. Hannah  female   \n",
       "1294         1305       NaN       3               Spector, Mr. Woolf    male   \n",
       "1297         1308       NaN       3              Ware, Mr. Frederick    male   \n",
       "1298         1309       NaN       3         Peter, Master. Michael J    male   \n",
       "\n",
       "      Age  SibSp  Parch     Ticket     Fare Cabin Embarked  \n",
       "5     NaN      0      0     330877   8.4583   NaN        Q  \n",
       "17    NaN      0      0     244373  13.0000   NaN        S  \n",
       "19    NaN      0      0       2649   7.2250   NaN        C  \n",
       "26    NaN      0      0       2631   7.2250   NaN        C  \n",
       "27    NaN      0      0     330959   7.8792   NaN        Q  \n",
       "...   ...    ...    ...        ...      ...   ...      ...  \n",
       "1289  NaN      0      0     334915   7.7208   NaN        Q  \n",
       "1291  NaN      0      0     365237   7.7500   NaN        Q  \n",
       "1294  NaN      0      0  A.5. 3236   8.0500   NaN        S  \n",
       "1297  NaN      0      0     359309   8.0500   NaN        S  \n",
       "1298  NaN      1      1       2668  22.3583   NaN        C  \n",
       "\n",
       "[256 rows x 12 columns]"
      ]
     },
     "execution_count": 45,
     "metadata": {},
     "output_type": "execute_result"
    }
   ],
   "source": [
    "train_df[train_df[\"Age\"].isnull()]"
   ]
  },
  {
   "cell_type": "markdown",
   "id": "f8db2c0e",
   "metadata": {},
   "source": [
    "Yukarıda train_df içerisindeki Age feature'sinde bulunan NaN değerleri gösterdik. 256 tane yolcunun yaş değeri bulunmamaktadır.\n",
    "\n",
    "Mesela Cinsiyet featuresine göre bu boşlukları doldurabilir miyiz?: female'lerin ortalama yaşına bakarız ve tüm female'leri ona göre doldururuz. male'lerin ortalama yaşına bakarız tüm male'leri ona göre doldururuz. \n",
    "\n",
    "Pclass feature'sine göre de yapabiliriz. 1.sınıfta kalan yolcuların yaş ortalamasını bulup Age feature'sindeki boşlukları bu ortalama değere göre doldurabiliriz. 2. ve  3. sınıflar içinde aynı işlem gerçekleştirilir.\n",
    "\n",
    "Parch ve SibSp feature'sine göre yapabiliriz. Çünkü bir yolcunun çocuğu var ise yaşının büyük olma olasılığı çocuğu olmayan bir yolcuya göre daha büyüktür diyebiliriz. Çocuk sayısına göre ya da parent sayısına göre yaşı olmayan yolcuların yaşlarını tahmin edebiliriz.\n",
    "\n",
    "Hibrit bir şekilde de yapabiliriz. Yani hem Sex feature'sini hem Pclass feature'sini hem Parch feature'sini hem de SibSp feature'sini kullanabiliriz. "
   ]
  },
  {
   "cell_type": "code",
   "execution_count": 46,
   "id": "74892e7e",
   "metadata": {},
   "outputs": [
    {
     "data": {
      "text/plain": [
       "<seaborn.axisgrid.FacetGrid at 0x17906cbf640>"
      ]
     },
     "execution_count": 46,
     "metadata": {},
     "output_type": "execute_result"
    },
    {
     "data": {
      "image/png": "[encoded data removed]",
      "text/plain": [
       "<Figure size 360x360 with 1 Axes>"
      ]
     },
     "metadata": {},
     "output_type": "display_data"
    }
   ],
   "source": [
    "sns.factorplot(x=\"Sex\", y=\"Age\", data=train_df, kind=\"box\")"
   ]
  },
  {
   "cell_type": "markdown",
   "id": "e9673c79",
   "metadata": {},
   "source": [
    "Kutuların ortasındaki çizgi medyanı ifade ediyor. male ve female için medyan değerleri aşağı yukarı aynı. Dolayısıyla male ve female olmasına göre yaşı tahmin edemeyiz. Çünkü erkek ve kadın için medyan değerleri aynı. Bu durumda Sex feature'sini kullanmamızın pek bir anlamı yok."
   ]
  },
  {
   "cell_type": "code",
   "execution_count": 47,
   "id": "77429289",
   "metadata": {},
   "outputs": [
    {
     "data": {
      "text/plain": [
       "<seaborn.axisgrid.FacetGrid at 0x1790590f8b0>"
      ]
     },
     "execution_count": 47,
     "metadata": {},
     "output_type": "execute_result"
    },
    {
     "data": {
      "image/png": "[encoded data removed]",
      "text/plain": [
       "<Figure size 401.625x360 with 1 Axes>"
      ]
     },
     "metadata": {},
     "output_type": "display_data"
    }
   ],
   "source": [
    "sns.factorplot(x=\"Sex\", y=\"Age\", hue=\"Pclass\", data=train_df, kind=\"box\")"
   ]
  },
  {
   "cell_type": "markdown",
   "id": "6152e72e",
   "metadata": {},
   "source": [
    "Yukarıda sınıf olarak Pclass'ı ekledim. Her bir cinsiyet için 3 tane box plot var. Maviler 1.sınıf yolcularını, turuncular 2.sınıf yolcularını, yeşiller 3..sınıf yolcularını ifade etmekte.\n",
    "\n",
    "1.sınıf yolcuları için:\n",
    "    male'nin yaş medyanı 40 üzerinde, female'nin yaş medyanı 40'ın biraz altında. 1.sınıfta kalan yolcuların yaş medyanlarına 40 diyebiliriz.\n",
    "    \n",
    "2.sınıf yolcuları için:\n",
    "    male ve female'nin yaş medyanları yaklaşık 30.\n",
    "    \n",
    "3.sınıf yolcuları için:\n",
    "    male ve female'nin yaş medyanları yaklaşık 25.\n",
    "    \n",
    "Dolayısıyla 1.sınıfın yaş medyanları 2.sınıftan büyük ve 2.sınıfın yaş medyanları da 3.sınıftan büyüktür.\n",
    "\n",
    "Dolayısıyla en yaşlılar 1.sınıfta ve en gençler de 3.sınıftadır diyebiliriz.\n",
    "\n",
    "[Buradaki](#1) tabloya baktığımızda ilk satırda bulunan James'in Pclass'ında 3 değeri var yani James 3.sınıfta kalıyormuş. Bu nedenle James'in yaş ortalamasına 25 diyebiliriz.\n",
    "\n",
    "Sonuç olarak, Pclass yaş tahmini yapmak için kullanılabilir bir feature'dir."
   ]
  },
  {
   "cell_type": "code",
   "execution_count": 48,
   "id": "d28ef23e",
   "metadata": {},
   "outputs": [
    {
     "data": {
      "text/plain": [
       "<seaborn.axisgrid.FacetGrid at 0x179059013a0>"
      ]
     },
     "execution_count": 48,
     "metadata": {},
     "output_type": "execute_result"
    },
    {
     "data": {
      "image/png": "[encoded data removed]",
      "text/plain": [
       "<Figure size 360x360 with 1 Axes>"
      ]
     },
     "metadata": {},
     "output_type": "display_data"
    },
    {
     "data": {
      "image/png": "[encoded data removed]",
      "text/plain": [
       "<Figure size 360x360 with 1 Axes>"
      ]
     },
     "metadata": {},
     "output_type": "display_data"
    }
   ],
   "source": [
    "sns.factorplot(x=\"Parch\", y=\"Age\", data=train_df, kind=\"box\")\n",
    "sns.factorplot(x=\"SibSp\", y=\"Age\", data=train_df, kind=\"box\")"
   ]
  },
  {
   "cell_type": "markdown",
   "id": "837a3e1b",
   "metadata": {},
   "source": [
    "Yukarıdaki plot'u inceleyelim.\n",
    "\n",
    "Parch değeri 0,1 ve 2 olanlar için yaş medyanları aşağı yukarı 25'tir. Ama 2'den büyük değerler için yaş medyanı 45'tir. \n",
    "\n",
    "Aşağıdaki plot'u inceleyelim.\n",
    "\n",
    "SibSp değeri 1,2 ve 3 için yaş medyanı yaklaşık 25'tir. 3'den büyük değerler için yaş medyanı neredeyse 10 civarındadır."
   ]
  },
  {
   "cell_type": "markdown",
   "id": "c55f7ee3",
   "metadata": {},
   "source": [
    "Şimdi de tüm feature'ler arasındaki korelasyona bakalım. Bunun için heatmap kullanırız."
   ]
  },
  {
   "cell_type": "code",
   "execution_count": 49,
   "id": "d64ba94a",
   "metadata": {},
   "outputs": [
    {
     "data": {
      "image/png": "[encoded data removed]",
      "text/plain": [
       "<Figure size 432x288 with 2 Axes>"
      ]
     },
     "metadata": {},
     "output_type": "display_data"
    }
   ],
   "source": [
    "sns.heatmap(train_df[[\"Age\",\"Sex\",\"SibSp\",\"Parch\",\"Pclass\"]].corr(), annot=True)\n",
    "plt.show()"
   ]
  },
  {
   "cell_type": "markdown",
   "id": "f7634d8d",
   "metadata": {},
   "source": [
    "Sex ve Age arasında herhangi bir ilişki söz konusu değil. Sex feature'sini tabloda göremiyoruz. Bunun sebebi Sex feature'sinin string değerlerden oluşmasıdır. Sex feature'sini heatmap'te görebilmemiz için sayısal bir değere çevirmemiz gerekmekte. Sex feature'sini sayısal bir veri tipine dönüştürelim ve tekrar heatmap oluşturalım."
   ]
  },
  {
   "cell_type": "code",
   "execution_count": 50,
   "id": "92062b57",
   "metadata": {},
   "outputs": [],
   "source": [
    "train_df[\"Sex\"] = [1 if i==\"male\" else 0 for i in train_df[\"Sex\"]]  \n",
    "#male değerinin olduğu satırlara 1, female değerinin olduğu sütunlara 0 yazdırdım."
   ]
  },
  {
   "cell_type": "code",
   "execution_count": 51,
   "id": "4f50d412",
   "metadata": {},
   "outputs": [
    {
     "data": {
      "image/png": "[encoded data removed]",
      "text/plain": [
       "<Figure size 432x288 with 2 Axes>"
      ]
     },
     "metadata": {},
     "output_type": "display_data"
    }
   ],
   "source": [
    "sns.heatmap(train_df[[\"Age\",\"Sex\",\"SibSp\",\"Parch\",\"Pclass\"]].corr(), annot=True)\n",
    "plt.show()"
   ]
  },
  {
   "cell_type": "markdown",
   "id": "f4347623",
   "metadata": {},
   "source": [
    "Yukarıda gördüğümüz üzere Sex feature'side artık heatmep'te bulunmakta.\n",
    "\n",
    "Çıktıyı yorumlayalım.\n",
    "\n",
    "Age ve Sex arasındaki ilişki 0.063 oranındadır. Yani yaklaşık 0 dır ve bunun anlamı, herhangi bir ilişki söz konusu değildir. \n",
    "\n",
    "Age ve SibSp arasındaki ilişki -0.24'tür. Age ve Parch arasındaki ilişki -0.15'tür. Age ve Pclass arasındaki ilişki -0.41'dir. Bu iyi bir durumdur. Bu 3 tane feature'yi kullanarak yaş ile ilgili prediction yapabilirim."
   ]
  },
  {
   "cell_type": "markdown",
   "id": "e613d110",
   "metadata": {},
   "source": [
    "Şimdi de Age feature'sinde bulunan boşlukları dolduralım."
   ]
  },
  {
   "cell_type": "markdown",
   "id": "39e0b7cb",
   "metadata": {},
   "source": [
    "İlk olarak Age feature'sinde bulunan NaN value'lerin indekslerini bulalım."
   ]
  },
  {
   "cell_type": "code",
   "execution_count": 52,
   "id": "2ea3a96e",
   "metadata": {},
   "outputs": [
    {
     "data": {
      "text/plain": [
       "[5,\n",
       " 17,\n",
       " 19,\n",
       " 26,\n",
       " 27,\n",
       " 28,\n",
       " 30,\n",
       " 31,\n",
       " 35,\n",
       " 41,\n",
       " 44,\n",
       " 45,\n",
       " 46,\n",
       " 47,\n",
       " 54,\n",
       " 63,\n",
       " 64,\n",
       " 75,\n",
       " 76,\n",
       " 81,\n",
       " 86,\n",
       " 93,\n",
       " 99,\n",
       " 105,\n",
       " 107,\n",
       " 119,\n",
       " 124,\n",
       " 126,\n",
       " 138,\n",
       " 152,\n",
       " 156,\n",
       " 163,\n",
       " 165,\n",
       " 173,\n",
       " 177,\n",
       " 181,\n",
       " 182,\n",
       " 192,\n",
       " 194,\n",
       " 209,\n",
       " 218,\n",
       " 224,\n",
       " 230,\n",
       " 235,\n",
       " 236,\n",
       " 245,\n",
       " 251,\n",
       " 255,\n",
       " 259,\n",
       " 265,\n",
       " 269,\n",
       " 272,\n",
       " 279,\n",
       " 290,\n",
       " 293,\n",
       " 295,\n",
       " 296,\n",
       " 298,\n",
       " 299,\n",
       " 301,\n",
       " 324,\n",
       " 328,\n",
       " 329,\n",
       " 340,\n",
       " 344,\n",
       " 347,\n",
       " 351,\n",
       " 352,\n",
       " 357,\n",
       " 360,\n",
       " 361,\n",
       " 368,\n",
       " 377,\n",
       " 381,\n",
       " 402,\n",
       " 403,\n",
       " 404,\n",
       " 406,\n",
       " 408,\n",
       " 413,\n",
       " 418,\n",
       " 421,\n",
       " 424,\n",
       " 437,\n",
       " 444,\n",
       " 447,\n",
       " 450,\n",
       " 452,\n",
       " 457,\n",
       " 459,\n",
       " 461,\n",
       " 463,\n",
       " 468,\n",
       " 474,\n",
       " 478,\n",
       " 483,\n",
       " 488,\n",
       " 490,\n",
       " 495,\n",
       " 500,\n",
       " 504,\n",
       " 510,\n",
       " 515,\n",
       " 517,\n",
       " 520,\n",
       " 524,\n",
       " 526,\n",
       " 531,\n",
       " 540,\n",
       " 545,\n",
       " 550,\n",
       " 553,\n",
       " 556,\n",
       " 557,\n",
       " 561,\n",
       " 566,\n",
       " 571,\n",
       " 577,\n",
       " 582,\n",
       " 586,\n",
       " 589,\n",
       " 591,\n",
       " 594,\n",
       " 595,\n",
       " 604,\n",
       " 605,\n",
       " 606,\n",
       " 622,\n",
       " 626,\n",
       " 632,\n",
       " 636,\n",
       " 641,\n",
       " 643,\n",
       " 646,\n",
       " 649,\n",
       " 660,\n",
       " 662,\n",
       " 667,\n",
       " 673,\n",
       " 685,\n",
       " 690,\n",
       " 702,\n",
       " 704,\n",
       " 711,\n",
       " 720,\n",
       " 725,\n",
       " 731,\n",
       " 732,\n",
       " 733,\n",
       " 753,\n",
       " 759,\n",
       " 761,\n",
       " 766,\n",
       " 769,\n",
       " 771,\n",
       " 776,\n",
       " 783,\n",
       " 785,\n",
       " 807,\n",
       " 817,\n",
       " 818,\n",
       " 820,\n",
       " 824,\n",
       " 829,\n",
       " 831,\n",
       " 840,\n",
       " 850,\n",
       " 858,\n",
       " 868,\n",
       " 878,\n",
       " 891,\n",
       " 903,\n",
       " 910,\n",
       " 914,\n",
       " 917,\n",
       " 920,\n",
       " 922,\n",
       " 928,\n",
       " 935,\n",
       " 939,\n",
       " 946,\n",
       " 957,\n",
       " 964,\n",
       " 965,\n",
       " 966,\n",
       " 969,\n",
       " 972,\n",
       " 974,\n",
       " 983,\n",
       " 988,\n",
       " 989,\n",
       " 992,\n",
       " 997,\n",
       " 1002,\n",
       " 1005,\n",
       " 1008,\n",
       " 1013,\n",
       " 1014,\n",
       " 1027,\n",
       " 1029,\n",
       " 1032,\n",
       " 1041,\n",
       " 1044,\n",
       " 1049,\n",
       " 1051,\n",
       " 1054,\n",
       " 1064,\n",
       " 1069,\n",
       " 1072,\n",
       " 1080,\n",
       " 1081,\n",
       " 1086,\n",
       " 1092,\n",
       " 1097,\n",
       " 1100,\n",
       " 1106,\n",
       " 1108,\n",
       " 1114,\n",
       " 1124,\n",
       " 1125,\n",
       " 1130,\n",
       " 1136,\n",
       " 1137,\n",
       " 1146,\n",
       " 1147,\n",
       " 1148,\n",
       " 1149,\n",
       " 1152,\n",
       " 1154,\n",
       " 1155,\n",
       " 1163,\n",
       " 1167,\n",
       " 1169,\n",
       " 1170,\n",
       " 1171,\n",
       " 1173,\n",
       " 1178,\n",
       " 1182,\n",
       " 1185,\n",
       " 1193,\n",
       " 1213,\n",
       " 1220,\n",
       " 1223,\n",
       " 1225,\n",
       " 1238,\n",
       " 1239,\n",
       " 1246,\n",
       " 1247,\n",
       " 1261,\n",
       " 1263,\n",
       " 1265,\n",
       " 1289,\n",
       " 1291,\n",
       " 1294,\n",
       " 1297,\n",
       " 1298]"
      ]
     },
     "execution_count": 52,
     "metadata": {},
     "output_type": "execute_result"
    }
   ],
   "source": [
    "index_nan_age = list(train_df[\"Age\"][train_df[\"Age\"].isnull()].index)\n",
    "index_nan_age"
   ]
  },
  {
   "cell_type": "markdown",
   "id": "b30daac6",
   "metadata": {},
   "source": [
    "Yukarıda gördüğünüz sayılar, NaN value'lerin indeksleridir."
   ]
  },
  {
   "cell_type": "markdown",
   "id": "2356a0b3",
   "metadata": {},
   "source": [
    "Şimdi tek tek bu indeksleri dolaşıcaz ve bu indekslerde bulunan SibSp, Parch ve Pclass feature'lerine bakarak Age değerini tahmin etmeye çalışıcaz."
   ]
  },
  {
   "cell_type": "code",
   "execution_count": 53,
   "id": "ee8183ab",
   "metadata": {},
   "outputs": [],
   "source": [
    "for i in index_nan_age:\n",
    "    age_pred = train_df[\"Age\"][((train_df[\"SibSp\"] == train_df.iloc[i][\"SibSp\"]) & (train_df[\"Parch\"] == train_df.iloc[i][\"Parch\"]) & (train_df[\"Pclass\"] == train_df.iloc[i][\"Pclass\"]))].median"
   ]
  },
  {
   "cell_type": "code",
   "execution_count": 54,
   "id": "bea246b4",
   "metadata": {},
   "outputs": [
    {
     "data": {
      "text/plain": [
       "<bound method NDFrame._add_numeric_operations.<locals>.median of 10       4.00\n",
       "64        NaN\n",
       "126       NaN\n",
       "169      1.00\n",
       "172     18.00\n",
       "184     40.00\n",
       "246     29.00\n",
       "274     35.00\n",
       "322     31.00\n",
       "341      3.00\n",
       "345     15.00\n",
       "416     28.00\n",
       "417     18.00\n",
       "482      9.00\n",
       "525     17.00\n",
       "541     33.00\n",
       "588     36.00\n",
       "609     34.00\n",
       "615     20.00\n",
       "650     32.00\n",
       "702       NaN\n",
       "739     16.00\n",
       "791     30.00\n",
       "843      9.00\n",
       "859      4.00\n",
       "885     22.00\n",
       "961      6.00\n",
       "985     16.00\n",
       "998      1.00\n",
       "1042     7.00\n",
       "1046    26.00\n",
       "1073    11.50\n",
       "1144     1.00\n",
       "1162     0.75\n",
       "1164     9.00\n",
       "1165     2.00\n",
       "1214    19.00\n",
       "1225      NaN\n",
       "1290     3.00\n",
       "1298      NaN\n",
       "Name: Age, dtype: float64>"
      ]
     },
     "execution_count": 54,
     "metadata": {},
     "output_type": "execute_result"
    }
   ],
   "source": [
    "age_pred"
   ]
  },
  {
   "cell_type": "markdown",
   "id": "08a4cf82",
   "metadata": {},
   "source": [
    "Yukarıda gördüğünüz üzere NaN değerler var ve bu durumda bazı yerlerde tahmin yapamadık. Prediction yapamadığımız durumlar için  train_df[\"Age\"] 'in medyanını kullanalım."
   ]
  },
  {
   "cell_type": "code",
   "execution_count": 55,
   "id": "fb61ce80",
   "metadata": {},
   "outputs": [],
   "source": [
    "for i in index_nan_age:\n",
    "    age_pred = train_df[\"Age\"][((train_df[\"SibSp\"] == train_df.iloc[i][\"SibSp\"]) &(train_df[\"Parch\"] == train_df.iloc[i][\"Parch\"])& (train_df[\"Pclass\"] == train_df.iloc[i][\"Pclass\"]))].median()\n",
    "    age_med = train_df[\"Age\"].median()\n",
    "    if not np.isnan(age_pred):\n",
    "        train_df[\"Age\"].iloc[i] = age_pred\n",
    "    else:\n",
    "        train_df[\"Age\"].iloc[i] = age_med"
   ]
  },
  {
   "cell_type": "code",
   "execution_count": 56,
   "id": "3eff977e",
   "metadata": {},
   "outputs": [
    {
     "data": {
      "text/html": [
       "<div>\n",
       "<style scoped>\n",
       "    .dataframe tbody tr th:only-of-type {\n",
       "        vertical-align: middle;\n",
       "    }\n",
       "\n",
       "    .dataframe tbody tr th {\n",
       "        vertical-align: top;\n",
       "    }\n",
       "\n",
       "    .dataframe thead th {\n",
       "        text-align: right;\n",
       "    }\n",
       "</style>\n",
       "<table border=\"1\" class=\"dataframe\">\n",
       "  <thead>\n",
       "    <tr style=\"text-align: right;\">\n",
       "      <th></th>\n",
       "      <th>PassengerId</th>\n",
       "      <th>Survived</th>\n",
       "      <th>Pclass</th>\n",
       "      <th>Name</th>\n",
       "      <th>Sex</th>\n",
       "      <th>Age</th>\n",
       "      <th>SibSp</th>\n",
       "      <th>Parch</th>\n",
       "      <th>Ticket</th>\n",
       "      <th>Fare</th>\n",
       "      <th>Cabin</th>\n",
       "      <th>Embarked</th>\n",
       "    </tr>\n",
       "  </thead>\n",
       "  <tbody>\n",
       "  </tbody>\n",
       "</table>\n",
       "</div>"
      ],
      "text/plain": [
       "Empty DataFrame\n",
       "Columns: [PassengerId, Survived, Pclass, Name, Sex, Age, SibSp, Parch, Ticket, Fare, Cabin, Embarked]\n",
       "Index: []"
      ]
     },
     "execution_count": 56,
     "metadata": {},
     "output_type": "execute_result"
    }
   ],
   "source": [
    "train_df[train_df[\"Age\"].isnull()]"
   ]
  },
  {
   "cell_type": "markdown",
   "id": "3ebd2991",
   "metadata": {},
   "source": [
    "Yukarıda gördüğünüz üzere artık Age feature'sinde NaN değer bulunmamaktadır. Bu NaN değerleri ortadan kaldırırken SibSP, Pclass, Parch feature'lerini kullanmış olduk."
   ]
  },
  {
   "cell_type": "markdown",
   "id": "dbdf7f5e",
   "metadata": {},
   "source": [
    "## Feature Engineering: Name -- Title"
   ]
  },
  {
   "cell_type": "markdown",
   "id": "6ecaf015",
   "metadata": {},
   "source": [
    "Hem yeni feature'ler üretelim hemde mevcut feature'leri farklı şekillerde yorumlayalım."
   ]
  },
  {
   "cell_type": "code",
   "execution_count": 57,
   "id": "23a8839b",
   "metadata": {},
   "outputs": [
    {
     "data": {
      "text/plain": [
       "0                              Braund, Mr. Owen Harris\n",
       "1    Cumings, Mrs. John Bradley (Florence Briggs Th...\n",
       "2                               Heikkinen, Miss. Laina\n",
       "3         Futrelle, Mrs. Jacques Heath (Lily May Peel)\n",
       "4                             Allen, Mr. William Henry\n",
       "5                                     Moran, Mr. James\n",
       "6                              McCarthy, Mr. Timothy J\n",
       "7                       Palsson, Master. Gosta Leonard\n",
       "8    Johnson, Mrs. Oscar W (Elisabeth Vilhelmina Berg)\n",
       "9                  Nasser, Mrs. Nicholas (Adele Achem)\n",
       "Name: Name, dtype: object"
      ]
     },
     "execution_count": 57,
     "metadata": {},
     "output_type": "execute_result"
    }
   ],
   "source": [
    "train_df[\"Name\"].head(10)"
   ]
  },
  {
   "cell_type": "markdown",
   "id": "199b26a6",
   "metadata": {},
   "source": [
    "Yukarıda train_df içerisinde bulunan ilk 10 yolcunun isimleri yazdırılmıştır. Çıktıda görüldüğü üzere insanların isimleri ve Mr. veya Mrs. gibi ünvanları yani title'leri mevcut. Bir insanın ismine göre hayatta kalıp kalmadığını anlayamayız fakat insanların title'lerine göre yani Mr. mi yoksa Mrs. mi olduklarına göre hayatta kalıp kalmama olasılıkları değişmiş olabilir. \n",
    "\n",
    "Bu durumu inceleyelim. Öncelikle Name'in içerisinde bulunan title'leri tek tek çekelim.\n",
    "\n",
    "İfadeleri \".\" sembolüne göre ayırdıktan sonra sol kısmı alırız ve sonrasında \",\" sembolüne göre ayırarak Mr ya da Mrs ifadelerini elde edebiliriz. "
   ]
  },
  {
   "cell_type": "code",
   "execution_count": 58,
   "id": "c94f0ef8",
   "metadata": {},
   "outputs": [],
   "source": [
    "name = train_df[\"Name\"]\n",
    "train_df[\"Title\"] = [i.split(\".\")[0].split(\",\")[-1].strip() for i in name]"
   ]
  },
  {
   "cell_type": "markdown",
   "id": "ffd4a217",
   "metadata": {},
   "source": [
    "train_df[\"Title\"] = [i.split(\".\")[0].split(\",\")[-1].strip() for i in name]\n",
    "\n",
    "Bu satır ile \".\" 'ya göre ayırdık ve bu ayrım sonucunda iki tane string elde edilir. Mesela \"McCarthy, Mr. Timothy J\" sample'sine göre elde edilen 1.string \"McCarthy, Mr\" kısım ve 2.string \"Timothy J\" kısmıdır. Bu iki string bir liste içerisinde depolanır. Sonrasında elde edilen bu stringlerin 0.indeksteki yani \"McCarthy, Mr\" kısmı alınır.\n",
    "\n",
    "Sonrasında \",\" sembolünden ayrım yapılır ve tekrar iki tane string bulunduran bir liste elde edilir. Liste ['McCarthy',' Mr'] şeklindedir. Bu listenin son elemanını aldığımıda Mr ifadesi elde edilir. Son elemanı almak için -1 değeri kullanılır. Bu işlem sonucunda ' Mr' şeklinde ifade edilir ve görüldüğü üzere başta bir boşluk bulunmaktadır. Bu boşluğu kaldırmak için strip() metodu kullanılmıştır. Sonuç olarak 'Mr' ifadesi elde edilir.\n",
    "\n",
    "Elde edilen tüm title'ler oluşturduğumuz Title isimli sütuna atanır. "
   ]
  },
  {
   "cell_type": "code",
   "execution_count": 59,
   "id": "e5d49ae9",
   "metadata": {},
   "outputs": [
    {
     "data": {
      "text/plain": [
       "0        Mr\n",
       "1       Mrs\n",
       "2      Miss\n",
       "3       Mrs\n",
       "4        Mr\n",
       "5        Mr\n",
       "6        Mr\n",
       "7    Master\n",
       "8       Mrs\n",
       "9       Mrs\n",
       "Name: Title, dtype: object"
      ]
     },
     "execution_count": 59,
     "metadata": {},
     "output_type": "execute_result"
    }
   ],
   "source": [
    "train_df[\"Title\"].head(10)"
   ]
  },
  {
   "cell_type": "markdown",
   "id": "49414464",
   "metadata": {},
   "source": [
    "Yukarıda görüldüğü üzere oluşturduğumuz Title sütununda title değerleri bulunmaktadır. \n",
    "\n",
    "Mr ve Mrs ifadeleri kadın ve erkek ayrımı yapabileceğimiz değerlerdir. Bunlarda bir sıkıntı yok. Fakat çıktıda görüldüğü üzere Miss, Master gibi farklı title'lerde mevcut. Bunlar önemli ya da önemsiz title'ler olabilir. Eğer bunlar önemli title'ler ise bunların hayatta kalma oranları yüksektir. Önemsiz title'lersede hayatta kalma oranları düşüktür şeklinde yorumlar yapabiliriz. Şimdi bu durumu inceleyelim."
   ]
  },
  {
   "cell_type": "code",
   "execution_count": 60,
   "id": "e05d2256",
   "metadata": {},
   "outputs": [
    {
     "data": {
      "image/png": "[encoded data removed]",
      "text/plain": [
       "<Figure size 432x288 with 1 Axes>"
      ]
     },
     "metadata": {},
     "output_type": "display_data"
    }
   ],
   "source": [
    "sns.countplot(x='Title', data=train_df)\n",
    "plt.xticks(rotation=60) #Güzel görünmesi açısından yazılara rotasyon belirttik.\n",
    "plt.show()"
   ]
  },
  {
   "cell_type": "code",
   "execution_count": 61,
   "id": "fb81ccec",
   "metadata": {},
   "outputs": [
    {
     "data": {
      "text/plain": [
       "array(['Mr', 'Mrs', 'Miss', 'Master', 'Don', 'Rev', 'Dr', 'Mme', 'Ms',\n",
       "       'Major', 'Lady', 'Sir', 'Mlle', 'Col', 'Capt', 'the Countess',\n",
       "       'Jonkheer', 'Dona'], dtype=object)"
      ]
     },
     "execution_count": 61,
     "metadata": {},
     "output_type": "execute_result"
    }
   ],
   "source": [
    "train_df.Title.unique()"
   ]
  },
  {
   "cell_type": "markdown",
   "id": "e2d037fd",
   "metadata": {},
   "source": [
    "Çıktıyı yorumlayalım. 700'den fazla Mr, 200 tane Mrs, yaklaşık 250 tane Miss, yaklaşık 50 tane Master değerlerinin bulunduğunu görüyoruz. Toplamda 17 tane title vardır. Bu title'leri gruplayabiliriz. Don 'dan itibaren nadir bulunan title'ler bulunmakta. Bu nedenle bunları birleştirebiliriz. Şu şekilde birleştirebiliriz: Mesela Mr diye bir title yaparız, daha sonra Master diye bir title yaparız ve Miss, kadınların kullandığı title'leri birleştirip bir title yapabiliriz ve geri kalan diyede farklı bir title yapabiliriz. 4 tane kategoriden oluşan bir kategorik hal elde edebiliriz.\n",
    "\n",
    "Şimdi kategorik hale getirme işlemi yapalım."
   ]
  },
  {
   "cell_type": "code",
   "execution_count": 62,
   "id": "946c729d",
   "metadata": {},
   "outputs": [],
   "source": [
    "train_df[\"Title\"] = train_df[\"Title\"].replace([\"Lady\",\"the Countess\",\"Capt\",\"Col\",\"Don\",\"Dr\",\"Major\",\"Rev\",\"Sir\",\"Jonkheer\",\"Dona\"],\"other\") "
   ]
  },
  {
   "cell_type": "markdown",
   "id": "c0dde614",
   "metadata": {},
   "source": [
    "Yukarıda görüldüğü üzere Don 'dan itibaren olan tüm title'leri others isimli tek bir kategoride topladım."
   ]
  },
  {
   "cell_type": "markdown",
   "id": "28920641",
   "metadata": {},
   "source": [
    "Şimdi Mr, Mrs, Mme, Miss, Mlle title'lerini birleştirerek tek bir title haline getirelim."
   ]
  },
  {
   "cell_type": "code",
   "execution_count": 63,
   "id": "e986550a",
   "metadata": {},
   "outputs": [],
   "source": [
    "train_df[\"Title\"] = [0 if i==\"Master\" else 1 if i ==\"Miss\" or i==\"Ms\" or i==\"Mlle\" or i==\"Mrs\" else 2 if i ==\"Mr\" else 3 for i in train_df[\"Title\"]]"
   ]
  },
  {
   "cell_type": "markdown",
   "id": "9dcaad73",
   "metadata": {},
   "source": [
    "Yukarıda, title'leri sayısal değerleri çevirdim ve Mrs, Miss, Mme, Ms, Mlle'yi  birleştirdim."
   ]
  },
  {
   "cell_type": "code",
   "execution_count": 64,
   "id": "1cf261d9",
   "metadata": {},
   "outputs": [
    {
     "data": {
      "image/png": "[encoded data removed]",
      "text/plain": [
       "<Figure size 432x288 with 1 Axes>"
      ]
     },
     "metadata": {},
     "output_type": "display_data"
    }
   ],
   "source": [
    "sns.countplot(x='Title', data=train_df)\n",
    "plt.xticks(rotation=60) #Güzel görünmesi açısından yazılara rotasyon belirttik.\n",
    "plt.show()"
   ]
  },
  {
   "cell_type": "markdown",
   "id": "797161f9",
   "metadata": {},
   "source": [
    "Yukarıda görüldüğü üzere 0,1,2,3 olmak üzere 4 tane kategori elde ettik."
   ]
  },
  {
   "cell_type": "code",
   "execution_count": 65,
   "id": "d3e3271a",
   "metadata": {},
   "outputs": [
    {
     "data": {
      "text/plain": [
       "0     2\n",
       "1     1\n",
       "2     1\n",
       "3     1\n",
       "4     2\n",
       "5     2\n",
       "6     2\n",
       "7     0\n",
       "8     1\n",
       "9     1\n",
       "10    1\n",
       "11    1\n",
       "12    2\n",
       "13    2\n",
       "14    1\n",
       "15    1\n",
       "16    0\n",
       "17    2\n",
       "18    1\n",
       "19    1\n",
       "Name: Title, dtype: int64"
      ]
     },
     "execution_count": 65,
     "metadata": {},
     "output_type": "execute_result"
    }
   ],
   "source": [
    "train_df[\"Title\"].head(20)"
   ]
  },
  {
   "cell_type": "markdown",
   "id": "525340e8",
   "metadata": {},
   "source": [
    "Oluşturduğumuz kategorilere göre hayatta kalma oranlarına bakalım."
   ]
  },
  {
   "cell_type": "code",
   "execution_count": 66,
   "id": "242100dc",
   "metadata": {},
   "outputs": [
    {
     "data": {
      "image/png": "[encoded data removed]",
      "text/plain": [
       "<Figure size 360x360 with 1 Axes>"
      ]
     },
     "metadata": {},
     "output_type": "display_data"
    }
   ],
   "source": [
    "g = sns.factorplot(x=\"Title\", y=\"Survived\", data=train_df, kind=\"bar\")\n",
    "g.set_xticklabels([\"Master\",\"Mrs\",\"Mr\",\"Other\"])\n",
    "g.set_ylabels(\"Survival Probability\")\n",
    "plt.show()"
   ]
  },
  {
   "cell_type": "markdown",
   "id": "100daf3f",
   "metadata": {},
   "source": [
    "Hayatta kalma oranı en yüksek olan kadınlardır (Mrs) ve en düşük olan erkeklerdir (Mr)."
   ]
  },
  {
   "cell_type": "markdown",
   "id": "da667d7e",
   "metadata": {},
   "source": [
    "Name feature'sini kullanarak 4 tane kategori oluşturduk. Ve kategorileri içeren Title isimli bir feature oluşturduk. Bu nedenle train_df içerisinden Name feature'sini kaldırabiliriz. Çünkü Name feature'sine machine learning algoritmasını eğitmek için gerek kalmamıştır."
   ]
  },
  {
   "cell_type": "code",
   "execution_count": 67,
   "id": "d5d60048",
   "metadata": {},
   "outputs": [],
   "source": [
    "train_df.drop(labels = [\"Name\"], axis = 1, inplace = True)"
   ]
  },
  {
   "cell_type": "code",
   "execution_count": 68,
   "id": "c35a096b",
   "metadata": {},
   "outputs": [
    {
     "data": {
      "text/html": [
       "<div>\n",
       "<style scoped>\n",
       "    .dataframe tbody tr th:only-of-type {\n",
       "        vertical-align: middle;\n",
       "    }\n",
       "\n",
       "    .dataframe tbody tr th {\n",
       "        vertical-align: top;\n",
       "    }\n",
       "\n",
       "    .dataframe thead th {\n",
       "        text-align: right;\n",
       "    }\n",
       "</style>\n",
       "<table border=\"1\" class=\"dataframe\">\n",
       "  <thead>\n",
       "    <tr style=\"text-align: right;\">\n",
       "      <th></th>\n",
       "      <th>PassengerId</th>\n",
       "      <th>Survived</th>\n",
       "      <th>Pclass</th>\n",
       "      <th>Sex</th>\n",
       "      <th>Age</th>\n",
       "      <th>SibSp</th>\n",
       "      <th>Parch</th>\n",
       "      <th>Ticket</th>\n",
       "      <th>Fare</th>\n",
       "      <th>Cabin</th>\n",
       "      <th>Embarked</th>\n",
       "      <th>Title</th>\n",
       "    </tr>\n",
       "  </thead>\n",
       "  <tbody>\n",
       "    <tr>\n",
       "      <th>0</th>\n",
       "      <td>1</td>\n",
       "      <td>0.0</td>\n",
       "      <td>3</td>\n",
       "      <td>1</td>\n",
       "      <td>22.0</td>\n",
       "      <td>1</td>\n",
       "      <td>0</td>\n",
       "      <td>A/5 21171</td>\n",
       "      <td>7.2500</td>\n",
       "      <td>NaN</td>\n",
       "      <td>S</td>\n",
       "      <td>2</td>\n",
       "    </tr>\n",
       "    <tr>\n",
       "      <th>1</th>\n",
       "      <td>2</td>\n",
       "      <td>1.0</td>\n",
       "      <td>1</td>\n",
       "      <td>0</td>\n",
       "      <td>38.0</td>\n",
       "      <td>1</td>\n",
       "      <td>0</td>\n",
       "      <td>PC 17599</td>\n",
       "      <td>71.2833</td>\n",
       "      <td>C85</td>\n",
       "      <td>C</td>\n",
       "      <td>1</td>\n",
       "    </tr>\n",
       "    <tr>\n",
       "      <th>2</th>\n",
       "      <td>3</td>\n",
       "      <td>1.0</td>\n",
       "      <td>3</td>\n",
       "      <td>0</td>\n",
       "      <td>26.0</td>\n",
       "      <td>0</td>\n",
       "      <td>0</td>\n",
       "      <td>STON/O2. 3101282</td>\n",
       "      <td>7.9250</td>\n",
       "      <td>NaN</td>\n",
       "      <td>S</td>\n",
       "      <td>1</td>\n",
       "    </tr>\n",
       "    <tr>\n",
       "      <th>3</th>\n",
       "      <td>4</td>\n",
       "      <td>1.0</td>\n",
       "      <td>1</td>\n",
       "      <td>0</td>\n",
       "      <td>35.0</td>\n",
       "      <td>1</td>\n",
       "      <td>0</td>\n",
       "      <td>113803</td>\n",
       "      <td>53.1000</td>\n",
       "      <td>C123</td>\n",
       "      <td>S</td>\n",
       "      <td>1</td>\n",
       "    </tr>\n",
       "    <tr>\n",
       "      <th>4</th>\n",
       "      <td>5</td>\n",
       "      <td>0.0</td>\n",
       "      <td>3</td>\n",
       "      <td>1</td>\n",
       "      <td>35.0</td>\n",
       "      <td>0</td>\n",
       "      <td>0</td>\n",
       "      <td>373450</td>\n",
       "      <td>8.0500</td>\n",
       "      <td>NaN</td>\n",
       "      <td>S</td>\n",
       "      <td>2</td>\n",
       "    </tr>\n",
       "  </tbody>\n",
       "</table>\n",
       "</div>"
      ],
      "text/plain": [
       "   PassengerId  Survived  Pclass  Sex   Age  SibSp  Parch            Ticket  \\\n",
       "0            1       0.0       3    1  22.0      1      0         A/5 21171   \n",
       "1            2       1.0       1    0  38.0      1      0          PC 17599   \n",
       "2            3       1.0       3    0  26.0      0      0  STON/O2. 3101282   \n",
       "3            4       1.0       1    0  35.0      1      0            113803   \n",
       "4            5       0.0       3    1  35.0      0      0            373450   \n",
       "\n",
       "      Fare Cabin Embarked  Title  \n",
       "0   7.2500   NaN        S      2  \n",
       "1  71.2833   C85        C      1  \n",
       "2   7.9250   NaN        S      1  \n",
       "3  53.1000  C123        S      1  \n",
       "4   8.0500   NaN        S      2  "
      ]
     },
     "execution_count": 68,
     "metadata": {},
     "output_type": "execute_result"
    }
   ],
   "source": [
    "train_df.head()"
   ]
  },
  {
   "cell_type": "markdown",
   "id": "babd943a",
   "metadata": {},
   "source": [
    "Görüldüğü üzere artık Name feature'si yoktur ve Title isimli bir feature eklenmiştir."
   ]
  },
  {
   "cell_type": "markdown",
   "id": "176d7c57",
   "metadata": {},
   "source": [
    "Title'yi 0,1,2,3 yapmaktansa 4 tane Title feature'si elde edip bunları kategorik hale getirelim."
   ]
  },
  {
   "cell_type": "code",
   "execution_count": 69,
   "id": "29683819",
   "metadata": {},
   "outputs": [
    {
     "data": {
      "text/html": [
       "<div>\n",
       "<style scoped>\n",
       "    .dataframe tbody tr th:only-of-type {\n",
       "        vertical-align: middle;\n",
       "    }\n",
       "\n",
       "    .dataframe tbody tr th {\n",
       "        vertical-align: top;\n",
       "    }\n",
       "\n",
       "    .dataframe thead th {\n",
       "        text-align: right;\n",
       "    }\n",
       "</style>\n",
       "<table border=\"1\" class=\"dataframe\">\n",
       "  <thead>\n",
       "    <tr style=\"text-align: right;\">\n",
       "      <th></th>\n",
       "      <th>PassengerId</th>\n",
       "      <th>Survived</th>\n",
       "      <th>Pclass</th>\n",
       "      <th>Sex</th>\n",
       "      <th>Age</th>\n",
       "      <th>SibSp</th>\n",
       "      <th>Parch</th>\n",
       "      <th>Ticket</th>\n",
       "      <th>Fare</th>\n",
       "      <th>Cabin</th>\n",
       "      <th>Embarked</th>\n",
       "      <th>Title_0</th>\n",
       "      <th>Title_1</th>\n",
       "      <th>Title_2</th>\n",
       "      <th>Title_3</th>\n",
       "    </tr>\n",
       "  </thead>\n",
       "  <tbody>\n",
       "    <tr>\n",
       "      <th>0</th>\n",
       "      <td>1</td>\n",
       "      <td>0.0</td>\n",
       "      <td>3</td>\n",
       "      <td>1</td>\n",
       "      <td>22.0</td>\n",
       "      <td>1</td>\n",
       "      <td>0</td>\n",
       "      <td>A/5 21171</td>\n",
       "      <td>7.2500</td>\n",
       "      <td>NaN</td>\n",
       "      <td>S</td>\n",
       "      <td>0</td>\n",
       "      <td>0</td>\n",
       "      <td>1</td>\n",
       "      <td>0</td>\n",
       "    </tr>\n",
       "    <tr>\n",
       "      <th>1</th>\n",
       "      <td>2</td>\n",
       "      <td>1.0</td>\n",
       "      <td>1</td>\n",
       "      <td>0</td>\n",
       "      <td>38.0</td>\n",
       "      <td>1</td>\n",
       "      <td>0</td>\n",
       "      <td>PC 17599</td>\n",
       "      <td>71.2833</td>\n",
       "      <td>C85</td>\n",
       "      <td>C</td>\n",
       "      <td>0</td>\n",
       "      <td>1</td>\n",
       "      <td>0</td>\n",
       "      <td>0</td>\n",
       "    </tr>\n",
       "    <tr>\n",
       "      <th>2</th>\n",
       "      <td>3</td>\n",
       "      <td>1.0</td>\n",
       "      <td>3</td>\n",
       "      <td>0</td>\n",
       "      <td>26.0</td>\n",
       "      <td>0</td>\n",
       "      <td>0</td>\n",
       "      <td>STON/O2. 3101282</td>\n",
       "      <td>7.9250</td>\n",
       "      <td>NaN</td>\n",
       "      <td>S</td>\n",
       "      <td>0</td>\n",
       "      <td>1</td>\n",
       "      <td>0</td>\n",
       "      <td>0</td>\n",
       "    </tr>\n",
       "    <tr>\n",
       "      <th>3</th>\n",
       "      <td>4</td>\n",
       "      <td>1.0</td>\n",
       "      <td>1</td>\n",
       "      <td>0</td>\n",
       "      <td>35.0</td>\n",
       "      <td>1</td>\n",
       "      <td>0</td>\n",
       "      <td>113803</td>\n",
       "      <td>53.1000</td>\n",
       "      <td>C123</td>\n",
       "      <td>S</td>\n",
       "      <td>0</td>\n",
       "      <td>1</td>\n",
       "      <td>0</td>\n",
       "      <td>0</td>\n",
       "    </tr>\n",
       "    <tr>\n",
       "      <th>4</th>\n",
       "      <td>5</td>\n",
       "      <td>0.0</td>\n",
       "      <td>3</td>\n",
       "      <td>1</td>\n",
       "      <td>35.0</td>\n",
       "      <td>0</td>\n",
       "      <td>0</td>\n",
       "      <td>373450</td>\n",
       "      <td>8.0500</td>\n",
       "      <td>NaN</td>\n",
       "      <td>S</td>\n",
       "      <td>0</td>\n",
       "      <td>0</td>\n",
       "      <td>1</td>\n",
       "      <td>0</td>\n",
       "    </tr>\n",
       "  </tbody>\n",
       "</table>\n",
       "</div>"
      ],
      "text/plain": [
       "   PassengerId  Survived  Pclass  Sex   Age  SibSp  Parch            Ticket  \\\n",
       "0            1       0.0       3    1  22.0      1      0         A/5 21171   \n",
       "1            2       1.0       1    0  38.0      1      0          PC 17599   \n",
       "2            3       1.0       3    0  26.0      0      0  STON/O2. 3101282   \n",
       "3            4       1.0       1    0  35.0      1      0            113803   \n",
       "4            5       0.0       3    1  35.0      0      0            373450   \n",
       "\n",
       "      Fare Cabin Embarked  Title_0  Title_1  Title_2  Title_3  \n",
       "0   7.2500   NaN        S        0        0        1        0  \n",
       "1  71.2833   C85        C        0        1        0        0  \n",
       "2   7.9250   NaN        S        0        1        0        0  \n",
       "3  53.1000  C123        S        0        1        0        0  \n",
       "4   8.0500   NaN        S        0        0        1        0  "
      ]
     },
     "execution_count": 69,
     "metadata": {},
     "output_type": "execute_result"
    }
   ],
   "source": [
    "train_df = pd.get_dummies(train_df, columns=[\"Title\"])\n",
    "train_df.head()"
   ]
  },
  {
   "cell_type": "markdown",
   "id": "ddbf91ae",
   "metadata": {},
   "source": [
    "Görüldüğü üzere Title feature'si kalktı ve yerine Title_0, Title_1,\tTitle_2, Title_3 isimlerinde 4 tane feature geldi. Böylece Title feature'si dörde bölünmüştür."
   ]
  },
  {
   "cell_type": "markdown",
   "id": "4eb9bb41",
   "metadata": {},
   "source": [
    "## Feature Engineering: Family Size"
   ]
  },
  {
   "cell_type": "markdown",
   "id": "b4d847ff",
   "metadata": {},
   "source": [
    "Yeni bir feature oluşturalım."
   ]
  },
  {
   "cell_type": "code",
   "execution_count": 70,
   "id": "167d0940",
   "metadata": {},
   "outputs": [
    {
     "data": {
      "text/html": [
       "<div>\n",
       "<style scoped>\n",
       "    .dataframe tbody tr th:only-of-type {\n",
       "        vertical-align: middle;\n",
       "    }\n",
       "\n",
       "    .dataframe tbody tr th {\n",
       "        vertical-align: top;\n",
       "    }\n",
       "\n",
       "    .dataframe thead th {\n",
       "        text-align: right;\n",
       "    }\n",
       "</style>\n",
       "<table border=\"1\" class=\"dataframe\">\n",
       "  <thead>\n",
       "    <tr style=\"text-align: right;\">\n",
       "      <th></th>\n",
       "      <th>PassengerId</th>\n",
       "      <th>Survived</th>\n",
       "      <th>Pclass</th>\n",
       "      <th>Sex</th>\n",
       "      <th>Age</th>\n",
       "      <th>SibSp</th>\n",
       "      <th>Parch</th>\n",
       "      <th>Ticket</th>\n",
       "      <th>Fare</th>\n",
       "      <th>Cabin</th>\n",
       "      <th>Embarked</th>\n",
       "      <th>Title_0</th>\n",
       "      <th>Title_1</th>\n",
       "      <th>Title_2</th>\n",
       "      <th>Title_3</th>\n",
       "    </tr>\n",
       "  </thead>\n",
       "  <tbody>\n",
       "    <tr>\n",
       "      <th>0</th>\n",
       "      <td>1</td>\n",
       "      <td>0.0</td>\n",
       "      <td>3</td>\n",
       "      <td>1</td>\n",
       "      <td>22.0</td>\n",
       "      <td>1</td>\n",
       "      <td>0</td>\n",
       "      <td>A/5 21171</td>\n",
       "      <td>7.2500</td>\n",
       "      <td>NaN</td>\n",
       "      <td>S</td>\n",
       "      <td>0</td>\n",
       "      <td>0</td>\n",
       "      <td>1</td>\n",
       "      <td>0</td>\n",
       "    </tr>\n",
       "    <tr>\n",
       "      <th>1</th>\n",
       "      <td>2</td>\n",
       "      <td>1.0</td>\n",
       "      <td>1</td>\n",
       "      <td>0</td>\n",
       "      <td>38.0</td>\n",
       "      <td>1</td>\n",
       "      <td>0</td>\n",
       "      <td>PC 17599</td>\n",
       "      <td>71.2833</td>\n",
       "      <td>C85</td>\n",
       "      <td>C</td>\n",
       "      <td>0</td>\n",
       "      <td>1</td>\n",
       "      <td>0</td>\n",
       "      <td>0</td>\n",
       "    </tr>\n",
       "    <tr>\n",
       "      <th>2</th>\n",
       "      <td>3</td>\n",
       "      <td>1.0</td>\n",
       "      <td>3</td>\n",
       "      <td>0</td>\n",
       "      <td>26.0</td>\n",
       "      <td>0</td>\n",
       "      <td>0</td>\n",
       "      <td>STON/O2. 3101282</td>\n",
       "      <td>7.9250</td>\n",
       "      <td>NaN</td>\n",
       "      <td>S</td>\n",
       "      <td>0</td>\n",
       "      <td>1</td>\n",
       "      <td>0</td>\n",
       "      <td>0</td>\n",
       "    </tr>\n",
       "    <tr>\n",
       "      <th>3</th>\n",
       "      <td>4</td>\n",
       "      <td>1.0</td>\n",
       "      <td>1</td>\n",
       "      <td>0</td>\n",
       "      <td>35.0</td>\n",
       "      <td>1</td>\n",
       "      <td>0</td>\n",
       "      <td>113803</td>\n",
       "      <td>53.1000</td>\n",
       "      <td>C123</td>\n",
       "      <td>S</td>\n",
       "      <td>0</td>\n",
       "      <td>1</td>\n",
       "      <td>0</td>\n",
       "      <td>0</td>\n",
       "    </tr>\n",
       "    <tr>\n",
       "      <th>4</th>\n",
       "      <td>5</td>\n",
       "      <td>0.0</td>\n",
       "      <td>3</td>\n",
       "      <td>1</td>\n",
       "      <td>35.0</td>\n",
       "      <td>0</td>\n",
       "      <td>0</td>\n",
       "      <td>373450</td>\n",
       "      <td>8.0500</td>\n",
       "      <td>NaN</td>\n",
       "      <td>S</td>\n",
       "      <td>0</td>\n",
       "      <td>0</td>\n",
       "      <td>1</td>\n",
       "      <td>0</td>\n",
       "    </tr>\n",
       "  </tbody>\n",
       "</table>\n",
       "</div>"
      ],
      "text/plain": [
       "   PassengerId  Survived  Pclass  Sex   Age  SibSp  Parch            Ticket  \\\n",
       "0            1       0.0       3    1  22.0      1      0         A/5 21171   \n",
       "1            2       1.0       1    0  38.0      1      0          PC 17599   \n",
       "2            3       1.0       3    0  26.0      0      0  STON/O2. 3101282   \n",
       "3            4       1.0       1    0  35.0      1      0            113803   \n",
       "4            5       0.0       3    1  35.0      0      0            373450   \n",
       "\n",
       "      Fare Cabin Embarked  Title_0  Title_1  Title_2  Title_3  \n",
       "0   7.2500   NaN        S        0        0        1        0  \n",
       "1  71.2833   C85        C        0        1        0        0  \n",
       "2   7.9250   NaN        S        0        1        0        0  \n",
       "3  53.1000  C123        S        0        1        0        0  \n",
       "4   8.0500   NaN        S        0        0        1        0  "
      ]
     },
     "execution_count": 70,
     "metadata": {},
     "output_type": "execute_result"
    }
   ],
   "source": [
    "train_df.head()"
   ]
  },
  {
   "cell_type": "markdown",
   "id": "8a585575",
   "metadata": {},
   "source": [
    "SibSp feature'sinde kişinin eş veya kardeş sayısı bilgisi bulunur. Parch feature'sinde çocuk veya aile sayısı bilgisi bulunur. Bu 2 feature'yi birleştirerek Family Size isimli bir feature oluşturalım."
   ]
  },
  {
   "cell_type": "code",
   "execution_count": 71,
   "id": "39c8595e",
   "metadata": {},
   "outputs": [],
   "source": [
    "train_df[\"Fsize\"] = train_df[\"SibSp\"] + train_df[\"Parch\"] + 1"
   ]
  },
  {
   "cell_type": "markdown",
   "id": "49a9834b",
   "metadata": {},
   "source": [
    "1 eklenme sebebi, Parch değeri 0 ve SibSp değeri 0 ise 0+0=0 dır ve kişinin ailesi 0 kişiden oluşuyor demek mantıklı değildir. Sonuç olarak bireylerde 1 kişilik ailedir. Dolayısıyla en kötü ihtimalle yolcunun ailesi yok ise yolcunun kendisi olacağı için 1 ekliyoruz ve oluşturacağımız feature'ye 0 değil 1 yazılmasını sağlıyoruz."
   ]
  },
  {
   "cell_type": "code",
   "execution_count": 72,
   "id": "c3254669",
   "metadata": {},
   "outputs": [
    {
     "data": {
      "text/html": [
       "<div>\n",
       "<style scoped>\n",
       "    .dataframe tbody tr th:only-of-type {\n",
       "        vertical-align: middle;\n",
       "    }\n",
       "\n",
       "    .dataframe tbody tr th {\n",
       "        vertical-align: top;\n",
       "    }\n",
       "\n",
       "    .dataframe thead th {\n",
       "        text-align: right;\n",
       "    }\n",
       "</style>\n",
       "<table border=\"1\" class=\"dataframe\">\n",
       "  <thead>\n",
       "    <tr style=\"text-align: right;\">\n",
       "      <th></th>\n",
       "      <th>PassengerId</th>\n",
       "      <th>Survived</th>\n",
       "      <th>Pclass</th>\n",
       "      <th>Sex</th>\n",
       "      <th>Age</th>\n",
       "      <th>SibSp</th>\n",
       "      <th>Parch</th>\n",
       "      <th>Ticket</th>\n",
       "      <th>Fare</th>\n",
       "      <th>Cabin</th>\n",
       "      <th>Embarked</th>\n",
       "      <th>Title_0</th>\n",
       "      <th>Title_1</th>\n",
       "      <th>Title_2</th>\n",
       "      <th>Title_3</th>\n",
       "      <th>Fsize</th>\n",
       "    </tr>\n",
       "  </thead>\n",
       "  <tbody>\n",
       "    <tr>\n",
       "      <th>0</th>\n",
       "      <td>1</td>\n",
       "      <td>0.0</td>\n",
       "      <td>3</td>\n",
       "      <td>1</td>\n",
       "      <td>22.0</td>\n",
       "      <td>1</td>\n",
       "      <td>0</td>\n",
       "      <td>A/5 21171</td>\n",
       "      <td>7.2500</td>\n",
       "      <td>NaN</td>\n",
       "      <td>S</td>\n",
       "      <td>0</td>\n",
       "      <td>0</td>\n",
       "      <td>1</td>\n",
       "      <td>0</td>\n",
       "      <td>2</td>\n",
       "    </tr>\n",
       "    <tr>\n",
       "      <th>1</th>\n",
       "      <td>2</td>\n",
       "      <td>1.0</td>\n",
       "      <td>1</td>\n",
       "      <td>0</td>\n",
       "      <td>38.0</td>\n",
       "      <td>1</td>\n",
       "      <td>0</td>\n",
       "      <td>PC 17599</td>\n",
       "      <td>71.2833</td>\n",
       "      <td>C85</td>\n",
       "      <td>C</td>\n",
       "      <td>0</td>\n",
       "      <td>1</td>\n",
       "      <td>0</td>\n",
       "      <td>0</td>\n",
       "      <td>2</td>\n",
       "    </tr>\n",
       "    <tr>\n",
       "      <th>2</th>\n",
       "      <td>3</td>\n",
       "      <td>1.0</td>\n",
       "      <td>3</td>\n",
       "      <td>0</td>\n",
       "      <td>26.0</td>\n",
       "      <td>0</td>\n",
       "      <td>0</td>\n",
       "      <td>STON/O2. 3101282</td>\n",
       "      <td>7.9250</td>\n",
       "      <td>NaN</td>\n",
       "      <td>S</td>\n",
       "      <td>0</td>\n",
       "      <td>1</td>\n",
       "      <td>0</td>\n",
       "      <td>0</td>\n",
       "      <td>1</td>\n",
       "    </tr>\n",
       "    <tr>\n",
       "      <th>3</th>\n",
       "      <td>4</td>\n",
       "      <td>1.0</td>\n",
       "      <td>1</td>\n",
       "      <td>0</td>\n",
       "      <td>35.0</td>\n",
       "      <td>1</td>\n",
       "      <td>0</td>\n",
       "      <td>113803</td>\n",
       "      <td>53.1000</td>\n",
       "      <td>C123</td>\n",
       "      <td>S</td>\n",
       "      <td>0</td>\n",
       "      <td>1</td>\n",
       "      <td>0</td>\n",
       "      <td>0</td>\n",
       "      <td>2</td>\n",
       "    </tr>\n",
       "    <tr>\n",
       "      <th>4</th>\n",
       "      <td>5</td>\n",
       "      <td>0.0</td>\n",
       "      <td>3</td>\n",
       "      <td>1</td>\n",
       "      <td>35.0</td>\n",
       "      <td>0</td>\n",
       "      <td>0</td>\n",
       "      <td>373450</td>\n",
       "      <td>8.0500</td>\n",
       "      <td>NaN</td>\n",
       "      <td>S</td>\n",
       "      <td>0</td>\n",
       "      <td>0</td>\n",
       "      <td>1</td>\n",
       "      <td>0</td>\n",
       "      <td>1</td>\n",
       "    </tr>\n",
       "  </tbody>\n",
       "</table>\n",
       "</div>"
      ],
      "text/plain": [
       "   PassengerId  Survived  Pclass  Sex   Age  SibSp  Parch            Ticket  \\\n",
       "0            1       0.0       3    1  22.0      1      0         A/5 21171   \n",
       "1            2       1.0       1    0  38.0      1      0          PC 17599   \n",
       "2            3       1.0       3    0  26.0      0      0  STON/O2. 3101282   \n",
       "3            4       1.0       1    0  35.0      1      0            113803   \n",
       "4            5       0.0       3    1  35.0      0      0            373450   \n",
       "\n",
       "      Fare Cabin Embarked  Title_0  Title_1  Title_2  Title_3  Fsize  \n",
       "0   7.2500   NaN        S        0        0        1        0      2  \n",
       "1  71.2833   C85        C        0        1        0        0      2  \n",
       "2   7.9250   NaN        S        0        1        0        0      1  \n",
       "3  53.1000  C123        S        0        1        0        0      2  \n",
       "4   8.0500   NaN        S        0        0        1        0      1  "
      ]
     },
     "execution_count": 72,
     "metadata": {},
     "output_type": "execute_result"
    }
   ],
   "source": [
    "train_df.head()"
   ]
  },
  {
   "cell_type": "markdown",
   "id": "8d4bec93",
   "metadata": {},
   "source": [
    "Şimdi hayatta kalma oranı ile Fsize feature arasında ilişki olup olmadığına bakalım."
   ]
  },
  {
   "cell_type": "code",
   "execution_count": 73,
   "id": "875b233e",
   "metadata": {},
   "outputs": [
    {
     "data": {
      "image/png": "[encoded data removed]",
      "text/plain": [
       "<Figure size 360x360 with 1 Axes>"
      ]
     },
     "metadata": {},
     "output_type": "display_data"
    }
   ],
   "source": [
    "g = sns.factorplot(x = \"Fsize\", y = \"Survived\", data=train_df, kind = \"bar\")\n",
    "g.set_ylabels(\"Survival\")\n",
    "plt.show()"
   ]
  },
  {
   "cell_type": "markdown",
   "id": "8067a98e",
   "metadata": {},
   "source": [
    "Fsize=5 olana kadar, Fsize değeri arttıkça hayatta kalma oranıda artmaktadır. Fsize=5 olduğunda hayatta kalma oranı hızlı bir şekilde düşüyor. \n",
    "\n",
    "threshold=5 seçelim ve iki tane kategori oluşturalım. Fsize değeri 5 'ten küçük olanlar bir kategori, büyük olanlar bir kategori olacaktır."
   ]
  },
  {
   "cell_type": "code",
   "execution_count": 74,
   "id": "2b448237",
   "metadata": {},
   "outputs": [],
   "source": [
    "train_df[\"family_size\"] = [1 if i < 5 else 0 for i in train_df[\"Fsize\"]]"
   ]
  },
  {
   "cell_type": "code",
   "execution_count": 75,
   "id": "304ad2f5",
   "metadata": {},
   "outputs": [
    {
     "data": {
      "text/html": [
       "<div>\n",
       "<style scoped>\n",
       "    .dataframe tbody tr th:only-of-type {\n",
       "        vertical-align: middle;\n",
       "    }\n",
       "\n",
       "    .dataframe tbody tr th {\n",
       "        vertical-align: top;\n",
       "    }\n",
       "\n",
       "    .dataframe thead th {\n",
       "        text-align: right;\n",
       "    }\n",
       "</style>\n",
       "<table border=\"1\" class=\"dataframe\">\n",
       "  <thead>\n",
       "    <tr style=\"text-align: right;\">\n",
       "      <th></th>\n",
       "      <th>PassengerId</th>\n",
       "      <th>Survived</th>\n",
       "      <th>Pclass</th>\n",
       "      <th>Sex</th>\n",
       "      <th>Age</th>\n",
       "      <th>SibSp</th>\n",
       "      <th>Parch</th>\n",
       "      <th>Ticket</th>\n",
       "      <th>Fare</th>\n",
       "      <th>Cabin</th>\n",
       "      <th>Embarked</th>\n",
       "      <th>Title_0</th>\n",
       "      <th>Title_1</th>\n",
       "      <th>Title_2</th>\n",
       "      <th>Title_3</th>\n",
       "      <th>Fsize</th>\n",
       "      <th>family_size</th>\n",
       "    </tr>\n",
       "  </thead>\n",
       "  <tbody>\n",
       "    <tr>\n",
       "      <th>0</th>\n",
       "      <td>1</td>\n",
       "      <td>0.0</td>\n",
       "      <td>3</td>\n",
       "      <td>1</td>\n",
       "      <td>22.0</td>\n",
       "      <td>1</td>\n",
       "      <td>0</td>\n",
       "      <td>A/5 21171</td>\n",
       "      <td>7.2500</td>\n",
       "      <td>NaN</td>\n",
       "      <td>S</td>\n",
       "      <td>0</td>\n",
       "      <td>0</td>\n",
       "      <td>1</td>\n",
       "      <td>0</td>\n",
       "      <td>2</td>\n",
       "      <td>1</td>\n",
       "    </tr>\n",
       "    <tr>\n",
       "      <th>1</th>\n",
       "      <td>2</td>\n",
       "      <td>1.0</td>\n",
       "      <td>1</td>\n",
       "      <td>0</td>\n",
       "      <td>38.0</td>\n",
       "      <td>1</td>\n",
       "      <td>0</td>\n",
       "      <td>PC 17599</td>\n",
       "      <td>71.2833</td>\n",
       "      <td>C85</td>\n",
       "      <td>C</td>\n",
       "      <td>0</td>\n",
       "      <td>1</td>\n",
       "      <td>0</td>\n",
       "      <td>0</td>\n",
       "      <td>2</td>\n",
       "      <td>1</td>\n",
       "    </tr>\n",
       "    <tr>\n",
       "      <th>2</th>\n",
       "      <td>3</td>\n",
       "      <td>1.0</td>\n",
       "      <td>3</td>\n",
       "      <td>0</td>\n",
       "      <td>26.0</td>\n",
       "      <td>0</td>\n",
       "      <td>0</td>\n",
       "      <td>STON/O2. 3101282</td>\n",
       "      <td>7.9250</td>\n",
       "      <td>NaN</td>\n",
       "      <td>S</td>\n",
       "      <td>0</td>\n",
       "      <td>1</td>\n",
       "      <td>0</td>\n",
       "      <td>0</td>\n",
       "      <td>1</td>\n",
       "      <td>1</td>\n",
       "    </tr>\n",
       "    <tr>\n",
       "      <th>3</th>\n",
       "      <td>4</td>\n",
       "      <td>1.0</td>\n",
       "      <td>1</td>\n",
       "      <td>0</td>\n",
       "      <td>35.0</td>\n",
       "      <td>1</td>\n",
       "      <td>0</td>\n",
       "      <td>113803</td>\n",
       "      <td>53.1000</td>\n",
       "      <td>C123</td>\n",
       "      <td>S</td>\n",
       "      <td>0</td>\n",
       "      <td>1</td>\n",
       "      <td>0</td>\n",
       "      <td>0</td>\n",
       "      <td>2</td>\n",
       "      <td>1</td>\n",
       "    </tr>\n",
       "    <tr>\n",
       "      <th>4</th>\n",
       "      <td>5</td>\n",
       "      <td>0.0</td>\n",
       "      <td>3</td>\n",
       "      <td>1</td>\n",
       "      <td>35.0</td>\n",
       "      <td>0</td>\n",
       "      <td>0</td>\n",
       "      <td>373450</td>\n",
       "      <td>8.0500</td>\n",
       "      <td>NaN</td>\n",
       "      <td>S</td>\n",
       "      <td>0</td>\n",
       "      <td>0</td>\n",
       "      <td>1</td>\n",
       "      <td>0</td>\n",
       "      <td>1</td>\n",
       "      <td>1</td>\n",
       "    </tr>\n",
       "    <tr>\n",
       "      <th>5</th>\n",
       "      <td>6</td>\n",
       "      <td>0.0</td>\n",
       "      <td>3</td>\n",
       "      <td>1</td>\n",
       "      <td>25.0</td>\n",
       "      <td>0</td>\n",
       "      <td>0</td>\n",
       "      <td>330877</td>\n",
       "      <td>8.4583</td>\n",
       "      <td>NaN</td>\n",
       "      <td>Q</td>\n",
       "      <td>0</td>\n",
       "      <td>0</td>\n",
       "      <td>1</td>\n",
       "      <td>0</td>\n",
       "      <td>1</td>\n",
       "      <td>1</td>\n",
       "    </tr>\n",
       "    <tr>\n",
       "      <th>6</th>\n",
       "      <td>7</td>\n",
       "      <td>0.0</td>\n",
       "      <td>1</td>\n",
       "      <td>1</td>\n",
       "      <td>54.0</td>\n",
       "      <td>0</td>\n",
       "      <td>0</td>\n",
       "      <td>17463</td>\n",
       "      <td>51.8625</td>\n",
       "      <td>E46</td>\n",
       "      <td>S</td>\n",
       "      <td>0</td>\n",
       "      <td>0</td>\n",
       "      <td>1</td>\n",
       "      <td>0</td>\n",
       "      <td>1</td>\n",
       "      <td>1</td>\n",
       "    </tr>\n",
       "    <tr>\n",
       "      <th>7</th>\n",
       "      <td>8</td>\n",
       "      <td>0.0</td>\n",
       "      <td>3</td>\n",
       "      <td>1</td>\n",
       "      <td>2.0</td>\n",
       "      <td>3</td>\n",
       "      <td>1</td>\n",
       "      <td>349909</td>\n",
       "      <td>21.0750</td>\n",
       "      <td>NaN</td>\n",
       "      <td>S</td>\n",
       "      <td>1</td>\n",
       "      <td>0</td>\n",
       "      <td>0</td>\n",
       "      <td>0</td>\n",
       "      <td>5</td>\n",
       "      <td>0</td>\n",
       "    </tr>\n",
       "    <tr>\n",
       "      <th>8</th>\n",
       "      <td>9</td>\n",
       "      <td>1.0</td>\n",
       "      <td>3</td>\n",
       "      <td>0</td>\n",
       "      <td>27.0</td>\n",
       "      <td>0</td>\n",
       "      <td>2</td>\n",
       "      <td>347742</td>\n",
       "      <td>11.1333</td>\n",
       "      <td>NaN</td>\n",
       "      <td>S</td>\n",
       "      <td>0</td>\n",
       "      <td>1</td>\n",
       "      <td>0</td>\n",
       "      <td>0</td>\n",
       "      <td>3</td>\n",
       "      <td>1</td>\n",
       "    </tr>\n",
       "    <tr>\n",
       "      <th>9</th>\n",
       "      <td>10</td>\n",
       "      <td>1.0</td>\n",
       "      <td>2</td>\n",
       "      <td>0</td>\n",
       "      <td>14.0</td>\n",
       "      <td>1</td>\n",
       "      <td>0</td>\n",
       "      <td>237736</td>\n",
       "      <td>30.0708</td>\n",
       "      <td>NaN</td>\n",
       "      <td>C</td>\n",
       "      <td>0</td>\n",
       "      <td>1</td>\n",
       "      <td>0</td>\n",
       "      <td>0</td>\n",
       "      <td>2</td>\n",
       "      <td>1</td>\n",
       "    </tr>\n",
       "  </tbody>\n",
       "</table>\n",
       "</div>"
      ],
      "text/plain": [
       "   PassengerId  Survived  Pclass  Sex   Age  SibSp  Parch            Ticket  \\\n",
       "0            1       0.0       3    1  22.0      1      0         A/5 21171   \n",
       "1            2       1.0       1    0  38.0      1      0          PC 17599   \n",
       "2            3       1.0       3    0  26.0      0      0  STON/O2. 3101282   \n",
       "3            4       1.0       1    0  35.0      1      0            113803   \n",
       "4            5       0.0       3    1  35.0      0      0            373450   \n",
       "5            6       0.0       3    1  25.0      0      0            330877   \n",
       "6            7       0.0       1    1  54.0      0      0             17463   \n",
       "7            8       0.0       3    1   2.0      3      1            349909   \n",
       "8            9       1.0       3    0  27.0      0      2            347742   \n",
       "9           10       1.0       2    0  14.0      1      0            237736   \n",
       "\n",
       "      Fare Cabin Embarked  Title_0  Title_1  Title_2  Title_3  Fsize  \\\n",
       "0   7.2500   NaN        S        0        0        1        0      2   \n",
       "1  71.2833   C85        C        0        1        0        0      2   \n",
       "2   7.9250   NaN        S        0        1        0        0      1   \n",
       "3  53.1000  C123        S        0        1        0        0      2   \n",
       "4   8.0500   NaN        S        0        0        1        0      1   \n",
       "5   8.4583   NaN        Q        0        0        1        0      1   \n",
       "6  51.8625   E46        S        0        0        1        0      1   \n",
       "7  21.0750   NaN        S        1        0        0        0      5   \n",
       "8  11.1333   NaN        S        0        1        0        0      3   \n",
       "9  30.0708   NaN        C        0        1        0        0      2   \n",
       "\n",
       "   family_size  \n",
       "0            1  \n",
       "1            1  \n",
       "2            1  \n",
       "3            1  \n",
       "4            1  \n",
       "5            1  \n",
       "6            1  \n",
       "7            0  \n",
       "8            1  \n",
       "9            1  "
      ]
     },
     "execution_count": 75,
     "metadata": {},
     "output_type": "execute_result"
    }
   ],
   "source": [
    "train_df.head(10)"
   ]
  },
  {
   "cell_type": "markdown",
   "id": "9719432f",
   "metadata": {},
   "source": [
    "family_size feature'sinde kaç tane 0 ve kaç tane 1 olduğuna count plot ile bakalım."
   ]
  },
  {
   "cell_type": "code",
   "execution_count": 76,
   "id": "8b5dbc9b",
   "metadata": {},
   "outputs": [
    {
     "data": {
      "image/png": "[encoded data removed]",
      "text/plain": [
       "<Figure size 432x288 with 1 Axes>"
      ]
     },
     "metadata": {},
     "output_type": "display_data"
    }
   ],
   "source": [
    "sns.countplot(x = \"family_size\", data = train_df)\n",
    "plt.show()"
   ]
  },
  {
   "cell_type": "markdown",
   "id": "516a8b75",
   "metadata": {},
   "source": [
    "Çıktıyı yorumlayalım. Yaklaşık 100 tane 0 var ve yaklaşık 1200 tane 1 vardır.\n",
    "\n",
    "Şimdi bunların hayatta kalma oranı ile ilişkilerine bakalım."
   ]
  },
  {
   "cell_type": "code",
   "execution_count": 77,
   "id": "6abeac2d",
   "metadata": {},
   "outputs": [
    {
     "data": {
      "image/png": "[encoded data removed]",
      "text/plain": [
       "<Figure size 360x360 with 1 Axes>"
      ]
     },
     "metadata": {},
     "output_type": "display_data"
    }
   ],
   "source": [
    "g = sns.factorplot(x = \"family_size\", y = \"Survived\", data = train_df, kind = \"bar\")\n",
    "g.set_ylabels(\"Survival\")\n",
    "plt.show()"
   ]
  },
  {
   "cell_type": "markdown",
   "id": "ec999ddf",
   "metadata": {},
   "source": [
    "family_size=0 değerleri yaklaşık 0.15'lik bir hayatta kalma oranına sahip ve family_size=1 değerleri yaklaşık 0.4'lik bir hayatta kalma oranına sahiptir.\n",
    "\n",
    "Sonuç olarak, ailesinin içerisinde çok fazla bireye sahip kişilerin hayatta kalma oranları daha küçüktür. Ama küçük ailelerde hayatta kalma oranı büyük ailelere göre daha yüksektir yorumunu yapabiliriz.\n",
    "\n",
    "Şimdi family_size feature'sindeki 0 ve 1 değerlerini iki tane feature'ye dökelim."
   ]
  },
  {
   "cell_type": "code",
   "execution_count": 78,
   "id": "4f4f4527",
   "metadata": {},
   "outputs": [
    {
     "data": {
      "text/html": [
       "<div>\n",
       "<style scoped>\n",
       "    .dataframe tbody tr th:only-of-type {\n",
       "        vertical-align: middle;\n",
       "    }\n",
       "\n",
       "    .dataframe tbody tr th {\n",
       "        vertical-align: top;\n",
       "    }\n",
       "\n",
       "    .dataframe thead th {\n",
       "        text-align: right;\n",
       "    }\n",
       "</style>\n",
       "<table border=\"1\" class=\"dataframe\">\n",
       "  <thead>\n",
       "    <tr style=\"text-align: right;\">\n",
       "      <th></th>\n",
       "      <th>PassengerId</th>\n",
       "      <th>Survived</th>\n",
       "      <th>Pclass</th>\n",
       "      <th>Sex</th>\n",
       "      <th>Age</th>\n",
       "      <th>SibSp</th>\n",
       "      <th>Parch</th>\n",
       "      <th>Ticket</th>\n",
       "      <th>Fare</th>\n",
       "      <th>Cabin</th>\n",
       "      <th>Embarked</th>\n",
       "      <th>Title_0</th>\n",
       "      <th>Title_1</th>\n",
       "      <th>Title_2</th>\n",
       "      <th>Title_3</th>\n",
       "      <th>Fsize</th>\n",
       "      <th>family_size_0</th>\n",
       "      <th>family_size_1</th>\n",
       "    </tr>\n",
       "  </thead>\n",
       "  <tbody>\n",
       "    <tr>\n",
       "      <th>0</th>\n",
       "      <td>1</td>\n",
       "      <td>0.0</td>\n",
       "      <td>3</td>\n",
       "      <td>1</td>\n",
       "      <td>22.0</td>\n",
       "      <td>1</td>\n",
       "      <td>0</td>\n",
       "      <td>A/5 21171</td>\n",
       "      <td>7.2500</td>\n",
       "      <td>NaN</td>\n",
       "      <td>S</td>\n",
       "      <td>0</td>\n",
       "      <td>0</td>\n",
       "      <td>1</td>\n",
       "      <td>0</td>\n",
       "      <td>2</td>\n",
       "      <td>0</td>\n",
       "      <td>1</td>\n",
       "    </tr>\n",
       "    <tr>\n",
       "      <th>1</th>\n",
       "      <td>2</td>\n",
       "      <td>1.0</td>\n",
       "      <td>1</td>\n",
       "      <td>0</td>\n",
       "      <td>38.0</td>\n",
       "      <td>1</td>\n",
       "      <td>0</td>\n",
       "      <td>PC 17599</td>\n",
       "      <td>71.2833</td>\n",
       "      <td>C85</td>\n",
       "      <td>C</td>\n",
       "      <td>0</td>\n",
       "      <td>1</td>\n",
       "      <td>0</td>\n",
       "      <td>0</td>\n",
       "      <td>2</td>\n",
       "      <td>0</td>\n",
       "      <td>1</td>\n",
       "    </tr>\n",
       "    <tr>\n",
       "      <th>2</th>\n",
       "      <td>3</td>\n",
       "      <td>1.0</td>\n",
       "      <td>3</td>\n",
       "      <td>0</td>\n",
       "      <td>26.0</td>\n",
       "      <td>0</td>\n",
       "      <td>0</td>\n",
       "      <td>STON/O2. 3101282</td>\n",
       "      <td>7.9250</td>\n",
       "      <td>NaN</td>\n",
       "      <td>S</td>\n",
       "      <td>0</td>\n",
       "      <td>1</td>\n",
       "      <td>0</td>\n",
       "      <td>0</td>\n",
       "      <td>1</td>\n",
       "      <td>0</td>\n",
       "      <td>1</td>\n",
       "    </tr>\n",
       "    <tr>\n",
       "      <th>3</th>\n",
       "      <td>4</td>\n",
       "      <td>1.0</td>\n",
       "      <td>1</td>\n",
       "      <td>0</td>\n",
       "      <td>35.0</td>\n",
       "      <td>1</td>\n",
       "      <td>0</td>\n",
       "      <td>113803</td>\n",
       "      <td>53.1000</td>\n",
       "      <td>C123</td>\n",
       "      <td>S</td>\n",
       "      <td>0</td>\n",
       "      <td>1</td>\n",
       "      <td>0</td>\n",
       "      <td>0</td>\n",
       "      <td>2</td>\n",
       "      <td>0</td>\n",
       "      <td>1</td>\n",
       "    </tr>\n",
       "    <tr>\n",
       "      <th>4</th>\n",
       "      <td>5</td>\n",
       "      <td>0.0</td>\n",
       "      <td>3</td>\n",
       "      <td>1</td>\n",
       "      <td>35.0</td>\n",
       "      <td>0</td>\n",
       "      <td>0</td>\n",
       "      <td>373450</td>\n",
       "      <td>8.0500</td>\n",
       "      <td>NaN</td>\n",
       "      <td>S</td>\n",
       "      <td>0</td>\n",
       "      <td>0</td>\n",
       "      <td>1</td>\n",
       "      <td>0</td>\n",
       "      <td>1</td>\n",
       "      <td>0</td>\n",
       "      <td>1</td>\n",
       "    </tr>\n",
       "  </tbody>\n",
       "</table>\n",
       "</div>"
      ],
      "text/plain": [
       "   PassengerId  Survived  Pclass  Sex   Age  SibSp  Parch            Ticket  \\\n",
       "0            1       0.0       3    1  22.0      1      0         A/5 21171   \n",
       "1            2       1.0       1    0  38.0      1      0          PC 17599   \n",
       "2            3       1.0       3    0  26.0      0      0  STON/O2. 3101282   \n",
       "3            4       1.0       1    0  35.0      1      0            113803   \n",
       "4            5       0.0       3    1  35.0      0      0            373450   \n",
       "\n",
       "      Fare Cabin Embarked  Title_0  Title_1  Title_2  Title_3  Fsize  \\\n",
       "0   7.2500   NaN        S        0        0        1        0      2   \n",
       "1  71.2833   C85        C        0        1        0        0      2   \n",
       "2   7.9250   NaN        S        0        1        0        0      1   \n",
       "3  53.1000  C123        S        0        1        0        0      2   \n",
       "4   8.0500   NaN        S        0        0        1        0      1   \n",
       "\n",
       "   family_size_0  family_size_1  \n",
       "0              0              1  \n",
       "1              0              1  \n",
       "2              0              1  \n",
       "3              0              1  \n",
       "4              0              1  "
      ]
     },
     "execution_count": 78,
     "metadata": {},
     "output_type": "execute_result"
    }
   ],
   "source": [
    "train_df = pd.get_dummies(train_df, columns= [\"family_size\"])\n",
    "train_df.head()"
   ]
  },
  {
   "cell_type": "markdown",
   "id": "456b254e",
   "metadata": {},
   "source": [
    "Çıktıda gördülüğü üzere family_size feature'si ortadan kalktı, family_size_0 ve family_size_1 isimlerinde iki tane feature oluştu."
   ]
  },
  {
   "cell_type": "markdown",
   "id": "d1672578",
   "metadata": {},
   "source": [
    "## Feature Engineering: Embarked"
   ]
  },
  {
   "cell_type": "markdown",
   "id": "dcc2362e",
   "metadata": {},
   "source": [
    "Embarked feature'sinde yolcuların hangi limandan bindiğine dair bilgiler bulunmaktadır."
   ]
  },
  {
   "cell_type": "code",
   "execution_count": 79,
   "id": "45ff5726",
   "metadata": {},
   "outputs": [
    {
     "data": {
      "text/plain": [
       "0    S\n",
       "1    C\n",
       "2    S\n",
       "3    S\n",
       "4    S\n",
       "Name: Embarked, dtype: object"
      ]
     },
     "execution_count": 79,
     "metadata": {},
     "output_type": "execute_result"
    }
   ],
   "source": [
    "train_df[\"Embarked\"].head()"
   ]
  },
  {
   "cell_type": "markdown",
   "id": "1b320ff3",
   "metadata": {},
   "source": [
    "Embarked feature'sinde S,C,Q değerleri bulunmaktadır. Şimdi bu değerlerden kaçar tane bulunduğuna bakalım."
   ]
  },
  {
   "cell_type": "code",
   "execution_count": 80,
   "id": "59d7b6ed",
   "metadata": {},
   "outputs": [
    {
     "data": {
      "image/png": "[encoded data removed]",
      "text/plain": [
       "<Figure size 432x288 with 1 Axes>"
      ]
     },
     "metadata": {},
     "output_type": "display_data"
    }
   ],
   "source": [
    "sns.countplot(x = \"Embarked\", data = train_df)\n",
    "plt.show()"
   ]
  },
  {
   "cell_type": "markdown",
   "id": "9aae79b0",
   "metadata": {},
   "source": [
    "S limanından gemiye binen yolcu sayısı 800'den fazladır. C limanından gemiye binen yolcu sayısı yaklaşık 250 kişidir. Q limanından gemiye binen yolcu sayısı yaklaşık 150 kişidir. \n",
    "\n",
    "Şimdi Embarked feature'sini ortadan kaldıralım ve S,Q,C değerlerinin her birisi için yeni feature'ler oluşturalım. Yani Embarked feature'sini üçe bölelim."
   ]
  },
  {
   "cell_type": "code",
   "execution_count": 81,
   "id": "f9b7c819",
   "metadata": {},
   "outputs": [
    {
     "data": {
      "text/html": [
       "<div>\n",
       "<style scoped>\n",
       "    .dataframe tbody tr th:only-of-type {\n",
       "        vertical-align: middle;\n",
       "    }\n",
       "\n",
       "    .dataframe tbody tr th {\n",
       "        vertical-align: top;\n",
       "    }\n",
       "\n",
       "    .dataframe thead th {\n",
       "        text-align: right;\n",
       "    }\n",
       "</style>\n",
       "<table border=\"1\" class=\"dataframe\">\n",
       "  <thead>\n",
       "    <tr style=\"text-align: right;\">\n",
       "      <th></th>\n",
       "      <th>PassengerId</th>\n",
       "      <th>Survived</th>\n",
       "      <th>Pclass</th>\n",
       "      <th>Sex</th>\n",
       "      <th>Age</th>\n",
       "      <th>SibSp</th>\n",
       "      <th>Parch</th>\n",
       "      <th>Ticket</th>\n",
       "      <th>Fare</th>\n",
       "      <th>Cabin</th>\n",
       "      <th>Title_0</th>\n",
       "      <th>Title_1</th>\n",
       "      <th>Title_2</th>\n",
       "      <th>Title_3</th>\n",
       "      <th>Fsize</th>\n",
       "      <th>family_size_0</th>\n",
       "      <th>family_size_1</th>\n",
       "      <th>Embarked_C</th>\n",
       "      <th>Embarked_Q</th>\n",
       "      <th>Embarked_S</th>\n",
       "    </tr>\n",
       "  </thead>\n",
       "  <tbody>\n",
       "    <tr>\n",
       "      <th>0</th>\n",
       "      <td>1</td>\n",
       "      <td>0.0</td>\n",
       "      <td>3</td>\n",
       "      <td>1</td>\n",
       "      <td>22.0</td>\n",
       "      <td>1</td>\n",
       "      <td>0</td>\n",
       "      <td>A/5 21171</td>\n",
       "      <td>7.2500</td>\n",
       "      <td>NaN</td>\n",
       "      <td>0</td>\n",
       "      <td>0</td>\n",
       "      <td>1</td>\n",
       "      <td>0</td>\n",
       "      <td>2</td>\n",
       "      <td>0</td>\n",
       "      <td>1</td>\n",
       "      <td>0</td>\n",
       "      <td>0</td>\n",
       "      <td>1</td>\n",
       "    </tr>\n",
       "    <tr>\n",
       "      <th>1</th>\n",
       "      <td>2</td>\n",
       "      <td>1.0</td>\n",
       "      <td>1</td>\n",
       "      <td>0</td>\n",
       "      <td>38.0</td>\n",
       "      <td>1</td>\n",
       "      <td>0</td>\n",
       "      <td>PC 17599</td>\n",
       "      <td>71.2833</td>\n",
       "      <td>C85</td>\n",
       "      <td>0</td>\n",
       "      <td>1</td>\n",
       "      <td>0</td>\n",
       "      <td>0</td>\n",
       "      <td>2</td>\n",
       "      <td>0</td>\n",
       "      <td>1</td>\n",
       "      <td>1</td>\n",
       "      <td>0</td>\n",
       "      <td>0</td>\n",
       "    </tr>\n",
       "    <tr>\n",
       "      <th>2</th>\n",
       "      <td>3</td>\n",
       "      <td>1.0</td>\n",
       "      <td>3</td>\n",
       "      <td>0</td>\n",
       "      <td>26.0</td>\n",
       "      <td>0</td>\n",
       "      <td>0</td>\n",
       "      <td>STON/O2. 3101282</td>\n",
       "      <td>7.9250</td>\n",
       "      <td>NaN</td>\n",
       "      <td>0</td>\n",
       "      <td>1</td>\n",
       "      <td>0</td>\n",
       "      <td>0</td>\n",
       "      <td>1</td>\n",
       "      <td>0</td>\n",
       "      <td>1</td>\n",
       "      <td>0</td>\n",
       "      <td>0</td>\n",
       "      <td>1</td>\n",
       "    </tr>\n",
       "    <tr>\n",
       "      <th>3</th>\n",
       "      <td>4</td>\n",
       "      <td>1.0</td>\n",
       "      <td>1</td>\n",
       "      <td>0</td>\n",
       "      <td>35.0</td>\n",
       "      <td>1</td>\n",
       "      <td>0</td>\n",
       "      <td>113803</td>\n",
       "      <td>53.1000</td>\n",
       "      <td>C123</td>\n",
       "      <td>0</td>\n",
       "      <td>1</td>\n",
       "      <td>0</td>\n",
       "      <td>0</td>\n",
       "      <td>2</td>\n",
       "      <td>0</td>\n",
       "      <td>1</td>\n",
       "      <td>0</td>\n",
       "      <td>0</td>\n",
       "      <td>1</td>\n",
       "    </tr>\n",
       "    <tr>\n",
       "      <th>4</th>\n",
       "      <td>5</td>\n",
       "      <td>0.0</td>\n",
       "      <td>3</td>\n",
       "      <td>1</td>\n",
       "      <td>35.0</td>\n",
       "      <td>0</td>\n",
       "      <td>0</td>\n",
       "      <td>373450</td>\n",
       "      <td>8.0500</td>\n",
       "      <td>NaN</td>\n",
       "      <td>0</td>\n",
       "      <td>0</td>\n",
       "      <td>1</td>\n",
       "      <td>0</td>\n",
       "      <td>1</td>\n",
       "      <td>0</td>\n",
       "      <td>1</td>\n",
       "      <td>0</td>\n",
       "      <td>0</td>\n",
       "      <td>1</td>\n",
       "    </tr>\n",
       "  </tbody>\n",
       "</table>\n",
       "</div>"
      ],
      "text/plain": [
       "   PassengerId  Survived  Pclass  Sex   Age  SibSp  Parch            Ticket  \\\n",
       "0            1       0.0       3    1  22.0      1      0         A/5 21171   \n",
       "1            2       1.0       1    0  38.0      1      0          PC 17599   \n",
       "2            3       1.0       3    0  26.0      0      0  STON/O2. 3101282   \n",
       "3            4       1.0       1    0  35.0      1      0            113803   \n",
       "4            5       0.0       3    1  35.0      0      0            373450   \n",
       "\n",
       "      Fare Cabin  Title_0  Title_1  Title_2  Title_3  Fsize  family_size_0  \\\n",
       "0   7.2500   NaN        0        0        1        0      2              0   \n",
       "1  71.2833   C85        0        1        0        0      2              0   \n",
       "2   7.9250   NaN        0        1        0        0      1              0   \n",
       "3  53.1000  C123        0        1        0        0      2              0   \n",
       "4   8.0500   NaN        0        0        1        0      1              0   \n",
       "\n",
       "   family_size_1  Embarked_C  Embarked_Q  Embarked_S  \n",
       "0              1           0           0           1  \n",
       "1              1           1           0           0  \n",
       "2              1           0           0           1  \n",
       "3              1           0           0           1  \n",
       "4              1           0           0           1  "
      ]
     },
     "execution_count": 81,
     "metadata": {},
     "output_type": "execute_result"
    }
   ],
   "source": [
    "train_df = pd.get_dummies(train_df, columns=[\"Embarked\"])\n",
    "train_df.head()"
   ]
  },
  {
   "cell_type": "markdown",
   "id": "3027887d",
   "metadata": {},
   "source": [
    "Çıktıda gördüldüğü üzere Embarked feature'si kaldırıldı ve \tEmbarked_C,\tEmbarked_Q,\tEmbarked_S isimlerinde 3 tane feature elde edildi."
   ]
  },
  {
   "cell_type": "markdown",
   "id": "b918d1dc",
   "metadata": {},
   "source": [
    "## Feature Engineering: Ticket"
   ]
  },
  {
   "cell_type": "code",
   "execution_count": 82,
   "id": "9b2138cf",
   "metadata": {},
   "outputs": [
    {
     "data": {
      "text/plain": [
       "0            A/5 21171\n",
       "1             PC 17599\n",
       "2     STON/O2. 3101282\n",
       "3               113803\n",
       "4               373450\n",
       "5               330877\n",
       "6                17463\n",
       "7               349909\n",
       "8               347742\n",
       "9               237736\n",
       "10             PP 9549\n",
       "11              113783\n",
       "12           A/5. 2151\n",
       "13              347082\n",
       "14              350406\n",
       "15              248706\n",
       "16              382652\n",
       "17              244373\n",
       "18              345763\n",
       "19                2649\n",
       "Name: Ticket, dtype: object"
      ]
     },
     "execution_count": 82,
     "metadata": {},
     "output_type": "execute_result"
    }
   ],
   "source": [
    "train_df[\"Ticket\"].head(20)"
   ]
  },
  {
   "cell_type": "markdown",
   "id": "af152e2a",
   "metadata": {},
   "source": [
    "Çıktıdaki ifadeleri boşluk sembolünden ayırdığımızda bazılarında sol tarafta ifadeler var bazılarında yok. Şimdi baştaki yazıları, sondaki yazılardan yani boşluk sembolünden ayıracağız ve 0.indeks konumunda hiçbir şey yok ise, hiçbir şey yok anlamında X sembolünü vereceğiz. "
   ]
  },
  {
   "cell_type": "code",
   "execution_count": 83,
   "id": "1013adc9",
   "metadata": {},
   "outputs": [],
   "source": [
    "tickets = []\n",
    "for i in list(train_df.Ticket):\n",
    "    if not i.isdigit():\n",
    "        tickets.append(i.replace(\".\",\"\").replace(\"/\",\"\").strip().split(\" \")[0])\n",
    "    else:\n",
    "        tickets.append(\"x\")\n",
    "train_df[\"Ticket\"] = tickets"
   ]
  },
  {
   "cell_type": "code",
   "execution_count": 84,
   "id": "84605dd4",
   "metadata": {},
   "outputs": [
    {
     "data": {
      "text/plain": [
       "0         A5\n",
       "1         PC\n",
       "2     STONO2\n",
       "3          x\n",
       "4          x\n",
       "5          x\n",
       "6          x\n",
       "7          x\n",
       "8          x\n",
       "9          x\n",
       "10        PP\n",
       "11         x\n",
       "12        A5\n",
       "13         x\n",
       "14         x\n",
       "15         x\n",
       "16         x\n",
       "17         x\n",
       "18         x\n",
       "19         x\n",
       "Name: Ticket, dtype: object"
      ]
     },
     "execution_count": 84,
     "metadata": {},
     "output_type": "execute_result"
    }
   ],
   "source": [
    "train_df[\"Ticket\"].head(20)"
   ]
  },
  {
   "cell_type": "markdown",
   "id": "3f58a2c7",
   "metadata": {},
   "source": [
    "Çıktıda görüldüğü üzere, sondaki sayıları kaldırarak, baştaki ifadelerin olmasını sağladık ve sayıdan önce ifade olmayan satırlara X ekledik."
   ]
  },
  {
   "cell_type": "code",
   "execution_count": 85,
   "id": "1df9abee",
   "metadata": {},
   "outputs": [
    {
     "data": {
      "text/html": [
       "<div>\n",
       "<style scoped>\n",
       "    .dataframe tbody tr th:only-of-type {\n",
       "        vertical-align: middle;\n",
       "    }\n",
       "\n",
       "    .dataframe tbody tr th {\n",
       "        vertical-align: top;\n",
       "    }\n",
       "\n",
       "    .dataframe thead th {\n",
       "        text-align: right;\n",
       "    }\n",
       "</style>\n",
       "<table border=\"1\" class=\"dataframe\">\n",
       "  <thead>\n",
       "    <tr style=\"text-align: right;\">\n",
       "      <th></th>\n",
       "      <th>PassengerId</th>\n",
       "      <th>Survived</th>\n",
       "      <th>Pclass</th>\n",
       "      <th>Sex</th>\n",
       "      <th>Age</th>\n",
       "      <th>SibSp</th>\n",
       "      <th>Parch</th>\n",
       "      <th>Ticket</th>\n",
       "      <th>Fare</th>\n",
       "      <th>Cabin</th>\n",
       "      <th>Title_0</th>\n",
       "      <th>Title_1</th>\n",
       "      <th>Title_2</th>\n",
       "      <th>Title_3</th>\n",
       "      <th>Fsize</th>\n",
       "      <th>family_size_0</th>\n",
       "      <th>family_size_1</th>\n",
       "      <th>Embarked_C</th>\n",
       "      <th>Embarked_Q</th>\n",
       "      <th>Embarked_S</th>\n",
       "    </tr>\n",
       "  </thead>\n",
       "  <tbody>\n",
       "    <tr>\n",
       "      <th>0</th>\n",
       "      <td>1</td>\n",
       "      <td>0.0</td>\n",
       "      <td>3</td>\n",
       "      <td>1</td>\n",
       "      <td>22.0</td>\n",
       "      <td>1</td>\n",
       "      <td>0</td>\n",
       "      <td>A5</td>\n",
       "      <td>7.2500</td>\n",
       "      <td>NaN</td>\n",
       "      <td>0</td>\n",
       "      <td>0</td>\n",
       "      <td>1</td>\n",
       "      <td>0</td>\n",
       "      <td>2</td>\n",
       "      <td>0</td>\n",
       "      <td>1</td>\n",
       "      <td>0</td>\n",
       "      <td>0</td>\n",
       "      <td>1</td>\n",
       "    </tr>\n",
       "    <tr>\n",
       "      <th>1</th>\n",
       "      <td>2</td>\n",
       "      <td>1.0</td>\n",
       "      <td>1</td>\n",
       "      <td>0</td>\n",
       "      <td>38.0</td>\n",
       "      <td>1</td>\n",
       "      <td>0</td>\n",
       "      <td>PC</td>\n",
       "      <td>71.2833</td>\n",
       "      <td>C85</td>\n",
       "      <td>0</td>\n",
       "      <td>1</td>\n",
       "      <td>0</td>\n",
       "      <td>0</td>\n",
       "      <td>2</td>\n",
       "      <td>0</td>\n",
       "      <td>1</td>\n",
       "      <td>1</td>\n",
       "      <td>0</td>\n",
       "      <td>0</td>\n",
       "    </tr>\n",
       "    <tr>\n",
       "      <th>2</th>\n",
       "      <td>3</td>\n",
       "      <td>1.0</td>\n",
       "      <td>3</td>\n",
       "      <td>0</td>\n",
       "      <td>26.0</td>\n",
       "      <td>0</td>\n",
       "      <td>0</td>\n",
       "      <td>STONO2</td>\n",
       "      <td>7.9250</td>\n",
       "      <td>NaN</td>\n",
       "      <td>0</td>\n",
       "      <td>1</td>\n",
       "      <td>0</td>\n",
       "      <td>0</td>\n",
       "      <td>1</td>\n",
       "      <td>0</td>\n",
       "      <td>1</td>\n",
       "      <td>0</td>\n",
       "      <td>0</td>\n",
       "      <td>1</td>\n",
       "    </tr>\n",
       "    <tr>\n",
       "      <th>3</th>\n",
       "      <td>4</td>\n",
       "      <td>1.0</td>\n",
       "      <td>1</td>\n",
       "      <td>0</td>\n",
       "      <td>35.0</td>\n",
       "      <td>1</td>\n",
       "      <td>0</td>\n",
       "      <td>x</td>\n",
       "      <td>53.1000</td>\n",
       "      <td>C123</td>\n",
       "      <td>0</td>\n",
       "      <td>1</td>\n",
       "      <td>0</td>\n",
       "      <td>0</td>\n",
       "      <td>2</td>\n",
       "      <td>0</td>\n",
       "      <td>1</td>\n",
       "      <td>0</td>\n",
       "      <td>0</td>\n",
       "      <td>1</td>\n",
       "    </tr>\n",
       "    <tr>\n",
       "      <th>4</th>\n",
       "      <td>5</td>\n",
       "      <td>0.0</td>\n",
       "      <td>3</td>\n",
       "      <td>1</td>\n",
       "      <td>35.0</td>\n",
       "      <td>0</td>\n",
       "      <td>0</td>\n",
       "      <td>x</td>\n",
       "      <td>8.0500</td>\n",
       "      <td>NaN</td>\n",
       "      <td>0</td>\n",
       "      <td>0</td>\n",
       "      <td>1</td>\n",
       "      <td>0</td>\n",
       "      <td>1</td>\n",
       "      <td>0</td>\n",
       "      <td>1</td>\n",
       "      <td>0</td>\n",
       "      <td>0</td>\n",
       "      <td>1</td>\n",
       "    </tr>\n",
       "  </tbody>\n",
       "</table>\n",
       "</div>"
      ],
      "text/plain": [
       "   PassengerId  Survived  Pclass  Sex   Age  SibSp  Parch  Ticket     Fare  \\\n",
       "0            1       0.0       3    1  22.0      1      0      A5   7.2500   \n",
       "1            2       1.0       1    0  38.0      1      0      PC  71.2833   \n",
       "2            3       1.0       3    0  26.0      0      0  STONO2   7.9250   \n",
       "3            4       1.0       1    0  35.0      1      0       x  53.1000   \n",
       "4            5       0.0       3    1  35.0      0      0       x   8.0500   \n",
       "\n",
       "  Cabin  Title_0  Title_1  Title_2  Title_3  Fsize  family_size_0  \\\n",
       "0   NaN        0        0        1        0      2              0   \n",
       "1   C85        0        1        0        0      2              0   \n",
       "2   NaN        0        1        0        0      1              0   \n",
       "3  C123        0        1        0        0      2              0   \n",
       "4   NaN        0        0        1        0      1              0   \n",
       "\n",
       "   family_size_1  Embarked_C  Embarked_Q  Embarked_S  \n",
       "0              1           0           0           1  \n",
       "1              1           1           0           0  \n",
       "2              1           0           0           1  \n",
       "3              1           0           0           1  \n",
       "4              1           0           0           1  "
      ]
     },
     "execution_count": 85,
     "metadata": {},
     "output_type": "execute_result"
    }
   ],
   "source": [
    "train_df.head()"
   ]
  },
  {
   "cell_type": "markdown",
   "id": "61b621fa",
   "metadata": {},
   "source": [
    "Şimdi Ticket feature'sini kaldıralım he Ticket feature'si içerisindeki her bir kategori için yeni bir feature oluşturalım."
   ]
  },
  {
   "cell_type": "code",
   "execution_count": 86,
   "id": "c0e5b11a",
   "metadata": {},
   "outputs": [
    {
     "data": {
      "text/html": [
       "<div>\n",
       "<style scoped>\n",
       "    .dataframe tbody tr th:only-of-type {\n",
       "        vertical-align: middle;\n",
       "    }\n",
       "\n",
       "    .dataframe tbody tr th {\n",
       "        vertical-align: top;\n",
       "    }\n",
       "\n",
       "    .dataframe thead th {\n",
       "        text-align: right;\n",
       "    }\n",
       "</style>\n",
       "<table border=\"1\" class=\"dataframe\">\n",
       "  <thead>\n",
       "    <tr style=\"text-align: right;\">\n",
       "      <th></th>\n",
       "      <th>PassengerId</th>\n",
       "      <th>Survived</th>\n",
       "      <th>Pclass</th>\n",
       "      <th>Sex</th>\n",
       "      <th>Age</th>\n",
       "      <th>SibSp</th>\n",
       "      <th>Parch</th>\n",
       "      <th>Fare</th>\n",
       "      <th>Cabin</th>\n",
       "      <th>Title_0</th>\n",
       "      <th>...</th>\n",
       "      <th>T_SOTONO2</th>\n",
       "      <th>T_SOTONOQ</th>\n",
       "      <th>T_SP</th>\n",
       "      <th>T_STONO</th>\n",
       "      <th>T_STONO2</th>\n",
       "      <th>T_STONOQ</th>\n",
       "      <th>T_SWPP</th>\n",
       "      <th>T_WC</th>\n",
       "      <th>T_WEP</th>\n",
       "      <th>T_x</th>\n",
       "    </tr>\n",
       "  </thead>\n",
       "  <tbody>\n",
       "    <tr>\n",
       "      <th>0</th>\n",
       "      <td>1</td>\n",
       "      <td>0.0</td>\n",
       "      <td>3</td>\n",
       "      <td>1</td>\n",
       "      <td>22.0</td>\n",
       "      <td>1</td>\n",
       "      <td>0</td>\n",
       "      <td>7.2500</td>\n",
       "      <td>NaN</td>\n",
       "      <td>0</td>\n",
       "      <td>...</td>\n",
       "      <td>0</td>\n",
       "      <td>0</td>\n",
       "      <td>0</td>\n",
       "      <td>0</td>\n",
       "      <td>0</td>\n",
       "      <td>0</td>\n",
       "      <td>0</td>\n",
       "      <td>0</td>\n",
       "      <td>0</td>\n",
       "      <td>0</td>\n",
       "    </tr>\n",
       "    <tr>\n",
       "      <th>1</th>\n",
       "      <td>2</td>\n",
       "      <td>1.0</td>\n",
       "      <td>1</td>\n",
       "      <td>0</td>\n",
       "      <td>38.0</td>\n",
       "      <td>1</td>\n",
       "      <td>0</td>\n",
       "      <td>71.2833</td>\n",
       "      <td>C85</td>\n",
       "      <td>0</td>\n",
       "      <td>...</td>\n",
       "      <td>0</td>\n",
       "      <td>0</td>\n",
       "      <td>0</td>\n",
       "      <td>0</td>\n",
       "      <td>0</td>\n",
       "      <td>0</td>\n",
       "      <td>0</td>\n",
       "      <td>0</td>\n",
       "      <td>0</td>\n",
       "      <td>0</td>\n",
       "    </tr>\n",
       "    <tr>\n",
       "      <th>2</th>\n",
       "      <td>3</td>\n",
       "      <td>1.0</td>\n",
       "      <td>3</td>\n",
       "      <td>0</td>\n",
       "      <td>26.0</td>\n",
       "      <td>0</td>\n",
       "      <td>0</td>\n",
       "      <td>7.9250</td>\n",
       "      <td>NaN</td>\n",
       "      <td>0</td>\n",
       "      <td>...</td>\n",
       "      <td>0</td>\n",
       "      <td>0</td>\n",
       "      <td>0</td>\n",
       "      <td>0</td>\n",
       "      <td>1</td>\n",
       "      <td>0</td>\n",
       "      <td>0</td>\n",
       "      <td>0</td>\n",
       "      <td>0</td>\n",
       "      <td>0</td>\n",
       "    </tr>\n",
       "    <tr>\n",
       "      <th>3</th>\n",
       "      <td>4</td>\n",
       "      <td>1.0</td>\n",
       "      <td>1</td>\n",
       "      <td>0</td>\n",
       "      <td>35.0</td>\n",
       "      <td>1</td>\n",
       "      <td>0</td>\n",
       "      <td>53.1000</td>\n",
       "      <td>C123</td>\n",
       "      <td>0</td>\n",
       "      <td>...</td>\n",
       "      <td>0</td>\n",
       "      <td>0</td>\n",
       "      <td>0</td>\n",
       "      <td>0</td>\n",
       "      <td>0</td>\n",
       "      <td>0</td>\n",
       "      <td>0</td>\n",
       "      <td>0</td>\n",
       "      <td>0</td>\n",
       "      <td>1</td>\n",
       "    </tr>\n",
       "    <tr>\n",
       "      <th>4</th>\n",
       "      <td>5</td>\n",
       "      <td>0.0</td>\n",
       "      <td>3</td>\n",
       "      <td>1</td>\n",
       "      <td>35.0</td>\n",
       "      <td>0</td>\n",
       "      <td>0</td>\n",
       "      <td>8.0500</td>\n",
       "      <td>NaN</td>\n",
       "      <td>0</td>\n",
       "      <td>...</td>\n",
       "      <td>0</td>\n",
       "      <td>0</td>\n",
       "      <td>0</td>\n",
       "      <td>0</td>\n",
       "      <td>0</td>\n",
       "      <td>0</td>\n",
       "      <td>0</td>\n",
       "      <td>0</td>\n",
       "      <td>0</td>\n",
       "      <td>1</td>\n",
       "    </tr>\n",
       "    <tr>\n",
       "      <th>5</th>\n",
       "      <td>6</td>\n",
       "      <td>0.0</td>\n",
       "      <td>3</td>\n",
       "      <td>1</td>\n",
       "      <td>25.0</td>\n",
       "      <td>0</td>\n",
       "      <td>0</td>\n",
       "      <td>8.4583</td>\n",
       "      <td>NaN</td>\n",
       "      <td>0</td>\n",
       "      <td>...</td>\n",
       "      <td>0</td>\n",
       "      <td>0</td>\n",
       "      <td>0</td>\n",
       "      <td>0</td>\n",
       "      <td>0</td>\n",
       "      <td>0</td>\n",
       "      <td>0</td>\n",
       "      <td>0</td>\n",
       "      <td>0</td>\n",
       "      <td>1</td>\n",
       "    </tr>\n",
       "    <tr>\n",
       "      <th>6</th>\n",
       "      <td>7</td>\n",
       "      <td>0.0</td>\n",
       "      <td>1</td>\n",
       "      <td>1</td>\n",
       "      <td>54.0</td>\n",
       "      <td>0</td>\n",
       "      <td>0</td>\n",
       "      <td>51.8625</td>\n",
       "      <td>E46</td>\n",
       "      <td>0</td>\n",
       "      <td>...</td>\n",
       "      <td>0</td>\n",
       "      <td>0</td>\n",
       "      <td>0</td>\n",
       "      <td>0</td>\n",
       "      <td>0</td>\n",
       "      <td>0</td>\n",
       "      <td>0</td>\n",
       "      <td>0</td>\n",
       "      <td>0</td>\n",
       "      <td>1</td>\n",
       "    </tr>\n",
       "    <tr>\n",
       "      <th>7</th>\n",
       "      <td>8</td>\n",
       "      <td>0.0</td>\n",
       "      <td>3</td>\n",
       "      <td>1</td>\n",
       "      <td>2.0</td>\n",
       "      <td>3</td>\n",
       "      <td>1</td>\n",
       "      <td>21.0750</td>\n",
       "      <td>NaN</td>\n",
       "      <td>1</td>\n",
       "      <td>...</td>\n",
       "      <td>0</td>\n",
       "      <td>0</td>\n",
       "      <td>0</td>\n",
       "      <td>0</td>\n",
       "      <td>0</td>\n",
       "      <td>0</td>\n",
       "      <td>0</td>\n",
       "      <td>0</td>\n",
       "      <td>0</td>\n",
       "      <td>1</td>\n",
       "    </tr>\n",
       "    <tr>\n",
       "      <th>8</th>\n",
       "      <td>9</td>\n",
       "      <td>1.0</td>\n",
       "      <td>3</td>\n",
       "      <td>0</td>\n",
       "      <td>27.0</td>\n",
       "      <td>0</td>\n",
       "      <td>2</td>\n",
       "      <td>11.1333</td>\n",
       "      <td>NaN</td>\n",
       "      <td>0</td>\n",
       "      <td>...</td>\n",
       "      <td>0</td>\n",
       "      <td>0</td>\n",
       "      <td>0</td>\n",
       "      <td>0</td>\n",
       "      <td>0</td>\n",
       "      <td>0</td>\n",
       "      <td>0</td>\n",
       "      <td>0</td>\n",
       "      <td>0</td>\n",
       "      <td>1</td>\n",
       "    </tr>\n",
       "    <tr>\n",
       "      <th>9</th>\n",
       "      <td>10</td>\n",
       "      <td>1.0</td>\n",
       "      <td>2</td>\n",
       "      <td>0</td>\n",
       "      <td>14.0</td>\n",
       "      <td>1</td>\n",
       "      <td>0</td>\n",
       "      <td>30.0708</td>\n",
       "      <td>NaN</td>\n",
       "      <td>0</td>\n",
       "      <td>...</td>\n",
       "      <td>0</td>\n",
       "      <td>0</td>\n",
       "      <td>0</td>\n",
       "      <td>0</td>\n",
       "      <td>0</td>\n",
       "      <td>0</td>\n",
       "      <td>0</td>\n",
       "      <td>0</td>\n",
       "      <td>0</td>\n",
       "      <td>1</td>\n",
       "    </tr>\n",
       "  </tbody>\n",
       "</table>\n",
       "<p>10 rows × 56 columns</p>\n",
       "</div>"
      ],
      "text/plain": [
       "   PassengerId  Survived  Pclass  Sex   Age  SibSp  Parch     Fare Cabin  \\\n",
       "0            1       0.0       3    1  22.0      1      0   7.2500   NaN   \n",
       "1            2       1.0       1    0  38.0      1      0  71.2833   C85   \n",
       "2            3       1.0       3    0  26.0      0      0   7.9250   NaN   \n",
       "3            4       1.0       1    0  35.0      1      0  53.1000  C123   \n",
       "4            5       0.0       3    1  35.0      0      0   8.0500   NaN   \n",
       "5            6       0.0       3    1  25.0      0      0   8.4583   NaN   \n",
       "6            7       0.0       1    1  54.0      0      0  51.8625   E46   \n",
       "7            8       0.0       3    1   2.0      3      1  21.0750   NaN   \n",
       "8            9       1.0       3    0  27.0      0      2  11.1333   NaN   \n",
       "9           10       1.0       2    0  14.0      1      0  30.0708   NaN   \n",
       "\n",
       "   Title_0  ...  T_SOTONO2  T_SOTONOQ  T_SP  T_STONO  T_STONO2  T_STONOQ  \\\n",
       "0        0  ...          0          0     0        0         0         0   \n",
       "1        0  ...          0          0     0        0         0         0   \n",
       "2        0  ...          0          0     0        0         1         0   \n",
       "3        0  ...          0          0     0        0         0         0   \n",
       "4        0  ...          0          0     0        0         0         0   \n",
       "5        0  ...          0          0     0        0         0         0   \n",
       "6        0  ...          0          0     0        0         0         0   \n",
       "7        1  ...          0          0     0        0         0         0   \n",
       "8        0  ...          0          0     0        0         0         0   \n",
       "9        0  ...          0          0     0        0         0         0   \n",
       "\n",
       "   T_SWPP  T_WC  T_WEP  T_x  \n",
       "0       0     0      0    0  \n",
       "1       0     0      0    0  \n",
       "2       0     0      0    0  \n",
       "3       0     0      0    1  \n",
       "4       0     0      0    1  \n",
       "5       0     0      0    1  \n",
       "6       0     0      0    1  \n",
       "7       0     0      0    1  \n",
       "8       0     0      0    1  \n",
       "9       0     0      0    1  \n",
       "\n",
       "[10 rows x 56 columns]"
      ]
     },
     "execution_count": 86,
     "metadata": {},
     "output_type": "execute_result"
    }
   ],
   "source": [
    "train_df = pd.get_dummies(train_df, columns= [\"Ticket\"], prefix = \"T\")\n",
    "train_df.head(10)"
   ]
  },
  {
   "cell_type": "markdown",
   "id": "726ced68",
   "metadata": {},
   "source": [
    "prefix = \"T\" parametresi ile kategori isminin önüne Ticket değil de T yazılması sağlanmıştır. Eğer bu parametre kullanılmasaydı feature isimleri Ticket_kategoriAdi şeklinde olurdu."
   ]
  },
  {
   "cell_type": "markdown",
   "id": "12688ebe",
   "metadata": {},
   "source": [
    "## Feature Engineering: Pclass"
   ]
  },
  {
   "cell_type": "markdown",
   "id": "8475a2fd",
   "metadata": {},
   "source": [
    "Pclass içerisindeki kategoirlerin dağılımına bakalım."
   ]
  },
  {
   "cell_type": "code",
   "execution_count": 87,
   "id": "91c9b2a5",
   "metadata": {},
   "outputs": [
    {
     "data": {
      "image/png": "[encoded data removed]",
      "text/plain": [
       "<Figure size 432x288 with 1 Axes>"
      ]
     },
     "metadata": {},
     "output_type": "display_data"
    }
   ],
   "source": [
    "sns.countplot(x = \"Pclass\", data = train_df)\n",
    "plt.show()"
   ]
  },
  {
   "cell_type": "markdown",
   "id": "abdaaabd",
   "metadata": {},
   "source": [
    "Çıktıyı yorumlayalım. 1.sınıftaki yolcuların sayısı yaklaşık 300, 2.sınıftaki yolcuların sayısı yaklaşık 300, 3.sınıftaki yolcuların sayısı 700 'dür.\n",
    "\n",
    "Şimdi Pclass feature'si içerisindeki her bir kategoriye ait feature'ler oluşturalım ve Pclass feature'sini ortadan kaldıralım."
   ]
  },
  {
   "cell_type": "code",
   "execution_count": 88,
   "id": "13e4b8f1",
   "metadata": {},
   "outputs": [
    {
     "data": {
      "text/html": [
       "<div>\n",
       "<style scoped>\n",
       "    .dataframe tbody tr th:only-of-type {\n",
       "        vertical-align: middle;\n",
       "    }\n",
       "\n",
       "    .dataframe tbody tr th {\n",
       "        vertical-align: top;\n",
       "    }\n",
       "\n",
       "    .dataframe thead th {\n",
       "        text-align: right;\n",
       "    }\n",
       "</style>\n",
       "<table border=\"1\" class=\"dataframe\">\n",
       "  <thead>\n",
       "    <tr style=\"text-align: right;\">\n",
       "      <th></th>\n",
       "      <th>PassengerId</th>\n",
       "      <th>Survived</th>\n",
       "      <th>Sex</th>\n",
       "      <th>Age</th>\n",
       "      <th>SibSp</th>\n",
       "      <th>Parch</th>\n",
       "      <th>Fare</th>\n",
       "      <th>Cabin</th>\n",
       "      <th>Title_0</th>\n",
       "      <th>Title_1</th>\n",
       "      <th>...</th>\n",
       "      <th>T_STONO</th>\n",
       "      <th>T_STONO2</th>\n",
       "      <th>T_STONOQ</th>\n",
       "      <th>T_SWPP</th>\n",
       "      <th>T_WC</th>\n",
       "      <th>T_WEP</th>\n",
       "      <th>T_x</th>\n",
       "      <th>Pclass_1</th>\n",
       "      <th>Pclass_2</th>\n",
       "      <th>Pclass_3</th>\n",
       "    </tr>\n",
       "  </thead>\n",
       "  <tbody>\n",
       "    <tr>\n",
       "      <th>0</th>\n",
       "      <td>1</td>\n",
       "      <td>0.0</td>\n",
       "      <td>1</td>\n",
       "      <td>22.0</td>\n",
       "      <td>1</td>\n",
       "      <td>0</td>\n",
       "      <td>7.2500</td>\n",
       "      <td>NaN</td>\n",
       "      <td>0</td>\n",
       "      <td>0</td>\n",
       "      <td>...</td>\n",
       "      <td>0</td>\n",
       "      <td>0</td>\n",
       "      <td>0</td>\n",
       "      <td>0</td>\n",
       "      <td>0</td>\n",
       "      <td>0</td>\n",
       "      <td>0</td>\n",
       "      <td>0</td>\n",
       "      <td>0</td>\n",
       "      <td>1</td>\n",
       "    </tr>\n",
       "    <tr>\n",
       "      <th>1</th>\n",
       "      <td>2</td>\n",
       "      <td>1.0</td>\n",
       "      <td>0</td>\n",
       "      <td>38.0</td>\n",
       "      <td>1</td>\n",
       "      <td>0</td>\n",
       "      <td>71.2833</td>\n",
       "      <td>C85</td>\n",
       "      <td>0</td>\n",
       "      <td>1</td>\n",
       "      <td>...</td>\n",
       "      <td>0</td>\n",
       "      <td>0</td>\n",
       "      <td>0</td>\n",
       "      <td>0</td>\n",
       "      <td>0</td>\n",
       "      <td>0</td>\n",
       "      <td>0</td>\n",
       "      <td>1</td>\n",
       "      <td>0</td>\n",
       "      <td>0</td>\n",
       "    </tr>\n",
       "    <tr>\n",
       "      <th>2</th>\n",
       "      <td>3</td>\n",
       "      <td>1.0</td>\n",
       "      <td>0</td>\n",
       "      <td>26.0</td>\n",
       "      <td>0</td>\n",
       "      <td>0</td>\n",
       "      <td>7.9250</td>\n",
       "      <td>NaN</td>\n",
       "      <td>0</td>\n",
       "      <td>1</td>\n",
       "      <td>...</td>\n",
       "      <td>0</td>\n",
       "      <td>1</td>\n",
       "      <td>0</td>\n",
       "      <td>0</td>\n",
       "      <td>0</td>\n",
       "      <td>0</td>\n",
       "      <td>0</td>\n",
       "      <td>0</td>\n",
       "      <td>0</td>\n",
       "      <td>1</td>\n",
       "    </tr>\n",
       "    <tr>\n",
       "      <th>3</th>\n",
       "      <td>4</td>\n",
       "      <td>1.0</td>\n",
       "      <td>0</td>\n",
       "      <td>35.0</td>\n",
       "      <td>1</td>\n",
       "      <td>0</td>\n",
       "      <td>53.1000</td>\n",
       "      <td>C123</td>\n",
       "      <td>0</td>\n",
       "      <td>1</td>\n",
       "      <td>...</td>\n",
       "      <td>0</td>\n",
       "      <td>0</td>\n",
       "      <td>0</td>\n",
       "      <td>0</td>\n",
       "      <td>0</td>\n",
       "      <td>0</td>\n",
       "      <td>1</td>\n",
       "      <td>1</td>\n",
       "      <td>0</td>\n",
       "      <td>0</td>\n",
       "    </tr>\n",
       "    <tr>\n",
       "      <th>4</th>\n",
       "      <td>5</td>\n",
       "      <td>0.0</td>\n",
       "      <td>1</td>\n",
       "      <td>35.0</td>\n",
       "      <td>0</td>\n",
       "      <td>0</td>\n",
       "      <td>8.0500</td>\n",
       "      <td>NaN</td>\n",
       "      <td>0</td>\n",
       "      <td>0</td>\n",
       "      <td>...</td>\n",
       "      <td>0</td>\n",
       "      <td>0</td>\n",
       "      <td>0</td>\n",
       "      <td>0</td>\n",
       "      <td>0</td>\n",
       "      <td>0</td>\n",
       "      <td>1</td>\n",
       "      <td>0</td>\n",
       "      <td>0</td>\n",
       "      <td>1</td>\n",
       "    </tr>\n",
       "  </tbody>\n",
       "</table>\n",
       "<p>5 rows × 58 columns</p>\n",
       "</div>"
      ],
      "text/plain": [
       "   PassengerId  Survived  Sex   Age  SibSp  Parch     Fare Cabin  Title_0  \\\n",
       "0            1       0.0    1  22.0      1      0   7.2500   NaN        0   \n",
       "1            2       1.0    0  38.0      1      0  71.2833   C85        0   \n",
       "2            3       1.0    0  26.0      0      0   7.9250   NaN        0   \n",
       "3            4       1.0    0  35.0      1      0  53.1000  C123        0   \n",
       "4            5       0.0    1  35.0      0      0   8.0500   NaN        0   \n",
       "\n",
       "   Title_1  ...  T_STONO  T_STONO2  T_STONOQ  T_SWPP  T_WC  T_WEP  T_x  \\\n",
       "0        0  ...        0         0         0       0     0      0    0   \n",
       "1        1  ...        0         0         0       0     0      0    0   \n",
       "2        1  ...        0         1         0       0     0      0    0   \n",
       "3        1  ...        0         0         0       0     0      0    1   \n",
       "4        0  ...        0         0         0       0     0      0    1   \n",
       "\n",
       "   Pclass_1  Pclass_2  Pclass_3  \n",
       "0         0         0         1  \n",
       "1         1         0         0  \n",
       "2         0         0         1  \n",
       "3         1         0         0  \n",
       "4         0         0         1  \n",
       "\n",
       "[5 rows x 58 columns]"
      ]
     },
     "execution_count": 88,
     "metadata": {},
     "output_type": "execute_result"
    }
   ],
   "source": [
    "train_df[\"Pclass\"] = train_df[\"Pclass\"].astype(\"category\") #Öncelikle categorical'e çevirdim.\n",
    "train_df = pd.get_dummies(train_df, columns= [\"Pclass\"])\n",
    "train_df.head()"
   ]
  },
  {
   "cell_type": "markdown",
   "id": "c3808b89",
   "metadata": {},
   "source": [
    "Çıktıda görüldüğü üzere Pclass feature'si kaldırıldı ve Pclass_1, Pclass_2, Pclass_3 olmak üzere 3 tane feature oluşturuldu."
   ]
  },
  {
   "cell_type": "markdown",
   "id": "12d863e5",
   "metadata": {},
   "source": [
    "## Feature Engineering: Sex"
   ]
  },
  {
   "cell_type": "code",
   "execution_count": 89,
   "id": "901a3194",
   "metadata": {},
   "outputs": [
    {
     "data": {
      "text/html": [
       "<div>\n",
       "<style scoped>\n",
       "    .dataframe tbody tr th:only-of-type {\n",
       "        vertical-align: middle;\n",
       "    }\n",
       "\n",
       "    .dataframe tbody tr th {\n",
       "        vertical-align: top;\n",
       "    }\n",
       "\n",
       "    .dataframe thead th {\n",
       "        text-align: right;\n",
       "    }\n",
       "</style>\n",
       "<table border=\"1\" class=\"dataframe\">\n",
       "  <thead>\n",
       "    <tr style=\"text-align: right;\">\n",
       "      <th></th>\n",
       "      <th>PassengerId</th>\n",
       "      <th>Survived</th>\n",
       "      <th>Age</th>\n",
       "      <th>SibSp</th>\n",
       "      <th>Parch</th>\n",
       "      <th>Fare</th>\n",
       "      <th>Cabin</th>\n",
       "      <th>Title_0</th>\n",
       "      <th>Title_1</th>\n",
       "      <th>Title_2</th>\n",
       "      <th>...</th>\n",
       "      <th>T_STONOQ</th>\n",
       "      <th>T_SWPP</th>\n",
       "      <th>T_WC</th>\n",
       "      <th>T_WEP</th>\n",
       "      <th>T_x</th>\n",
       "      <th>Pclass_1</th>\n",
       "      <th>Pclass_2</th>\n",
       "      <th>Pclass_3</th>\n",
       "      <th>Sex_0</th>\n",
       "      <th>Sex_1</th>\n",
       "    </tr>\n",
       "  </thead>\n",
       "  <tbody>\n",
       "    <tr>\n",
       "      <th>0</th>\n",
       "      <td>1</td>\n",
       "      <td>0.0</td>\n",
       "      <td>22.0</td>\n",
       "      <td>1</td>\n",
       "      <td>0</td>\n",
       "      <td>7.2500</td>\n",
       "      <td>NaN</td>\n",
       "      <td>0</td>\n",
       "      <td>0</td>\n",
       "      <td>1</td>\n",
       "      <td>...</td>\n",
       "      <td>0</td>\n",
       "      <td>0</td>\n",
       "      <td>0</td>\n",
       "      <td>0</td>\n",
       "      <td>0</td>\n",
       "      <td>0</td>\n",
       "      <td>0</td>\n",
       "      <td>1</td>\n",
       "      <td>0</td>\n",
       "      <td>1</td>\n",
       "    </tr>\n",
       "    <tr>\n",
       "      <th>1</th>\n",
       "      <td>2</td>\n",
       "      <td>1.0</td>\n",
       "      <td>38.0</td>\n",
       "      <td>1</td>\n",
       "      <td>0</td>\n",
       "      <td>71.2833</td>\n",
       "      <td>C85</td>\n",
       "      <td>0</td>\n",
       "      <td>1</td>\n",
       "      <td>0</td>\n",
       "      <td>...</td>\n",
       "      <td>0</td>\n",
       "      <td>0</td>\n",
       "      <td>0</td>\n",
       "      <td>0</td>\n",
       "      <td>0</td>\n",
       "      <td>1</td>\n",
       "      <td>0</td>\n",
       "      <td>0</td>\n",
       "      <td>1</td>\n",
       "      <td>0</td>\n",
       "    </tr>\n",
       "    <tr>\n",
       "      <th>2</th>\n",
       "      <td>3</td>\n",
       "      <td>1.0</td>\n",
       "      <td>26.0</td>\n",
       "      <td>0</td>\n",
       "      <td>0</td>\n",
       "      <td>7.9250</td>\n",
       "      <td>NaN</td>\n",
       "      <td>0</td>\n",
       "      <td>1</td>\n",
       "      <td>0</td>\n",
       "      <td>...</td>\n",
       "      <td>0</td>\n",
       "      <td>0</td>\n",
       "      <td>0</td>\n",
       "      <td>0</td>\n",
       "      <td>0</td>\n",
       "      <td>0</td>\n",
       "      <td>0</td>\n",
       "      <td>1</td>\n",
       "      <td>1</td>\n",
       "      <td>0</td>\n",
       "    </tr>\n",
       "    <tr>\n",
       "      <th>3</th>\n",
       "      <td>4</td>\n",
       "      <td>1.0</td>\n",
       "      <td>35.0</td>\n",
       "      <td>1</td>\n",
       "      <td>0</td>\n",
       "      <td>53.1000</td>\n",
       "      <td>C123</td>\n",
       "      <td>0</td>\n",
       "      <td>1</td>\n",
       "      <td>0</td>\n",
       "      <td>...</td>\n",
       "      <td>0</td>\n",
       "      <td>0</td>\n",
       "      <td>0</td>\n",
       "      <td>0</td>\n",
       "      <td>1</td>\n",
       "      <td>1</td>\n",
       "      <td>0</td>\n",
       "      <td>0</td>\n",
       "      <td>1</td>\n",
       "      <td>0</td>\n",
       "    </tr>\n",
       "    <tr>\n",
       "      <th>4</th>\n",
       "      <td>5</td>\n",
       "      <td>0.0</td>\n",
       "      <td>35.0</td>\n",
       "      <td>0</td>\n",
       "      <td>0</td>\n",
       "      <td>8.0500</td>\n",
       "      <td>NaN</td>\n",
       "      <td>0</td>\n",
       "      <td>0</td>\n",
       "      <td>1</td>\n",
       "      <td>...</td>\n",
       "      <td>0</td>\n",
       "      <td>0</td>\n",
       "      <td>0</td>\n",
       "      <td>0</td>\n",
       "      <td>1</td>\n",
       "      <td>0</td>\n",
       "      <td>0</td>\n",
       "      <td>1</td>\n",
       "      <td>0</td>\n",
       "      <td>1</td>\n",
       "    </tr>\n",
       "  </tbody>\n",
       "</table>\n",
       "<p>5 rows × 59 columns</p>\n",
       "</div>"
      ],
      "text/plain": [
       "   PassengerId  Survived   Age  SibSp  Parch     Fare Cabin  Title_0  Title_1  \\\n",
       "0            1       0.0  22.0      1      0   7.2500   NaN        0        0   \n",
       "1            2       1.0  38.0      1      0  71.2833   C85        0        1   \n",
       "2            3       1.0  26.0      0      0   7.9250   NaN        0        1   \n",
       "3            4       1.0  35.0      1      0  53.1000  C123        0        1   \n",
       "4            5       0.0  35.0      0      0   8.0500   NaN        0        0   \n",
       "\n",
       "   Title_2  ...  T_STONOQ  T_SWPP  T_WC  T_WEP  T_x  Pclass_1  Pclass_2  \\\n",
       "0        1  ...         0       0     0      0    0         0         0   \n",
       "1        0  ...         0       0     0      0    0         1         0   \n",
       "2        0  ...         0       0     0      0    0         0         0   \n",
       "3        0  ...         0       0     0      0    1         1         0   \n",
       "4        1  ...         0       0     0      0    1         0         0   \n",
       "\n",
       "   Pclass_3  Sex_0  Sex_1  \n",
       "0         1      0      1  \n",
       "1         0      1      0  \n",
       "2         1      1      0  \n",
       "3         0      1      0  \n",
       "4         1      0      1  \n",
       "\n",
       "[5 rows x 59 columns]"
      ]
     },
     "execution_count": 89,
     "metadata": {},
     "output_type": "execute_result"
    }
   ],
   "source": [
    "train_df[\"Sex\"] = train_df[\"Sex\"].astype(\"category\")\n",
    "train_df = pd.get_dummies(train_df, columns=[\"Sex\"])\n",
    "train_df.head()"
   ]
  },
  {
   "cell_type": "markdown",
   "id": "c36f99f7",
   "metadata": {},
   "source": [
    "Çıktıda görüldüğü üzere Sex_0 kadınları, Sex_1 erkekleri ifade edecek şekilde iki tane feature oluşturuldu."
   ]
  },
  {
   "cell_type": "markdown",
   "id": "8dbd6744",
   "metadata": {},
   "source": [
    "## Feature Engineering: Drop Passenger ID and Cabin"
   ]
  },
  {
   "cell_type": "markdown",
   "id": "2649ae33",
   "metadata": {},
   "source": [
    "Maching learning modelini eğitmek için kullacağımız feature'ler arasında kullanmak istemediğimiz şeyleri drop edelim."
   ]
  },
  {
   "cell_type": "code",
   "execution_count": 90,
   "id": "ebfa2c31",
   "metadata": {},
   "outputs": [],
   "source": [
    "train_df.drop(labels = [\"PassengerId\", \"Cabin\"], axis = 1, inplace = True)"
   ]
  },
  {
   "cell_type": "markdown",
   "id": "918b7e0a",
   "metadata": {},
   "source": [
    "\"PassengerId\" ve \"Cabin\" sütunları drop edilmiştir."
   ]
  },
  {
   "cell_type": "code",
   "execution_count": 91,
   "id": "9a415d3a",
   "metadata": {},
   "outputs": [
    {
     "data": {
      "text/plain": [
       "Index(['Survived', 'Age', 'SibSp', 'Parch', 'Fare', 'Title_0', 'Title_1',\n",
       "       'Title_2', 'Title_3', 'Fsize', 'family_size_0', 'family_size_1',\n",
       "       'Embarked_C', 'Embarked_Q', 'Embarked_S', 'T_A', 'T_A4', 'T_A5',\n",
       "       'T_AQ3', 'T_AQ4', 'T_AS', 'T_C', 'T_CA', 'T_CASOTON', 'T_FC', 'T_FCC',\n",
       "       'T_Fa', 'T_LINE', 'T_LP', 'T_PC', 'T_PP', 'T_PPP', 'T_SC', 'T_SCA3',\n",
       "       'T_SCA4', 'T_SCAH', 'T_SCOW', 'T_SCPARIS', 'T_SCParis', 'T_SOC',\n",
       "       'T_SOP', 'T_SOPP', 'T_SOTONO2', 'T_SOTONOQ', 'T_SP', 'T_STONO',\n",
       "       'T_STONO2', 'T_STONOQ', 'T_SWPP', 'T_WC', 'T_WEP', 'T_x', 'Pclass_1',\n",
       "       'Pclass_2', 'Pclass_3', 'Sex_0', 'Sex_1'],\n",
       "      dtype='object')"
      ]
     },
     "execution_count": 91,
     "metadata": {},
     "output_type": "execute_result"
    }
   ],
   "source": [
    "train_df.columns"
   ]
  },
  {
   "cell_type": "markdown",
   "id": "9f327327",
   "metadata": {},
   "source": [
    "## Modeling: Train Test Split"
   ]
  },
  {
   "cell_type": "markdown",
   "id": "f985baa9",
   "metadata": {},
   "source": [
    "Maching learning modelini eğitelim."
   ]
  },
  {
   "cell_type": "code",
   "execution_count": 92,
   "id": "f86e56bb",
   "metadata": {},
   "outputs": [],
   "source": [
    "from sklearn.model_selection import train_test_split, StratifiedKFold, GridSearchCV\n",
    "from sklearn.linear_model import LogisticRegression\n",
    "from sklearn.svm import SVC\n",
    "from sklearn.ensemble import RandomForestClassifier, VotingClassifier\n",
    "from sklearn.neighbors import KNeighborsClassifier\n",
    "from sklearn.tree import DecisionTreeClassifier\n",
    "from sklearn.metrics import accuracy_score"
   ]
  },
  {
   "cell_type": "code",
   "execution_count": 93,
   "id": "8c7448eb",
   "metadata": {},
   "outputs": [
    {
     "data": {
      "text/plain": [
       "881"
      ]
     },
     "execution_count": 93,
     "metadata": {},
     "output_type": "execute_result"
    }
   ],
   "source": [
    "train_df_len"
   ]
  },
  {
   "cell_type": "markdown",
   "id": "5c5a4913",
   "metadata": {},
   "source": [
    "Yukarıdaki kod ile train_df'nin boyut bilgisine eriştik. Bu bilgiyi train ve test şeklinde ayırırken, indeksleri ayırabilmek için kullanacağız."
   ]
  },
  {
   "cell_type": "code",
   "execution_count": 94,
   "id": "66e7e41f",
   "metadata": {},
   "outputs": [],
   "source": [
    "test = train_df[train_df_len:]\n",
    "test.drop(labels = [\"Survived\"],axis = 1, inplace = True)"
   ]
  },
  {
   "cell_type": "markdown",
   "id": "d03367bd",
   "metadata": {},
   "source": [
    "test = train_df[train_df_len:]\n",
    "\n",
    "Bu satırda, train_df_len'den başlayarak sona kadar olan kısım test değişkenine atanmıştır.\n",
    "\n",
    "test.drop(labels = [\"Survived\"],axis = 1, inplace = True)\n",
    "\n",
    "Bu satırda, test seti içerisinden Survived feature'si çıkarılmıştır."
   ]
  },
  {
   "cell_type": "code",
   "execution_count": 95,
   "id": "c0848e6d",
   "metadata": {},
   "outputs": [
    {
     "data": {
      "text/html": [
       "<div>\n",
       "<style scoped>\n",
       "    .dataframe tbody tr th:only-of-type {\n",
       "        vertical-align: middle;\n",
       "    }\n",
       "\n",
       "    .dataframe tbody tr th {\n",
       "        vertical-align: top;\n",
       "    }\n",
       "\n",
       "    .dataframe thead th {\n",
       "        text-align: right;\n",
       "    }\n",
       "</style>\n",
       "<table border=\"1\" class=\"dataframe\">\n",
       "  <thead>\n",
       "    <tr style=\"text-align: right;\">\n",
       "      <th></th>\n",
       "      <th>Age</th>\n",
       "      <th>SibSp</th>\n",
       "      <th>Parch</th>\n",
       "      <th>Fare</th>\n",
       "      <th>Title_0</th>\n",
       "      <th>Title_1</th>\n",
       "      <th>Title_2</th>\n",
       "      <th>Title_3</th>\n",
       "      <th>Fsize</th>\n",
       "      <th>family_size_0</th>\n",
       "      <th>...</th>\n",
       "      <th>T_STONOQ</th>\n",
       "      <th>T_SWPP</th>\n",
       "      <th>T_WC</th>\n",
       "      <th>T_WEP</th>\n",
       "      <th>T_x</th>\n",
       "      <th>Pclass_1</th>\n",
       "      <th>Pclass_2</th>\n",
       "      <th>Pclass_3</th>\n",
       "      <th>Sex_0</th>\n",
       "      <th>Sex_1</th>\n",
       "    </tr>\n",
       "  </thead>\n",
       "  <tbody>\n",
       "    <tr>\n",
       "      <th>881</th>\n",
       "      <td>34.5</td>\n",
       "      <td>0</td>\n",
       "      <td>0</td>\n",
       "      <td>7.8292</td>\n",
       "      <td>0</td>\n",
       "      <td>0</td>\n",
       "      <td>1</td>\n",
       "      <td>0</td>\n",
       "      <td>1</td>\n",
       "      <td>0</td>\n",
       "      <td>...</td>\n",
       "      <td>0</td>\n",
       "      <td>0</td>\n",
       "      <td>0</td>\n",
       "      <td>0</td>\n",
       "      <td>1</td>\n",
       "      <td>0</td>\n",
       "      <td>0</td>\n",
       "      <td>1</td>\n",
       "      <td>0</td>\n",
       "      <td>1</td>\n",
       "    </tr>\n",
       "    <tr>\n",
       "      <th>882</th>\n",
       "      <td>47.0</td>\n",
       "      <td>1</td>\n",
       "      <td>0</td>\n",
       "      <td>7.0000</td>\n",
       "      <td>0</td>\n",
       "      <td>1</td>\n",
       "      <td>0</td>\n",
       "      <td>0</td>\n",
       "      <td>2</td>\n",
       "      <td>0</td>\n",
       "      <td>...</td>\n",
       "      <td>0</td>\n",
       "      <td>0</td>\n",
       "      <td>0</td>\n",
       "      <td>0</td>\n",
       "      <td>1</td>\n",
       "      <td>0</td>\n",
       "      <td>0</td>\n",
       "      <td>1</td>\n",
       "      <td>1</td>\n",
       "      <td>0</td>\n",
       "    </tr>\n",
       "    <tr>\n",
       "      <th>883</th>\n",
       "      <td>62.0</td>\n",
       "      <td>0</td>\n",
       "      <td>0</td>\n",
       "      <td>9.6875</td>\n",
       "      <td>0</td>\n",
       "      <td>0</td>\n",
       "      <td>1</td>\n",
       "      <td>0</td>\n",
       "      <td>1</td>\n",
       "      <td>0</td>\n",
       "      <td>...</td>\n",
       "      <td>0</td>\n",
       "      <td>0</td>\n",
       "      <td>0</td>\n",
       "      <td>0</td>\n",
       "      <td>1</td>\n",
       "      <td>0</td>\n",
       "      <td>1</td>\n",
       "      <td>0</td>\n",
       "      <td>0</td>\n",
       "      <td>1</td>\n",
       "    </tr>\n",
       "    <tr>\n",
       "      <th>884</th>\n",
       "      <td>27.0</td>\n",
       "      <td>0</td>\n",
       "      <td>0</td>\n",
       "      <td>8.6625</td>\n",
       "      <td>0</td>\n",
       "      <td>0</td>\n",
       "      <td>1</td>\n",
       "      <td>0</td>\n",
       "      <td>1</td>\n",
       "      <td>0</td>\n",
       "      <td>...</td>\n",
       "      <td>0</td>\n",
       "      <td>0</td>\n",
       "      <td>0</td>\n",
       "      <td>0</td>\n",
       "      <td>1</td>\n",
       "      <td>0</td>\n",
       "      <td>0</td>\n",
       "      <td>1</td>\n",
       "      <td>0</td>\n",
       "      <td>1</td>\n",
       "    </tr>\n",
       "    <tr>\n",
       "      <th>885</th>\n",
       "      <td>22.0</td>\n",
       "      <td>1</td>\n",
       "      <td>1</td>\n",
       "      <td>12.2875</td>\n",
       "      <td>0</td>\n",
       "      <td>1</td>\n",
       "      <td>0</td>\n",
       "      <td>0</td>\n",
       "      <td>3</td>\n",
       "      <td>0</td>\n",
       "      <td>...</td>\n",
       "      <td>0</td>\n",
       "      <td>0</td>\n",
       "      <td>0</td>\n",
       "      <td>0</td>\n",
       "      <td>1</td>\n",
       "      <td>0</td>\n",
       "      <td>0</td>\n",
       "      <td>1</td>\n",
       "      <td>1</td>\n",
       "      <td>0</td>\n",
       "    </tr>\n",
       "  </tbody>\n",
       "</table>\n",
       "<p>5 rows × 56 columns</p>\n",
       "</div>"
      ],
      "text/plain": [
       "      Age  SibSp  Parch     Fare  Title_0  Title_1  Title_2  Title_3  Fsize  \\\n",
       "881  34.5      0      0   7.8292        0        0        1        0      1   \n",
       "882  47.0      1      0   7.0000        0        1        0        0      2   \n",
       "883  62.0      0      0   9.6875        0        0        1        0      1   \n",
       "884  27.0      0      0   8.6625        0        0        1        0      1   \n",
       "885  22.0      1      1  12.2875        0        1        0        0      3   \n",
       "\n",
       "     family_size_0  ...  T_STONOQ  T_SWPP  T_WC  T_WEP  T_x  Pclass_1  \\\n",
       "881              0  ...         0       0     0      0    1         0   \n",
       "882              0  ...         0       0     0      0    1         0   \n",
       "883              0  ...         0       0     0      0    1         0   \n",
       "884              0  ...         0       0     0      0    1         0   \n",
       "885              0  ...         0       0     0      0    1         0   \n",
       "\n",
       "     Pclass_2  Pclass_3  Sex_0  Sex_1  \n",
       "881         0         1      0      1  \n",
       "882         0         1      1      0  \n",
       "883         1         0      0      1  \n",
       "884         0         1      0      1  \n",
       "885         0         1      1      0  \n",
       "\n",
       "[5 rows x 56 columns]"
      ]
     },
     "execution_count": 95,
     "metadata": {},
     "output_type": "execute_result"
    }
   ],
   "source": [
    "test.head()"
   ]
  },
  {
   "cell_type": "code",
   "execution_count": 96,
   "id": "77715163",
   "metadata": {},
   "outputs": [
    {
     "name": "stdout",
     "output_type": "stream",
     "text": [
      "X_train 590\n",
      "X_test 291\n",
      "y_train 590\n",
      "y_test 291\n",
      "test 418\n"
     ]
    }
   ],
   "source": [
    "train = train_df[:train_df_len]\n",
    "X_train = train.drop(labels = \"Survived\", axis = 1)\n",
    "y_train = train[\"Survived\"]\n",
    "X_train, X_test, y_train, y_test = train_test_split(X_train, y_train, test_size = 0.33, random_state = 42)\n",
    "print(\"X_train\",len(X_train))\n",
    "print(\"X_test\",len(X_test))\n",
    "print(\"y_train\",len(y_train))\n",
    "print(\"y_test\",len(y_test))\n",
    "print(\"test\",len(test))"
   ]
  },
  {
   "cell_type": "markdown",
   "id": "af8ce44c",
   "metadata": {},
   "source": [
    "train = train_df[:train_df_len]\n",
    "\n",
    "Bu satırda, baştan train_df_len değerine kadar olan kısım train değişkenine atanır.\n",
    "\n",
    "Çıktıyı inceleyelim. X_train verisinin 590 tanesini train etmek için ve 291 tanesini test etmek için kullanacağız. Ve 418 tane ayrıyeten test seti vardır. Bu başlangıçta train ve validation setlerinden ayrılan test setidir. Train ve validation setleri ile model eğitilip, uygun parametreler ayarlanır ve model hazır olduktan sonra en son bu test seti ile test etme işlemi yapılır."
   ]
  },
  {
   "cell_type": "markdown",
   "id": "30c233d9",
   "metadata": {},
   "source": [
    "## Modeling: Simple Logistic Regression Model"
   ]
  },
  {
   "cell_type": "code",
   "execution_count": 97,
   "id": "aac6015d",
   "metadata": {},
   "outputs": [
    {
     "name": "stdout",
     "output_type": "stream",
     "text": [
      "Training Accuracy: % 82.71\n",
      "Testing Accuracy: % 81.79\n"
     ]
    }
   ],
   "source": [
    "logreg = LogisticRegression()\n",
    "logreg.fit(X_train, y_train)\n",
    "acc_log_train = round(logreg.score(X_train, y_train)*100,2) \n",
    "acc_log_test = round(logreg.score(X_test,y_test)*100,2)\n",
    "print(\"Training Accuracy: % {}\".format(acc_log_train))\n",
    "print(\"Testing Accuracy: % {}\".format(acc_log_test))"
   ]
  },
  {
   "cell_type": "markdown",
   "id": "1bdd03cd",
   "metadata": {},
   "source": [
    "y_train'de survived değerleri bulunmaktadır ve x-train'de diğer feature'ler bulunmaktadır.\n",
    "\n",
    "Yukarıdaki kod bloğu ile Logistic Regression modeli oluşturulmuştur."
   ]
  },
  {
   "cell_type": "markdown",
   "id": "83b71ce6",
   "metadata": {},
   "source": [
    "## Modeling: Hyperparameter Tuning -- Grid Search -- Cross Validation"
   ]
  },
  {
   "cell_type": "markdown",
   "id": "1fc775b3",
   "metadata": {},
   "source": [
    "Decision Tree, SVM, Random Forest, KNN, Logistic Regression algoritmaları sonucunda elde edilen modelleri karşılaştıracağız. Ayrıca Hyperparameter Tuning yapacağız. Hyperparameter Tuning, modellerin içerisinde bulunan parametreler için en iyisini bulacağız. Bu işlemi yaparken Grid Search yöntemini kullanacağız. Bulduğumuz parametrelerin en iyi değerlerini karşılaştırıkende Cross Validation yöntemini kullanacağız."
   ]
  },
  {
   "cell_type": "code",
   "execution_count": 98,
   "id": "41290461",
   "metadata": {},
   "outputs": [],
   "source": [
    "random_state = 42 \n",
    "#Bir başka cihazda bu kodları çalıştırdığımızda aynı sonucu elde etmek istiyorsak, her iki cihazda da random_state değerini\n",
    "#aynı yaparız.\n",
    "\n",
    "classifier = [DecisionTreeClassifier(random_state = random_state),\n",
    "             SVC(random_state = random_state),\n",
    "             RandomForestClassifier(random_state = random_state),\n",
    "             LogisticRegression(random_state = random_state),\n",
    "             KNeighborsClassifier()]  #KNN'de randomluk yoktur.\n",
    "\n",
    "#Hyperparameter Tuning yapabilmemiz için gerekli olan parametreleri seçelim:\n",
    "#Aşağıdaki kırmızı ifadeler parametreleri, yeşil ifadeler bu parametrelerin alabileceği değerleri ifade ederler.\n",
    "\n",
    "#decision tree için:\n",
    "dt_param_grid = {\"min_samples_split\" : range(10,500,20),\n",
    "                \"max_depth\": range(1,20,2)}\n",
    "\n",
    "#SVM için:\n",
    "svc_param_grid = {\"kernel\" : [\"rbf\"],\n",
    "                 \"gamma\": [0.001, 0.01, 0.1, 1],\n",
    "                 \"C\": [1,10,50,100,200,300,1000]}\n",
    "\n",
    "#Random forest için:\n",
    "rf_param_grid = {\"max_features\": [1,3,10],\n",
    "                \"min_samples_split\":[2,3,10],\n",
    "                \"min_samples_leaf\":[1,3,10],\n",
    "                \"bootstrap\":[False],\n",
    "                \"n_estimators\":[100,300],\n",
    "                \"criterion\":[\"gini\"]}\n",
    "\n",
    "#Logistic Regression için:\n",
    "logreg_param_grid = {\"C\":np.logspace(-3,3,7), #-3'den 3'e kadar 7 tane sayı elde edildi.\n",
    "                    \"penalty\": [\"l1\",\"l2\"]}\n",
    "\n",
    "#KNN için:\n",
    "knn_param_grid = {\"n_neighbors\": np.linspace(1,19,10, dtype = int).tolist(),\n",
    "                 \"weights\": [\"uniform\",\"distance\"],\n",
    "                 \"metric\":[\"euclidean\",\"manhattan\"]}\n",
    "\n",
    "classifier_param = [dt_param_grid,\n",
    "                   svc_param_grid,\n",
    "                   rf_param_grid,\n",
    "                   logreg_param_grid,\n",
    "                   knn_param_grid]"
   ]
  },
  {
   "cell_type": "markdown",
   "id": "a7d73bdc",
   "metadata": {},
   "source": [
    "Hyperparameter Tuning, model içerisinde kullandığımız seçilmesi gereken parametrelerdir. Yukarıda kırmızı ifadeler ilgili algoritma için gerekli parametrelerdir. Ve karşılarındaki yeşil ifadeler ilgili parametreye verilebilecek değerlerdir ve amaç o yeşil değerlerden hangisinin ilgili parametre için en uygun olacağını tespit etmektir. Bir algoritma için parametrelerin kombinasyonları yapılır. Her bir kombinasyon ile algoritma çalıştırılır ve bir çok accuracy değeri elde edilir. En yüksek accuracy değeri parametrelerin hangi değerleri için elde edildiyse, o değerler parametreler için en uygun olanlardır. Hyperparameter Tuning budur. Bu işlemler şu şekildedir:\n",
    "\n",
    "<br><br>\n",
    "<img src=\"t1.png\" style=\"width:500px;height:200px\"/>\n",
    "\n",
    "Yukarıdaki görselde görüldüğü üzere KNN algoritmasının n_neighbors ve metric parametreleri için kombinasyonlar yapılmıştır ve algoritma her bir kombinasyon için çalıştırılmıştır. Bir çok accuracy değeri elde edilmiştir ve en yüksek accuracy değerinin n=3 ve m=euclidean değerleri için elde edildiği varsayılmıştır.\n",
    "\n",
    "Grid Search'de her bir grip parametrelerin bir kombinasyonunu ifade etmektedir. Sonrasında her bir kombinasyon için bir accuracy değeri elde ediliyor. Bu işlemi Grid Search yöntemi kendisi yapıyor. \n",
    "\n",
    "Grid Searc'ü görsel üzerinden görelim:\n",
    "\n",
    "<br><br>\n",
    "<img src=\"t2.png\" style=\"width:500px;height:200px\"/>"
   ]
  },
  {
   "cell_type": "code",
   "execution_count": 99,
   "id": "d499575b",
   "metadata": {},
   "outputs": [
    {
     "name": "stdout",
     "output_type": "stream",
     "text": [
      "Fitting 10 folds for each of 250 candidates, totalling 2500 fits\n",
      "0.8355932203389831\n",
      "Fitting 10 folds for each of 28 candidates, totalling 280 fits\n",
      "0.7983050847457627\n",
      "Fitting 10 folds for each of 54 candidates, totalling 540 fits\n",
      "0.840677966101695\n",
      "Fitting 10 folds for each of 14 candidates, totalling 140 fits\n",
      "0.8220338983050846\n",
      "Fitting 10 folds for each of 40 candidates, totalling 400 fits\n",
      "0.7779661016949152\n"
     ]
    }
   ],
   "source": [
    "cv_result = []  #sonuçları tutacak.\n",
    "best_estimators = [] #maching learning modelleri içerisindeki en iyileri tutacak.\n",
    "for i in range(len(classifier)): \n",
    "# Bir üst kod bloğunda belirttiğimiz paramatreler için en iyi maching learning modelini seçmek için for döngüsü kullanılmıştır.\n",
    "    clf = GridSearchCV(classifier[i], param_grid=classifier_param[i], cv = StratifiedKFold(n_splits = 10), scoring = \"accuracy\", n_jobs = -1,verbose = 1)\n",
    "    #n_jobs = -1 parametresi ile paralel çalışması sağlanır ve böylece hız kazanılır.\n",
    "    #verbose = 1 parametresi ile kod çalışırken sonuçların sürekli gösterilmesi sağlanmıştır.\n",
    "    clf.fit(X_train,y_train)\n",
    "    cv_result.append(clf.best_score_)\n",
    "    best_estimators.append(clf.best_estimator_)\n",
    "    print(cv_result[i])"
   ]
  },
  {
   "cell_type": "markdown",
   "id": "bc96a74d",
   "metadata": {},
   "source": [
    "Şimdi yukarıdaki çıktıyı görselleştirelim."
   ]
  },
  {
   "cell_type": "code",
   "execution_count": 100,
   "id": "b3fa1616",
   "metadata": {},
   "outputs": [
    {
     "data": {
      "text/plain": [
       "Text(0.5, 1.0, 'Cross Validation Scores')"
      ]
     },
     "execution_count": 100,
     "metadata": {},
     "output_type": "execute_result"
    },
    {
     "data": {
      "image/png": "[encoded data removed]",
      "text/plain": [
       "<Figure size 432x288 with 1 Axes>"
      ]
     },
     "metadata": {},
     "output_type": "display_data"
    }
   ],
   "source": [
    "cv_results = pd.DataFrame({\"Cross Validation Means\":cv_result, \"ML Models\":[\"DecisionTreeClassifier\", \"SVM\",\"RandomForestClassifier\",\n",
    "             \"LogisticRegression\",\n",
    "             \"KNeighborsClassifier\"]})\n",
    "\n",
    "g = sns.barplot(\"Cross Validation Means\", \"ML Models\", data = cv_results)\n",
    "g.set_xlabel(\"Mean Accuracy\")\n",
    "g.set_title(\"Cross Validation Scores\")"
   ]
  },
  {
   "cell_type": "markdown",
   "id": "a9fe6ced",
   "metadata": {},
   "source": [
    "Yukarıdaki çıktıda modellerin başarı değerlerine dair bir görsel görmekteyiz."
   ]
  },
  {
   "cell_type": "markdown",
   "id": "b0d9da68",
   "metadata": {},
   "source": [
    "## Modeling: Ensemble Modeling"
   ]
  },
  {
   "cell_type": "markdown",
   "id": "119d0788",
   "metadata": {},
   "source": [
    "<br><br>\n",
    "<img src=\"t3.png\" style=\"width:700px;height:400px\"/>\n",
    "\n",
    "\n",
    "Yukarıdaki görsel üzerinden voting classifier'ı açıklayayım. Amaç bir insanın hayatta kalıp kalmama durumunu tespit etmektir. Voting'in soft ve hard olmak üzere birisini kullanabileceğimiz 2 tane parametresi vardır. \n",
    "\n",
    "Öncelikle Hard parametresini kullanırsak nasıl çalışacağını anlatayım:\n",
    "\n",
    "Kullanılmasını istediğimiz algoritmaları classifier kısmında görmektesiniz. Her bir algoritmaya göre Alex kişisinin hayatta kalıp kalmadığı tahmini yapılır. Random forest'a göre 0 (hayatta değil), decision tree'ye göre 0, logistic regression'a göre 1 (hayattadır) tahminleri yapılmıştır. Sonrasında voting classifier hard parametresi ile çalıştığından şunu yapar: Tahminlerde kaç tane 0 ve kaç tane 1 olduğuna bakar. En çok adet hangi değer için ise voting classifier sonucu o değer olur.\n",
    "\n",
    "Soft parametresini kullanırsak nasıl çalışacağını anlatayım:\n",
    "\n",
    "Görselde yeşil kısımda gördüğünüz durumdur. Her bir algoritma için şu işlem yapılır: o algoritmaya göre 0 çıkma olasılığı yazılır ve 1 çıkma olasılığı yazılır. Sonra tüm algoritmalardan elde edilen 0 çıkma olasılıkları toplanır ve toplam sonucu 3'e bölünür. Aynı şekilde 1 çıkma olasılıkları toplanır ve toplam sonucu 3'e bölünür. Elde edilen hangi değer büyük ise o olasılık değerinin ait olduğu 0 ya da 1 değeri voting classifier sonucudur.\n",
    "\n",
    "Şimdi bu anlatılanları uygulayarak maching learning modellerini birleştirerek daha iyi tahminler yapalım."
   ]
  },
  {
   "cell_type": "code",
   "execution_count": 101,
   "id": "414aa4da",
   "metadata": {},
   "outputs": [
    {
     "name": "stdout",
     "output_type": "stream",
     "text": [
      "0.8178694158075601\n"
     ]
    }
   ],
   "source": [
    "votingC = VotingClassifier(estimators = [(\"dt\",best_estimators[0]),  #kullanmak istediğimiz modelleri yazdık.\n",
    "                                        (\"rfc\",best_estimators[2]),\n",
    "                                        (\"lr\",best_estimators[3])],\n",
    "                                        voting = \"soft\", n_jobs = -1)\n",
    "votingC = votingC.fit(X_train, y_train)\n",
    "print(accuracy_score(votingC.predict(X_test),y_test))"
   ]
  },
  {
   "cell_type": "markdown",
   "id": "7c2f38b8",
   "metadata": {},
   "source": [
    "best_estimators[0] ifadesi, \n",
    "\n",
    "classifier = [DecisionTreeClassifier(random_state = random_state),\n",
    "             SVC(random_state = random_state),\n",
    "             RandomForestClassifier(random_state = random_state),\n",
    "             LogisticRegression(random_state = random_state),\n",
    "             KNeighborsClassifier()] \n",
    "             \n",
    "kısmındaki 0.indeks olan Decision Tree'dir.\n",
    "\n",
    "Çıktıda görüldüğü üzere 0.81 değerinde accuracy elde edilmiştir."
   ]
  },
  {
   "cell_type": "markdown",
   "id": "b6e47ec0",
   "metadata": {},
   "source": [
    "## Modeling: Prediction and Submission"
   ]
  },
  {
   "cell_type": "code",
   "execution_count": 102,
   "id": "eca7edc7",
   "metadata": {},
   "outputs": [],
   "source": [
    "test_survived = pd.Series(votingC.predict(test), name = \"Survived\").astype(int)\n",
    "results = pd.concat([test_PassengerId, test_survived],axis = 1)\n",
    "results.to_csv(\"titanic.csv\", index = False)"
   ]
  },
  {
   "cell_type": "markdown",
   "id": "bf373c59",
   "metadata": {},
   "source": [
    "test_survived = pd.Series(votingC.predict(test), name = \"Survived\").astype(int)\n",
    "\n",
    "Bu satırda: Survived isimli bir seri oluşturuyorum. test verisini kullanarak yapılan sonuçları 0 ve 1'leri içerisinde depoluyor.\n",
    "\n",
    "results = pd.concat([test_PassengerId, test_survived],axis = 1)\n",
    "\n",
    "Bu satırda, test_PassengerId ve test_survived birleştiriliyor.\n",
    "\n",
    "results.to_csv(\"titanic.csv\", index = False)\n",
    "\n",
    "Bu satırda, csv formatında dışarı aktarılmıştır."
   ]
  }
 ],
 "metadata": {
  "kernelspec": {
   "display_name": "Python 3 (ipykernel)",
   "language": "python",
   "name": "python3"
  },
  "language_info": {
   "codemirror_mode": {
    "name": "ipython",
    "version": 3
   },
   "file_extension": ".py",
   "mimetype": "text/x-python",
   "name": "python",
   "nbconvert_exporter": "python",
   "pygments_lexer": "ipython3",
   "version": "3.9.7"
  }
 },
 "nbformat": 4,
 "nbformat_minor": 5
}
