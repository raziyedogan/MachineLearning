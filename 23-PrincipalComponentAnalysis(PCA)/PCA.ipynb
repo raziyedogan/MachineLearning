{
 "cells": [
  {
   "cell_type": "markdown",
   "id": "78235393",
   "metadata": {},
   "source": [
    "## Principal Component Analysis (PCA)"
   ]
  },
  {
   "cell_type": "markdown",
   "id": "85ac5959",
   "metadata": {},
   "source": [
    "PCA şu amaçlar için kullanılır:\n",
    "\n",
    "    1- Feature extraction: Mevcut feature'lerden yeni feature'ler oluşturulabilir.\n",
    "    \n",
    "    2- Feature dimension reduction: Feature sayısını azaltma işlemidir.\n",
    "    \n",
    "    3- Stock market prediction\n",
    "    \n",
    "    4- Gene data analysis\n",
    "    \n",
    "Feature dimension reduction ile ilgileneceğiz.\n",
    "\n",
    "Gerçek hayatta binlerce feature ile karşılaşabiliriz. Bu durumda eğitim ve test çok zorlaşabilir. Dolayısıyla feature dimension reduction yapmamız gerekir. Ayrıca mesela 10 boyutlu bir data var. Bu data'yı görselleştiremeyiz çünkü böyle bir görselleştirme tekniği yok. x,y,z koordinat sisteminde 3 boyutlu yapılabilir, alan ekleriz 4 boyutlu olur, renk ekleriz 5 boyutlu olur. Fakat 10 boyuta kadar çıkamayız. Bu yüzden PCA kullanarak 10 boyutlu data'yı mesela 2 boyuta düşürebiliriz ve görselleştirme yapmamız mümkün hale gelir.\n",
    "\n",
    "Yüksek boyuttan düşük boyuta indirgenken dikkat edilmesi gereken nokta, varyans olabildiğince büyük olmalıdır. Varyansın büyük olmasından kasıt, data kaybedilmemesidir. Eğer varyans yüksekse data kaybedilmemiştir.\n",
    "\n",
    "Feature dimension reduction yaptıktan sonra eğer gerçekten varyans değeri iyiyse ve gerekli bileşenler varsa orjinal data'yı tekrardan elde edebiliriz.\n",
    "\n",
    "Şimdi iki boyutlu data'yı PCA ile 1 boyuta düşürelim. Bunu yaparken ilk amacımız varyansın maksimum değere sahip olmasıdır. Varyansın matematikteki karşılığını değişkenlik yani yayılım olarak düşünebiliriz.\n",
    "\n",
    "<br><br>\n",
    "<img src=\"p2.png\" align=\"left\" style=\"width:450px;height:300px\"/>"
   ]
  },
  {
   "cell_type": "markdown",
   "id": "0af78d0b",
   "metadata": {},
   "source": [
    "Yukarıda gördüğünüz x eksenindeki yatay kırmızı çizgi ve y eksenindeki dikey yeşil çizgi varyanslardır. Amaç PCA yaparken maksimum varyansı elde etmektir. Dolayısıyla data'da maksimum varyans siyah çizgidir. Bu siyah çizgi principle component olarak adlandırılır. Bu principle component data'yı varyansı maksimum olacak şekilde ifade etmekte. x1 ve x2 feature'lerini kullanmak yerine sadece principle component'i kullanarak data'yı ifade edebiliriz. Böylelikle iki tane feature'den bir tane feature'ye düşürmüş olduk.\n",
    "\n",
    "İki tane component çıkartmak istersek, ikinci component'in adı \"second component\" olur:\n",
    "\n",
    "İki feature olan data'dan 1 tane veya 2 tane component elde edilebilir. 3 tane elde edilemez.\n",
    "\n",
    "<br><br>\n",
    "<img src=\"p3.png\" align=\"left\" style=\"width:450px;height:300px\"/>"
   ]
  },
  {
   "cell_type": "markdown",
   "id": "1e3c4776",
   "metadata": {},
   "source": [
    "PCA yöntemini feature'lerin sayısını azaltmak için kullanıyoruz. Şimdi de bu yöntemi koda dökelim.\n",
    "\n",
    "sklearn kütüphanesi, içerisinde veri seti de bulundurmaktadır. sklearn kütüphanesinden import ederek iris veri setini kullanalım."
   ]
  },
  {
   "cell_type": "code",
   "execution_count": 1,
   "id": "311bb491",
   "metadata": {},
   "outputs": [],
   "source": [
    "from sklearn.datasets import load_iris\n",
    "import pandas as pd\n",
    "import numpy as np\n",
    "\n",
    "iris = load_iris()"
   ]
  },
  {
   "cell_type": "code",
   "execution_count": 3,
   "id": "44fec957",
   "metadata": {},
   "outputs": [
    {
     "data": {
      "text/plain": [
       "{'data': array([[5.1, 3.5, 1.4, 0.2],\n",
       "        [4.9, 3. , 1.4, 0.2],\n",
       "        [4.7, 3.2, 1.3, 0.2],\n",
       "        [4.6, 3.1, 1.5, 0.2],\n",
       "        [5. , 3.6, 1.4, 0.2],\n",
       "        [5.4, 3.9, 1.7, 0.4],\n",
       "        [4.6, 3.4, 1.4, 0.3],\n",
       "        [5. , 3.4, 1.5, 0.2],\n",
       "        [4.4, 2.9, 1.4, 0.2],\n",
       "        [4.9, 3.1, 1.5, 0.1],\n",
       "        [5.4, 3.7, 1.5, 0.2],\n",
       "        [4.8, 3.4, 1.6, 0.2],\n",
       "        [4.8, 3. , 1.4, 0.1],\n",
       "        [4.3, 3. , 1.1, 0.1],\n",
       "        [5.8, 4. , 1.2, 0.2],\n",
       "        [5.7, 4.4, 1.5, 0.4],\n",
       "        [5.4, 3.9, 1.3, 0.4],\n",
       "        [5.1, 3.5, 1.4, 0.3],\n",
       "        [5.7, 3.8, 1.7, 0.3],\n",
       "        [5.1, 3.8, 1.5, 0.3],\n",
       "        [5.4, 3.4, 1.7, 0.2],\n",
       "        [5.1, 3.7, 1.5, 0.4],\n",
       "        [4.6, 3.6, 1. , 0.2],\n",
       "        [5.1, 3.3, 1.7, 0.5],\n",
       "        [4.8, 3.4, 1.9, 0.2],\n",
       "        [5. , 3. , 1.6, 0.2],\n",
       "        [5. , 3.4, 1.6, 0.4],\n",
       "        [5.2, 3.5, 1.5, 0.2],\n",
       "        [5.2, 3.4, 1.4, 0.2],\n",
       "        [4.7, 3.2, 1.6, 0.2],\n",
       "        [4.8, 3.1, 1.6, 0.2],\n",
       "        [5.4, 3.4, 1.5, 0.4],\n",
       "        [5.2, 4.1, 1.5, 0.1],\n",
       "        [5.5, 4.2, 1.4, 0.2],\n",
       "        [4.9, 3.1, 1.5, 0.2],\n",
       "        [5. , 3.2, 1.2, 0.2],\n",
       "        [5.5, 3.5, 1.3, 0.2],\n",
       "        [4.9, 3.6, 1.4, 0.1],\n",
       "        [4.4, 3. , 1.3, 0.2],\n",
       "        [5.1, 3.4, 1.5, 0.2],\n",
       "        [5. , 3.5, 1.3, 0.3],\n",
       "        [4.5, 2.3, 1.3, 0.3],\n",
       "        [4.4, 3.2, 1.3, 0.2],\n",
       "        [5. , 3.5, 1.6, 0.6],\n",
       "        [5.1, 3.8, 1.9, 0.4],\n",
       "        [4.8, 3. , 1.4, 0.3],\n",
       "        [5.1, 3.8, 1.6, 0.2],\n",
       "        [4.6, 3.2, 1.4, 0.2],\n",
       "        [5.3, 3.7, 1.5, 0.2],\n",
       "        [5. , 3.3, 1.4, 0.2],\n",
       "        [7. , 3.2, 4.7, 1.4],\n",
       "        [6.4, 3.2, 4.5, 1.5],\n",
       "        [6.9, 3.1, 4.9, 1.5],\n",
       "        [5.5, 2.3, 4. , 1.3],\n",
       "        [6.5, 2.8, 4.6, 1.5],\n",
       "        [5.7, 2.8, 4.5, 1.3],\n",
       "        [6.3, 3.3, 4.7, 1.6],\n",
       "        [4.9, 2.4, 3.3, 1. ],\n",
       "        [6.6, 2.9, 4.6, 1.3],\n",
       "        [5.2, 2.7, 3.9, 1.4],\n",
       "        [5. , 2. , 3.5, 1. ],\n",
       "        [5.9, 3. , 4.2, 1.5],\n",
       "        [6. , 2.2, 4. , 1. ],\n",
       "        [6.1, 2.9, 4.7, 1.4],\n",
       "        [5.6, 2.9, 3.6, 1.3],\n",
       "        [6.7, 3.1, 4.4, 1.4],\n",
       "        [5.6, 3. , 4.5, 1.5],\n",
       "        [5.8, 2.7, 4.1, 1. ],\n",
       "        [6.2, 2.2, 4.5, 1.5],\n",
       "        [5.6, 2.5, 3.9, 1.1],\n",
       "        [5.9, 3.2, 4.8, 1.8],\n",
       "        [6.1, 2.8, 4. , 1.3],\n",
       "        [6.3, 2.5, 4.9, 1.5],\n",
       "        [6.1, 2.8, 4.7, 1.2],\n",
       "        [6.4, 2.9, 4.3, 1.3],\n",
       "        [6.6, 3. , 4.4, 1.4],\n",
       "        [6.8, 2.8, 4.8, 1.4],\n",
       "        [6.7, 3. , 5. , 1.7],\n",
       "        [6. , 2.9, 4.5, 1.5],\n",
       "        [5.7, 2.6, 3.5, 1. ],\n",
       "        [5.5, 2.4, 3.8, 1.1],\n",
       "        [5.5, 2.4, 3.7, 1. ],\n",
       "        [5.8, 2.7, 3.9, 1.2],\n",
       "        [6. , 2.7, 5.1, 1.6],\n",
       "        [5.4, 3. , 4.5, 1.5],\n",
       "        [6. , 3.4, 4.5, 1.6],\n",
       "        [6.7, 3.1, 4.7, 1.5],\n",
       "        [6.3, 2.3, 4.4, 1.3],\n",
       "        [5.6, 3. , 4.1, 1.3],\n",
       "        [5.5, 2.5, 4. , 1.3],\n",
       "        [5.5, 2.6, 4.4, 1.2],\n",
       "        [6.1, 3. , 4.6, 1.4],\n",
       "        [5.8, 2.6, 4. , 1.2],\n",
       "        [5. , 2.3, 3.3, 1. ],\n",
       "        [5.6, 2.7, 4.2, 1.3],\n",
       "        [5.7, 3. , 4.2, 1.2],\n",
       "        [5.7, 2.9, 4.2, 1.3],\n",
       "        [6.2, 2.9, 4.3, 1.3],\n",
       "        [5.1, 2.5, 3. , 1.1],\n",
       "        [5.7, 2.8, 4.1, 1.3],\n",
       "        [6.3, 3.3, 6. , 2.5],\n",
       "        [5.8, 2.7, 5.1, 1.9],\n",
       "        [7.1, 3. , 5.9, 2.1],\n",
       "        [6.3, 2.9, 5.6, 1.8],\n",
       "        [6.5, 3. , 5.8, 2.2],\n",
       "        [7.6, 3. , 6.6, 2.1],\n",
       "        [4.9, 2.5, 4.5, 1.7],\n",
       "        [7.3, 2.9, 6.3, 1.8],\n",
       "        [6.7, 2.5, 5.8, 1.8],\n",
       "        [7.2, 3.6, 6.1, 2.5],\n",
       "        [6.5, 3.2, 5.1, 2. ],\n",
       "        [6.4, 2.7, 5.3, 1.9],\n",
       "        [6.8, 3. , 5.5, 2.1],\n",
       "        [5.7, 2.5, 5. , 2. ],\n",
       "        [5.8, 2.8, 5.1, 2.4],\n",
       "        [6.4, 3.2, 5.3, 2.3],\n",
       "        [6.5, 3. , 5.5, 1.8],\n",
       "        [7.7, 3.8, 6.7, 2.2],\n",
       "        [7.7, 2.6, 6.9, 2.3],\n",
       "        [6. , 2.2, 5. , 1.5],\n",
       "        [6.9, 3.2, 5.7, 2.3],\n",
       "        [5.6, 2.8, 4.9, 2. ],\n",
       "        [7.7, 2.8, 6.7, 2. ],\n",
       "        [6.3, 2.7, 4.9, 1.8],\n",
       "        [6.7, 3.3, 5.7, 2.1],\n",
       "        [7.2, 3.2, 6. , 1.8],\n",
       "        [6.2, 2.8, 4.8, 1.8],\n",
       "        [6.1, 3. , 4.9, 1.8],\n",
       "        [6.4, 2.8, 5.6, 2.1],\n",
       "        [7.2, 3. , 5.8, 1.6],\n",
       "        [7.4, 2.8, 6.1, 1.9],\n",
       "        [7.9, 3.8, 6.4, 2. ],\n",
       "        [6.4, 2.8, 5.6, 2.2],\n",
       "        [6.3, 2.8, 5.1, 1.5],\n",
       "        [6.1, 2.6, 5.6, 1.4],\n",
       "        [7.7, 3. , 6.1, 2.3],\n",
       "        [6.3, 3.4, 5.6, 2.4],\n",
       "        [6.4, 3.1, 5.5, 1.8],\n",
       "        [6. , 3. , 4.8, 1.8],\n",
       "        [6.9, 3.1, 5.4, 2.1],\n",
       "        [6.7, 3.1, 5.6, 2.4],\n",
       "        [6.9, 3.1, 5.1, 2.3],\n",
       "        [5.8, 2.7, 5.1, 1.9],\n",
       "        [6.8, 3.2, 5.9, 2.3],\n",
       "        [6.7, 3.3, 5.7, 2.5],\n",
       "        [6.7, 3. , 5.2, 2.3],\n",
       "        [6.3, 2.5, 5. , 1.9],\n",
       "        [6.5, 3. , 5.2, 2. ],\n",
       "        [6.2, 3.4, 5.4, 2.3],\n",
       "        [5.9, 3. , 5.1, 1.8]]),\n",
       " 'target': array([0, 0, 0, 0, 0, 0, 0, 0, 0, 0, 0, 0, 0, 0, 0, 0, 0, 0, 0, 0, 0, 0,\n",
       "        0, 0, 0, 0, 0, 0, 0, 0, 0, 0, 0, 0, 0, 0, 0, 0, 0, 0, 0, 0, 0, 0,\n",
       "        0, 0, 0, 0, 0, 0, 1, 1, 1, 1, 1, 1, 1, 1, 1, 1, 1, 1, 1, 1, 1, 1,\n",
       "        1, 1, 1, 1, 1, 1, 1, 1, 1, 1, 1, 1, 1, 1, 1, 1, 1, 1, 1, 1, 1, 1,\n",
       "        1, 1, 1, 1, 1, 1, 1, 1, 1, 1, 1, 1, 2, 2, 2, 2, 2, 2, 2, 2, 2, 2,\n",
       "        2, 2, 2, 2, 2, 2, 2, 2, 2, 2, 2, 2, 2, 2, 2, 2, 2, 2, 2, 2, 2, 2,\n",
       "        2, 2, 2, 2, 2, 2, 2, 2, 2, 2, 2, 2, 2, 2, 2, 2, 2, 2]),\n",
       " 'frame': None,\n",
       " 'target_names': array(['setosa', 'versicolor', 'virginica'], dtype='<U10'),\n",
       " 'DESCR': '.. _iris_dataset:\\n\\nIris plants dataset\\n--------------------\\n\\n**Data Set Characteristics:**\\n\\n    :Number of Instances: 150 (50 in each of three classes)\\n    :Number of Attributes: 4 numeric, predictive attributes and the class\\n    :Attribute Information:\\n        - sepal length in cm\\n        - sepal width in cm\\n        - petal length in cm\\n        - petal width in cm\\n        - class:\\n                - Iris-Setosa\\n                - Iris-Versicolour\\n                - Iris-Virginica\\n                \\n    :Summary Statistics:\\n\\n    ============== ==== ==== ======= ===== ====================\\n                    Min  Max   Mean    SD   Class Correlation\\n    ============== ==== ==== ======= ===== ====================\\n    sepal length:   4.3  7.9   5.84   0.83    0.7826\\n    sepal width:    2.0  4.4   3.05   0.43   -0.4194\\n    petal length:   1.0  6.9   3.76   1.76    0.9490  (high!)\\n    petal width:    0.1  2.5   1.20   0.76    0.9565  (high!)\\n    ============== ==== ==== ======= ===== ====================\\n\\n    :Missing Attribute Values: None\\n    :Class Distribution: 33.3% for each of 3 classes.\\n    :Creator: R.A. Fisher\\n    :Donor: Michael Marshall (MARSHALL%PLU@io.arc.nasa.gov)\\n    :Date: July, 1988\\n\\nThe famous Iris database, first used by Sir R.A. Fisher. The dataset is taken\\nfrom Fisher\\'s paper. Note that it\\'s the same as in R, but not as in the UCI\\nMachine Learning Repository, which has two wrong data points.\\n\\nThis is perhaps the best known database to be found in the\\npattern recognition literature.  Fisher\\'s paper is a classic in the field and\\nis referenced frequently to this day.  (See Duda & Hart, for example.)  The\\ndata set contains 3 classes of 50 instances each, where each class refers to a\\ntype of iris plant.  One class is linearly separable from the other 2; the\\nlatter are NOT linearly separable from each other.\\n\\n.. topic:: References\\n\\n   - Fisher, R.A. \"The use of multiple measurements in taxonomic problems\"\\n     Annual Eugenics, 7, Part II, 179-188 (1936); also in \"Contributions to\\n     Mathematical Statistics\" (John Wiley, NY, 1950).\\n   - Duda, R.O., & Hart, P.E. (1973) Pattern Classification and Scene Analysis.\\n     (Q327.D83) John Wiley & Sons.  ISBN 0-471-22361-1.  See page 218.\\n   - Dasarathy, B.V. (1980) \"Nosing Around the Neighborhood: A New System\\n     Structure and Classification Rule for Recognition in Partially Exposed\\n     Environments\".  IEEE Transactions on Pattern Analysis and Machine\\n     Intelligence, Vol. PAMI-2, No. 1, 67-71.\\n   - Gates, G.W. (1972) \"The Reduced Nearest Neighbor Rule\".  IEEE Transactions\\n     on Information Theory, May 1972, 431-433.\\n   - See also: 1988 MLC Proceedings, 54-64.  Cheeseman et al\"s AUTOCLASS II\\n     conceptual clustering system finds 3 classes in the data.\\n   - Many, many more ...',\n",
       " 'feature_names': ['sepal length (cm)',\n",
       "  'sepal width (cm)',\n",
       "  'petal length (cm)',\n",
       "  'petal width (cm)'],\n",
       " 'filename': 'C:\\\\Users\\\\raziy\\\\anaconda3\\\\lib\\\\site-packages\\\\sklearn\\\\datasets\\\\data\\\\iris.csv'}"
      ]
     },
     "execution_count": 3,
     "metadata": {},
     "output_type": "execute_result"
    }
   ],
   "source": [
    "iris"
   ]
  },
  {
   "cell_type": "markdown",
   "id": "ef29167e",
   "metadata": {},
   "source": [
    "iris veri seti içerisinde numpy array'leri barındıran bir yapıdır."
   ]
  },
  {
   "cell_type": "code",
   "execution_count": 5,
   "id": "b2c180df",
   "metadata": {},
   "outputs": [],
   "source": [
    "data = iris.data\n",
    "feature_names = iris.feature_names\n",
    "y = iris.target  # target feature'sinde 0,1,2 şeklinde 3 tane sınıf vardır."
   ]
  },
  {
   "cell_type": "markdown",
   "id": "fa00b11d",
   "metadata": {},
   "source": [
    "Şimdi bir data frame oluşturalım."
   ]
  },
  {
   "cell_type": "code",
   "execution_count": 8,
   "id": "519834e1",
   "metadata": {},
   "outputs": [],
   "source": [
    "df = pd.DataFrame(data, columns=feature_names)"
   ]
  },
  {
   "cell_type": "code",
   "execution_count": 9,
   "id": "f64c9776",
   "metadata": {},
   "outputs": [
    {
     "data": {
      "text/html": [
       "<div>\n",
       "<style scoped>\n",
       "    .dataframe tbody tr th:only-of-type {\n",
       "        vertical-align: middle;\n",
       "    }\n",
       "\n",
       "    .dataframe tbody tr th {\n",
       "        vertical-align: top;\n",
       "    }\n",
       "\n",
       "    .dataframe thead th {\n",
       "        text-align: right;\n",
       "    }\n",
       "</style>\n",
       "<table border=\"1\" class=\"dataframe\">\n",
       "  <thead>\n",
       "    <tr style=\"text-align: right;\">\n",
       "      <th></th>\n",
       "      <th>sepal length (cm)</th>\n",
       "      <th>sepal width (cm)</th>\n",
       "      <th>petal length (cm)</th>\n",
       "      <th>petal width (cm)</th>\n",
       "    </tr>\n",
       "  </thead>\n",
       "  <tbody>\n",
       "    <tr>\n",
       "      <th>0</th>\n",
       "      <td>5.1</td>\n",
       "      <td>3.5</td>\n",
       "      <td>1.4</td>\n",
       "      <td>0.2</td>\n",
       "    </tr>\n",
       "    <tr>\n",
       "      <th>1</th>\n",
       "      <td>4.9</td>\n",
       "      <td>3.0</td>\n",
       "      <td>1.4</td>\n",
       "      <td>0.2</td>\n",
       "    </tr>\n",
       "    <tr>\n",
       "      <th>2</th>\n",
       "      <td>4.7</td>\n",
       "      <td>3.2</td>\n",
       "      <td>1.3</td>\n",
       "      <td>0.2</td>\n",
       "    </tr>\n",
       "    <tr>\n",
       "      <th>3</th>\n",
       "      <td>4.6</td>\n",
       "      <td>3.1</td>\n",
       "      <td>1.5</td>\n",
       "      <td>0.2</td>\n",
       "    </tr>\n",
       "    <tr>\n",
       "      <th>4</th>\n",
       "      <td>5.0</td>\n",
       "      <td>3.6</td>\n",
       "      <td>1.4</td>\n",
       "      <td>0.2</td>\n",
       "    </tr>\n",
       "  </tbody>\n",
       "</table>\n",
       "</div>"
      ],
      "text/plain": [
       "   sepal length (cm)  sepal width (cm)  petal length (cm)  petal width (cm)\n",
       "0                5.1               3.5                1.4               0.2\n",
       "1                4.9               3.0                1.4               0.2\n",
       "2                4.7               3.2                1.3               0.2\n",
       "3                4.6               3.1                1.5               0.2\n",
       "4                5.0               3.6                1.4               0.2"
      ]
     },
     "execution_count": 9,
     "metadata": {},
     "output_type": "execute_result"
    }
   ],
   "source": [
    "df.head()"
   ]
  },
  {
   "cell_type": "code",
   "execution_count": 10,
   "id": "3f3443fb",
   "metadata": {},
   "outputs": [],
   "source": [
    "df[\"sinif\"] = y"
   ]
  },
  {
   "cell_type": "code",
   "execution_count": 11,
   "id": "d8decab6",
   "metadata": {},
   "outputs": [
    {
     "data": {
      "text/html": [
       "<div>\n",
       "<style scoped>\n",
       "    .dataframe tbody tr th:only-of-type {\n",
       "        vertical-align: middle;\n",
       "    }\n",
       "\n",
       "    .dataframe tbody tr th {\n",
       "        vertical-align: top;\n",
       "    }\n",
       "\n",
       "    .dataframe thead th {\n",
       "        text-align: right;\n",
       "    }\n",
       "</style>\n",
       "<table border=\"1\" class=\"dataframe\">\n",
       "  <thead>\n",
       "    <tr style=\"text-align: right;\">\n",
       "      <th></th>\n",
       "      <th>sepal length (cm)</th>\n",
       "      <th>sepal width (cm)</th>\n",
       "      <th>petal length (cm)</th>\n",
       "      <th>petal width (cm)</th>\n",
       "      <th>sinif</th>\n",
       "    </tr>\n",
       "  </thead>\n",
       "  <tbody>\n",
       "    <tr>\n",
       "      <th>0</th>\n",
       "      <td>5.1</td>\n",
       "      <td>3.5</td>\n",
       "      <td>1.4</td>\n",
       "      <td>0.2</td>\n",
       "      <td>0</td>\n",
       "    </tr>\n",
       "    <tr>\n",
       "      <th>1</th>\n",
       "      <td>4.9</td>\n",
       "      <td>3.0</td>\n",
       "      <td>1.4</td>\n",
       "      <td>0.2</td>\n",
       "      <td>0</td>\n",
       "    </tr>\n",
       "    <tr>\n",
       "      <th>2</th>\n",
       "      <td>4.7</td>\n",
       "      <td>3.2</td>\n",
       "      <td>1.3</td>\n",
       "      <td>0.2</td>\n",
       "      <td>0</td>\n",
       "    </tr>\n",
       "    <tr>\n",
       "      <th>3</th>\n",
       "      <td>4.6</td>\n",
       "      <td>3.1</td>\n",
       "      <td>1.5</td>\n",
       "      <td>0.2</td>\n",
       "      <td>0</td>\n",
       "    </tr>\n",
       "    <tr>\n",
       "      <th>4</th>\n",
       "      <td>5.0</td>\n",
       "      <td>3.6</td>\n",
       "      <td>1.4</td>\n",
       "      <td>0.2</td>\n",
       "      <td>0</td>\n",
       "    </tr>\n",
       "  </tbody>\n",
       "</table>\n",
       "</div>"
      ],
      "text/plain": [
       "   sepal length (cm)  sepal width (cm)  petal length (cm)  petal width (cm)  \\\n",
       "0                5.1               3.5                1.4               0.2   \n",
       "1                4.9               3.0                1.4               0.2   \n",
       "2                4.7               3.2                1.3               0.2   \n",
       "3                4.6               3.1                1.5               0.2   \n",
       "4                5.0               3.6                1.4               0.2   \n",
       "\n",
       "   sinif  \n",
       "0      0  \n",
       "1      0  \n",
       "2      0  \n",
       "3      0  \n",
       "4      0  "
      ]
     },
     "execution_count": 11,
     "metadata": {},
     "output_type": "execute_result"
    }
   ],
   "source": [
    "df.head()"
   ]
  },
  {
   "cell_type": "code",
   "execution_count": 12,
   "id": "30f63b80",
   "metadata": {},
   "outputs": [
    {
     "data": {
      "text/plain": [
       "array([0, 1, 2])"
      ]
     },
     "execution_count": 12,
     "metadata": {},
     "output_type": "execute_result"
    }
   ],
   "source": [
    " df.sinif.unique()"
   ]
  },
  {
   "cell_type": "markdown",
   "id": "c1992682",
   "metadata": {},
   "source": [
    "sinif feature'sinde bulunan 0,1 ve 2 değerlerinin her biri farklı bir çiçek türünü ifade etmekte. Bu türler; setosa, versicolor, virginica 'dır."
   ]
  },
  {
   "cell_type": "code",
   "execution_count": 13,
   "id": "4d751da3",
   "metadata": {},
   "outputs": [],
   "source": [
    "x = data #data'nın tipi numpy array'dir. Dolayısıyla data.values demeye gerek yoktur."
   ]
  },
  {
   "cell_type": "markdown",
   "id": "33da7c9a",
   "metadata": {},
   "source": [
    "Data'yı PCA yöntemi ile 4 boyuttan 2 boyuta düşürerek görselleştirelim."
   ]
  },
  {
   "cell_type": "code",
   "execution_count": 17,
   "id": "cbc9d226",
   "metadata": {},
   "outputs": [
    {
     "data": {
      "text/plain": [
       "PCA(n_components=2, whiten=True)"
      ]
     },
     "execution_count": 17,
     "metadata": {},
     "output_type": "execute_result"
    }
   ],
   "source": [
    "from sklearn.decomposition import PCA #PCA metodunu import ettim.\n",
    "\n",
    "pca = PCA(n_components=2, whiten=True)\n",
    "\n",
    "pca.fit(x)"
   ]
  },
  {
   "cell_type": "markdown",
   "id": "0db4d400",
   "metadata": {},
   "source": [
    "n_components=2 parametresi ile orjinal data'nın boyutunu kaç boyuta düşürmek istediğimizi belirtiriz.\n",
    "\n",
    "whiten=True parametresi ile normalize edebiliriz. Normalize işlemi ile feature'lerin değerlerini 0 ile 1 arasına çekerek bir feature'nin diğer feature'yi etkisizleştirmesini önleriz. Böylece principle component gibi ayarlamalar doğru bir şekilde yapılabilir.\n",
    "\n",
    "fit metodunu fit(x,y) şeklinde kullanıyorduk. Burada y, label değerleriydi. Bir prediction veya machine learning algoritması eğitimi gerçekleştirmediğimiz için label değerlerine yani y'ye ihtiyacımız yoktur. Dolayısıyla pca.fit(x) şeklinde data'nın 4 boyutunu 2'ye düşürebiliriz.\n",
    "\n",
    "pca.fit(x) ile 4 boyutlu datayı 2 boyuta düşürecek modeli elde ettim. Ama bunu transform ile uygulayabilirim. Yukarıdaki kod bloğu ile boyutu düşürmüş olmuyoruz, sadece boyutu düşürecek modeli elde etmiş oluyoruz. Yani işin matematiğini yapmış oluyoruz."
   ]
  },
  {
   "cell_type": "code",
   "execution_count": 18,
   "id": "f074695e",
   "metadata": {},
   "outputs": [],
   "source": [
    "x_pca = pca.transform(x)"
   ]
  },
  {
   "cell_type": "markdown",
   "id": "1d54c22c",
   "metadata": {},
   "source": [
    "Yukarıdaki satır ile, x'i PCA modeline göre 4 boyuttan 2 boyuta düşürdük ve x_pca değişkenine atadık."
   ]
  },
  {
   "cell_type": "code",
   "execution_count": 19,
   "id": "43baea2a",
   "metadata": {},
   "outputs": [
    {
     "data": {
      "text/plain": [
       "array([[-1.30533786,  0.64836932],\n",
       "       [-1.31993521, -0.35930856],\n",
       "       [-1.40496732, -0.29424412],\n",
       "       [-1.33510889, -0.64613986],\n",
       "       [-1.32702321,  0.6633044 ],\n",
       "       [-1.10922246,  1.50488434],\n",
       "       [-1.3716775 , -0.18160462],\n",
       "       [-1.27714084,  0.33166784],\n",
       "       [-1.40369908, -1.17396001],\n",
       "       [-1.29980851, -0.23095919],\n",
       "       [-1.2191728 ,  1.30947554],\n",
       "       [-1.27062918,  0.02990145],\n",
       "       [-1.35493432, -0.47727214],\n",
       "       [-1.5677929 , -1.03811965],\n",
       "       [-1.28618899,  2.39286603],\n",
       "       [-1.16037307,  2.71623681],\n",
       "       [-1.2758681 ,  1.64566141],\n",
       "       [-1.28791362,  0.63304684],\n",
       "       [-1.06981161,  1.77184386],\n",
       "       [-1.25858365,  1.04251602],\n",
       "       [-1.12351854,  0.79442356],\n",
       "       [-1.23704894,  0.87897239],\n",
       "       [-1.56396833,  0.27093722],\n",
       "       [-1.11985996,  0.20037678],\n",
       "       [-1.14564495, -0.07568135],\n",
       "       [-1.21903752, -0.29641102],\n",
       "       [-1.20063096,  0.26582861],\n",
       "       [-1.24610158,  0.74646111],\n",
       "       [-1.28365251,  0.63343423],\n",
       "       [-1.27998309, -0.39982691],\n",
       "       [-1.25829774, -0.414762  ],\n",
       "       [-1.17199289,  0.83416713],\n",
       "       [-1.2881887 ,  1.65111049],\n",
       "       [-1.26381174,  2.21906161],\n",
       "       [-1.28238428, -0.24628167],\n",
       "       [-1.39390411,  0.14080834],\n",
       "       [-1.27669979,  1.21670783],\n",
       "       [-1.36202232,  0.54534082],\n",
       "       [-1.44947097, -0.9905446 ],\n",
       "       [-1.25956597,  0.4649539 ],\n",
       "       [-1.3471499 ,  0.53495504],\n",
       "       [-1.3856985 , -1.91012906],\n",
       "       [-1.45769193, -0.6941023 ],\n",
       "       [-1.16989296,  0.38340481],\n",
       "       [-1.07451378,  0.88641648],\n",
       "       [-1.32008584, -0.5079171 ],\n",
       "       [-1.23434648,  1.02264423],\n",
       "       [-1.38088078, -0.46272444],\n",
       "       [-1.23674767,  1.17618947],\n",
       "       [-1.31469177,  0.21864095],\n",
       "       [ 0.6248335 ,  1.39086054],\n",
       "       [ 0.4534857 ,  0.64621021],\n",
       "       [ 0.71211617,  1.02364231],\n",
       "       [ 0.08915066, -1.6807384 ],\n",
       "       [ 0.5291639 ,  0.15141741],\n",
       "       [ 0.31205505, -0.84903186],\n",
       "       [ 0.53254741,  0.57543429],\n",
       "       [-0.36431163, -2.03990633],\n",
       "       [ 0.50777981,  0.46356958],\n",
       "       [-0.00425305, -1.46784021],\n",
       "       [-0.24697202, -2.5698934 ],\n",
       "       [ 0.24884808, -0.2110796 ],\n",
       "       [ 0.12886277, -1.1165618 ],\n",
       "       [ 0.47899111, -0.25337747],\n",
       "       [-0.08458299, -0.51734838],\n",
       "       [ 0.45123514,  0.948364  ],\n",
       "       [ 0.3211077 , -0.71652058],\n",
       "       [ 0.11482204, -0.67722245],\n",
       "       [ 0.45944076, -1.1025734 ],\n",
       "       [ 0.02199468, -1.18517082],\n",
       "       [ 0.54286829, -0.17177033],\n",
       "       [ 0.17404748, -0.13991628],\n",
       "       [ 0.63132983, -0.66540095],\n",
       "       [ 0.44825311, -0.37095366],\n",
       "       [ 0.34764584,  0.30258026],\n",
       "       [ 0.43777075,  0.66685678],\n",
       "       [ 0.64778709,  0.49620955],\n",
       "       [ 0.7575868 ,  0.54300982],\n",
       "       [ 0.39551766, -0.33159748],\n",
       "       [-0.14861081, -0.74756406],\n",
       "       [-0.03313112, -1.43148376],\n",
       "       [-0.09221677, -1.38096702],\n",
       "       [ 0.0663477 , -0.63747887],\n",
       "       [ 0.67113131, -0.85452785],\n",
       "       [ 0.28595795, -0.98309271],\n",
       "       [ 0.3923895 ,  0.39418579],\n",
       "       [ 0.59364361,  0.82745872],\n",
       "       [ 0.39639526, -0.75522697],\n",
       "       [ 0.11961358, -0.54509856],\n",
       "       [ 0.0809297 , -1.3842961 ],\n",
       "       [ 0.22604062, -1.36152954],\n",
       "       [ 0.43321922, -0.06996206],\n",
       "       [ 0.11211959, -0.82089429],\n",
       "       [-0.34262628, -2.05484142],\n",
       "       [ 0.17360643, -1.02495627],\n",
       "       [ 0.16142562, -0.43168428],\n",
       "       [ 0.18296034, -0.59522791],\n",
       "       [ 0.3124961 ,  0.03600813],\n",
       "       [-0.44083236, -1.53485274],\n",
       "       [ 0.14540941, -0.7082548 ],\n",
       "       [ 1.23096388, -0.01999347],\n",
       "       [ 0.68825429, -1.16706741],\n",
       "       [ 1.27253592,  0.69811576],\n",
       "       [ 0.95879049, -0.36484365],\n",
       "       [ 1.14284953, -0.08172883],\n",
       "       [ 1.65204014,  1.11818621],\n",
       "       [ 0.25348448, -2.42127372],\n",
       "       [ 1.42616907,  0.72165711],\n",
       "       [ 1.12885471, -0.49497253],\n",
       "       [ 1.41846769,  1.58905027],\n",
       "       [ 0.80815022,  0.49171829],\n",
       "       [ 0.87702633, -0.43773957],\n",
       "       [ 1.05316567,  0.43903463],\n",
       "       [ 0.65466321, -1.57692399],\n",
       "       [ 0.771265  , -1.09545866],\n",
       "       [ 0.92617089,  0.24207626],\n",
       "       [ 0.94816834,  0.08514389],\n",
       "       [ 1.69581683,  2.38672472],\n",
       "       [ 1.84588964,  0.52235992],\n",
       "       [ 0.63259806, -1.54511685],\n",
       "       [ 1.18069088,  0.7677295 ],\n",
       "       [ 0.58309549, -1.23035234],\n",
       "       [ 1.70207314,  0.93515819],\n",
       "       [ 0.67538158, -0.41492609],\n",
       "       [ 1.10658218,  0.68002349],\n",
       "       [ 1.27127853,  1.13861729],\n",
       "       [ 0.61203482, -0.36479674],\n",
       "       [ 0.6279004 , -0.23683477],\n",
       "       [ 1.03274856, -0.42574618],\n",
       "       [ 1.16132819,  0.94320848],\n",
       "       [ 1.38195584,  0.76178807],\n",
       "       [ 1.57113386,  2.7895246 ],\n",
       "       [ 1.0501728 , -0.44106866],\n",
       "       [ 0.70232121, -0.29112604],\n",
       "       [ 0.86627524, -1.01478931],\n",
       "       [ 1.49615644,  1.39679864],\n",
       "       [ 1.04278353,  0.28432722],\n",
       "       [ 0.92648299,  0.10007897],\n",
       "       [ 0.56866412, -0.33492657],\n",
       "       [ 1.02496865,  0.75573611],\n",
       "       [ 1.12541445,  0.37280802],\n",
       "       [ 0.9348329 ,  0.83067395],\n",
       "       [ 0.68825429, -1.16706741],\n",
       "       [ 1.24643883,  0.56405491],\n",
       "       [ 1.17627914,  0.61873357],\n",
       "       [ 0.94545505,  0.38068641],\n",
       "       [ 0.74268819, -0.76188514],\n",
       "       [ 0.85803259,  0.16008172],\n",
       "       [ 0.9244616 ,  0.23675217],\n",
       "       [ 0.67607348, -0.57379543]])"
      ]
     },
     "execution_count": 19,
     "metadata": {},
     "output_type": "execute_result"
    }
   ],
   "source": [
    "x_pca"
   ]
  },
  {
   "cell_type": "markdown",
   "id": "773c3295",
   "metadata": {},
   "source": [
    "Çıktıda görüldüğü üzere iki tane feature elde edildi. Bu feature'lerden birisi principle component ve diğeri second component'tir. Hangi feature'nin hangi component olduğunu anlamak için de şöyle bir yöntem kullanacağız:"
   ]
  },
  {
   "cell_type": "code",
   "execution_count": 23,
   "id": "21f9b673",
   "metadata": {},
   "outputs": [
    {
     "name": "stdout",
     "output_type": "stream",
     "text": [
      "variance ratio:  [0.92461872 0.05306648]\n"
     ]
    }
   ],
   "source": [
    "print(\"variance ratio: \", pca.explained_variance_ratio_)\n",
    "#Elde edilen 2 boyutlu data'nın, eski 4 boyutlu data'nın ne kadarını temsil edebildiğine baktık."
   ]
  },
  {
   "cell_type": "markdown",
   "id": "776ddd31",
   "metadata": {},
   "source": [
    "Çıktıyı yorumlayalım. %92'lik kısım principle component'tir. %5'lik kısım second component'tir.\n",
    "\n",
    "PCA'de öncelikli amaç varyansı korumaktır.Data'yı 4 boyuttan 2 boyuta düşürüyoruz ama data'nın sağladığı bilgileri korumalıyız. Bilgilerin ne kadarını koruduğumuzu öğrenelim."
   ]
  },
  {
   "cell_type": "code",
   "execution_count": 24,
   "id": "b670023f",
   "metadata": {},
   "outputs": [
    {
     "name": "stdout",
     "output_type": "stream",
     "text": [
      "sum:  0.9776852063187949\n"
     ]
    }
   ],
   "source": [
    "print(\"sum: \",sum(pca.explained_variance_ratio_))"
   ]
  },
  {
   "cell_type": "markdown",
   "id": "b5ad85db",
   "metadata": {},
   "source": [
    "Çıktıda görüldüğü üzere, %97 oranında varyansa sahibiz. %3'lük bir bilgi kaybı olmuştur. Varyansı korumuş oluyoruz diyebiliriz.\n",
    "\n",
    "Şimdi data'yı görselleştirelim."
   ]
  },
  {
   "cell_type": "code",
   "execution_count": 25,
   "id": "047cbae1",
   "metadata": {},
   "outputs": [],
   "source": [
    "df[\"p1\"] = x_pca[:,0]\n",
    "df[\"p2\"] = x_pca[:,1]"
   ]
  },
  {
   "cell_type": "markdown",
   "id": "1df991cb",
   "metadata": {},
   "source": [
    "Yukarıdaki satırda yapılan şudur: variance ratio:  [0.92461872 0.05306648] çıktısında %92 'lik kısmı p1'e yani principle component'e eşitledim. Ve %5'lik kısmını p2'ye yani second component'e eşitledim."
   ]
  },
  {
   "cell_type": "code",
   "execution_count": 26,
   "id": "0e604471",
   "metadata": {},
   "outputs": [
    {
     "data": {
      "text/html": [
       "<div>\n",
       "<style scoped>\n",
       "    .dataframe tbody tr th:only-of-type {\n",
       "        vertical-align: middle;\n",
       "    }\n",
       "\n",
       "    .dataframe tbody tr th {\n",
       "        vertical-align: top;\n",
       "    }\n",
       "\n",
       "    .dataframe thead th {\n",
       "        text-align: right;\n",
       "    }\n",
       "</style>\n",
       "<table border=\"1\" class=\"dataframe\">\n",
       "  <thead>\n",
       "    <tr style=\"text-align: right;\">\n",
       "      <th></th>\n",
       "      <th>sepal length (cm)</th>\n",
       "      <th>sepal width (cm)</th>\n",
       "      <th>petal length (cm)</th>\n",
       "      <th>petal width (cm)</th>\n",
       "      <th>sinif</th>\n",
       "      <th>p1</th>\n",
       "      <th>p2</th>\n",
       "    </tr>\n",
       "  </thead>\n",
       "  <tbody>\n",
       "    <tr>\n",
       "      <th>0</th>\n",
       "      <td>5.1</td>\n",
       "      <td>3.5</td>\n",
       "      <td>1.4</td>\n",
       "      <td>0.2</td>\n",
       "      <td>0</td>\n",
       "      <td>-1.305338</td>\n",
       "      <td>0.648369</td>\n",
       "    </tr>\n",
       "    <tr>\n",
       "      <th>1</th>\n",
       "      <td>4.9</td>\n",
       "      <td>3.0</td>\n",
       "      <td>1.4</td>\n",
       "      <td>0.2</td>\n",
       "      <td>0</td>\n",
       "      <td>-1.319935</td>\n",
       "      <td>-0.359309</td>\n",
       "    </tr>\n",
       "    <tr>\n",
       "      <th>2</th>\n",
       "      <td>4.7</td>\n",
       "      <td>3.2</td>\n",
       "      <td>1.3</td>\n",
       "      <td>0.2</td>\n",
       "      <td>0</td>\n",
       "      <td>-1.404967</td>\n",
       "      <td>-0.294244</td>\n",
       "    </tr>\n",
       "    <tr>\n",
       "      <th>3</th>\n",
       "      <td>4.6</td>\n",
       "      <td>3.1</td>\n",
       "      <td>1.5</td>\n",
       "      <td>0.2</td>\n",
       "      <td>0</td>\n",
       "      <td>-1.335109</td>\n",
       "      <td>-0.646140</td>\n",
       "    </tr>\n",
       "    <tr>\n",
       "      <th>4</th>\n",
       "      <td>5.0</td>\n",
       "      <td>3.6</td>\n",
       "      <td>1.4</td>\n",
       "      <td>0.2</td>\n",
       "      <td>0</td>\n",
       "      <td>-1.327023</td>\n",
       "      <td>0.663304</td>\n",
       "    </tr>\n",
       "  </tbody>\n",
       "</table>\n",
       "</div>"
      ],
      "text/plain": [
       "   sepal length (cm)  sepal width (cm)  petal length (cm)  petal width (cm)  \\\n",
       "0                5.1               3.5                1.4               0.2   \n",
       "1                4.9               3.0                1.4               0.2   \n",
       "2                4.7               3.2                1.3               0.2   \n",
       "3                4.6               3.1                1.5               0.2   \n",
       "4                5.0               3.6                1.4               0.2   \n",
       "\n",
       "   sinif        p1        p2  \n",
       "0      0 -1.305338  0.648369  \n",
       "1      0 -1.319935 -0.359309  \n",
       "2      0 -1.404967 -0.294244  \n",
       "3      0 -1.335109 -0.646140  \n",
       "4      0 -1.327023  0.663304  "
      ]
     },
     "execution_count": 26,
     "metadata": {},
     "output_type": "execute_result"
    }
   ],
   "source": [
    "df.head()"
   ]
  },
  {
   "cell_type": "markdown",
   "id": "d9ea2e4f",
   "metadata": {},
   "source": [
    "p1 ve p2 feature'leri data'nın orjinalindeki 4 tane feature'nin 2 boyuta düşürülmesi sonucunda elde edilen feature'lerdir.\n",
    "\n",
    "p1 = principle component\n",
    "\n",
    "p2 = second component"
   ]
  },
  {
   "cell_type": "code",
   "execution_count": 29,
   "id": "41a415a2",
   "metadata": {},
   "outputs": [
    {
     "data": {
      "image/png": "[encoded data removed]",
      "text/plain": [
       "<Figure size 432x288 with 1 Axes>"
      ]
     },
     "metadata": {
      "needs_background": "light"
     },
     "output_type": "display_data"
    }
   ],
   "source": [
    "color = [\"red\", \"green\", \"blue\"]   # 3 farklı çiçek türü olduğu için 3 farklı renkle görselleştiririz.\n",
    "\n",
    "import matplotlib.pyplot as plt\n",
    "\n",
    "for each in range(3): #3 farklı iris türü olduğu için range(3) dedik. sinif classı içerisinde 0,1,2 değerleir vardı ve range(3) ile bu değerler sağlanmıştır.\n",
    "    plt.scatter(df.p1[df.sinif==each],df.p2[df.sinif==each], color=color[each], label=iris.target_names[each])\n",
    "    \n",
    "plt.legend()\n",
    "plt.xlabel(\"p1\")\n",
    "plt.ylabel(\"p2\")\n",
    "plt.show()"
   ]
  },
  {
   "cell_type": "markdown",
   "id": "a903f769",
   "metadata": {},
   "source": [
    "Data'yı 4 boyuttan 2 boyuta düşürmemize rağmen, %3'lükte olsa veri kaybetmemize rağmen, yinede türler arasında gözle görülebilir şekilde bir ayrım vardır."
   ]
  }
 ],
 "metadata": {
  "kernelspec": {
   "display_name": "Python 3 (ipykernel)",
   "language": "python",
   "name": "python3"
  },
  "language_info": {
   "codemirror_mode": {
    "name": "ipython",
    "version": 3
   },
   "file_extension": ".py",
   "mimetype": "text/x-python",
   "name": "python",
   "nbconvert_exporter": "python",
   "pygments_lexer": "ipython3",
   "version": "3.9.7"
  }
 },
 "nbformat": 4,
 "nbformat_minor": 5
}
