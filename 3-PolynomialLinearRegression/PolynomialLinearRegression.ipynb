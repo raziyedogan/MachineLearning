{
 "cells": [
  {
   "cell_type": "markdown",
   "id": "2aaa645d",
   "metadata": {},
   "source": [
    "## Polynomial Linear Regression"
   ]
  },
  {
   "cell_type": "code",
   "execution_count": 1,
   "id": "95814f75",
   "metadata": {},
   "outputs": [],
   "source": [
    "import pandas as pd\n",
    "import matplotlib.pyplot as plt"
   ]
  },
  {
   "cell_type": "code",
   "execution_count": 2,
   "id": "e339f135",
   "metadata": {},
   "outputs": [],
   "source": [
    "df = pd.read_csv(\"polynomialRegression.csv\", sep=\";\")"
   ]
  },
  {
   "cell_type": "code",
   "execution_count": 3,
   "id": "93fa9822",
   "metadata": {},
   "outputs": [],
   "source": [
    "y = df.araba_max_hiz.values.reshape(-1,1)\n",
    "\n",
    "x = df.araba_fiyat.values.reshape(-1,1)"
   ]
  },
  {
   "cell_type": "markdown",
   "id": "55ffd88b",
   "metadata": {},
   "source": [
    "Yukarıdaki kod bloğunda \".values\" ifadesi series'i array'e çevirir."
   ]
  },
  {
   "cell_type": "code",
   "execution_count": 4,
   "id": "89a6c19d",
   "metadata": {
    "scrolled": true
   },
   "outputs": [
    {
     "data": {
      "image/png": "[encoded data removed]",
      "text/plain": [
       "<Figure size 432x288 with 1 Axes>"
      ]
     },
     "metadata": {
      "needs_background": "light"
     },
     "output_type": "display_data"
    }
   ],
   "source": [
    "plt.scatter(x,y)\n",
    "plt.ylabel(\"araba_max_hiz\")\n",
    "plt.xlabel(\"araba_fiyat\")\n",
    "plt.show()"
   ]
  },
  {
   "cell_type": "markdown",
   "id": "ad28ce05",
   "metadata": {},
   "source": [
    "<font color = \"OrangeRed\" ><br>\n",
    "Linear Regression = b0 + b1 * x\n",
    "<br>\n",
    "<font color = \"OrangeRed\" ><br>\n",
    "Multiple Linear Regression = b0 + b1 * x1 + b2 * x2 + ... + bn * xn\n",
    "\n",
    "Linear Regression 'u sonucu etkileyen 1 tane feature olduğunda kullanırız.\n",
    "\n",
    "Multiple Linear Regression 'u sonucu etkileyen 1'den fazla sayıda feature olduğunda kullanırız.\n",
    "\n",
    "Burada arabanın hızını etkileyen araba_fiyat feature'sinden başka feature'de olsaydı Multiple Linear Regression 'u kullanırdık. Fakat burada sonucu etkileyen 1 tane feat<ure olduğu için Linear Regression'u kullanırız."
   ]
  },
  {
   "cell_type": "code",
   "execution_count": 5,
   "id": "8e332146",
   "metadata": {},
   "outputs": [
    {
     "data": {
      "text/plain": [
       "array([[240.10817425],\n",
       "       [240.7435423 ],\n",
       "       [241.37891035],\n",
       "       [242.64964646],\n",
       "       [243.92038256],\n",
       "       [245.82648672],\n",
       "       [249.00332698],\n",
       "       [252.18016724],\n",
       "       [255.3570075 ],\n",
       "       [261.71068803],\n",
       "       [268.06436855],\n",
       "       [283.94856986],\n",
       "       [299.83277117],\n",
       "       [363.3695764 ],\n",
       "       [426.90638163]])"
      ]
     },
     "execution_count": 5,
     "metadata": {},
     "output_type": "execute_result"
    }
   ],
   "source": [
    "from sklearn.linear_model import LinearRegression\n",
    "\n",
    "lr = LinearRegression()\n",
    "\n",
    "lr.fit(x,y)  #Bu satır ile yukarıdaki görselde gördüğünüz noktalara en uygun line'ı fit ediyoruz.\n",
    "\n",
    "y_head = lr.predict(x)\n",
    "\n",
    "y_head"
   ]
  },
  {
   "cell_type": "markdown",
   "id": "0b8eb975",
   "metadata": {},
   "source": [
    "<font color=\"MediumAquaMarine\"><br>\n",
    "lr.fit(x,y)  \n",
    "    \n",
    "Bu satır ile yukarıdaki görselde gördüğünüz noktalara en uygun line'ı fit ediyoruz. En uygun line, MSE değerini minimuma indiren line'dır."
   ]
  },
  {
   "cell_type": "code",
   "execution_count": 6,
   "id": "01d1506f",
   "metadata": {},
   "outputs": [
    {
     "data": {
      "image/png": "[encoded data removed]",
      "text/plain": [
       "<Figure size 432x288 with 1 Axes>"
      ]
     },
     "metadata": {
      "needs_background": "light"
     },
     "output_type": "display_data"
    }
   ],
   "source": [
    "plt.scatter(x,y)\n",
    "plt.plot(x, y_head, color=\"OrangeRed\")\n",
    "plt.show()"
   ]
  },
  {
   "cell_type": "code",
   "execution_count": 8,
   "id": "0f596dea",
   "metadata": {},
   "outputs": [
    {
     "data": {
      "text/plain": [
       "array([[871.66401826]])"
      ]
     },
     "execution_count": 8,
     "metadata": {},
     "output_type": "execute_result"
    }
   ],
   "source": [
    "lr.predict([[10000]])"
   ]
  },
  {
   "cell_type": "markdown",
   "id": "771d3c4f",
   "metadata": {},
   "source": [
    "Eğer arabanın fiyatı 10000 tl ise arabanın maksimum hızı 871 km/sa olacaktır sonucunu elde ettik. 871 km/sa yaklaşık bir uçağın hızıdır. Bir araba için bu hız mümkün değildir. Böyle bir sonuç elde etmemizin sebebi, data'nın linear regression metodu için uygun olmamasıdır. Çünkü veri seti linear değildir. \n",
    "\n",
    "Bu data'yı daha doğru bir şekilde fit edebilmemiz için:\n",
    "\n",
    "Polynomial Linear Regression = b0 + b1 * x + b2 * x^2\n",
    "\n",
    "Şeklinde 2.dereceden polynomial ifadeler uygulamalıyız.\n",
    "\n"
   ]
  },
  {
   "cell_type": "markdown",
   "id": "be54d6e9",
   "metadata": {},
   "source": [
    "<font color = \"OrangeRed\"><br>\n",
    "Polynomial Linear Regression = b0 + b1 * x + b2 * x^2 + ... + bn * x^n\n",
    "    \n",
    "Linear regression ile düz bir line elde ediyorduk. Polynomial Linear Regression ile noktaların dağılımına daha uygun olabilecek kıvraklıkta bir line elde edebilmemiz mümkün. Yani Polynomial Linear Regression ile eğimi artırılmış bir line elde edebiliyoruz.\n",
    "    \n",
    "Eğer model Linear Regression'a uygun değil ise Polynomial Linear Regression ile eğimi artırabiliriz. \n",
    "    \n",
    "bn * x^n şeklindeki ifadelere parabolic denir."
   ]
  },
  {
   "cell_type": "markdown",
   "id": "fb859ee2",
   "metadata": {},
   "source": [
    "Şimdi 2.dereceden bir polynomial linear regression uygulayalım."
   ]
  },
  {
   "cell_type": "code",
   "execution_count": 10,
   "id": "5ac135c6",
   "metadata": {},
   "outputs": [],
   "source": [
    "from sklearn.preprocessing import PolynomialFeatures\n",
    "\n",
    "polynomial_regression = PolynomialFeatures(degree = 2)\n",
    "\n",
    "# x^2 şeklinde bir feature elde etmeliyiz. Çünkü veri setinde araba_fiyat'ın karesi diye bir feature yok.\n",
    "\n",
    "x_polynomial = polynomial_regression.fit_transform(x)"
   ]
  },
  {
   "cell_type": "markdown",
   "id": "eb580995",
   "metadata": {},
   "source": [
    "x_polynomial = polynomial_regression.fit_transform(x)\n",
    "\n",
    "Bu satırın anlamı şudur: polynomial_regression = PolynomialFeatures(degree = 2) satırı ile PolynomialFeatures'i kullandık ve degree = 2 'den dolayı _transform(x) ifadesi ile araba_fiyat'ını (x=araba_fiyat) 2.dereceden polynomial feature'ye çevirir.\n",
    "\n",
    "fit_transform ile uygula ve çevir işlemini yapmış oluyoruz."
   ]
  },
  {
   "cell_type": "code",
   "execution_count": 13,
   "id": "327ef49b",
   "metadata": {},
   "outputs": [
    {
     "data": {
      "text/plain": [
       "array([[1.000e+00, 6.000e+01, 3.600e+03],\n",
       "       [1.000e+00, 7.000e+01, 4.900e+03],\n",
       "       [1.000e+00, 8.000e+01, 6.400e+03],\n",
       "       [1.000e+00, 1.000e+02, 1.000e+04],\n",
       "       [1.000e+00, 1.200e+02, 1.440e+04],\n",
       "       [1.000e+00, 1.500e+02, 2.250e+04],\n",
       "       [1.000e+00, 2.000e+02, 4.000e+04],\n",
       "       [1.000e+00, 2.500e+02, 6.250e+04],\n",
       "       [1.000e+00, 3.000e+02, 9.000e+04],\n",
       "       [1.000e+00, 4.000e+02, 1.600e+05],\n",
       "       [1.000e+00, 5.000e+02, 2.500e+05],\n",
       "       [1.000e+00, 7.500e+02, 5.625e+05],\n",
       "       [1.000e+00, 1.000e+03, 1.000e+06],\n",
       "       [1.000e+00, 2.000e+03, 4.000e+06],\n",
       "       [1.000e+00, 3.000e+03, 9.000e+06]])"
      ]
     },
     "execution_count": 13,
     "metadata": {},
     "output_type": "execute_result"
    }
   ],
   "source": [
    "x_polynomial"
   ]
  },
  {
   "cell_type": "markdown",
   "id": "d16415dd",
   "metadata": {},
   "source": [
    "Polynomial Linear Regression = b0 + b1 * x + b2 * x^2 ifadesinde,\n",
    "\n",
    "Çıktıda 1.sütun denklemde b0 kısmındaki x^0 'ı ifade eder. Yani x^0=1 olduğundan 1.sütunda 1 değerlerini görüyorsunuz.\n",
    "\n",
    "Çıktıda 2.sütun denklemde b1 * x kısmındaki x 'i ifade eder. Yani x=60 olduğundan 1.sütunda 60 değerini görüyorsunuz.\n",
    "\n",
    "Çıktıda 3.sütun denklemde b2 * x^2 kısmındaki x^2 'yi ifade eder. Yani 60^2=3600 olduğundan 1.sütunda 3600 değerini görüyorsunuz.\n",
    "\n",
    "Şimdi elde ettiğimiz bu feature'yi kullanarak line fit yapalım."
   ]
  },
  {
   "cell_type": "code",
   "execution_count": 15,
   "id": "5686504b",
   "metadata": {},
   "outputs": [
    {
     "data": {
      "text/plain": [
       "LinearRegression()"
      ]
     },
     "execution_count": 15,
     "metadata": {},
     "output_type": "execute_result"
    }
   ],
   "source": [
    "linear_regression2 = LinearRegression()\n",
    "linear_regression2.fit(x_polynomial,y)"
   ]
  },
  {
   "cell_type": "markdown",
   "id": "8319c2a5",
   "metadata": {},
   "source": [
    "Şimdi görselleştirme yapalım."
   ]
  },
  {
   "cell_type": "code",
   "execution_count": 18,
   "id": "be8cb0b6",
   "metadata": {},
   "outputs": [
    {
     "data": {
      "image/png": "[encoded data removed]",
      "text/plain": [
       "<Figure size 432x288 with 1 Axes>"
      ]
     },
     "metadata": {
      "needs_background": "light"
     },
     "output_type": "display_data"
    }
   ],
   "source": [
    "plt.scatter(x,y)\n",
    "y_head2 = linear_regression2.predict(x_polynomial)\n",
    "plt.plot(x, y_head2, color=\"green\", label=\"poly\")\n",
    "plt.legend\n",
    "plt.show()"
   ]
  },
  {
   "cell_type": "markdown",
   "id": "50e5d084",
   "metadata": {},
   "source": [
    "Çıktıda gördüğünüz üzere linear regression 'da olan düz çizgidense, burada noktalara uygun daha doğru bir line elde ettik.\n",
    "\n",
    "Bu line'ı degree değerini artırarak daha da iyileştirebilmemiz mümkün. degree değerini artırarak modelin daha da karmaşıklaşacağını görelim:"
   ]
  },
  {
   "cell_type": "code",
   "execution_count": 19,
   "id": "64af1bed",
   "metadata": {},
   "outputs": [
    {
     "data": {
      "image/png": "[encoded data removed]",
      "text/plain": [
       "<Figure size 432x288 with 1 Axes>"
      ]
     },
     "metadata": {
      "needs_background": "light"
     },
     "output_type": "display_data"
    }
   ],
   "source": [
    "polynomial_regression = PolynomialFeatures(degree = 4)\n",
    "\n",
    "x_polynomial = polynomial_regression.fit_transform(x)\n",
    "\n",
    "linear_regression2 = LinearRegression()\n",
    "\n",
    "linear_regression2.fit(x_polynomial,y)\n",
    "\n",
    "plt.scatter(x,y)\n",
    "y_head2 = linear_regression2.predict(x_polynomial)\n",
    "plt.plot(x, y_head2, color=\"black\", label=\"poly\")\n",
    "plt.legend\n",
    "plt.show()"
   ]
  },
  {
   "cell_type": "markdown",
   "id": "5e9e9ff5",
   "metadata": {},
   "source": [
    "degree'nin artırılması ile daha karmaşık bir model elde ettik. Böylece veri setine neredeyse tam uyacak şekilde, MSE değeri çok küçük olacak şekilde bir model oluşturmuş olduk."
   ]
  }
 ],
 "metadata": {
  "kernelspec": {
   "display_name": "Python 3 (ipykernel)",
   "language": "python",
   "name": "python3"
  },
  "language_info": {
   "codemirror_mode": {
    "name": "ipython",
    "version": 3
   },
   "file_extension": ".py",
   "mimetype": "text/x-python",
   "name": "python",
   "nbconvert_exporter": "python",
   "pygments_lexer": "ipython3",
   "version": "3.9.7"
  }
 },
 "nbformat": 4,
 "nbformat_minor": 5
}
