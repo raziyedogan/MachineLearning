{
 "cells": [
  {
   "cell_type": "markdown",
   "id": "cba43dad",
   "metadata": {},
   "source": [
    "## Multiple Linear Regression"
   ]
  },
  {
   "cell_type": "markdown",
   "id": "fafdcee3",
   "metadata": {},
   "source": [
    "Multiple, bir y eksenine birden fazla unsurun etki etmesi demektir."
   ]
  },
  {
   "cell_type": "code",
   "execution_count": 1,
   "id": "1ac334ab",
   "metadata": {},
   "outputs": [],
   "source": [
    "import pandas as pd\n",
    "import numpy as np\n",
    "import matplotlib.pyplot as plt\n",
    "from sklearn.linear_model import LinearRegression"
   ]
  },
  {
   "cell_type": "code",
   "execution_count": 2,
   "id": "4c7ecca6",
   "metadata": {},
   "outputs": [],
   "source": [
    "df = pd.read_csv(\"multiple_linear_regression_dataset.csv\", sep=\";\")"
   ]
  },
  {
   "cell_type": "code",
   "execution_count": 3,
   "id": "f381211c",
   "metadata": {},
   "outputs": [
    {
     "data": {
      "text/html": [
       "<div>\n",
       "<style scoped>\n",
       "    .dataframe tbody tr th:only-of-type {\n",
       "        vertical-align: middle;\n",
       "    }\n",
       "\n",
       "    .dataframe tbody tr th {\n",
       "        vertical-align: top;\n",
       "    }\n",
       "\n",
       "    .dataframe thead th {\n",
       "        text-align: right;\n",
       "    }\n",
       "</style>\n",
       "<table border=\"1\" class=\"dataframe\">\n",
       "  <thead>\n",
       "    <tr style=\"text-align: right;\">\n",
       "      <th></th>\n",
       "      <th>deneyim</th>\n",
       "      <th>maas</th>\n",
       "      <th>yas</th>\n",
       "    </tr>\n",
       "  </thead>\n",
       "  <tbody>\n",
       "    <tr>\n",
       "      <th>0</th>\n",
       "      <td>0.5</td>\n",
       "      <td>2500</td>\n",
       "      <td>22</td>\n",
       "    </tr>\n",
       "    <tr>\n",
       "      <th>1</th>\n",
       "      <td>0.0</td>\n",
       "      <td>2250</td>\n",
       "      <td>21</td>\n",
       "    </tr>\n",
       "    <tr>\n",
       "      <th>2</th>\n",
       "      <td>1.0</td>\n",
       "      <td>2750</td>\n",
       "      <td>23</td>\n",
       "    </tr>\n",
       "    <tr>\n",
       "      <th>3</th>\n",
       "      <td>5.0</td>\n",
       "      <td>8000</td>\n",
       "      <td>25</td>\n",
       "    </tr>\n",
       "    <tr>\n",
       "      <th>4</th>\n",
       "      <td>8.0</td>\n",
       "      <td>9000</td>\n",
       "      <td>28</td>\n",
       "    </tr>\n",
       "  </tbody>\n",
       "</table>\n",
       "</div>"
      ],
      "text/plain": [
       "   deneyim  maas  yas\n",
       "0      0.5  2500   22\n",
       "1      0.0  2250   21\n",
       "2      1.0  2750   23\n",
       "3      5.0  8000   25\n",
       "4      8.0  9000   28"
      ]
     },
     "execution_count": 3,
     "metadata": {},
     "output_type": "execute_result"
    }
   ],
   "source": [
    "df.head()"
   ]
  },
  {
   "cell_type": "markdown",
   "id": "d5e729e1",
   "metadata": {},
   "source": [
    "Çıktıda gördüğünüz üzere maas değerini deneyim ve yas deature'leri etkilemektedir. Buda multiple durumudur."
   ]
  },
  {
   "cell_type": "markdown",
   "id": "b8a825f8",
   "metadata": {},
   "source": [
    "<font color=\"OliveDrab\"><br>\n",
    "Multiple linear regression denklemi : y = b0 + b1 * x1 + b2 * x2\n",
    "\n",
    "maas değerini hem deneyim değeri hemde yas değeri etkilemektedir. Bu denklemde x1 deneyimi, x2 de yaşı ifade etmektedir.\n",
    "    \n",
    "Burada maas 'dependent variable' dir. Yani maas bağımlı değişkendir çünkü maas, deneyim ve yas değerlerine bağımlıdır. \n",
    "    \n",
    "Burada deneyim ve yas 'independent variable' dir.\n",
    "    \n",
    "b0, b1, b2 değerlerini MSE değerini mimimum yapacak şekilde seçmeliyiz.\n",
    "    \n",
    "MSE: Gerçek değer ile tahmin edilen değer arasındaki farkın karesi alınır. Bu işlem her bir sample için uygulanır. Sonrasında elde edilen her bir değer toplanır ve sample sayısına bölünür. Elde edilen değer MSE 'dir.\n",
    "    \n",
    "Multiple linear regression'un linear regression'dan farkı, feature sayısının 1'den fazla olmasıdır."
   ]
  },
  {
   "cell_type": "code",
   "execution_count": 4,
   "id": "3b8e29c4",
   "metadata": {},
   "outputs": [],
   "source": [
    "x = df.iloc[:,[0,2]].values\n",
    "y = df.maas.values.reshape(-1,1)"
   ]
  },
  {
   "cell_type": "code",
   "execution_count": 5,
   "id": "341fa04e",
   "metadata": {},
   "outputs": [
    {
     "data": {
      "text/plain": [
       "LinearRegression()"
      ]
     },
     "execution_count": 5,
     "metadata": {},
     "output_type": "execute_result"
    }
   ],
   "source": [
    "multile_linear_regression = LinearRegression()\n",
    "multile_linear_regression.fit(x,y)"
   ]
  },
  {
   "cell_type": "markdown",
   "id": "f95c77dc",
   "metadata": {},
   "source": [
    "Şimdi b0, b1 ve b2 değerlerini bulalım."
   ]
  },
  {
   "cell_type": "code",
   "execution_count": 6,
   "id": "45ffcd5e",
   "metadata": {},
   "outputs": [
    {
     "data": {
      "text/plain": [
       "array([10376.62747228])"
      ]
     },
     "execution_count": 6,
     "metadata": {},
     "output_type": "execute_result"
    }
   ],
   "source": [
    "b0 = multile_linear_regression.intercept_\n",
    "b0"
   ]
  },
  {
   "cell_type": "code",
   "execution_count": 7,
   "id": "1e57a532",
   "metadata": {},
   "outputs": [
    {
     "data": {
      "text/plain": [
       "array([[1525.50072054, -416.72218625]])"
      ]
     },
     "execution_count": 7,
     "metadata": {},
     "output_type": "execute_result"
    }
   ],
   "source": [
    "b1 = multile_linear_regression.coef_\n",
    "b2 = multile_linear_regression.coef_\n",
    "b1\n",
    "b2"
   ]
  },
  {
   "cell_type": "code",
   "execution_count": 8,
   "id": "5cd5cf33",
   "metadata": {},
   "outputs": [
    {
     "data": {
      "text/plain": [
       "array([[11046.35815877],\n",
       "       [ 3418.85455609]])"
      ]
     },
     "execution_count": 8,
     "metadata": {},
     "output_type": "execute_result"
    }
   ],
   "source": [
    "multile_linear_regression.predict(np.array([[10,35],[5,35]]))"
   ]
  },
  {
   "cell_type": "markdown",
   "id": "3df51b69",
   "metadata": {},
   "source": [
    "Yukarıda, deneyim=10, yas=35 ve deneyim=5, yas=35 değerleri ile tahmin gerçekleştirdik. \n",
    "\n",
    "Çıktıda, yaşlar aynı olmasına rağmen 5 yıllık bir deneyim farkının maaş konusunda ne kadar fark yarattığını görüyoruz."
   ]
  }
 ],
 "metadata": {
  "kernelspec": {
   "display_name": "Python 3 (ipykernel)",
   "language": "python",
   "name": "python3"
  },
  "language_info": {
   "codemirror_mode": {
    "name": "ipython",
    "version": 3
   },
   "file_extension": ".py",
   "mimetype": "text/x-python",
   "name": "python",
   "nbconvert_exporter": "python",
   "pygments_lexer": "ipython3",
   "version": "3.9.7"
  }
 },
 "nbformat": 4,
 "nbformat_minor": 5
}
