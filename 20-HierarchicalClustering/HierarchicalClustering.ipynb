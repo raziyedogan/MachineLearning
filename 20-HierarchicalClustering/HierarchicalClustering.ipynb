{
 "cells": [
  {
   "cell_type": "markdown",
   "id": "1d68cebd",
   "metadata": {},
   "source": [
    "## Hierarchical Clustering"
   ]
  },
  {
   "cell_type": "markdown",
   "id": "c7b12169",
   "metadata": {},
   "source": [
    "Hierarchical Clustering, bir clustering algoritmasıdır.\n",
    "\n",
    "Hierarchical Clustering algoritması şu şekilde çalışır:"
   ]
  },
  {
   "cell_type": "markdown",
   "id": "72b589b9",
   "metadata": {},
   "source": [
    "1- Her bir veri noktası bir küme olur.\n",
    "\n",
    "<br><br>\n",
    "<img src=\"h1.png\" style=\"width:400px;height:300px\"/>\n",
    "\n",
    "2- En yakın iki veri noktası bir küme yapılır.\n",
    "\n",
    "<br><br>\n",
    "<img src=\"h2.png\" style=\"width:400px;height:300px\"/>\n",
    "\n",
    "3- En yakın iki küme, tek bir küme yapılır.\n",
    "\n",
    "<br><br>\n",
    "<img src=\"h3.png\" style=\"width:400px;height:300px\"/>\n",
    "\n",
    "4- 3.adım tekrarlanır. En yakın kümeleri bularak adım adım tek bir küme elde edene kadar ilerlenir.\n",
    "\n",
    "<br><br>\n",
    "<img src=\"h4.png\" style=\"width:400px;height:300px\"/>\n",
    "\n"
   ]
  },
  {
   "cell_type": "markdown",
   "id": "32e172ae",
   "metadata": {},
   "source": [
    "Burada yakınlık kavramını öklid mesafesine göre belirleriz. Fakat kümelerin merkezine göre mi en yakın, ucuna göre mi en yakın ya da arka ucuna göre mi en yakın gibi farklı durumlar vardır. Bu durumları inceleyelim:\n",
    "\n",
    "    1- En yakın iki noktasına göre durumudur. Örneğin şu şekilde:\n",
    "\n",
    "<img src=\"h5.png\" style=\"width:250px;height:250px\"/>\n",
    "\n",
    "    2- En uzak iki noktaya göre durumudur. Örneğin şu şekilde:\n",
    "\n",
    "<img src=\"h6.png\" style=\"width:250px;height:230px\"/>\n",
    "\n",
    "    3- Her bir kümenin kendi içerisinde ortalama nokta konumu bulunur. Bu noktalar arasındaki mesafedir.\n",
    "    \n",
    "    4- centroid'lerine göre mesafe durumudur."
   ]
  },
  {
   "cell_type": "markdown",
   "id": "76a14601",
   "metadata": {},
   "source": [
    "## Dendogram"
   ]
  },
  {
   "cell_type": "markdown",
   "id": "066871b6",
   "metadata": {},
   "source": [
    "Dendogram, Hierarchical Clustering'de kullanılan bir görselleştirme çalışmasıdır.\n",
    "\n",
    "Dendogram, Hierarchical Clustering'in her bir adımını gösteren bir görselleştirme tekniğidir.\n",
    "\n",
    "<br><br>\n",
    "<img src=\"h7.png\" style=\"width:800px;height:400px\"/>"
   ]
  },
  {
   "cell_type": "markdown",
   "id": "60b26324",
   "metadata": {},
   "source": [
    "Yukarıda görüldüğü üzere sağ tarafta demdogram bulunmakta. Sağ tarafta her bir veri noktasının bir ismi var. 5 tane sample bulunmaktadır.\n",
    "\n",
    "1. adımda her bir data point bir cluster yapılır:\n",
    "\n",
    "<br><br>\n",
    "<img src=\"h8.png\" style=\"width:800px;height:400px\"/>"
   ]
  },
  {
   "cell_type": "markdown",
   "id": "9f7e2796",
   "metadata": {},
   "source": [
    "2.adımda en yakın iki veri noktası, bir küme yapılır.\n",
    "\n",
    "Dendogram'da 3 ile 4 arasındaki öklid mesafesi kaç ise euclidean mesafesi o sayıya denk gelecek şekilde 3 ve 4 noktaları bar şeklinde birleştirilir:\n",
    "\n",
    "<br><br>\n",
    "<img src=\"h9.png\" style=\"width:800px;height:400px\"/>"
   ]
  },
  {
   "cell_type": "markdown",
   "id": "edf213ab",
   "metadata": {},
   "source": [
    "3.adımda en yakın iki cluster, tek bir cluster yapılır. En yakın iki cluster 1 ve 2 numaralı kümelerdir. 1 ve 2 kümeleri artık tek bir kümedir. Dendogram'da da öklid mesafe değerlerine kaşılık gelecek şekilde 1 ve 2 noktaları bar görünümünde birleştirilir:\n",
    "\n",
    "<br><br>\n",
    "<img src=\"h10.png\" style=\"width:800px;height:400px\"/>"
   ]
  },
  {
   "cell_type": "markdown",
   "id": "89737892",
   "metadata": {},
   "source": [
    "4.adımda, 3.adım tekrar edilir. 1 ve 2 numaralar bir küme, 5 numara bir küme, 3 ve 4 numaralar bir küme olmak üzere toplamda 3 tane küme bulunmakta. En yakın iki küme 5 numaralı küme ve 1 ve 2 numaraların bulunduğu kümedir. Dolayısıyla bu kümeleri tek bir küme yaparız. Dendogram'da da turuncu bar ile 5 numaralı data point birleştirilir. Görüntünün güzel olması amacıyla 5 numaralı point'i turuncu barın yanına aldım.\n",
    "\n",
    "<br><br>\n",
    "<img src=\"h11.png\" style=\"width:800px;height:400px\"/>"
   ]
  },
  {
   "cell_type": "markdown",
   "id": "cefb3080",
   "metadata": {},
   "source": [
    "Şimdi tekrar 3.adım tekrar edilir. En yakın iki küme, tek bir küme yapılır. Zaten geriye iki tane cluster kaldı ve bu cluster'lar tek bir cluster yapılır. Ve dendogram'da mavi ile kırmızı bar'lar birleştirilir.\n",
    "\n",
    "<br><br>\n",
    "<img src=\"h12.png\" style=\"width:800px;height:400px\"/>"
   ]
  },
  {
   "cell_type": "markdown",
   "id": "70fd5262",
   "metadata": {},
   "source": [
    "Artık dendogram hazırdır. Peki dendogram'ı nasıl yorumlayabiliriz? :\n",
    "\n",
    "Distance threshold diye bir kavram var. Distance threshold değerini deneme yanılma yoluyla belirleyebiliriz. threshold=3 olsun. Threshold değerinden bir line çizilir.\n",
    "\n",
    "<br><br>\n",
    "<img src=\"h13.png\" style=\"width:600px;height:300px\"/>"
   ]
  },
  {
   "cell_type": "markdown",
   "id": "b0f22df5",
   "metadata": {},
   "source": [
    "threshold'u kesen kaç tane nokta var ise o kadar cluster vardır.\n",
    "\n",
    "<br><br>\n",
    "<img src=\"h14.png\" style=\"width:600px;height:300px\"/>"
   ]
  },
  {
   "cell_type": "markdown",
   "id": "329c060d",
   "metadata": {},
   "source": [
    "threshold=3 için şekilde görüldüğü üzere 2 tane cluster vardır.\n",
    "\n",
    "Mesela threshold=2 ise euclidean distance=2 olan yerden bir çizgi çizilir ve bu çizgi kaç noktayı kesiyorsa o kadar küme vardır:\n",
    "\n",
    "<br><br>\n",
    "<img src=\"h15.png\" style=\"width:600px;height:300px\"/>\n",
    "\n",
    "Görüldüğü üzere threshold=2 için 3 tane küme vardır."
   ]
  },
  {
   "cell_type": "markdown",
   "id": "d08e025c",
   "metadata": {},
   "source": [
    "Mesela threshold=1 ise euclidean distance=1 olan yerden bir çizgi çizilir ve bu çizgi kaç noktayı kesiyorsa o kadar küme vardır:\n",
    "\n",
    "<br><br>\n",
    "<img src=\"h16.png\" style=\"width:600px;height:300px\"/>\n",
    "\n",
    "Görüldüğü üzere threshold=1 için 5 tane küme vardır."
   ]
  },
  {
   "cell_type": "markdown",
   "id": "3afdad88",
   "metadata": {},
   "source": [
    "Genelde kullanılan yöntem şudur: Hiçbir yatay çizgi tarafından kesilmemiş distance'lere bakılır.\n",
    "\n",
    "<br><br>\n",
    "<img src=\"h17.png\" style=\"width:600px;height:300px\"/>"
   ]
  },
  {
   "cell_type": "markdown",
   "id": "4dcc0d9e",
   "metadata": {},
   "source": [
    "Mesela turuncu çizginin tamamı alınmadı çünkü kırmızı çizgi turuncu çizginin bir kısmını kesiyor. \n",
    "\n",
    "Optimum number of cluster, en yüksek çizgidir. Oradan threshold çizilir. Bu threshold çizgisinin kestiği noktaların sayısı cluster sayısıdır.\n",
    "\n",
    "<br><br>\n",
    "<img src=\"h18.png\" style=\"width:600px;height:300px\"/>"
   ]
  },
  {
   "cell_type": "markdown",
   "id": "e2914089",
   "metadata": {},
   "source": [
    "Sonuç olarak 2 tane cluster vardır."
   ]
  },
  {
   "cell_type": "code",
   "execution_count": 1,
   "id": "4d2e6a89",
   "metadata": {},
   "outputs": [],
   "source": [
    "import pandas as pd\n",
    "import numpy as np\n",
    "import matplotlib.pyplot as plt"
   ]
  },
  {
   "cell_type": "markdown",
   "id": "c3c0968c",
   "metadata": {},
   "source": [
    "Kendimiz bir veri seti oluşturalım."
   ]
  },
  {
   "cell_type": "code",
   "execution_count": 2,
   "id": "502a2595",
   "metadata": {},
   "outputs": [],
   "source": [
    "#class1\n",
    "x1 = np.random.normal(25,5,1000)\n",
    "y1 = np.random.normal(25,5,1000)\n",
    "\n",
    "#class2\n",
    "x2 = np.random.normal(55,5,1000)\n",
    "y2 = np.random.normal(60,5,1000)\n",
    "\n",
    "#class3\n",
    "x3 = np.random.normal(55,5,1000)\n",
    "y3 = np.random.normal(15,5,1000)"
   ]
  },
  {
   "cell_type": "code",
   "execution_count": 3,
   "id": "26fb307c",
   "metadata": {},
   "outputs": [],
   "source": [
    "#x ve y isimli feature'ler oluşturalım:\n",
    "\n",
    "x = np.concatenate((x1,x2,x3),axis=0)  \n",
    "#axis=0 parametresi ile x1, x2 ve x3'ün sütun şeklinde yukarıdan aşağıya birleştirilmeleri sağlandı.\n",
    "\n",
    "y = np.concatenate((y1,y2,y3),axis=0)  "
   ]
  },
  {
   "cell_type": "code",
   "execution_count": 4,
   "id": "173a66b0",
   "metadata": {},
   "outputs": [],
   "source": [
    "dictionary = {\"x\":x,\"y\":y}\n",
    "\n",
    "data = pd.DataFrame(dictionary)"
   ]
  },
  {
   "cell_type": "code",
   "execution_count": 5,
   "id": "4bc3bfaf",
   "metadata": {},
   "outputs": [
    {
     "data": {
      "text/html": [
       "<div>\n",
       "<style scoped>\n",
       "    .dataframe tbody tr th:only-of-type {\n",
       "        vertical-align: middle;\n",
       "    }\n",
       "\n",
       "    .dataframe tbody tr th {\n",
       "        vertical-align: top;\n",
       "    }\n",
       "\n",
       "    .dataframe thead th {\n",
       "        text-align: right;\n",
       "    }\n",
       "</style>\n",
       "<table border=\"1\" class=\"dataframe\">\n",
       "  <thead>\n",
       "    <tr style=\"text-align: right;\">\n",
       "      <th></th>\n",
       "      <th>x</th>\n",
       "      <th>y</th>\n",
       "    </tr>\n",
       "  </thead>\n",
       "  <tbody>\n",
       "    <tr>\n",
       "      <th>0</th>\n",
       "      <td>21.410758</td>\n",
       "      <td>31.926359</td>\n",
       "    </tr>\n",
       "    <tr>\n",
       "      <th>1</th>\n",
       "      <td>12.165221</td>\n",
       "      <td>24.616546</td>\n",
       "    </tr>\n",
       "    <tr>\n",
       "      <th>2</th>\n",
       "      <td>23.611728</td>\n",
       "      <td>28.840047</td>\n",
       "    </tr>\n",
       "    <tr>\n",
       "      <th>3</th>\n",
       "      <td>24.468216</td>\n",
       "      <td>25.132272</td>\n",
       "    </tr>\n",
       "    <tr>\n",
       "      <th>4</th>\n",
       "      <td>25.993349</td>\n",
       "      <td>24.392713</td>\n",
       "    </tr>\n",
       "  </tbody>\n",
       "</table>\n",
       "</div>"
      ],
      "text/plain": [
       "           x          y\n",
       "0  21.410758  31.926359\n",
       "1  12.165221  24.616546\n",
       "2  23.611728  28.840047\n",
       "3  24.468216  25.132272\n",
       "4  25.993349  24.392713"
      ]
     },
     "execution_count": 5,
     "metadata": {},
     "output_type": "execute_result"
    }
   ],
   "source": [
    "data.head()"
   ]
  },
  {
   "cell_type": "code",
   "execution_count": 6,
   "id": "fec7d84b",
   "metadata": {},
   "outputs": [
    {
     "data": {
      "image/png": "[encoded data removed]",
      "text/plain": [
       "<Figure size 432x288 with 1 Axes>"
      ]
     },
     "metadata": {
      "needs_background": "light"
     },
     "output_type": "display_data"
    }
   ],
   "source": [
    "plt.scatter(x1,y1)\n",
    "plt.scatter(x2,y2)\n",
    "plt.scatter(x3,y3)\n",
    "plt.show()"
   ]
  },
  {
   "cell_type": "markdown",
   "id": "4adb90b3",
   "metadata": {},
   "source": [
    "Öncelikle dendogram çizelim."
   ]
  },
  {
   "cell_type": "code",
   "execution_count": 7,
   "id": "f76e1423",
   "metadata": {},
   "outputs": [
    {
     "data": {
      "image/png": "[encoded data removed]",
      "text/plain": [
       "<Figure size 432x288 with 1 Axes>"
      ]
     },
     "metadata": {
      "needs_background": "light"
     },
     "output_type": "display_data"
    }
   ],
   "source": [
    "from scipy.cluster.hierarchy import linkage, dendrogram  #linkage, aslında dendogram'dır.\n",
    "\n",
    "merg = linkage(data, method=\"ward\") #Bu satır Hierarchical Cluster algoritmasıdır.\n",
    "\n",
    "dendrogram(merg, leaf_rotation=90)\n",
    "\n",
    "plt.xlabel(\"data points\")\n",
    "plt.ylabel(\"euclidean distance\")\n",
    "plt.show()"
   ]
  },
  {
   "cell_type": "markdown",
   "id": "51ad0593",
   "metadata": {},
   "source": [
    "merg = linkage(data, method=\"ward\")  satırındaki ward şudur: K-means'te WCSS vardı. Buradaki ward cluster'ların içerisindeki yayılımları yani varyansları küçültecek şekilde algoritmayı şekillendirir. Yani ward, cluster'ın içerisindeki yayılımları küçültür.\n",
    "\n",
    "leaf_rotation=90 parametresi ile x eksenindeki yazıların dikey bir şekilde görünmesi sağlanmıştır.\n",
    "\n",
    "Dendogramı şöyle kullanıyorduk: euclidean distance'lerdeki en yüksek fark bakıyoruz ve oradan bir threshold çekiyoruz. Çıktıda en uzun mesafe yeşil çizgidir. Buradan bir threshold çekilir.\n",
    "\n",
    "<br><br>\n",
    "<img src=\"h19.png\" style=\"width:600px;height:300px\"/>"
   ]
  },
  {
   "cell_type": "markdown",
   "id": "b24d3d00",
   "metadata": {},
   "source": [
    "Şekilde görüldüğü üzere çizgi 3 noktayı kesiyor. Dolayısıyla data'yı ayırmamız gereken en mantıklı cluster sayısı 3'tür."
   ]
  },
  {
   "cell_type": "markdown",
   "id": "42e4e816",
   "metadata": {},
   "source": [
    "Şimdi Hierarchical Clustering algoritmasını yazalım."
   ]
  },
  {
   "cell_type": "code",
   "execution_count": 11,
   "id": "861d1a99",
   "metadata": {},
   "outputs": [],
   "source": [
    "from sklearn.cluster import AgglomerativeClustering\n",
    "\n",
    "hc = AgglomerativeClustering(n_clusters=3, affinity = \"euclidean\", linkage = \"ward\")\n",
    "\n",
    "clusters = hc.fit_predict(data)"
   ]
  },
  {
   "cell_type": "markdown",
   "id": "d4eec31f",
   "metadata": {},
   "source": [
    "AgglomerativeClustering, tümevarım demektir aslında. Birbiriyle en yakın data pointleri cluster ederek tek bir cluster'a ulaşma yöntemine AgglomerativeClustering denir."
   ]
  },
  {
   "cell_type": "code",
   "execution_count": 12,
   "id": "34686a6e",
   "metadata": {},
   "outputs": [],
   "source": [
    "data[\"label\"] = clusters"
   ]
  },
  {
   "cell_type": "code",
   "execution_count": 13,
   "id": "244ab7ba",
   "metadata": {},
   "outputs": [
    {
     "data": {
      "text/html": [
       "<div>\n",
       "<style scoped>\n",
       "    .dataframe tbody tr th:only-of-type {\n",
       "        vertical-align: middle;\n",
       "    }\n",
       "\n",
       "    .dataframe tbody tr th {\n",
       "        vertical-align: top;\n",
       "    }\n",
       "\n",
       "    .dataframe thead th {\n",
       "        text-align: right;\n",
       "    }\n",
       "</style>\n",
       "<table border=\"1\" class=\"dataframe\">\n",
       "  <thead>\n",
       "    <tr style=\"text-align: right;\">\n",
       "      <th></th>\n",
       "      <th>x</th>\n",
       "      <th>y</th>\n",
       "      <th>label</th>\n",
       "    </tr>\n",
       "  </thead>\n",
       "  <tbody>\n",
       "    <tr>\n",
       "      <th>0</th>\n",
       "      <td>21.410758</td>\n",
       "      <td>31.926359</td>\n",
       "      <td>2</td>\n",
       "    </tr>\n",
       "    <tr>\n",
       "      <th>1</th>\n",
       "      <td>12.165221</td>\n",
       "      <td>24.616546</td>\n",
       "      <td>2</td>\n",
       "    </tr>\n",
       "    <tr>\n",
       "      <th>2</th>\n",
       "      <td>23.611728</td>\n",
       "      <td>28.840047</td>\n",
       "      <td>2</td>\n",
       "    </tr>\n",
       "    <tr>\n",
       "      <th>3</th>\n",
       "      <td>24.468216</td>\n",
       "      <td>25.132272</td>\n",
       "      <td>2</td>\n",
       "    </tr>\n",
       "    <tr>\n",
       "      <th>4</th>\n",
       "      <td>25.993349</td>\n",
       "      <td>24.392713</td>\n",
       "      <td>2</td>\n",
       "    </tr>\n",
       "    <tr>\n",
       "      <th>...</th>\n",
       "      <td>...</td>\n",
       "      <td>...</td>\n",
       "      <td>...</td>\n",
       "    </tr>\n",
       "    <tr>\n",
       "      <th>2995</th>\n",
       "      <td>57.835125</td>\n",
       "      <td>15.003996</td>\n",
       "      <td>1</td>\n",
       "    </tr>\n",
       "    <tr>\n",
       "      <th>2996</th>\n",
       "      <td>56.288651</td>\n",
       "      <td>10.871013</td>\n",
       "      <td>1</td>\n",
       "    </tr>\n",
       "    <tr>\n",
       "      <th>2997</th>\n",
       "      <td>50.831157</td>\n",
       "      <td>11.002953</td>\n",
       "      <td>1</td>\n",
       "    </tr>\n",
       "    <tr>\n",
       "      <th>2998</th>\n",
       "      <td>60.237313</td>\n",
       "      <td>18.890496</td>\n",
       "      <td>1</td>\n",
       "    </tr>\n",
       "    <tr>\n",
       "      <th>2999</th>\n",
       "      <td>57.525369</td>\n",
       "      <td>18.297733</td>\n",
       "      <td>1</td>\n",
       "    </tr>\n",
       "  </tbody>\n",
       "</table>\n",
       "<p>3000 rows × 3 columns</p>\n",
       "</div>"
      ],
      "text/plain": [
       "              x          y  label\n",
       "0     21.410758  31.926359      2\n",
       "1     12.165221  24.616546      2\n",
       "2     23.611728  28.840047      2\n",
       "3     24.468216  25.132272      2\n",
       "4     25.993349  24.392713      2\n",
       "...         ...        ...    ...\n",
       "2995  57.835125  15.003996      1\n",
       "2996  56.288651  10.871013      1\n",
       "2997  50.831157  11.002953      1\n",
       "2998  60.237313  18.890496      1\n",
       "2999  57.525369  18.297733      1\n",
       "\n",
       "[3000 rows x 3 columns]"
      ]
     },
     "execution_count": 13,
     "metadata": {},
     "output_type": "execute_result"
    }
   ],
   "source": [
    "data"
   ]
  },
  {
   "cell_type": "markdown",
   "id": "8972c3c5",
   "metadata": {},
   "source": [
    "Artık veri setinde label sütunu ile class'lar vardır.\n",
    "\n",
    "Şimdi de görselleştirme yapalım."
   ]
  },
  {
   "cell_type": "code",
   "execution_count": 14,
   "id": "f851a31c",
   "metadata": {},
   "outputs": [
    {
     "data": {
      "image/png": "[encoded data removed]",
      "text/plain": [
       "<Figure size 432x288 with 1 Axes>"
      ]
     },
     "metadata": {
      "needs_background": "light"
     },
     "output_type": "display_data"
    }
   ],
   "source": [
    "plt.scatter(data.x[data.label==0], data.y[data.label==0], color=\"red\")\n",
    "plt.scatter(data.x[data.label==1], data.y[data.label==1], color=\"green\")\n",
    "plt.scatter(data.x[data.label==2], data.y[data.label==2], color=\"blue\")\n",
    "plt.show()"
   ]
  },
  {
   "cell_type": "markdown",
   "id": "2bcfcdab",
   "metadata": {},
   "source": [
    "Görüldüğü üzere data'yı doğru bir şekilde 3 farklı cluster'a ayırdı."
   ]
  }
 ],
 "metadata": {
  "kernelspec": {
   "display_name": "Python 3 (ipykernel)",
   "language": "python",
   "name": "python3"
  },
  "language_info": {
   "codemirror_mode": {
    "name": "ipython",
    "version": 3
   },
   "file_extension": ".py",
   "mimetype": "text/x-python",
   "name": "python",
   "nbconvert_exporter": "python",
   "pygments_lexer": "ipython3",
   "version": "3.9.7"
  }
 },
 "nbformat": 4,
 "nbformat_minor": 5
}
