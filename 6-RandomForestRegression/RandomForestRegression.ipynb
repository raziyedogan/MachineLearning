{
 "cells": [
  {
   "cell_type": "markdown",
   "id": "b99ffb1d",
   "metadata": {},
   "source": [
    "## Random Forest Regression"
   ]
  },
  {
   "cell_type": "markdown",
   "id": "a869edd8",
   "metadata": {},
   "source": [
    "Random forest, ensemble learning üyesidir.\n",
    "\n",
    "Ensemble Learning: Aynı anda pek çok algoritmayı kullanarak elde edilen bir modeldir. Aynı anda birden fazla machine learning algoirtması kullanıyor ve bunların ortalamasını alarak sonucu elde ediyor.\n",
    "\n",
    "Random forest, decision tree'lerin toplamından oluşan bir algoritmadır. Belirlediğimiz sayı kadar decision tree toplanıyor ve elde edilen sonuçların ortalaması alınarak Random Forest algoritmasının sonucu elde ediliyor.\n",
    "\n",
    "Veri seti içerisinden n sayıda sample seçilerek sub data elde ediliyor. sub data'yı tree'lerde eğitiyoruz. Ve elde edilen tüm sonuçların ortalaması alınarak algoritma sonucuna ulaşılıyor.\n",
    "\n",
    "Günlük hayatta Random Forest algoritması'nın kullanıldığı örnekler:\n",
    "\n",
    "    🔵 Body part classification\n",
    "    \n",
    "    🔵 Stock price prediction\n",
    "    \n",
    "    🔵 Tavsiye sistemleri"
   ]
  },
  {
   "cell_type": "code",
   "execution_count": 1,
   "id": "2a42db09",
   "metadata": {},
   "outputs": [],
   "source": [
    "import pandas as pd\n",
    "import numpy as np\n",
    "import matplotlib.pyplot as plt"
   ]
  },
  {
   "cell_type": "code",
   "execution_count": 2,
   "id": "52b5b165",
   "metadata": {},
   "outputs": [
    {
     "data": {
      "text/html": [
       "<div>\n",
       "<style scoped>\n",
       "    .dataframe tbody tr th:only-of-type {\n",
       "        vertical-align: middle;\n",
       "    }\n",
       "\n",
       "    .dataframe tbody tr th {\n",
       "        vertical-align: top;\n",
       "    }\n",
       "\n",
       "    .dataframe thead th {\n",
       "        text-align: right;\n",
       "    }\n",
       "</style>\n",
       "<table border=\"1\" class=\"dataframe\">\n",
       "  <thead>\n",
       "    <tr style=\"text-align: right;\">\n",
       "      <th></th>\n",
       "      <th>0</th>\n",
       "      <th>1</th>\n",
       "    </tr>\n",
       "  </thead>\n",
       "  <tbody>\n",
       "    <tr>\n",
       "      <th>0</th>\n",
       "      <td>1</td>\n",
       "      <td>100</td>\n",
       "    </tr>\n",
       "    <tr>\n",
       "      <th>1</th>\n",
       "      <td>2</td>\n",
       "      <td>80</td>\n",
       "    </tr>\n",
       "    <tr>\n",
       "      <th>2</th>\n",
       "      <td>3</td>\n",
       "      <td>70</td>\n",
       "    </tr>\n",
       "    <tr>\n",
       "      <th>3</th>\n",
       "      <td>4</td>\n",
       "      <td>60</td>\n",
       "    </tr>\n",
       "    <tr>\n",
       "      <th>4</th>\n",
       "      <td>5</td>\n",
       "      <td>50</td>\n",
       "    </tr>\n",
       "    <tr>\n",
       "      <th>5</th>\n",
       "      <td>6</td>\n",
       "      <td>40</td>\n",
       "    </tr>\n",
       "    <tr>\n",
       "      <th>6</th>\n",
       "      <td>7</td>\n",
       "      <td>30</td>\n",
       "    </tr>\n",
       "    <tr>\n",
       "      <th>7</th>\n",
       "      <td>8</td>\n",
       "      <td>20</td>\n",
       "    </tr>\n",
       "    <tr>\n",
       "      <th>8</th>\n",
       "      <td>9</td>\n",
       "      <td>10</td>\n",
       "    </tr>\n",
       "    <tr>\n",
       "      <th>9</th>\n",
       "      <td>10</td>\n",
       "      <td>5</td>\n",
       "    </tr>\n",
       "  </tbody>\n",
       "</table>\n",
       "</div>"
      ],
      "text/plain": [
       "    0    1\n",
       "0   1  100\n",
       "1   2   80\n",
       "2   3   70\n",
       "3   4   60\n",
       "4   5   50\n",
       "5   6   40\n",
       "6   7   30\n",
       "7   8   20\n",
       "8   9   10\n",
       "9  10    5"
      ]
     },
     "execution_count": 2,
     "metadata": {},
     "output_type": "execute_result"
    }
   ],
   "source": [
    "df = pd.read_csv(\"random_forest_regression_dataset.csv\",sep=\";\", header=None)\n",
    "df"
   ]
  },
  {
   "cell_type": "markdown",
   "id": "bcee8c6d",
   "metadata": {},
   "source": [
    "Veri setinde 0 isimli sütun, tribünde seyircinin maçı izlediği seviyedir. Mesela 1 değeri sahaya en yakın olan seviyedir. 1 isimli sütun ise fiyatı ifade ediyor."
   ]
  },
  {
   "cell_type": "code",
   "execution_count": 3,
   "id": "3c8533b9",
   "metadata": {},
   "outputs": [],
   "source": [
    "x = df.iloc[:,0].values.reshape(-1,1)\n",
    "y = df.iloc[:,1].values.reshape(-1,1)"
   ]
  },
  {
   "cell_type": "code",
   "execution_count": 4,
   "id": "6aa86047",
   "metadata": {},
   "outputs": [],
   "source": [
    "from sklearn.ensemble import RandomForestRegressor\n",
    "\n",
    "rf = RandomForestRegressor(n_estimators=100 , random_state=42)"
   ]
  },
  {
   "cell_type": "markdown",
   "id": "6e606a36",
   "metadata": {},
   "source": [
    "n_estimators=100 parametresi ile kaç adet tree kullanacağımızı belirttim. Burada 100 tane decision tree kullanacağız.\n",
    "\n",
    "random_state=42 parametresini açıklayalım. veri seti içerisinden n sayıda sample seçerek sub data oluşturuyorduk. Bu n sayıda sample'ı random bir şekilde seçiliyor.\n",
    "\n",
    "Diyelim ki kodu çalıştırdık ve bir sonuç elde ettik. Sonra bir kez daha çalıştırdık ve bu sefer farklı bir sonuç elde ettik. Farklı sonuçlar elde edilme sebebi, n sayıda sample seçimi yapılırken bu seçim rastgele seçiliyor. Ama random_state parametresi ile bir değer belirleyerek kodu bir sonraki çalıştırmamızda, bir önceki çalıştırmamızda nasıl bölünme gerçekleştirildiyse aynı şekilde bölünmesi sağlanır. Böylece kodu iki kez çalıştırdığımızda iki sonuçta aynı olur. \n",
    "\n",
    "Yani random_state parametresi ile aynı random değerlerin seçilmesi sağlanır."
   ]
  },
  {
   "cell_type": "code",
   "execution_count": 5,
   "id": "db23e20a",
   "metadata": {},
   "outputs": [
    {
     "name": "stdout",
     "output_type": "stream",
     "text": [
      "7.8 seviyesinde fiyat değeri:  [22.7]\n"
     ]
    },
    {
     "name": "stderr",
     "output_type": "stream",
     "text": [
      "C:\\Users\\raziy\\AppData\\Local\\Temp/ipykernel_8508/3756995660.py:1: DataConversionWarning: A column-vector y was passed when a 1d array was expected. Please change the shape of y to (n_samples,), for example using ravel().\n",
      "  rf.fit(x,y)\n"
     ]
    }
   ],
   "source": [
    "rf.fit(x,y)\n",
    "\n",
    "print(\"7.8 seviyesinde fiyat değeri: \",rf.predict([[7.8]]))"
   ]
  },
  {
   "cell_type": "code",
   "execution_count": 6,
   "id": "91b70c6a",
   "metadata": {},
   "outputs": [],
   "source": [
    "x_ = np.arange(min(x),max(x),0.01).reshape(-1,1)\n",
    "y_head = rf.predict(x_)     #Her bir x değeri için tahmin değerini elde edip y_head değişkenine atadım."
   ]
  },
  {
   "cell_type": "markdown",
   "id": "271084f4",
   "metadata": {},
   "source": [
    "Şimdi de görselleştirme yapalım."
   ]
  },
  {
   "cell_type": "code",
   "execution_count": 9,
   "id": "24cb7d29",
   "metadata": {},
   "outputs": [
    {
     "data": {
      "image/png": "[encoded data removed]",
      "text/plain": [
       "<Figure size 432x288 with 1 Axes>"
      ]
     },
     "metadata": {
      "needs_background": "light"
     },
     "output_type": "display_data"
    }
   ],
   "source": [
    "plt.scatter(x,y,color=\"CadetBlue\")\n",
    "plt.plot(x_,y_head,color=\"GoldenRod\")\n",
    "plt.xlabel(\"tribun level\")\n",
    "plt.ylabel(\"ucret\")\n",
    "plt.show()"
   ]
  },
  {
   "cell_type": "markdown",
   "id": "1a131893",
   "metadata": {},
   "source": [
    "Decision tree algoritmasında 1 tane decision tree kullanmıştık. Random Forest algoritmasında ise 100 tane decision tree kullandık. Ve 100 tane decision tree kullanmak, 1 tane decision tree kullanmaktan daha iyi sonuç verir.\n",
    "\n",
    "Random forest algoritması genelde decision tree algoritmasından daha iyi sonuçlar verir."
   ]
  }
 ],
 "metadata": {
  "kernelspec": {
   "display_name": "Python 3 (ipykernel)",
   "language": "python",
   "name": "python3"
  },
  "language_info": {
   "codemirror_mode": {
    "name": "ipython",
    "version": 3
   },
   "file_extension": ".py",
   "mimetype": "text/x-python",
   "name": "python",
   "nbconvert_exporter": "python",
   "pygments_lexer": "ipython3",
   "version": "3.9.7"
  }
 },
 "nbformat": 4,
 "nbformat_minor": 5
}
